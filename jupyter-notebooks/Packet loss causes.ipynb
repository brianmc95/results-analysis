{
 "cells": [
  {
   "cell_type": "markdown",
   "metadata": {},
   "source": [
    "### Causes of packet loss"
   ]
  },
  {
   "cell_type": "code",
   "execution_count": 1,
   "metadata": {},
   "outputs": [],
   "source": [
    "%matplotlib inline\n",
    "\n",
    "import matplotlib\n",
    "import numpy as np\n",
    "import matplotlib.pyplot as plt\n",
    "import pandas as pd\n",
    "\n",
    "from matplotlib.ticker import FormatStrFormatter"
   ]
  },
  {
   "cell_type": "code",
   "execution_count": 2,
   "metadata": {},
   "outputs": [],
   "source": [
    "def create_bins(lower_bound, width, quantity):\n",
    "    \"\"\" create_bins returns an equal-width (distance) partitioning.\n",
    "        It returns an ascending list of tuples, representing the intervals.\n",
    "        A tuple bins[i], i.e. (bins[i][0], bins[i][1])  with i > 0\n",
    "        and i < quantity, satisfies the following conditions:\n",
    "            (1) bins[i][0] + width == bins[i][1]\n",
    "            (2) bins[i-1][0] + width == bins[i][0] and\n",
    "                bins[i-1][1] + width == bins[i][1]\n",
    "    \"\"\"\n",
    "    bins = []\n",
    "    for low in range(lower_bound, lower_bound + quantity * width + 1, width):\n",
    "        bins.append((low, low + width))\n",
    "    return bins"
   ]
  },
  {
   "cell_type": "code",
   "execution_count": 3,
   "metadata": {},
   "outputs": [],
   "source": [
    "def bin_fields(df, fields, bin_width=10, bin_quantity=49):\n",
    "    \"\"\"\n",
    "    Bins multiple dfs into a single dictionary that can be used as an average for multiple fields across multiple\n",
    "    runs\n",
    "    :param df: dataframe to bin\n",
    "    :param fields: fields to be binned.\n",
    "    :param bin_width: width of each bin\n",
    "    :param bin_quantity: total number of bins\n",
    "    :return:\n",
    "    \"\"\"\n",
    "    bins = create_bins(lower_bound=0, width=bin_width, quantity=bin_quantity)\n",
    "    distances = []\n",
    "    overall_fields = {}\n",
    "    for interval in bins:\n",
    "        upper_b = interval[1]\n",
    "        distances.append(upper_b)\n",
    "\n",
    "    for field in fields:\n",
    "        overall_fields[field] = []\n",
    "\n",
    "    overall_fields[\"distance\"] = distances\n",
    "\n",
    "    distance_col = \"txRxDistanceTB\"\n",
    "\n",
    "    for i in range(len(bins)):\n",
    "        lower_b = bins[i][0]\n",
    "        upper_b = bins[i][1]\n",
    "        fields_temp = df[(df[distance_col] >= lower_b) & (df[distance_col] < upper_b)]\n",
    "        for field in fields:\n",
    "            if i < len(overall_fields[field]):\n",
    "                overall_fields[field][i] = (fields_temp[field].mean() + overall_fields[field][i]) / 2\n",
    "            else:\n",
    "                overall_fields[field].append(fields_temp[field].mean())\n",
    "\n",
    "    return overall_fields"
   ]
  },
  {
   "cell_type": "code",
   "execution_count": 4,
   "metadata": {},
   "outputs": [],
   "source": [
    "def errors_dist(distances, decoded, decoded_labels, errors, error_labels, plot_name, show=True, store=False):\n",
    "    fig, ax = plt.subplots()\n",
    "\n",
    "    for i in range(len(decoded)):\n",
    "        ax.plot(distances, decoded[i], label=decoded_labels[i], marker=self.markers[i], markevery=3)\n",
    "\n",
    "        for j in range(len(errors[i])):\n",
    "            ax.plot(distances, errors[i][j], label=error_labels[i][j], marker=self.markers[i + j])\n",
    "\n",
    "    ax.legend(loc='center left')\n",
    "    ax.set(xlabel='Distance (m)', ylabel='Messages Decoded')\n",
    "    ax.tick_params(direction='in')\n",
    "\n",
    "    ax.set_ylim([0, 1])\n",
    "    plt.yticks(np.arange(0, 1.1, step=.1))\n",
    "\n",
    "    ax.set_xlim([0, (max(distances) + 1)])\n",
    "    plt.xticks(np.arange(0, (max(distances) + 1), step=50))\n",
    "    \n",
    "    fig.suptitle(plot_name, fontsize=12)\n",
    "    \n",
    "    if show:\n",
    "        fig.show()\n",
    "        \n",
    "    if store:\n",
    "        fig.savefig(\"{}.png\".format(plot_name), dpi=300)"
   ]
  },
  {
   "cell_type": "code",
   "execution_count": 5,
   "metadata": {},
   "outputs": [],
   "source": [
    "interested_folder = [\n",
    "    \"After-5-high-density\",\n",
    "    \"DCC-Enabled\",\n",
    "    \"NO-CC\",\n",
    "    \"After-1\",\n",
    "    \"After-1-high-density\",\n",
    "    \"NO-CC-high-density\",\n",
    "    \"Highway-fast\",\n",
    "    \"After-5\",\n",
    "    \"Random-Access-Medium-Density\",\n",
    "    \"Random-Access-Packet-Dropping-Medium-Density\",\n",
    "    \"RRI-Adaptation-CR-limit-MD\",\n",
    "    \"RRI-Adaptation-DCC-MD\"\n",
    "]"
   ]
  },
  {
   "cell_type": "code",
   "execution_count": null,
   "metadata": {},
   "outputs": [],
   "source": [
    "raw_data_folder = \"/Users/brianmccarthy/git_repos/results-analysis/data/parsed_data/cv2x\"\n",
    "loaded_dfs = {}"
   ]
  },
  {
   "cell_type": "code",
   "execution_count": null,
   "metadata": {},
   "outputs": [],
   "source": [
    "for folder in os.listdir(raw_data_folder):\n",
    "    if folder in interested_folder:\n",
    "        print(\"=\"*50)\n",
    "        print(\"Parsing configuration: {}\".format(folder))\n",
    "        print(\"=\"*50)\n",
    "        loaded_dfs[folder] = read_data_in(os.path.join(raw_data_folder, folder))"
   ]
  },
  {
   "cell_type": "code",
   "execution_count": null,
   "metadata": {},
   "outputs": [],
   "source": [
    "extra_folders = [\"RRI-Adaptation-DCC-MD\"]\n",
    "for folder in os.listdir(raw_data_folder):\n",
    "    if folder in extra_folders:\n",
    "        print(\"=\"*50)\n",
    "        print(\"Parsing configuration: {}\".format(folder))\n",
    "        print(\"=\"*50)\n",
    "        loaded_dfs[folder] = read_data_in(os.path.join(raw_data_folder, folder))"
   ]
  },
  {
   "cell_type": "code",
   "execution_count": null,
   "metadata": {},
   "outputs": [],
   "source": [
    "distances = create_bins(0, 25, 20)"
   ]
  },
  {
   "cell_type": "code",
   "execution_count": null,
   "metadata": {},
   "outputs": [],
   "source": [
    "for i in range(len(distances)):\n",
    "    distances[i] = distances[i][1]"
   ]
  },
  {
   "cell_type": "code",
   "execution_count": null,
   "metadata": {},
   "outputs": [],
   "source": [
    "pdrs = {}\n",
    "ipgs = {}\n",
    "for configuration in interested_folder:\n",
    "    df = loaded_dfs[configuration]\n",
    "    \n",
    "    # Filter the times down\n",
    "#     df = df[df[\"Time\"] > 502]\n",
    "    \n",
    "    # Put config back into our dictionary\n",
    "#     loaded_dfs[configuration] = df\n",
    "    \n",
    "    # Calculate pdr\n",
    "    pdr = []\n",
    "    ipg = []\n",
    "    pdr_binned = bin_fields(df, [\"tbDecoded\"])\n",
    "    ipg_binned = bin_fields(df, [\"interPacketDelay\"])\n",
    "    \n",
    "    for i in range(len(pdr_binned[\"tbDecoded\"])):\n",
    "        if i < len(pdr):\n",
    "            pdr[i] = (pdr_binned[\"tbDecoded\"][i] + pdr[i]) / 2\n",
    "        else:\n",
    "            pdr.append(pdr_binned[\"tbDecoded\"][i])\n",
    "            \n",
    "    for i in range(len(ipg_binned[\"interPacketDelay\"])):\n",
    "        if i < len(ipg):\n",
    "            ipg[i] = (ipg_binned[\"interPacketDelay\"][i] + ipg[i]) / 2\n",
    "        else:\n",
    "            ipg.append(ipg_binned[\"interPacketDelay\"][i])\n",
    "            \n",
    "    for i in range(len(pdr)):\n",
    "        pdr[i] = pdr[i] * 100\n",
    "    pdrs[configuration] = pdr\n",
    "    \n",
    "    ipgs[configuration] = ipg"
   ]
  },
  {
   "cell_type": "code",
   "execution_count": null,
   "metadata": {},
   "outputs": [],
   "source": []
  }
 ],
 "metadata": {
  "kernelspec": {
   "display_name": "Python 3",
   "language": "python",
   "name": "python3"
  },
  "language_info": {
   "codemirror_mode": {
    "name": "ipython",
    "version": 3
   },
   "file_extension": ".py",
   "mimetype": "text/x-python",
   "name": "python",
   "nbconvert_exporter": "python",
   "pygments_lexer": "ipython3",
   "version": "3.8.1"
  }
 },
 "nbformat": 4,
 "nbformat_minor": 4
}
