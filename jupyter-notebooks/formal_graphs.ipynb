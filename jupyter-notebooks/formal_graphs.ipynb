{
 "cells": [
  {
   "cell_type": "code",
   "execution_count": 1,
   "metadata": {},
   "outputs": [],
   "source": [
    "%matplotlib inline\n",
    "\n",
    "import matplotlib\n",
    "import numpy as np\n",
    "import matplotlib.pyplot as plt\n",
    "import pandas as pd\n",
    "\n",
    "from matplotlib.ticker import FormatStrFormatter"
   ]
  },
  {
   "cell_type": "code",
   "execution_count": 2,
   "metadata": {},
   "outputs": [],
   "source": [
    "import json\n",
    "import os"
   ]
  },
  {
   "cell_type": "code",
   "execution_count": 3,
   "metadata": {},
   "outputs": [],
   "source": [
    "# JSON file containing the results for this simulation run\n",
    "results_file = \"/home/brian/git_repos/results-analysis/configs/cv2x.json\""
   ]
  },
  {
   "cell_type": "code",
   "execution_count": 4,
   "metadata": {},
   "outputs": [],
   "source": [
    "with open(results_file) as results_json:\n",
    "    config = json.load(results_json)"
   ]
  },
  {
   "cell_type": "code",
   "execution_count": 5,
   "metadata": {},
   "outputs": [],
   "source": [
    "# Markers to use for this run\n",
    "markers = [\".\", \"o\", \"v\", \"^\", \"<\", \">\", \"1\", \"2\", \"3\", \"4\", \"8\", \"s\", \"p\", \"P\", \"*\", \"h\",\n",
    "           \"H\", \"+\", \"x\", \"X\", \"D\", \"d\", \"|\", \"_\", 0, 1, 2, 3, 4, 5, 6, 7, 8, 9, 10, 11]"
   ]
  },
  {
   "cell_type": "code",
   "execution_count": 6,
   "metadata": {},
   "outputs": [],
   "source": [
    "def create_bins(lower_bound, width, quantity):\n",
    "    \"\"\" create_bins returns an equal-width (distance) partitioning.\n",
    "        It returns an ascending list of tuples, representing the intervals.\n",
    "        A tuple bins[i], i.e. (bins[i][0], bins[i][1])  with i > 0\n",
    "        and i < quantity, satisfies the following conditions:\n",
    "            (1) bins[i][0] + width == bins[i][1]\n",
    "            (2) bins[i-1][0] + width == bins[i][0] and\n",
    "                bins[i-1][1] + width == bins[i][1]\n",
    "    \"\"\"\n",
    "    bins = []\n",
    "    for low in range(lower_bound, lower_bound + quantity * width + 1, width):\n",
    "        bins.append((low, low + width))\n",
    "    return bins"
   ]
  },
  {
   "cell_type": "code",
   "execution_count": 7,
   "metadata": {},
   "outputs": [],
   "source": [
    "def bin_fields(df, fields, bin_width=10, bin_quantity=49):\n",
    "    \"\"\"\n",
    "    Bins multiple dfs into a single dictionary that can be used as an average for multiple fields across multiple\n",
    "    runs\n",
    "    :param df: dataframe to bin\n",
    "    :param fields: fields to be binned.\n",
    "    :param bin_width: width of each bin\n",
    "    :param bin_quantity: total number of bins\n",
    "    :return:\n",
    "    \"\"\"\n",
    "    bins = create_bins(lower_bound=0, width=bin_width, quantity=bin_quantity)\n",
    "    distances = []\n",
    "    overall_fields = {}\n",
    "    for interval in bins:\n",
    "        upper_b = interval[1]\n",
    "        distances.append(upper_b)\n",
    "\n",
    "    for field in fields:\n",
    "        print(\"{} being binned\".format(field))\n",
    "        overall_fields[field] = []\n",
    "\n",
    "    overall_fields[\"distance\"] = distances\n",
    "\n",
    "    distance_col = config[\"results\"][\"distance\"]\n",
    "\n",
    "    for i in range(len(bins)):\n",
    "        lower_b = bins[i][0]\n",
    "        upper_b = bins[i][1]\n",
    "        fields_temp = df[(df[distance_col] >= lower_b) & (df[distance_col] < upper_b)]\n",
    "        for field in fields:\n",
    "            if i < len(overall_fields[field]):\n",
    "                overall_fields[field][i] = (fields_temp[field].mean() + overall_fields[field][i]) / 2\n",
    "            else:\n",
    "                overall_fields[field].append(fields_temp[field].mean())\n",
    "\n",
    "    return overall_fields"
   ]
  },
  {
   "cell_type": "code",
   "execution_count": 8,
   "metadata": {},
   "outputs": [],
   "source": [
    "def pdr_dist_individual(pdr, distances, label, plot_name, show=True, store=False):\n",
    "    fig, ax = plt.subplots()\n",
    "\n",
    "    ax.plot(distances, pdr, label=label, marker=markers[0], markevery=3)\n",
    "\n",
    "    ax.set(xlabel='Distance (m)', ylabel='Packet Delivery Rate (PDR) %')\n",
    "    ax.legend(loc='lower right')\n",
    "    ax.tick_params(direction='in')\n",
    "\n",
    "    ax.set_ylim([0, 100])\n",
    "    plt.yticks(np.arange(0, 101, step=10))\n",
    "\n",
    "    ax.set_xlim([0, (max(distances) + 1)])\n",
    "    plt.xticks(np.arange(0, (max(distances) + 1), step=50))\n",
    "\n",
    "    fig.suptitle(plot_name, fontsize=12)\n",
    "    \n",
    "    if show:\n",
    "        fig.show()\n",
    "        \n",
    "    if store:\n",
    "        fig.savefig(\"/figures/{}.png\".format(plot_name))"
   ]
  },
  {
   "cell_type": "code",
   "execution_count": 9,
   "metadata": {},
   "outputs": [],
   "source": [
    "def pdr_dist(pdrs, distances, labels, plot_name, show=True, store=False):\n",
    "    fig, ax = plt.subplots()\n",
    "\n",
    "    for i in range(len(pdrs)):\n",
    "        ax.plot(distances, pdrs[i], label=labels[i], marker=markers[i], markevery=3)\n",
    "\n",
    "    ax.set(xlabel='Distance (m)', ylabel='Packet Delivery Rate (PDR) %')\n",
    "    ax.legend(loc='lower right')\n",
    "    ax.tick_params(direction='in')\n",
    "    \n",
    "    ax.set_ylim([0, 100])\n",
    "    plt.yticks(np.arange(0, 101, step=10))\n",
    "\n",
    "    ax.set_xlim([0, (max(distances) + 1)])\n",
    "    plt.xticks(np.arange(0, (max(distances) + 1), step=50))\n",
    "\n",
    "    fig.suptitle(plot_name, fontsize=12)\n",
    "    \n",
    "    if show:\n",
    "        fig.show()\n",
    "        \n",
    "    if store:\n",
    "        fig.savefig(\"/figures/{}.png\".format(plot_name))"
   ]
  },
  {
   "cell_type": "code",
   "execution_count": 10,
   "metadata": {},
   "outputs": [],
   "source": [
    "def errors_dist_individual(distances, decoded, errors, error_labels, plot_name, show=True, store=False):\n",
    "    fig, ax = plt.subplots()\n",
    "\n",
    "    ax.plot(distances, decoded, label=\"Decoded\", marker=self.markers[0], markevery=3)\n",
    "\n",
    "    for i in range(len(errors)):\n",
    "        ax.plot(distances, errors[i], label=error_labels[i], marker=self.markers[i+1], markevery=3)\n",
    "\n",
    "    ax.legend(loc='center left')\n",
    "    ax.set(xlabel='Distance (m)', ylabel='Messages Decoded')\n",
    "    ax.tick_params(direction='in')\n",
    "\n",
    "    ax.set_ylim([0, 1])\n",
    "    plt.yticks(np.arange(0, 1.1, step=.1))\n",
    "\n",
    "    ax.set_xlim([0, (max(distances) + 1)])\n",
    "    plt.xticks(np.arange(0, (max(distances) + 1), step=50))\n",
    "\n",
    "    fig.suptitle(plot_name, fontsize=12)\n",
    "    \n",
    "    if show:\n",
    "        fig.show()\n",
    "\n",
    "    if store:\n",
    "        fig.savefig(\"/figures/{}.png\".format(plot_name))"
   ]
  },
  {
   "cell_type": "code",
   "execution_count": 11,
   "metadata": {},
   "outputs": [],
   "source": [
    "def errors_dist(distances, decoded, decoded_labels, errors, error_labels, plot_name, show=True, store=False):\n",
    "    fig, ax = plt.subplots()\n",
    "\n",
    "    for i in range(len(decoded)):\n",
    "        ax.plot(distances, decoded[i], label=decoded_labels[i], marker=self.markers[i], markevery=3)\n",
    "\n",
    "        for j in range(len(errors[i])):\n",
    "            ax.plot(distances, errors[i][j], label=error_labels[i][j], marker=self.markers[i + j])\n",
    "\n",
    "    ax.legend(loc='center left')\n",
    "    ax.set(xlabel='Distance (m)', ylabel='Messages Decoded')\n",
    "    ax.tick_params(direction='in')\n",
    "\n",
    "    ax.set_ylim([0, 1])\n",
    "    plt.yticks(np.arange(0, 1.1, step=.1))\n",
    "\n",
    "    ax.set_xlim([0, (max(distances) + 1)])\n",
    "    plt.xticks(np.arange(0, (max(distances) + 1), step=50))\n",
    "    \n",
    "    fig.suptitle(plot_name, fontsize=12)\n",
    "    \n",
    "    if show:\n",
    "        fig.show()\n",
    "        \n",
    "    if store:\n",
    "        fig.savefig(\"/figures/{}.png\".format(plot_name))"
   ]
  },
  {
   "cell_type": "markdown",
   "metadata": {},
   "source": [
    "### CBR reporting"
   ]
  },
  {
   "cell_type": "code",
   "execution_count": 12,
   "metadata": {},
   "outputs": [],
   "source": [
    "raw_data_folder = \"/home/brian/git_repos/results-analysis/data/raw_data/cv2x/CBR-2\""
   ]
  },
  {
   "cell_type": "code",
   "execution_count": 13,
   "metadata": {},
   "outputs": [],
   "source": [
    "first_file = True\n",
    "merged_df = pd.DataFrame()\n",
    "for file in os.listdir(raw_data_folder):\n",
    "    if \".csv\" in file:\n",
    "        result_file = raw_data_folder + \"/\" + file\n",
    "        if first_file:\n",
    "            merged_df = pd.read_csv(result_file)\n",
    "            first_file = False\n",
    "        else:\n",
    "            merged_df.append(pd.read_csv(result_file))"
   ]
  },
  {
   "cell_type": "code",
   "execution_count": null,
   "metadata": {},
   "outputs": [
    {
     "data": {
      "text/plain": [
       "<matplotlib.axes._subplots.AxesSubplot at 0x7f98ca2b3940>"
      ]
     },
     "execution_count": 14,
     "metadata": {},
     "output_type": "execute_result"
    }
   ],
   "source": [
    "merged_df.plot(x=\"Time\", y=\"cbr\", kind=\"line\")"
   ]
  },
  {
   "cell_type": "markdown",
   "metadata": {},
   "source": [
    "Need to do some more checks, in much better shape than it was but still some issues here.\n",
    "\n",
    "- Primarily need to see why we have such a large fluctuation\n",
    "- Also have to look at why it is a little low, though it also is an average of all vehicles.\n",
    "- Might find min and max guys"
   ]
  },
  {
   "cell_type": "code",
   "execution_count": 76,
   "metadata": {},
   "outputs": [],
   "source": [
    "node_23_df = merged_df[(merged_df[\"NodeID\"] == 23) & (merged_df[\"cbr\"] >= 0.0)]"
   ]
  },
  {
   "cell_type": "code",
   "execution_count": 77,
   "metadata": {},
   "outputs": [
    {
     "data": {
      "text/plain": [
       "<matplotlib.axes._subplots.AxesSubplot at 0x7f64cd69aa90>"
      ]
     },
     "execution_count": 77,
     "metadata": {},
     "output_type": "execute_result"
    },
    {
     "data": {
      "image/png": "[encoded data removed]",
      "text/plain": [
       "<Figure size 432x288 with 1 Axes>"
      ]
     },
     "metadata": {
      "needs_background": "light"
     },
     "output_type": "display_data"
    }
   ],
   "source": [
    "node_23_df.plot(x=\"Time\", y=\"cbr\", kind=\"line\")"
   ]
  },
  {
   "cell_type": "markdown",
   "metadata": {},
   "source": [
    "Wild fluctuation is a major issue, need to investigate what the story is there\n",
    "\n",
    "Also extremely noisy, reducing the number of CBR reports is necessary, possibly sending it every 10ms or something like that will improve the quality. 100ms too wide a band."
   ]
  },
  {
   "cell_type": "code",
   "execution_count": 78,
   "metadata": {},
   "outputs": [],
   "source": [
    "reduced_merged_df = merged_df[(merged_df[\"Time\"] >= 510) & (merged_df[\"Time\"] <= 511)]"
   ]
  },
  {
   "cell_type": "code",
   "execution_count": 79,
   "metadata": {},
   "outputs": [
    {
     "data": {
      "text/plain": [
       "<matplotlib.axes._subplots.AxesSubplot at 0x7f64cdbabe48>"
      ]
     },
     "execution_count": 79,
     "metadata": {},
     "output_type": "execute_result"
    },
    {
     "data": {
      "image/png": "[encoded data removed]",
      "text/plain": [
       "<Figure size 432x288 with 1 Axes>"
      ]
     },
     "metadata": {
      "needs_background": "light"
     },
     "output_type": "display_data"
    }
   ],
   "source": [
    "reduced_merged_df.plot(x=\"Time\", y=\"cbr\", kind=\"line\")"
   ]
  },
  {
   "cell_type": "code",
   "execution_count": 80,
   "metadata": {},
   "outputs": [
    {
     "name": "stdout",
     "output_type": "stream",
     "text": [
      "mean: 0.6966013966247454\n",
      "std: 0.058623469402043264\n",
      "median: 0.69791666666667\n"
     ]
    }
   ],
   "source": [
    "print(\"mean: {}\".format(reduced_merged_df[\"cbr\"].mean()))\n",
    "print(\"std: {}\".format(reduced_merged_df[\"cbr\"].std()))\n",
    "print(\"median: {}\".format(reduced_merged_df[\"cbr\"].median()))"
   ]
  },
  {
   "cell_type": "code",
   "execution_count": 81,
   "metadata": {},
   "outputs": [
    {
     "data": {
      "image/png": "[encoded data removed]",
      "text/plain": [
       "<Figure size 432x288 with 1 Axes>"
      ]
     },
     "metadata": {
      "needs_background": "light"
     },
     "output_type": "display_data"
    }
   ],
   "source": [
    "fig, ax = plt.subplots()\n",
    "\n",
    "ax.plot(node_23_df[\"Time\"], node_23_df[\"cbr\"], label=\"CBR\")\n",
    "\n",
    "ax.set(xlabel='Time (s)', ylabel='Channel Busy Ratio %')\n",
    "ax.legend(loc='lower left')\n",
    "ax.tick_params(direction='in')\n",
    "\n",
    "ax.set_ylim([0.49, 0.85])\n",
    "plt.yticks(np.arange(0.5, 0.86, step=0.05))\n",
    "\n",
    "ax.set_xlim([min(node_23_df[\"Time\"] + 2), (max(node_23_df[\"Time\"]))])\n",
    "plt.xticks(np.arange(min(node_23_df[\"Time\"] + 2), (max(node_23_df[\"Time\"]) + 1), step=1))\n",
    "\n",
    "fig.suptitle(\"CBR over time\", fontsize=12)\n",
    "plt.savefig(\"CBR_sci_info_record.png\", dpi=300)"
   ]
  },
  {
   "cell_type": "markdown",
   "metadata": {},
   "source": [
    "### Channel Usage"
   ]
  },
  {
   "cell_type": "code",
   "execution_count": 21,
   "metadata": {},
   "outputs": [],
   "source": [
    "merged_df = merged_df[merged_df[\"Time\"] >= 502]"
   ]
  },
  {
   "cell_type": "code",
   "execution_count": 22,
   "metadata": {},
   "outputs": [],
   "source": [
    "node_23_df = merged_df[(merged_df[\"NodeID\"] == 23)]"
   ]
  },
  {
   "cell_type": "code",
   "execution_count": 23,
   "metadata": {},
   "outputs": [],
   "source": [
    "# node_23_df = merged_df"
   ]
  },
  {
   "cell_type": "code",
   "execution_count": 24,
   "metadata": {},
   "outputs": [
    {
     "name": "stderr",
     "output_type": "stream",
     "text": [
      "/home/brian/anaconda3/envs/results-analysis/lib/python3.7/site-packages/ipykernel_launcher.py:1: SettingWithCopyWarning: \n",
      "A value is trying to be set on a copy of a slice from a DataFrame.\n",
      "Try using .loc[row_indexer,col_indexer] = value instead\n",
      "\n",
      "See the caveats in the documentation: http://pandas.pydata.org/pandas-docs/stable/indexing.html#indexing-view-versus-copy\n",
      "  \"\"\"Entry point for launching an IPython kernel.\n"
     ]
    }
   ],
   "source": [
    "node_23_df[\"subchannelReceived\"] = np.where(node_23_df[\"sciFailedHalfDuplex\"].eq(1.0), -1.0, node_23_df[\"subchannelReceived\"])\n"
   ]
  },
  {
   "cell_type": "code",
   "execution_count": 25,
   "metadata": {},
   "outputs": [],
   "source": [
    "node_23_df_reduced = node_23_df[(node_23_df[\"Time\"] >= 511.0) & (node_23_df[\"Time\"] <= 512)]"
   ]
  },
  {
   "cell_type": "code",
   "execution_count": 26,
   "metadata": {},
   "outputs": [],
   "source": [
    "small_df = node_23_df_reduced"
   ]
  },
  {
   "cell_type": "code",
   "execution_count": 27,
   "metadata": {},
   "outputs": [],
   "source": [
    "small_df = small_df.round({'Time': 3})"
   ]
  },
  {
   "cell_type": "code",
   "execution_count": 28,
   "metadata": {},
   "outputs": [],
   "source": [
    "small_df[\"subchannelReceived\"] = small_df[\"subchannelReceived\"].fillna(-2)"
   ]
  },
  {
   "cell_type": "code",
   "execution_count": 29,
   "metadata": {},
   "outputs": [],
   "source": [
    "group_df = small_df.groupby(\"Time\")[\"subchannelReceived\"].value_counts().unstack().fillna(0)"
   ]
  },
  {
   "cell_type": "code",
   "execution_count": 30,
   "metadata": {},
   "outputs": [],
   "source": [
    "group_df.loc[group_df[-1.0] == 1, [0.0, 1.0, 2.0]] = -1"
   ]
  },
  {
   "cell_type": "code",
   "execution_count": 31,
   "metadata": {},
   "outputs": [],
   "source": [
    "group_df = group_df[[0.0, 1.0, 2.0]]"
   ]
  },
  {
   "cell_type": "code",
   "execution_count": 32,
   "metadata": {},
   "outputs": [
    {
     "data": {
      "text/html": [
       "<div>\n",
       "<style scoped>\n",
       "    .dataframe tbody tr th:only-of-type {\n",
       "        vertical-align: middle;\n",
       "    }\n",
       "\n",
       "    .dataframe tbody tr th {\n",
       "        vertical-align: top;\n",
       "    }\n",
       "\n",
       "    .dataframe thead th {\n",
       "        text-align: right;\n",
       "    }\n",
       "</style>\n",
       "<table border=\"1\" class=\"dataframe\">\n",
       "  <thead>\n",
       "    <tr style=\"text-align: right;\">\n",
       "      <th>subchannelReceived</th>\n",
       "      <th>0.0</th>\n",
       "      <th>1.0</th>\n",
       "      <th>2.0</th>\n",
       "    </tr>\n",
       "    <tr>\n",
       "      <th>Time</th>\n",
       "      <th></th>\n",
       "      <th></th>\n",
       "      <th></th>\n",
       "    </tr>\n",
       "  </thead>\n",
       "  <tbody>\n",
       "    <tr>\n",
       "      <th>511.000</th>\n",
       "      <td>0.0</td>\n",
       "      <td>2.0</td>\n",
       "      <td>1.0</td>\n",
       "    </tr>\n",
       "    <tr>\n",
       "      <th>511.001</th>\n",
       "      <td>1.0</td>\n",
       "      <td>1.0</td>\n",
       "      <td>0.0</td>\n",
       "    </tr>\n",
       "    <tr>\n",
       "      <th>511.002</th>\n",
       "      <td>0.0</td>\n",
       "      <td>0.0</td>\n",
       "      <td>1.0</td>\n",
       "    </tr>\n",
       "    <tr>\n",
       "      <th>511.003</th>\n",
       "      <td>1.0</td>\n",
       "      <td>1.0</td>\n",
       "      <td>1.0</td>\n",
       "    </tr>\n",
       "    <tr>\n",
       "      <th>511.004</th>\n",
       "      <td>2.0</td>\n",
       "      <td>1.0</td>\n",
       "      <td>1.0</td>\n",
       "    </tr>\n",
       "  </tbody>\n",
       "</table>\n",
       "</div>"
      ],
      "text/plain": [
       "subchannelReceived  0.0  1.0  2.0\n",
       "Time                             \n",
       "511.000             0.0  2.0  1.0\n",
       "511.001             1.0  1.0  0.0\n",
       "511.002             0.0  0.0  1.0\n",
       "511.003             1.0  1.0  1.0\n",
       "511.004             2.0  1.0  1.0"
      ]
     },
     "execution_count": 32,
     "metadata": {},
     "output_type": "execute_result"
    }
   ],
   "source": [
    "group_df.head()"
   ]
  },
  {
   "cell_type": "code",
   "execution_count": 33,
   "metadata": {},
   "outputs": [],
   "source": [
    "group_df = group_df.T"
   ]
  },
  {
   "cell_type": "code",
   "execution_count": 34,
   "metadata": {},
   "outputs": [
    {
     "data": {
      "text/plain": [
       "Float64Index([0.0, 1.0, 2.0], dtype='float64', name='subchannelReceived')"
      ]
     },
     "execution_count": 34,
     "metadata": {},
     "output_type": "execute_result"
    }
   ],
   "source": [
    "group_df.index"
   ]
  },
  {
   "cell_type": "code",
   "execution_count": 35,
   "metadata": {},
   "outputs": [
    {
     "data": {
      "text/plain": [
       "Float64Index([  511.0, 511.001, 511.002, 511.003, 511.004, 511.005, 511.006,\n",
       "              511.007, 511.008, 511.009,\n",
       "              ...\n",
       "              511.991, 511.992, 511.993, 511.994, 511.995, 511.996, 511.997,\n",
       "              511.998, 511.999,   512.0],\n",
       "             dtype='float64', name='Time', length=1001)"
      ]
     },
     "execution_count": 35,
     "metadata": {},
     "output_type": "execute_result"
    }
   ],
   "source": [
    "group_df.columns"
   ]
  },
  {
   "cell_type": "code",
   "execution_count": 36,
   "metadata": {},
   "outputs": [],
   "source": [
    "group_df = group_df.astype(\"int\")"
   ]
  },
  {
   "cell_type": "code",
   "execution_count": 37,
   "metadata": {},
   "outputs": [
    {
     "data": {
      "text/plain": [
       "1001"
      ]
     },
     "execution_count": 37,
     "metadata": {},
     "output_type": "execute_result"
    }
   ],
   "source": [
    "len(group_df.values[0])"
   ]
  },
  {
   "cell_type": "code",
   "execution_count": 38,
   "metadata": {},
   "outputs": [],
   "source": [
    "np_xticks = np.arange(min(group_df.columns), max(group_df.columns), 0.01)"
   ]
  },
  {
   "cell_type": "code",
   "execution_count": 39,
   "metadata": {},
   "outputs": [],
   "source": [
    "np_xticks = np.round(np_xticks, 2)"
   ]
  },
  {
   "cell_type": "code",
   "execution_count": 40,
   "metadata": {},
   "outputs": [],
   "source": [
    "subframes = list(np.arange(len(group_df.columns), step=20))"
   ]
  },
  {
   "cell_type": "code",
   "execution_count": 41,
   "metadata": {},
   "outputs": [
    {
     "data": {
      "image/png": "[encoded data removed]",
      "text/plain": [
       "<Figure size 43200x2160 with 1 Axes>"
      ]
     },
     "metadata": {},
     "output_type": "display_data"
    }
   ],
   "source": [
    "fig, ax = plt.subplots(figsize=(600,30))\n",
    "im = ax.imshow(group_df.values, interpolation=\"nearest\")\n",
    "\n",
    "# We want to show all ticks...\n",
    "ax.set_xticks(np.arange(len(group_df.columns), step=20))\n",
    "ax.set_yticks(np.arange(len(group_df.index)))\n",
    "\n",
    "# ax.set_xticklabels(np_xticks)\n",
    "ax.set_xticklabels(np.array(group_df.columns)[subframes])\n",
    "\n",
    "for i in range(len(group_df.values)):\n",
    "    for j in range(len(group_df.values[i])):\n",
    "        if group_df.values[i,j] == -1:\n",
    "            text = ax.text(j, i, \"HD\", ha=\"center\", va=\"center\", color=\"red\")\n",
    "        elif group_df.values[i,j] == 0:\n",
    "            text= ax.text(j, i, 0, ha=\"center\", va=\"center\", color=\"Orange\")\n",
    "        else:\n",
    "            text = ax.text(j, i, group_df.values[i,j], ha=\"center\", va=\"center\", color=\"white\")\n",
    "\n",
    "# fig.tight_layout()\n",
    "plt.gcf().set_facecolor(\"black\")\n",
    "# fig.set_size_inches(600, 100, forward=True)\n",
    "plt.savefig(\"Message_history.svg\")"
   ]
  },
  {
   "cell_type": "code",
   "execution_count": 42,
   "metadata": {},
   "outputs": [
    {
     "data": {
      "text/plain": [
       "Index(['EventNumber', 'Time', 'NodeID', 'cbr', 'grantStartTime', 'sciDecoded',\n",
       "       'sciFailedHalfDuplex', 'sciNotDecoded', 'sciReceived', 'sciSent',\n",
       "       'selectedNumSubchannels', 'selectedSubchannelIndex', 'senderID',\n",
       "       'subchannelReceived', 'subchannelSent', 'subchannelsUsed',\n",
       "       'subchannelsUsedToSend', 'tbDecoded', 'tbFailedButSCIReceived',\n",
       "       'tbFailedDueToNoSCI', 'tbFailedHalfDuplex', 'tbReceived', 'tbSent',\n",
       "       'txRxDistanceSCI', 'txRxDistanceTB', 'grantBreak'],\n",
       "      dtype='object')"
      ]
     },
     "execution_count": 42,
     "metadata": {},
     "output_type": "execute_result"
    }
   ],
   "source": [
    "merged_df.columns"
   ]
  },
  {
   "cell_type": "code",
   "execution_count": 43,
   "metadata": {},
   "outputs": [
    {
     "data": {
      "text/html": [
       "<div>\n",
       "<style scoped>\n",
       "    .dataframe tbody tr th:only-of-type {\n",
       "        vertical-align: middle;\n",
       "    }\n",
       "\n",
       "    .dataframe tbody tr th {\n",
       "        vertical-align: top;\n",
       "    }\n",
       "\n",
       "    .dataframe thead th {\n",
       "        text-align: right;\n",
       "    }\n",
       "</style>\n",
       "<table border=\"1\" class=\"dataframe\">\n",
       "  <thead>\n",
       "    <tr style=\"text-align: right;\">\n",
       "      <th></th>\n",
       "      <th>EventNumber</th>\n",
       "      <th>Time</th>\n",
       "      <th>NodeID</th>\n",
       "      <th>cbr</th>\n",
       "      <th>grantStartTime</th>\n",
       "      <th>sciDecoded</th>\n",
       "      <th>sciFailedHalfDuplex</th>\n",
       "      <th>sciNotDecoded</th>\n",
       "      <th>sciReceived</th>\n",
       "      <th>sciSent</th>\n",
       "      <th>...</th>\n",
       "      <th>subchannelsUsedToSend</th>\n",
       "      <th>tbDecoded</th>\n",
       "      <th>tbFailedButSCIReceived</th>\n",
       "      <th>tbFailedDueToNoSCI</th>\n",
       "      <th>tbFailedHalfDuplex</th>\n",
       "      <th>tbReceived</th>\n",
       "      <th>tbSent</th>\n",
       "      <th>txRxDistanceSCI</th>\n",
       "      <th>txRxDistanceTB</th>\n",
       "      <th>grantBreak</th>\n",
       "    </tr>\n",
       "  </thead>\n",
       "  <tbody>\n",
       "    <tr>\n",
       "      <th>1400151</th>\n",
       "      <td>10600504.0</td>\n",
       "      <td>502.0</td>\n",
       "      <td>0</td>\n",
       "      <td>0.727273</td>\n",
       "      <td>NaN</td>\n",
       "      <td>NaN</td>\n",
       "      <td>NaN</td>\n",
       "      <td>NaN</td>\n",
       "      <td>NaN</td>\n",
       "      <td>NaN</td>\n",
       "      <td>...</td>\n",
       "      <td>NaN</td>\n",
       "      <td>NaN</td>\n",
       "      <td>NaN</td>\n",
       "      <td>NaN</td>\n",
       "      <td>NaN</td>\n",
       "      <td>NaN</td>\n",
       "      <td>NaN</td>\n",
       "      <td>NaN</td>\n",
       "      <td>NaN</td>\n",
       "      <td>NaN</td>\n",
       "    </tr>\n",
       "    <tr>\n",
       "      <th>1400152</th>\n",
       "      <td>10600505.0</td>\n",
       "      <td>502.0</td>\n",
       "      <td>1</td>\n",
       "      <td>0.727273</td>\n",
       "      <td>NaN</td>\n",
       "      <td>NaN</td>\n",
       "      <td>NaN</td>\n",
       "      <td>NaN</td>\n",
       "      <td>NaN</td>\n",
       "      <td>NaN</td>\n",
       "      <td>...</td>\n",
       "      <td>NaN</td>\n",
       "      <td>NaN</td>\n",
       "      <td>NaN</td>\n",
       "      <td>NaN</td>\n",
       "      <td>NaN</td>\n",
       "      <td>NaN</td>\n",
       "      <td>NaN</td>\n",
       "      <td>NaN</td>\n",
       "      <td>NaN</td>\n",
       "      <td>NaN</td>\n",
       "    </tr>\n",
       "    <tr>\n",
       "      <th>1400153</th>\n",
       "      <td>10600506.0</td>\n",
       "      <td>502.0</td>\n",
       "      <td>2</td>\n",
       "      <td>0.739583</td>\n",
       "      <td>NaN</td>\n",
       "      <td>NaN</td>\n",
       "      <td>NaN</td>\n",
       "      <td>NaN</td>\n",
       "      <td>NaN</td>\n",
       "      <td>NaN</td>\n",
       "      <td>...</td>\n",
       "      <td>NaN</td>\n",
       "      <td>NaN</td>\n",
       "      <td>NaN</td>\n",
       "      <td>NaN</td>\n",
       "      <td>NaN</td>\n",
       "      <td>NaN</td>\n",
       "      <td>NaN</td>\n",
       "      <td>NaN</td>\n",
       "      <td>NaN</td>\n",
       "      <td>NaN</td>\n",
       "    </tr>\n",
       "    <tr>\n",
       "      <th>1400154</th>\n",
       "      <td>10600507.0</td>\n",
       "      <td>502.0</td>\n",
       "      <td>3</td>\n",
       "      <td>0.727273</td>\n",
       "      <td>NaN</td>\n",
       "      <td>NaN</td>\n",
       "      <td>NaN</td>\n",
       "      <td>NaN</td>\n",
       "      <td>NaN</td>\n",
       "      <td>NaN</td>\n",
       "      <td>...</td>\n",
       "      <td>NaN</td>\n",
       "      <td>NaN</td>\n",
       "      <td>NaN</td>\n",
       "      <td>NaN</td>\n",
       "      <td>NaN</td>\n",
       "      <td>NaN</td>\n",
       "      <td>NaN</td>\n",
       "      <td>NaN</td>\n",
       "      <td>NaN</td>\n",
       "      <td>NaN</td>\n",
       "    </tr>\n",
       "    <tr>\n",
       "      <th>1400155</th>\n",
       "      <td>10600508.0</td>\n",
       "      <td>502.0</td>\n",
       "      <td>4</td>\n",
       "      <td>0.727273</td>\n",
       "      <td>NaN</td>\n",
       "      <td>NaN</td>\n",
       "      <td>NaN</td>\n",
       "      <td>NaN</td>\n",
       "      <td>NaN</td>\n",
       "      <td>NaN</td>\n",
       "      <td>...</td>\n",
       "      <td>NaN</td>\n",
       "      <td>NaN</td>\n",
       "      <td>NaN</td>\n",
       "      <td>NaN</td>\n",
       "      <td>NaN</td>\n",
       "      <td>NaN</td>\n",
       "      <td>NaN</td>\n",
       "      <td>NaN</td>\n",
       "      <td>NaN</td>\n",
       "      <td>NaN</td>\n",
       "    </tr>\n",
       "  </tbody>\n",
       "</table>\n",
       "<p>5 rows × 26 columns</p>\n",
       "</div>"
      ],
      "text/plain": [
       "         EventNumber   Time  NodeID       cbr  grantStartTime  sciDecoded  \\\n",
       "1400151   10600504.0  502.0       0  0.727273             NaN         NaN   \n",
       "1400152   10600505.0  502.0       1  0.727273             NaN         NaN   \n",
       "1400153   10600506.0  502.0       2  0.739583             NaN         NaN   \n",
       "1400154   10600507.0  502.0       3  0.727273             NaN         NaN   \n",
       "1400155   10600508.0  502.0       4  0.727273             NaN         NaN   \n",
       "\n",
       "         sciFailedHalfDuplex  sciNotDecoded  sciReceived  sciSent  ...  \\\n",
       "1400151                  NaN            NaN          NaN      NaN  ...   \n",
       "1400152                  NaN            NaN          NaN      NaN  ...   \n",
       "1400153                  NaN            NaN          NaN      NaN  ...   \n",
       "1400154                  NaN            NaN          NaN      NaN  ...   \n",
       "1400155                  NaN            NaN          NaN      NaN  ...   \n",
       "\n",
       "         subchannelsUsedToSend  tbDecoded  tbFailedButSCIReceived  \\\n",
       "1400151                    NaN        NaN                     NaN   \n",
       "1400152                    NaN        NaN                     NaN   \n",
       "1400153                    NaN        NaN                     NaN   \n",
       "1400154                    NaN        NaN                     NaN   \n",
       "1400155                    NaN        NaN                     NaN   \n",
       "\n",
       "         tbFailedDueToNoSCI  tbFailedHalfDuplex  tbReceived  tbSent  \\\n",
       "1400151                 NaN                 NaN         NaN     NaN   \n",
       "1400152                 NaN                 NaN         NaN     NaN   \n",
       "1400153                 NaN                 NaN         NaN     NaN   \n",
       "1400154                 NaN                 NaN         NaN     NaN   \n",
       "1400155                 NaN                 NaN         NaN     NaN   \n",
       "\n",
       "         txRxDistanceSCI  txRxDistanceTB  grantBreak  \n",
       "1400151              NaN             NaN         NaN  \n",
       "1400152              NaN             NaN         NaN  \n",
       "1400153              NaN             NaN         NaN  \n",
       "1400154              NaN             NaN         NaN  \n",
       "1400155              NaN             NaN         NaN  \n",
       "\n",
       "[5 rows x 26 columns]"
      ]
     },
     "execution_count": 43,
     "metadata": {},
     "output_type": "execute_result"
    }
   ],
   "source": [
    "merged_df.head()"
   ]
  },
  {
   "cell_type": "code",
   "execution_count": 44,
   "metadata": {},
   "outputs": [],
   "source": [
    "grant_request_df = merged_df[(merged_df[\"grantStartTime\"] > 0)][[\"Time\", \"NodeID\", \"grantStartTime\", \"selectedSubchannelIndex\"]]"
   ]
  },
  {
   "cell_type": "code",
   "execution_count": 45,
   "metadata": {},
   "outputs": [],
   "source": [
    "grant_request_df[\"grantStartTime\"] = grant_request_df[\"grantStartTime\"].round(3)"
   ]
  },
  {
   "cell_type": "code",
   "execution_count": 46,
   "metadata": {},
   "outputs": [
    {
     "data": {
      "text/plain": [
       "(1010, 4)"
      ]
     },
     "execution_count": 46,
     "metadata": {},
     "output_type": "execute_result"
    }
   ],
   "source": [
    "grant_request_df.shape"
   ]
  },
  {
   "cell_type": "code",
   "execution_count": 47,
   "metadata": {},
   "outputs": [],
   "source": [
    "group = grant_request_df.sort_values(\"grantStartTime\")"
   ]
  },
  {
   "cell_type": "code",
   "execution_count": 48,
   "metadata": {},
   "outputs": [],
   "source": [
    "duplicateRowsDF = grant_request_df[grant_request_df.duplicated(['grantStartTime', \"selectedSubchannelIndex\"], keep=False)]"
   ]
  },
  {
   "cell_type": "code",
   "execution_count": 49,
   "metadata": {},
   "outputs": [],
   "source": [
    "duplicateRowsDF = duplicateRowsDF.sort_values(\"grantStartTime\")"
   ]
  },
  {
   "cell_type": "code",
   "execution_count": 50,
   "metadata": {},
   "outputs": [
    {
     "data": {
      "text/plain": [
       "Time                       98\n",
       "NodeID                     98\n",
       "grantStartTime             98\n",
       "selectedSubchannelIndex    98\n",
       "dtype: int64"
      ]
     },
     "execution_count": 50,
     "metadata": {},
     "output_type": "execute_result"
    }
   ],
   "source": [
    "duplicateRowsDF.count()"
   ]
  },
  {
   "cell_type": "code",
   "execution_count": 51,
   "metadata": {},
   "outputs": [
    {
     "data": {
      "text/plain": [
       "(1010, 4)"
      ]
     },
     "execution_count": 51,
     "metadata": {},
     "output_type": "execute_result"
    }
   ],
   "source": [
    "grant_request_df.shape"
   ]
  },
  {
   "cell_type": "code",
   "execution_count": 52,
   "metadata": {},
   "outputs": [
    {
     "data": {
      "text/plain": [
       "(98, 4)"
      ]
     },
     "execution_count": 52,
     "metadata": {},
     "output_type": "execute_result"
    }
   ],
   "source": [
    "duplicateRowsDF.shape"
   ]
  },
  {
   "cell_type": "code",
   "execution_count": 53,
   "metadata": {},
   "outputs": [
    {
     "data": {
      "text/plain": [
       "1517"
      ]
     },
     "execution_count": 53,
     "metadata": {},
     "output_type": "execute_result"
    }
   ],
   "source": [
    "group_df[group_df==1].count().sum()"
   ]
  },
  {
   "cell_type": "code",
   "execution_count": 54,
   "metadata": {},
   "outputs": [
    {
     "data": {
      "text/plain": [
       "25210.0"
      ]
     },
     "execution_count": 54,
     "metadata": {},
     "output_type": "execute_result"
    }
   ],
   "source": [
    "merged_df[merged_df[\"tbSent\"] > 0][\"tbSent\"].sum()"
   ]
  },
  {
   "cell_type": "code",
   "execution_count": 55,
   "metadata": {},
   "outputs": [
    {
     "data": {
      "text/plain": [
       "236.98000000000002"
      ]
     },
     "execution_count": 55,
     "metadata": {},
     "output_type": "execute_result"
    }
   ],
   "source": [
    "(23698/10)/10"
   ]
  },
  {
   "cell_type": "code",
   "execution_count": 56,
   "metadata": {},
   "outputs": [
    {
     "data": {
      "text/plain": [
       "78.99333333333333"
      ]
     },
     "execution_count": 56,
     "metadata": {},
     "output_type": "execute_result"
    }
   ],
   "source": [
    "(236.98/300) * 100"
   ]
  },
  {
   "cell_type": "code",
   "execution_count": 57,
   "metadata": {},
   "outputs": [],
   "source": [
    "temp_df = grant_request_df"
   ]
  },
  {
   "cell_type": "code",
   "execution_count": 58,
   "metadata": {},
   "outputs": [],
   "source": [
    "temp_df[\"grantStartTime\"] = temp_df[\"grantStartTime\"].astype(str)"
   ]
  },
  {
   "cell_type": "code",
   "execution_count": 59,
   "metadata": {},
   "outputs": [
    {
     "data": {
      "text/html": [
       "<div>\n",
       "<style scoped>\n",
       "    .dataframe tbody tr th:only-of-type {\n",
       "        vertical-align: middle;\n",
       "    }\n",
       "\n",
       "    .dataframe tbody tr th {\n",
       "        vertical-align: top;\n",
       "    }\n",
       "\n",
       "    .dataframe thead th {\n",
       "        text-align: right;\n",
       "    }\n",
       "</style>\n",
       "<table border=\"1\" class=\"dataframe\">\n",
       "  <thead>\n",
       "    <tr style=\"text-align: right;\">\n",
       "      <th></th>\n",
       "      <th>Time</th>\n",
       "      <th>NodeID</th>\n",
       "      <th>grantStartTime</th>\n",
       "      <th>selectedSubchannelIndex</th>\n",
       "    </tr>\n",
       "  </thead>\n",
       "  <tbody>\n",
       "    <tr>\n",
       "      <th>1422572</th>\n",
       "      <td>502.005387</td>\n",
       "      <td>94</td>\n",
       "      <td>502.018</td>\n",
       "      <td>2.0</td>\n",
       "    </tr>\n",
       "    <tr>\n",
       "      <th>1427030</th>\n",
       "      <td>502.012738</td>\n",
       "      <td>178</td>\n",
       "      <td>502.04</td>\n",
       "      <td>0.0</td>\n",
       "    </tr>\n",
       "    <tr>\n",
       "      <th>1436850</th>\n",
       "      <td>502.026407</td>\n",
       "      <td>50</td>\n",
       "      <td>502.041</td>\n",
       "      <td>1.0</td>\n",
       "    </tr>\n",
       "    <tr>\n",
       "      <th>1440625</th>\n",
       "      <td>502.030643</td>\n",
       "      <td>190</td>\n",
       "      <td>502.069</td>\n",
       "      <td>2.0</td>\n",
       "    </tr>\n",
       "    <tr>\n",
       "      <th>1444656</th>\n",
       "      <td>502.035304</td>\n",
       "      <td>174</td>\n",
       "      <td>502.092</td>\n",
       "      <td>0.0</td>\n",
       "    </tr>\n",
       "  </tbody>\n",
       "</table>\n",
       "</div>"
      ],
      "text/plain": [
       "               Time  NodeID grantStartTime  selectedSubchannelIndex\n",
       "1422572  502.005387      94        502.018                      2.0\n",
       "1427030  502.012738     178         502.04                      0.0\n",
       "1436850  502.026407      50        502.041                      1.0\n",
       "1440625  502.030643     190        502.069                      2.0\n",
       "1444656  502.035304     174        502.092                      0.0"
      ]
     },
     "execution_count": 59,
     "metadata": {},
     "output_type": "execute_result"
    }
   ],
   "source": [
    "temp_df.head()"
   ]
  },
  {
   "cell_type": "code",
   "execution_count": 60,
   "metadata": {},
   "outputs": [],
   "source": [
    "temp_df[\"grantStartTime\"] = temp_df[\"grantStartTime\"].str[5:]"
   ]
  },
  {
   "cell_type": "code",
   "execution_count": 61,
   "metadata": {},
   "outputs": [
    {
     "data": {
      "text/html": [
       "<div>\n",
       "<style scoped>\n",
       "    .dataframe tbody tr th:only-of-type {\n",
       "        vertical-align: middle;\n",
       "    }\n",
       "\n",
       "    .dataframe tbody tr th {\n",
       "        vertical-align: top;\n",
       "    }\n",
       "\n",
       "    .dataframe thead th {\n",
       "        text-align: right;\n",
       "    }\n",
       "</style>\n",
       "<table border=\"1\" class=\"dataframe\">\n",
       "  <thead>\n",
       "    <tr style=\"text-align: right;\">\n",
       "      <th></th>\n",
       "      <th>Time</th>\n",
       "      <th>NodeID</th>\n",
       "      <th>grantStartTime</th>\n",
       "      <th>selectedSubchannelIndex</th>\n",
       "    </tr>\n",
       "  </thead>\n",
       "  <tbody>\n",
       "    <tr>\n",
       "      <th>1422572</th>\n",
       "      <td>502.005387</td>\n",
       "      <td>94</td>\n",
       "      <td>18</td>\n",
       "      <td>2.0</td>\n",
       "    </tr>\n",
       "    <tr>\n",
       "      <th>1427030</th>\n",
       "      <td>502.012738</td>\n",
       "      <td>178</td>\n",
       "      <td>4</td>\n",
       "      <td>0.0</td>\n",
       "    </tr>\n",
       "    <tr>\n",
       "      <th>1436850</th>\n",
       "      <td>502.026407</td>\n",
       "      <td>50</td>\n",
       "      <td>41</td>\n",
       "      <td>1.0</td>\n",
       "    </tr>\n",
       "    <tr>\n",
       "      <th>1440625</th>\n",
       "      <td>502.030643</td>\n",
       "      <td>190</td>\n",
       "      <td>69</td>\n",
       "      <td>2.0</td>\n",
       "    </tr>\n",
       "    <tr>\n",
       "      <th>1444656</th>\n",
       "      <td>502.035304</td>\n",
       "      <td>174</td>\n",
       "      <td>92</td>\n",
       "      <td>0.0</td>\n",
       "    </tr>\n",
       "  </tbody>\n",
       "</table>\n",
       "</div>"
      ],
      "text/plain": [
       "               Time  NodeID grantStartTime  selectedSubchannelIndex\n",
       "1422572  502.005387      94             18                      2.0\n",
       "1427030  502.012738     178              4                      0.0\n",
       "1436850  502.026407      50             41                      1.0\n",
       "1440625  502.030643     190             69                      2.0\n",
       "1444656  502.035304     174             92                      0.0"
      ]
     },
     "execution_count": 61,
     "metadata": {},
     "output_type": "execute_result"
    }
   ],
   "source": [
    "temp_df.head()"
   ]
  },
  {
   "cell_type": "code",
   "execution_count": 62,
   "metadata": {},
   "outputs": [
    {
     "data": {
      "text/html": [
       "<div>\n",
       "<style scoped>\n",
       "    .dataframe tbody tr th:only-of-type {\n",
       "        vertical-align: middle;\n",
       "    }\n",
       "\n",
       "    .dataframe tbody tr th {\n",
       "        vertical-align: top;\n",
       "    }\n",
       "\n",
       "    .dataframe thead th {\n",
       "        text-align: right;\n",
       "    }\n",
       "</style>\n",
       "<table border=\"1\" class=\"dataframe\">\n",
       "  <thead>\n",
       "    <tr style=\"text-align: right;\">\n",
       "      <th></th>\n",
       "      <th>Time</th>\n",
       "      <th>NodeID</th>\n",
       "      <th>grantStartTime</th>\n",
       "      <th>selectedSubchannelIndex</th>\n",
       "    </tr>\n",
       "  </thead>\n",
       "  <tbody>\n",
       "    <tr>\n",
       "      <th>1422572</th>\n",
       "      <td>502.005387</td>\n",
       "      <td>94</td>\n",
       "      <td>18</td>\n",
       "      <td>2.0</td>\n",
       "    </tr>\n",
       "    <tr>\n",
       "      <th>1427030</th>\n",
       "      <td>502.012738</td>\n",
       "      <td>178</td>\n",
       "      <td>4</td>\n",
       "      <td>0.0</td>\n",
       "    </tr>\n",
       "    <tr>\n",
       "      <th>1436850</th>\n",
       "      <td>502.026407</td>\n",
       "      <td>50</td>\n",
       "      <td>41</td>\n",
       "      <td>1.0</td>\n",
       "    </tr>\n",
       "    <tr>\n",
       "      <th>1440625</th>\n",
       "      <td>502.030643</td>\n",
       "      <td>190</td>\n",
       "      <td>69</td>\n",
       "      <td>2.0</td>\n",
       "    </tr>\n",
       "    <tr>\n",
       "      <th>1444656</th>\n",
       "      <td>502.035304</td>\n",
       "      <td>174</td>\n",
       "      <td>92</td>\n",
       "      <td>0.0</td>\n",
       "    </tr>\n",
       "  </tbody>\n",
       "</table>\n",
       "</div>"
      ],
      "text/plain": [
       "               Time  NodeID grantStartTime  selectedSubchannelIndex\n",
       "1422572  502.005387      94             18                      2.0\n",
       "1427030  502.012738     178              4                      0.0\n",
       "1436850  502.026407      50             41                      1.0\n",
       "1440625  502.030643     190             69                      2.0\n",
       "1444656  502.035304     174             92                      0.0"
      ]
     },
     "execution_count": 62,
     "metadata": {},
     "output_type": "execute_result"
    }
   ],
   "source": [
    "temp_df.head()"
   ]
  },
  {
   "cell_type": "code",
   "execution_count": 63,
   "metadata": {},
   "outputs": [],
   "source": [
    "duplicateRowsDF = grant_request_df[grant_request_df.duplicated(['grantStartTime', \"selectedSubchannelIndex\"], keep=False)]"
   ]
  },
  {
   "cell_type": "code",
   "execution_count": 64,
   "metadata": {},
   "outputs": [
    {
     "data": {
      "text/html": [
       "<div>\n",
       "<style scoped>\n",
       "    .dataframe tbody tr th:only-of-type {\n",
       "        vertical-align: middle;\n",
       "    }\n",
       "\n",
       "    .dataframe tbody tr th {\n",
       "        vertical-align: top;\n",
       "    }\n",
       "\n",
       "    .dataframe thead th {\n",
       "        text-align: right;\n",
       "    }\n",
       "</style>\n",
       "<table border=\"1\" class=\"dataframe\">\n",
       "  <thead>\n",
       "    <tr style=\"text-align: right;\">\n",
       "      <th></th>\n",
       "      <th>Time</th>\n",
       "      <th>NodeID</th>\n",
       "      <th>grantStartTime</th>\n",
       "      <th>selectedSubchannelIndex</th>\n",
       "    </tr>\n",
       "  </thead>\n",
       "  <tbody>\n",
       "    <tr>\n",
       "      <th>2381215</th>\n",
       "      <td>502.971252</td>\n",
       "      <td>120</td>\n",
       "      <td></td>\n",
       "      <td>0.0</td>\n",
       "    </tr>\n",
       "    <tr>\n",
       "      <th>3995478</th>\n",
       "      <td>504.902461</td>\n",
       "      <td>166</td>\n",
       "      <td></td>\n",
       "      <td>0.0</td>\n",
       "    </tr>\n",
       "    <tr>\n",
       "      <th>4623636</th>\n",
       "      <td>505.598841</td>\n",
       "      <td>201</td>\n",
       "      <td></td>\n",
       "      <td>2.0</td>\n",
       "    </tr>\n",
       "    <tr>\n",
       "      <th>6425883</th>\n",
       "      <td>507.632165</td>\n",
       "      <td>100</td>\n",
       "      <td></td>\n",
       "      <td>1.0</td>\n",
       "    </tr>\n",
       "    <tr>\n",
       "      <th>6487474</th>\n",
       "      <td>507.699490</td>\n",
       "      <td>89</td>\n",
       "      <td></td>\n",
       "      <td>1.0</td>\n",
       "    </tr>\n",
       "    <tr>\n",
       "      <th>6790800</th>\n",
       "      <td>508.041444</td>\n",
       "      <td>38</td>\n",
       "      <td></td>\n",
       "      <td>2.0</td>\n",
       "    </tr>\n",
       "    <tr>\n",
       "      <th>7436166</th>\n",
       "      <td>508.768551</td>\n",
       "      <td>212</td>\n",
       "      <td></td>\n",
       "      <td>2.0</td>\n",
       "    </tr>\n",
       "    <tr>\n",
       "      <th>7475286</th>\n",
       "      <td>508.803718</td>\n",
       "      <td>25</td>\n",
       "      <td></td>\n",
       "      <td>0.0</td>\n",
       "    </tr>\n",
       "    <tr>\n",
       "      <th>9135988</th>\n",
       "      <td>510.676900</td>\n",
       "      <td>17</td>\n",
       "      <td></td>\n",
       "      <td>0.0</td>\n",
       "    </tr>\n",
       "    <tr>\n",
       "      <th>10000720</th>\n",
       "      <td>511.629302</td>\n",
       "      <td>87</td>\n",
       "      <td></td>\n",
       "      <td>1.0</td>\n",
       "    </tr>\n",
       "    <tr>\n",
       "      <th>1681168</th>\n",
       "      <td>502.298736</td>\n",
       "      <td>19</td>\n",
       "      <td>01</td>\n",
       "      <td>0.0</td>\n",
       "    </tr>\n",
       "    <tr>\n",
       "      <th>1726571</th>\n",
       "      <td>502.351105</td>\n",
       "      <td>239</td>\n",
       "      <td>01</td>\n",
       "      <td>1.0</td>\n",
       "    </tr>\n",
       "    <tr>\n",
       "      <th>3425610</th>\n",
       "      <td>504.261218</td>\n",
       "      <td>62</td>\n",
       "      <td>01</td>\n",
       "      <td>2.0</td>\n",
       "    </tr>\n",
       "    <tr>\n",
       "      <th>3987664</th>\n",
       "      <td>504.894383</td>\n",
       "      <td>16</td>\n",
       "      <td>01</td>\n",
       "      <td>1.0</td>\n",
       "    </tr>\n",
       "    <tr>\n",
       "      <th>5698054</th>\n",
       "      <td>506.802297</td>\n",
       "      <td>52</td>\n",
       "      <td>01</td>\n",
       "      <td>0.0</td>\n",
       "    </tr>\n",
       "    <tr>\n",
       "      <th>5993459</th>\n",
       "      <td>507.118761</td>\n",
       "      <td>163</td>\n",
       "      <td>01</td>\n",
       "      <td>1.0</td>\n",
       "    </tr>\n",
       "    <tr>\n",
       "      <th>6506102</th>\n",
       "      <td>507.721755</td>\n",
       "      <td>80</td>\n",
       "      <td>01</td>\n",
       "      <td>0.0</td>\n",
       "    </tr>\n",
       "    <tr>\n",
       "      <th>6616078</th>\n",
       "      <td>507.845540</td>\n",
       "      <td>63</td>\n",
       "      <td>01</td>\n",
       "      <td>1.0</td>\n",
       "    </tr>\n",
       "    <tr>\n",
       "      <th>7766697</th>\n",
       "      <td>509.140108</td>\n",
       "      <td>128</td>\n",
       "      <td>01</td>\n",
       "      <td>2.0</td>\n",
       "    </tr>\n",
       "    <tr>\n",
       "      <th>8780677</th>\n",
       "      <td>510.277911</td>\n",
       "      <td>12</td>\n",
       "      <td>01</td>\n",
       "      <td>2.0</td>\n",
       "    </tr>\n",
       "    <tr>\n",
       "      <th>10228976</th>\n",
       "      <td>511.905387</td>\n",
       "      <td>94</td>\n",
       "      <td>01</td>\n",
       "      <td>1.0</td>\n",
       "    </tr>\n",
       "    <tr>\n",
       "      <th>10309948</th>\n",
       "      <td>511.995966</td>\n",
       "      <td>187</td>\n",
       "      <td>01</td>\n",
       "      <td>2.0</td>\n",
       "    </tr>\n",
       "    <tr>\n",
       "      <th>3650197</th>\n",
       "      <td>504.483047</td>\n",
       "      <td>219</td>\n",
       "      <td>02</td>\n",
       "      <td>1.0</td>\n",
       "    </tr>\n",
       "    <tr>\n",
       "      <th>3724389</th>\n",
       "      <td>504.598114</td>\n",
       "      <td>7</td>\n",
       "      <td>02</td>\n",
       "      <td>1.0</td>\n",
       "    </tr>\n",
       "    <tr>\n",
       "      <th>4731529</th>\n",
       "      <td>505.717545</td>\n",
       "      <td>56</td>\n",
       "      <td>02</td>\n",
       "      <td>0.0</td>\n",
       "    </tr>\n",
       "    <tr>\n",
       "      <th>5322955</th>\n",
       "      <td>506.385565</td>\n",
       "      <td>90</td>\n",
       "      <td>02</td>\n",
       "      <td>2.0</td>\n",
       "    </tr>\n",
       "    <tr>\n",
       "      <th>5875768</th>\n",
       "      <td>507.014871</td>\n",
       "      <td>54</td>\n",
       "      <td>02</td>\n",
       "      <td>2.0</td>\n",
       "    </tr>\n",
       "    <tr>\n",
       "      <th>8102472</th>\n",
       "      <td>509.514941</td>\n",
       "      <td>215</td>\n",
       "      <td>02</td>\n",
       "      <td>0.0</td>\n",
       "    </tr>\n",
       "    <tr>\n",
       "      <th>9427978</th>\n",
       "      <td>511.004929</td>\n",
       "      <td>18</td>\n",
       "      <td>02</td>\n",
       "      <td>2.0</td>\n",
       "    </tr>\n",
       "    <tr>\n",
       "      <th>1681926</th>\n",
       "      <td>502.299490</td>\n",
       "      <td>89</td>\n",
       "      <td>03</td>\n",
       "      <td>1.0</td>\n",
       "    </tr>\n",
       "    <tr>\n",
       "      <th>...</th>\n",
       "      <td>...</td>\n",
       "      <td>...</td>\n",
       "      <td>...</td>\n",
       "      <td>...</td>\n",
       "    </tr>\n",
       "    <tr>\n",
       "      <th>4027444</th>\n",
       "      <td>504.938979</td>\n",
       "      <td>225</td>\n",
       "      <td>97</td>\n",
       "      <td>1.0</td>\n",
       "    </tr>\n",
       "    <tr>\n",
       "      <th>4062195</th>\n",
       "      <td>504.973883</td>\n",
       "      <td>58</td>\n",
       "      <td>97</td>\n",
       "      <td>1.0</td>\n",
       "    </tr>\n",
       "    <tr>\n",
       "      <th>5511037</th>\n",
       "      <td>506.598307</td>\n",
       "      <td>192</td>\n",
       "      <td>97</td>\n",
       "      <td>0.0</td>\n",
       "    </tr>\n",
       "    <tr>\n",
       "      <th>5648321</th>\n",
       "      <td>506.760509</td>\n",
       "      <td>134</td>\n",
       "      <td>97</td>\n",
       "      <td>2.0</td>\n",
       "    </tr>\n",
       "    <tr>\n",
       "      <th>6149372</th>\n",
       "      <td>507.321518</td>\n",
       "      <td>147</td>\n",
       "      <td>97</td>\n",
       "      <td>2.0</td>\n",
       "    </tr>\n",
       "    <tr>\n",
       "      <th>6597192</th>\n",
       "      <td>507.823581</td>\n",
       "      <td>117</td>\n",
       "      <td>97</td>\n",
       "      <td>1.0</td>\n",
       "    </tr>\n",
       "    <tr>\n",
       "      <th>9442328</th>\n",
       "      <td>511.021994</td>\n",
       "      <td>2</td>\n",
       "      <td>97</td>\n",
       "      <td>1.0</td>\n",
       "    </tr>\n",
       "    <tr>\n",
       "      <th>9823641</th>\n",
       "      <td>511.448544</td>\n",
       "      <td>142</td>\n",
       "      <td>97</td>\n",
       "      <td>0.0</td>\n",
       "    </tr>\n",
       "    <tr>\n",
       "      <th>9902585</th>\n",
       "      <td>511.532664</td>\n",
       "      <td>105</td>\n",
       "      <td>97</td>\n",
       "      <td>0.0</td>\n",
       "    </tr>\n",
       "    <tr>\n",
       "      <th>2233814</th>\n",
       "      <td>502.920336</td>\n",
       "      <td>240</td>\n",
       "      <td>98</td>\n",
       "      <td>1.0</td>\n",
       "    </tr>\n",
       "    <tr>\n",
       "      <th>2496565</th>\n",
       "      <td>503.211495</td>\n",
       "      <td>21</td>\n",
       "      <td>98</td>\n",
       "      <td>1.0</td>\n",
       "    </tr>\n",
       "    <tr>\n",
       "      <th>4488340</th>\n",
       "      <td>505.454105</td>\n",
       "      <td>226</td>\n",
       "      <td>98</td>\n",
       "      <td>2.0</td>\n",
       "    </tr>\n",
       "    <tr>\n",
       "      <th>4733967</th>\n",
       "      <td>505.727335</td>\n",
       "      <td>127</td>\n",
       "      <td>98</td>\n",
       "      <td>2.0</td>\n",
       "    </tr>\n",
       "    <tr>\n",
       "      <th>5433737</th>\n",
       "      <td>506.514398</td>\n",
       "      <td>24</td>\n",
       "      <td>98</td>\n",
       "      <td>1.0</td>\n",
       "    </tr>\n",
       "    <tr>\n",
       "      <th>7925757</th>\n",
       "      <td>509.316761</td>\n",
       "      <td>205</td>\n",
       "      <td>98</td>\n",
       "      <td>2.0</td>\n",
       "    </tr>\n",
       "    <tr>\n",
       "      <th>9245201</th>\n",
       "      <td>510.798736</td>\n",
       "      <td>19</td>\n",
       "      <td>98</td>\n",
       "      <td>1.0</td>\n",
       "    </tr>\n",
       "    <tr>\n",
       "      <th>9470529</th>\n",
       "      <td>511.053451</td>\n",
       "      <td>114</td>\n",
       "      <td>98</td>\n",
       "      <td>1.0</td>\n",
       "    </tr>\n",
       "    <tr>\n",
       "      <th>10140652</th>\n",
       "      <td>511.806676</td>\n",
       "      <td>91</td>\n",
       "      <td>98</td>\n",
       "      <td>1.0</td>\n",
       "    </tr>\n",
       "    <tr>\n",
       "      <th>10259188</th>\n",
       "      <td>511.942091</td>\n",
       "      <td>77</td>\n",
       "      <td>98</td>\n",
       "      <td>2.0</td>\n",
       "    </tr>\n",
       "    <tr>\n",
       "      <th>1520592</th>\n",
       "      <td>502.118420</td>\n",
       "      <td>39</td>\n",
       "      <td>99</td>\n",
       "      <td>1.0</td>\n",
       "    </tr>\n",
       "    <tr>\n",
       "      <th>1547278</th>\n",
       "      <td>502.150439</td>\n",
       "      <td>231</td>\n",
       "      <td>99</td>\n",
       "      <td>1.0</td>\n",
       "    </tr>\n",
       "    <tr>\n",
       "      <th>2217952</th>\n",
       "      <td>502.902297</td>\n",
       "      <td>52</td>\n",
       "      <td>99</td>\n",
       "      <td>2.0</td>\n",
       "    </tr>\n",
       "    <tr>\n",
       "      <th>2579021</th>\n",
       "      <td>503.298841</td>\n",
       "      <td>201</td>\n",
       "      <td>99</td>\n",
       "      <td>2.0</td>\n",
       "    </tr>\n",
       "    <tr>\n",
       "      <th>2756009</th>\n",
       "      <td>503.509127</td>\n",
       "      <td>158</td>\n",
       "      <td>99</td>\n",
       "      <td>0.0</td>\n",
       "    </tr>\n",
       "    <tr>\n",
       "      <th>5421617</th>\n",
       "      <td>506.496283</td>\n",
       "      <td>203</td>\n",
       "      <td>99</td>\n",
       "      <td>1.0</td>\n",
       "    </tr>\n",
       "    <tr>\n",
       "      <th>6287230</th>\n",
       "      <td>507.451674</td>\n",
       "      <td>133</td>\n",
       "      <td>99</td>\n",
       "      <td>2.0</td>\n",
       "    </tr>\n",
       "    <tr>\n",
       "      <th>6528266</th>\n",
       "      <td>507.747427</td>\n",
       "      <td>198</td>\n",
       "      <td>99</td>\n",
       "      <td>0.0</td>\n",
       "    </tr>\n",
       "    <tr>\n",
       "      <th>6552443</th>\n",
       "      <td>507.774201</td>\n",
       "      <td>170</td>\n",
       "      <td>99</td>\n",
       "      <td>2.0</td>\n",
       "    </tr>\n",
       "    <tr>\n",
       "      <th>7150988</th>\n",
       "      <td>508.447427</td>\n",
       "      <td>198</td>\n",
       "      <td>99</td>\n",
       "      <td>0.0</td>\n",
       "    </tr>\n",
       "    <tr>\n",
       "      <th>10010845</th>\n",
       "      <td>511.654105</td>\n",
       "      <td>226</td>\n",
       "      <td>99</td>\n",
       "      <td>0.0</td>\n",
       "    </tr>\n",
       "  </tbody>\n",
       "</table>\n",
       "<p>989 rows × 4 columns</p>\n",
       "</div>"
      ],
      "text/plain": [
       "                Time  NodeID grantStartTime  selectedSubchannelIndex\n",
       "2381215   502.971252     120                                     0.0\n",
       "3995478   504.902461     166                                     0.0\n",
       "4623636   505.598841     201                                     2.0\n",
       "6425883   507.632165     100                                     1.0\n",
       "6487474   507.699490      89                                     1.0\n",
       "6790800   508.041444      38                                     2.0\n",
       "7436166   508.768551     212                                     2.0\n",
       "7475286   508.803718      25                                     0.0\n",
       "9135988   510.676900      17                                     0.0\n",
       "10000720  511.629302      87                                     1.0\n",
       "1681168   502.298736      19             01                      0.0\n",
       "1726571   502.351105     239             01                      1.0\n",
       "3425610   504.261218      62             01                      2.0\n",
       "3987664   504.894383      16             01                      1.0\n",
       "5698054   506.802297      52             01                      0.0\n",
       "5993459   507.118761     163             01                      1.0\n",
       "6506102   507.721755      80             01                      0.0\n",
       "6616078   507.845540      63             01                      1.0\n",
       "7766697   509.140108     128             01                      2.0\n",
       "8780677   510.277911      12             01                      2.0\n",
       "10228976  511.905387      94             01                      1.0\n",
       "10309948  511.995966     187             01                      2.0\n",
       "3650197   504.483047     219             02                      1.0\n",
       "3724389   504.598114       7             02                      1.0\n",
       "4731529   505.717545      56             02                      0.0\n",
       "5322955   506.385565      90             02                      2.0\n",
       "5875768   507.014871      54             02                      2.0\n",
       "8102472   509.514941     215             02                      0.0\n",
       "9427978   511.004929      18             02                      2.0\n",
       "1681926   502.299490      89             03                      1.0\n",
       "...              ...     ...            ...                      ...\n",
       "4027444   504.938979     225             97                      1.0\n",
       "4062195   504.973883      58             97                      1.0\n",
       "5511037   506.598307     192             97                      0.0\n",
       "5648321   506.760509     134             97                      2.0\n",
       "6149372   507.321518     147             97                      2.0\n",
       "6597192   507.823581     117             97                      1.0\n",
       "9442328   511.021994       2             97                      1.0\n",
       "9823641   511.448544     142             97                      0.0\n",
       "9902585   511.532664     105             97                      0.0\n",
       "2233814   502.920336     240             98                      1.0\n",
       "2496565   503.211495      21             98                      1.0\n",
       "4488340   505.454105     226             98                      2.0\n",
       "4733967   505.727335     127             98                      2.0\n",
       "5433737   506.514398      24             98                      1.0\n",
       "7925757   509.316761     205             98                      2.0\n",
       "9245201   510.798736      19             98                      1.0\n",
       "9470529   511.053451     114             98                      1.0\n",
       "10140652  511.806676      91             98                      1.0\n",
       "10259188  511.942091      77             98                      2.0\n",
       "1520592   502.118420      39             99                      1.0\n",
       "1547278   502.150439     231             99                      1.0\n",
       "2217952   502.902297      52             99                      2.0\n",
       "2579021   503.298841     201             99                      2.0\n",
       "2756009   503.509127     158             99                      0.0\n",
       "5421617   506.496283     203             99                      1.0\n",
       "6287230   507.451674     133             99                      2.0\n",
       "6528266   507.747427     198             99                      0.0\n",
       "6552443   507.774201     170             99                      2.0\n",
       "7150988   508.447427     198             99                      0.0\n",
       "10010845  511.654105     226             99                      0.0\n",
       "\n",
       "[989 rows x 4 columns]"
      ]
     },
     "execution_count": 64,
     "metadata": {},
     "output_type": "execute_result"
    }
   ],
   "source": [
    "duplicateRowsDF.sort_values([\"grantStartTime\", \"Time\"])"
   ]
  },
  {
   "cell_type": "code",
   "execution_count": null,
   "metadata": {},
   "outputs": [],
   "source": []
  }
 ],
 "metadata": {
  "kernelspec": {
   "display_name": "Python [conda env:results-analysis]",
   "language": "python",
   "name": "conda-env-results-analysis-py"
  },
  "language_info": {
   "codemirror_mode": {
    "name": "ipython",
    "version": 3
   },
   "file_extension": ".py",
   "mimetype": "text/x-python",
   "name": "python",
   "nbconvert_exporter": "python",
   "pygments_lexer": "ipython3",
   "version": "3.7.3"
  }
 },
 "nbformat": 4,
 "nbformat_minor": 2
}
