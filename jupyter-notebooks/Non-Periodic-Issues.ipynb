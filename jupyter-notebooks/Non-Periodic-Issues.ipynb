{
 "cells": [
  {
   "cell_type": "markdown",
   "metadata": {},
   "source": [
    "# Non Periodic Issues\n",
    "\n",
    "The goal of this jupyter notebook is to find a good example of what I think is occuring. \n",
    "\n",
    "i.e. When we break grants a lot then we keep being pushed into selecting the same resource as others select which is a bad thing."
   ]
  },
  {
   "cell_type": "code",
   "execution_count": null,
   "metadata": {},
   "outputs": [],
   "source": [
    "%matplotlib inline\n",
    "\n",
    "import matplotlib\n",
    "import numpy as np\n",
    "import matplotlib.pyplot as plt\n",
    "import pandas as pd\n",
    "\n",
    "from matplotlib.ticker import FormatStrFormatter"
   ]
  },
  {
   "cell_type": "code",
   "execution_count": null,
   "metadata": {},
   "outputs": [],
   "source": [
    "import json\n",
    "import os\n",
    "import random"
   ]
  },
  {
   "cell_type": "code",
   "execution_count": null,
   "metadata": {},
   "outputs": [],
   "source": [
    "# JSON file containing the results for this simulation run\n",
    "results_file = \"/Users/brianmccarthy/git_repos/results-analysis/configs/cv2x.json\""
   ]
  },
  {
   "cell_type": "code",
   "execution_count": null,
   "metadata": {},
   "outputs": [],
   "source": [
    "figure_folder = \"../data/figures/\""
   ]
  },
  {
   "cell_type": "code",
   "execution_count": null,
   "metadata": {},
   "outputs": [],
   "source": [
    "with open(results_file) as results_json:\n",
    "    config = json.load(results_json)"
   ]
  },
  {
   "cell_type": "code",
   "execution_count": null,
   "metadata": {},
   "outputs": [],
   "source": [
    "# Markers to use for this run\n",
    "markers = [\".\", \"o\", \"v\", \"^\", \"<\", \">\", \"1\", \"2\", \"3\", \"4\", \"8\", \"s\", \"p\", \"P\", \"*\", \"h\",\n",
    "           \"H\", \"+\", \"x\", \"X\", \"D\", \"d\", \"|\", \"_\", 0, 1, 2, 3, 4, 5, 6, 7, 8, 9, 10, 11]"
   ]
  },
  {
   "cell_type": "code",
   "execution_count": null,
   "metadata": {},
   "outputs": [],
   "source": [
    "def create_bins(lower_bound, width, quantity):\n",
    "    \"\"\" create_bins returns an equal-width (distance) partitioning.\n",
    "        It returns an ascending list of tuples, representing the intervals.\n",
    "        A tuple bins[i], i.e. (bins[i][0], bins[i][1])  with i > 0\n",
    "        and i < quantity, satisfies the following conditions:\n",
    "            (1) bins[i][0] + width == bins[i][1]\n",
    "            (2) bins[i-1][0] + width == bins[i][0] and\n",
    "                bins[i-1][1] + width == bins[i][1]\n",
    "    \"\"\"\n",
    "    bins = []\n",
    "    for low in range(lower_bound, lower_bound + quantity * width + 1, width):\n",
    "        bins.append((low, low + width))\n",
    "    return bins"
   ]
  },
  {
   "cell_type": "code",
   "execution_count": null,
   "metadata": {},
   "outputs": [],
   "source": [
    "def bin_fields(df, fields, bin_width=10, bin_quantity=49):\n",
    "    \"\"\"\n",
    "    Bins multiple dfs into a single dictionary that can be used as an average for multiple fields across multiple\n",
    "    runs\n",
    "    :param df: dataframe to bin\n",
    "    :param fields: fields to be binned.\n",
    "    :param bin_width: width of each bin\n",
    "    :param bin_quantity: total number of bins\n",
    "    :return:\n",
    "    \"\"\"\n",
    "    bins = create_bins(lower_bound=0, width=bin_width, quantity=bin_quantity)\n",
    "    distances = []\n",
    "    overall_fields = {}\n",
    "    for interval in bins:\n",
    "        upper_b = interval[1]\n",
    "        distances.append(upper_b)\n",
    "\n",
    "    for field in fields:\n",
    "        print(\"{} being binned\".format(field))\n",
    "        overall_fields[field] = []\n",
    "\n",
    "    overall_fields[\"distance\"] = distances\n",
    "\n",
    "    distance_col = config[\"results\"][\"distance\"]\n",
    "\n",
    "    for i in range(len(bins)):\n",
    "        lower_b = bins[i][0]\n",
    "        upper_b = bins[i][1]\n",
    "        fields_temp = df[(df[distance_col] >= lower_b) & (df[distance_col] < upper_b)]\n",
    "        for field in fields:\n",
    "            if i < len(overall_fields[field]):\n",
    "                overall_fields[field][i] = (fields_temp[field].mean() + overall_fields[field][i]) / 2\n",
    "            else:\n",
    "                overall_fields[field].append(fields_temp[field].mean())\n",
    "\n",
    "    return overall_fields"
   ]
  },
  {
   "cell_type": "code",
   "execution_count": null,
   "metadata": {},
   "outputs": [],
   "source": [
    "def pdr_dist_individual(pdr, distances, label, plot_name, show=True, store=False):\n",
    "    fig, ax = plt.subplots()\n",
    "\n",
    "    ax.plot(distances, pdr, label=label, marker=markers[0], markevery=3)\n",
    "\n",
    "    ax.set(xlabel='Distance (m)', ylabel='Packet Delivery Rate (PDR) %')\n",
    "    ax.legend(loc='lower right')\n",
    "    ax.tick_params(direction='in')\n",
    "\n",
    "    ax.set_ylim([0, 100])\n",
    "    plt.yticks(np.arange(0, 101, step=10))\n",
    "\n",
    "    ax.set_xlim([0, (max(distances) + 1)])\n",
    "    plt.xticks(np.arange(0, (max(distances) + 1), step=50))\n",
    "\n",
    "    fig.suptitle(plot_name, fontsize=12)\n",
    "    \n",
    "    if show:\n",
    "        fig.show()\n",
    "        \n",
    "    if store:\n",
    "        fig.savefig(\"{}/{}.png\".format(figure_folder, plot_name), dpi=300)"
   ]
  },
  {
   "cell_type": "code",
   "execution_count": null,
   "metadata": {},
   "outputs": [],
   "source": [
    "def pdr_dist(pdrs, distances, labels, plot_name, show=True, store=False):\n",
    "    fig, ax = plt.subplots()\n",
    "\n",
    "    for i in range(len(pdrs)):\n",
    "        ax.plot(distances, pdrs[i], label=labels[i], marker=markers[i], markevery=3)\n",
    "\n",
    "    ax.set(xlabel='Distance (m)', ylabel='Packet Delivery Rate (PDR) %')\n",
    "    ax.legend(loc='lower right')\n",
    "    ax.tick_params(direction='in')\n",
    "    \n",
    "    ax.set_ylim([0, 100])\n",
    "    plt.yticks(np.arange(0, 101, step=10))\n",
    "\n",
    "    ax.set_xlim([0, (max(distances) + 1)])\n",
    "    plt.xticks(np.arange(0, (max(distances) + 1), step=50))\n",
    "\n",
    "    fig.suptitle(plot_name, fontsize=12)\n",
    "    \n",
    "    if show:\n",
    "        fig.show()\n",
    "        \n",
    "    if store:\n",
    "        fig.savefig(\"{}/{}.png\".format(figure_folder, plot_name), dpi=300)"
   ]
  },
  {
   "cell_type": "code",
   "execution_count": null,
   "metadata": {},
   "outputs": [],
   "source": [
    "def errors_dist_individual(distances, decoded, errors, error_labels, plot_name, show=True, store=False):\n",
    "    fig, ax = plt.subplots()\n",
    "\n",
    "    ax.plot(distances, decoded, label=\"Decoded\", marker=self.markers[0], markevery=3)\n",
    "\n",
    "    for i in range(len(errors)):\n",
    "        ax.plot(distances, errors[i], label=error_labels[i], marker=self.markers[i+1], markevery=3)\n",
    "\n",
    "    ax.legend(loc='center left')\n",
    "    ax.set(xlabel='Distance (m)', ylabel='Messages Decoded')\n",
    "    ax.tick_params(direction='in')\n",
    "\n",
    "    ax.set_ylim([0, 1])\n",
    "    plt.yticks(np.arange(0, 1.1, step=.1))\n",
    "\n",
    "    ax.set_xlim([0, (max(distances) + 1)])\n",
    "    plt.xticks(np.arange(0, (max(distances) + 1), step=50))\n",
    "\n",
    "    fig.suptitle(plot_name, fontsize=12)\n",
    "    \n",
    "    if show:\n",
    "        fig.show()\n",
    "\n",
    "    if store:\n",
    "        fig.savefig(\"{}/{}.png\".format(figure_folder, plot_name), dpi=300)"
   ]
  },
  {
   "cell_type": "code",
   "execution_count": null,
   "metadata": {},
   "outputs": [],
   "source": [
    "def errors_dist(distances, decoded, decoded_labels, errors, error_labels, plot_name, show=True, store=False):\n",
    "    fig, ax = plt.subplots()\n",
    "\n",
    "    for i in range(len(decoded)):\n",
    "        ax.plot(distances, decoded[i], label=decoded_labels[i], marker=self.markers[i], markevery=3)\n",
    "\n",
    "        for j in range(len(errors[i])):\n",
    "            ax.plot(distances, errors[i][j], label=error_labels[i][j], marker=self.markers[i + j])\n",
    "\n",
    "    ax.legend(loc='center left')\n",
    "    ax.set(xlabel='Distance (m)', ylabel='Messages Decoded')\n",
    "    ax.tick_params(direction='in')\n",
    "\n",
    "    ax.set_ylim([0, 1])\n",
    "    plt.yticks(np.arange(0, 1.1, step=.1))\n",
    "\n",
    "    ax.set_xlim([0, (max(distances) + 1)])\n",
    "    plt.xticks(np.arange(0, (max(distances) + 1), step=50))\n",
    "    \n",
    "    fig.suptitle(plot_name, fontsize=12)\n",
    "    \n",
    "    if show:\n",
    "        fig.show()\n",
    "        \n",
    "    if store:\n",
    "        fig.savefig(\"{}/{}.png\".format(figure_folder, plot_name), dpi=300)"
   ]
  },
  {
   "cell_type": "markdown",
   "metadata": {},
   "source": [
    "### CBR reporting"
   ]
  },
  {
   "cell_type": "code",
   "execution_count": null,
   "metadata": {},
   "outputs": [],
   "source": [
    "raw_data_folder = \"/Users/brianmccarthy/git_repos/results-analysis/data/raw_data/cv2x/DCC-Enabled\""
   ]
  },
  {
   "cell_type": "code",
   "execution_count": null,
   "metadata": {},
   "outputs": [],
   "source": [
    "first_file = True\n",
    "merged_df = pd.DataFrame()\n",
    "for file in os.listdir(raw_data_folder):\n",
    "    if \".csv\" in file:\n",
    "        result_file = raw_data_folder + \"/\" + file\n",
    "        if first_file:\n",
    "            merged_df = pd.read_csv(result_file)\n",
    "            first_file = False\n",
    "        else:\n",
    "            merged_df.append(pd.read_csv(result_file))"
   ]
  },
  {
   "cell_type": "code",
   "execution_count": null,
   "metadata": {},
   "outputs": [],
   "source": [
    "merged_df.plot(x=\"Time\", y=\"cbr\", kind=\"line\")"
   ]
  },
  {
   "cell_type": "markdown",
   "metadata": {},
   "source": [
    "Need to do some more checks, in much better shape than it was but still some issues here.\n",
    "\n",
    "- Primarily need to see why we have such a large fluctuation\n",
    "- Also have to look at why it is a little low, though it also is an average of all vehicles.\n",
    "- Might find min and max guys"
   ]
  },
  {
   "cell_type": "code",
   "execution_count": null,
   "metadata": {},
   "outputs": [],
   "source": [
    "node_23_df = merged_df[(merged_df[\"NodeID\"] == 23) & (merged_df[\"cbr\"] >= 0.0)]"
   ]
  },
  {
   "cell_type": "code",
   "execution_count": null,
   "metadata": {},
   "outputs": [],
   "source": [
    "node_23_df.plot(x=\"Time\", y=\"cbr\", kind=\"line\")"
   ]
  },
  {
   "cell_type": "markdown",
   "metadata": {},
   "source": [
    "Wild fluctuation is a major issue, need to investigate what the story is there\n",
    "\n",
    "Also extremely noisy, reducing the number of CBR reports is necessary, possibly sending it every 10ms or something like that will improve the quality. 100ms too wide a band."
   ]
  },
  {
   "cell_type": "code",
   "execution_count": null,
   "metadata": {},
   "outputs": [],
   "source": [
    "reduced_merged_df = merged_df[(merged_df[\"Time\"] >= 510) & (merged_df[\"Time\"] <= 511)]"
   ]
  },
  {
   "cell_type": "code",
   "execution_count": null,
   "metadata": {},
   "outputs": [],
   "source": [
    "reduced_merged_df.plot(x=\"Time\", y=\"cbr\", kind=\"line\")"
   ]
  },
  {
   "cell_type": "code",
   "execution_count": null,
   "metadata": {},
   "outputs": [],
   "source": [
    "print(\"mean: {}\".format(reduced_merged_df[\"cbr\"].mean()))\n",
    "print(\"std: {}\".format(reduced_merged_df[\"cbr\"].std()))\n",
    "print(\"median: {}\".format(reduced_merged_df[\"cbr\"].median()))"
   ]
  },
  {
   "cell_type": "code",
   "execution_count": null,
   "metadata": {},
   "outputs": [],
   "source": [
    "fig, ax = plt.subplots()\n",
    "\n",
    "ax.plot(node_23_df[\"Time\"], node_23_df[\"cbr\"], label=\"CBR\")\n",
    "\n",
    "ax.set(xlabel='Time (s)', ylabel='Channel Busy Ratio %')\n",
    "ax.legend(loc='lower left')\n",
    "ax.tick_params(direction='in')\n",
    "\n",
    "ax.set_ylim([0, 0.60])\n",
    "plt.yticks(np.arange(0, 0.61, step=0.05))\n",
    "\n",
    "ax.set_xlim([min(node_23_df[\"Time\"] + 2), (max(node_23_df[\"Time\"]))])\n",
    "plt.xticks(np.arange(min(node_23_df[\"Time\"] + 2), (max(node_23_df[\"Time\"]) + 1), step=1))\n",
    "\n",
    "fig.suptitle(\"CBR over time\", fontsize=12)\n",
    "plt.savefig(\"CBR_sci_info_record.png\", dpi=300)"
   ]
  },
  {
   "cell_type": "markdown",
   "metadata": {},
   "source": [
    "### Channel Usage"
   ]
  },
  {
   "cell_type": "code",
   "execution_count": null,
   "metadata": {},
   "outputs": [],
   "source": [
    "merged_df = merged_df[merged_df[\"Time\"] >= 502]"
   ]
  },
  {
   "cell_type": "code",
   "execution_count": null,
   "metadata": {},
   "outputs": [],
   "source": [
    "node_23_df = merged_df[(merged_df[\"NodeID\"] == 23)]"
   ]
  },
  {
   "cell_type": "code",
   "execution_count": null,
   "metadata": {},
   "outputs": [],
   "source": [
    "# node_23_df = merged_df"
   ]
  },
  {
   "cell_type": "code",
   "execution_count": null,
   "metadata": {},
   "outputs": [],
   "source": [
    "node_23_df[\"subchannelReceived\"] = np.where(node_23_df[\"sciFailedHalfDuplex\"].eq(1.0), -1.0, node_23_df[\"subchannelReceived\"])\n"
   ]
  },
  {
   "cell_type": "code",
   "execution_count": null,
   "metadata": {},
   "outputs": [],
   "source": [
    "node_23_df_reduced = node_23_df[(node_23_df[\"Time\"] >= 511.0) & (node_23_df[\"Time\"] <= 511.2)]"
   ]
  },
  {
   "cell_type": "code",
   "execution_count": null,
   "metadata": {},
   "outputs": [],
   "source": [
    "small_df = node_23_df_reduced"
   ]
  },
  {
   "cell_type": "code",
   "execution_count": null,
   "metadata": {},
   "outputs": [],
   "source": [
    "small_df = small_df.round({'Time': 3})"
   ]
  },
  {
   "cell_type": "code",
   "execution_count": null,
   "metadata": {},
   "outputs": [],
   "source": [
    "small_df[\"subchannelReceived\"] = small_df[\"subchannelReceived\"].fillna(-2)"
   ]
  },
  {
   "cell_type": "code",
   "execution_count": null,
   "metadata": {},
   "outputs": [],
   "source": [
    "group_df = small_df.groupby(\"Time\")[\"subchannelReceived\"].value_counts().unstack().fillna(0)"
   ]
  },
  {
   "cell_type": "code",
   "execution_count": null,
   "metadata": {},
   "outputs": [],
   "source": [
    "group_df.loc[group_df[-1.0] == 1, [0.0, 1.0, 2.0]] = -1"
   ]
  },
  {
   "cell_type": "code",
   "execution_count": null,
   "metadata": {},
   "outputs": [],
   "source": [
    "group_df = group_df[[0.0, 1.0, 2.0]]"
   ]
  },
  {
   "cell_type": "code",
   "execution_count": null,
   "metadata": {},
   "outputs": [],
   "source": [
    "group_df.head()"
   ]
  },
  {
   "cell_type": "code",
   "execution_count": null,
   "metadata": {},
   "outputs": [],
   "source": [
    "group_df = group_df.T"
   ]
  },
  {
   "cell_type": "code",
   "execution_count": null,
   "metadata": {},
   "outputs": [],
   "source": [
    "group_df.index"
   ]
  },
  {
   "cell_type": "code",
   "execution_count": null,
   "metadata": {},
   "outputs": [],
   "source": [
    "group_df.columns"
   ]
  },
  {
   "cell_type": "code",
   "execution_count": null,
   "metadata": {},
   "outputs": [],
   "source": [
    "group_df = group_df.astype(\"int\")"
   ]
  },
  {
   "cell_type": "code",
   "execution_count": null,
   "metadata": {},
   "outputs": [],
   "source": [
    "len(group_df.values[0])"
   ]
  },
  {
   "cell_type": "code",
   "execution_count": null,
   "metadata": {},
   "outputs": [],
   "source": [
    "np_xticks = np.arange(min(group_df.columns), max(group_df.columns), 0.01)"
   ]
  },
  {
   "cell_type": "code",
   "execution_count": null,
   "metadata": {},
   "outputs": [],
   "source": [
    "np_xticks = np.round(np_xticks, 2)"
   ]
  },
  {
   "cell_type": "code",
   "execution_count": null,
   "metadata": {},
   "outputs": [],
   "source": [
    "subframes = list(np.arange(len(group_df.columns), step=20))"
   ]
  },
  {
   "cell_type": "code",
   "execution_count": null,
   "metadata": {},
   "outputs": [],
   "source": [
    "fig, ax = plt.subplots(figsize=(100,30))\n",
    "im = ax.imshow(group_df.values, interpolation=\"nearest\")\n",
    "\n",
    "# We want to show all ticks...\n",
    "ax.set_xticks(np.arange(len(group_df.columns), step=20))\n",
    "ax.set_yticks(np.arange(len(group_df.index)))\n",
    "\n",
    "# ax.set_xticklabels(np_xticks)\n",
    "ax.set_xticklabels(np.array(group_df.columns)[subframes])\n",
    "\n",
    "for i in range(len(group_df.values)):\n",
    "    for j in range(len(group_df.values[i])):\n",
    "        if group_df.values[i,j] == -1:\n",
    "            text = ax.text(j, i, \"HD\", ha=\"center\", va=\"center\", color=\"red\")\n",
    "        elif group_df.values[i,j] == 0:\n",
    "            text= ax.text(j, i, 0, ha=\"center\", va=\"center\", color=\"Orange\")\n",
    "        else:\n",
    "            text = ax.text(j, i, group_df.values[i,j], ha=\"center\", va=\"center\", color=\"white\")\n",
    "\n",
    "# fig.tight_layout()\n",
    "plt.gcf().set_facecolor(\"black\")\n",
    "# fig.set_size_inches(600, 100, forward=True)\n",
    "plt.savefig(\"{}/Message_history.svg\".format(figure_folder))"
   ]
  },
  {
   "cell_type": "code",
   "execution_count": null,
   "metadata": {},
   "outputs": [],
   "source": [
    "merged_df.columns"
   ]
  },
  {
   "cell_type": "code",
   "execution_count": null,
   "metadata": {},
   "outputs": [],
   "source": [
    "merged_df.head()"
   ]
  },
  {
   "cell_type": "code",
   "execution_count": null,
   "metadata": {},
   "outputs": [],
   "source": [
    "grant_request_df = merged_df[(merged_df[\"grantStartTime\"] > 0) | (merged_df[\"grantBreakMissedTrans\"])][[\"Time\", \"NodeID\", \"grantStartTime\", \"selectedSubchannelIndex\", \"grantBreakMissedTrans\", \"grantBreakSize\"]]"
   ]
  },
  {
   "cell_type": "code",
   "execution_count": null,
   "metadata": {},
   "outputs": [],
   "source": [
    "grant_request_df[\"grantStartTime\"] = grant_request_df[\"grantStartTime\"].round(3)"
   ]
  },
  {
   "cell_type": "code",
   "execution_count": null,
   "metadata": {},
   "outputs": [],
   "source": [
    "grant_request_df.shape"
   ]
  },
  {
   "cell_type": "code",
   "execution_count": null,
   "metadata": {},
   "outputs": [],
   "source": [
    "group = grant_request_df.sort_values(\"grantStartTime\")"
   ]
  },
  {
   "cell_type": "code",
   "execution_count": null,
   "metadata": {},
   "outputs": [],
   "source": [
    "duplicateRowsDF = grant_request_df[grant_request_df.duplicated(['grantStartTime', \"selectedSubchannelIndex\"], keep=False)]"
   ]
  },
  {
   "cell_type": "code",
   "execution_count": null,
   "metadata": {},
   "outputs": [],
   "source": [
    "duplicateRowsDF = duplicateRowsDF.sort_values(\"grantStartTime\")"
   ]
  },
  {
   "cell_type": "code",
   "execution_count": null,
   "metadata": {},
   "outputs": [],
   "source": [
    "duplicateRowsDF.count()"
   ]
  },
  {
   "cell_type": "code",
   "execution_count": null,
   "metadata": {},
   "outputs": [],
   "source": [
    "grant_request_df.shape"
   ]
  },
  {
   "cell_type": "code",
   "execution_count": null,
   "metadata": {},
   "outputs": [],
   "source": [
    "duplicateRowsDF.shape"
   ]
  },
  {
   "cell_type": "code",
   "execution_count": null,
   "metadata": {},
   "outputs": [],
   "source": [
    "group_df[group_df==1].count().sum()"
   ]
  },
  {
   "cell_type": "code",
   "execution_count": null,
   "metadata": {},
   "outputs": [],
   "source": [
    "merged_df[merged_df[\"tbSent\"] > 0][\"tbSent\"].sum()"
   ]
  },
  {
   "cell_type": "code",
   "execution_count": null,
   "metadata": {},
   "outputs": [],
   "source": [
    "(23698/10)/10"
   ]
  },
  {
   "cell_type": "code",
   "execution_count": null,
   "metadata": {},
   "outputs": [],
   "source": [
    "(236.98/300) * 100"
   ]
  },
  {
   "cell_type": "code",
   "execution_count": null,
   "metadata": {},
   "outputs": [],
   "source": [
    "temp_df = grant_request_df"
   ]
  },
  {
   "cell_type": "code",
   "execution_count": null,
   "metadata": {},
   "outputs": [],
   "source": [
    "# temp_df[\"grantStartTime\"] = temp_df[\"grantStartTime\"].astype(str)"
   ]
  },
  {
   "cell_type": "code",
   "execution_count": null,
   "metadata": {},
   "outputs": [],
   "source": [
    "temp_df.head()"
   ]
  },
  {
   "cell_type": "code",
   "execution_count": null,
   "metadata": {},
   "outputs": [],
   "source": [
    "duplicateRowsDF = grant_request_df[grant_request_df.duplicated(['grantStartTime', \"selectedSubchannelIndex\"], keep=False)]"
   ]
  },
  {
   "cell_type": "code",
   "execution_count": null,
   "metadata": {},
   "outputs": [],
   "source": [
    "duplicateRowsDF = duplicateRowsDF.sort_values([\"grantStartTime\", \"selectedSubchannelIndex\", \"Time\"])"
   ]
  },
  {
   "cell_type": "markdown",
   "metadata": {},
   "source": [
    "## Random selection"
   ]
  },
  {
   "cell_type": "code",
   "execution_count": null,
   "metadata": {},
   "outputs": [],
   "source": [
    "def random_selection(raw_data_folder):    \n",
    "    files = os.listdir(raw_data_folder)\n",
    "    count = 0\n",
    "    file = \"\"\n",
    "    while \".csv\" not in file and count < len(files) * 10:\n",
    "        file = random.choice(files)\n",
    "        count += 1\n",
    "\n",
    "    result_file = raw_data_folder + \"/\" + file\n",
    "    print(\"Random result file selected: {} in {} selections\".format(result_file, count))\n",
    "    random_df = pd.read_csv(result_file)\n",
    "\n",
    "    # Reduce to the time we want which is from 502 onwards.\n",
    "    random_df = random_df[random_df[\"Time\"] >= 502]\n",
    "\n",
    "    node = np.random.choice(random_df[\"NodeID\"].unique(), 1)[0]\n",
    "#     print(\"Node: {}\".format(node))\n",
    "    \n",
    "    return random_df, node"
   ]
  },
  {
   "cell_type": "markdown",
   "metadata": {},
   "source": [
    "## CBR individual"
   ]
  },
  {
   "cell_type": "code",
   "execution_count": null,
   "metadata": {},
   "outputs": [],
   "source": [
    "def plot_cbr(dfs, labels, plot_name):\n",
    "\n",
    "    fig, ax = plt.subplots()\n",
    "\n",
    "    for i in range(len(dfs)):\n",
    "        df = dfs[i]\n",
    "        ax.plot(df[\"Time\"], df[\"cbr\"], label=labels[i])\n",
    "\n",
    "    ax.set(xlabel='Time (s)', ylabel='Channel Busy Ratio %')\n",
    "    ax.legend(loc='lower left')\n",
    "    ax.tick_params(direction='in')\n",
    "\n",
    "    ax.set_ylim([0, 1])\n",
    "    plt.yticks(np.arange(0, 1.1, step=0.1))\n",
    "\n",
    "    ax.set_xlim([min(df[\"Time\"]), (max(df[\"Time\"]))])\n",
    "    plt.xticks(np.arange(min(df[\"Time\"]), (max(df[\"Time\"]) + 1), step=1))\n",
    "\n",
    "    plt.savefig(\"{}/{}.png\".format(figure_folder, plot_name), dpi=300)"
   ]
  },
  {
   "cell_type": "code",
   "execution_count": null,
   "metadata": {},
   "outputs": [],
   "source": [
    "folder_path = \"/Users/brianmccarthy/git_repos/results-analysis/data/raw_data/cv2x/\"\n",
    "interested_folders = [\"NO-CC\", \"DCC-Enabled\", \"After-1\", \"After-5\", \"Highway-fast\", \"NO-CC-high-density\", \"After-1-high-density\", \"After-5-high-density\"]\n",
    "dfs = {}\n",
    "selected_node = False\n",
    "for folder in os.listdir(folder_path):\n",
    "    if folder in interested_folders:\n",
    "        result_path = folder_path + folder\n",
    "        random_df, node = random_selection(result_path)\n",
    "        if not selected_node:\n",
    "            selected_node = node\n",
    "            print(\"Selected Node: {}\".format(selected_node))\n",
    "        random_df = random_df[(random_df[\"NodeID\"] == selected_node) & (random_df[\"cbr\"].notnull())]\n",
    "        dfs[folder] = random_df[[\"Time\", \"cbr\"]]\n",
    "        "
   ]
  },
  {
   "cell_type": "code",
   "execution_count": null,
   "metadata": {},
   "outputs": [],
   "source": [
    "motivational_cbr = []\n",
    "motivational_cbr.append(dfs[\"Highway-fast\"])\n",
    "motivational_cbr.append(dfs[\"NO-CC\"])\n",
    "motivational_cbr.append(dfs[\"NO-CC-high-density\"])\n",
    "\n",
    "cbr_medium = []\n",
    "cbr_medium.append(dfs[\"DCC-Enabled\"])\n",
    "cbr_medium.append(dfs[\"NO-CC\"])\n",
    "cbr_medium.append(dfs[\"After-1\"])\n",
    "cbr_medium.append(dfs[\"After-5\"])\n",
    "\n",
    "cbr_high = []\n",
    "cbr_high.append(dfs[\"DCC-Enabled\"])\n",
    "cbr_high.append(dfs[\"NO-CC-high-density\"])\n",
    "cbr_high.append(dfs[\"After-1-high-density\"])\n",
    "cbr_high.append(dfs[\"After-5-high-density\"])"
   ]
  },
  {
   "cell_type": "code",
   "execution_count": null,
   "metadata": {},
   "outputs": [],
   "source": [
    "plot_cbr(motivational_cbr, [\"Highway Fast\", \"Medium Density\", \"High Density\"], \"motivationalCBR\")"
   ]
  },
  {
   "cell_type": "code",
   "execution_count": null,
   "metadata": {},
   "outputs": [],
   "source": [
    "plot_cbr(cbr_medium, [\"DCC Access\", \"No Congestion Control\", \"3GPP DCC Mechanism (CBR) - Immediate new grant\", \"3GPP DCC Mechanism (CBR) - 5 missed trans b4 new grant\"], \"medium-CBR\")"
   ]
  },
  {
   "cell_type": "code",
   "execution_count": null,
   "metadata": {},
   "outputs": [],
   "source": [
    "plot_cbr(cbr_high, [\"DCC Access\", \"No Congestion Control\", \"3GPP DCC Mechanism (CBR) - Immediate new grant\", \"3GPP DCC Mechanism (CBR) - 5 missed trans b4 new grant\"], \"high-CBR\")"
   ]
  },
  {
   "cell_type": "markdown",
   "metadata": {},
   "source": [
    "## Collisions issue\n",
    "\n",
    "Section includes code to generate the collision causes and what happens when a grant is generated."
   ]
  },
  {
   "cell_type": "code",
   "execution_count": null,
   "metadata": {},
   "outputs": [],
   "source": [
    "raw_data_folder = \"/Users/brianmccarthy/git_repos/results-analysis/data/raw_data/cv2x/DCC-Enabled\""
   ]
  },
  {
   "cell_type": "code",
   "execution_count": null,
   "metadata": {},
   "outputs": [],
   "source": [
    "def random_selection_grant(raw_data_folder):    \n",
    "    files = os.listdir(raw_data_folder)\n",
    "    count = 0\n",
    "    file = \"\"\n",
    "    while \".csv\" not in file and count < len(files) * 10:\n",
    "        file = random.choice(files)\n",
    "        count += 1\n",
    "\n",
    "    result_file = raw_data_folder + \"/\" + file\n",
    "    print(\"Random result file selected: {} in {} selections\".format(result_file, count))\n",
    "    random_df = pd.read_csv(result_file)\n",
    "\n",
    "    # Reduce to the time we want which is from 502 onwards.\n",
    "    random_df = random_df[random_df[\"Time\"] >= 502]\n",
    "\n",
    "    node = np.random.choice(random_df[\"NodeID\"].unique(), 1)[0]\n",
    "    print(\"Node: {}\".format(node))\n",
    "    subsection_df = random_df[random_df[\"NodeID\"] == node]\n",
    "    grant_time = np.random.choice(subsection_df[\"grantStartTime\"].unique(), 1)[0]\n",
    "    selectedSubchannel = subsection_df[subsection_df[\"grantStartTime\"] == grant_time][\"selectedSubchannelIndex\"]\n",
    "    selectedSubchannel = selectedSubchannel.get_values()[0]\n",
    "    print(\"Grant Time: {}, subchannel: {}\".format(grant_time, selectedSubchannel))\n",
    "    generated_time = subsection_df[subsection_df[\"grantStartTime\"] == grant_time][\"Time\"]\n",
    "    generated_time = generated_time.get_values()[0]\n",
    "    print(\"Time of generation: {}\".format(generated_time))\n",
    "    history_time = generated_time - 0.1\n",
    "    print(\"Minimum history time: {}\".format(history_time))\n",
    "    future_time = generated_time + 0.1\n",
    "    print(\"Maximum Future grant time: {}\".format(future_time))\n",
    "    \n",
    "    return random_df, node, generated_time, grant_time, selectedSubchannel, history_time, future_time"
   ]
  },
  {
   "cell_type": "code",
   "execution_count": null,
   "metadata": {},
   "outputs": [],
   "source": [
    "df, node, generated_time, grant_time, subchannel, history_time, future_time = random_selection_grant(raw_data_folder)"
   ]
  },
  {
   "cell_type": "code",
   "execution_count": null,
   "metadata": {},
   "outputs": [],
   "source": [
    "df[\"grantBreakMissedTrans\"].count()"
   ]
  },
  {
   "cell_type": "code",
   "execution_count": null,
   "metadata": {},
   "outputs": [],
   "source": [
    "df[\"grantBreak\"].count()"
   ]
  },
  {
   "cell_type": "code",
   "execution_count": null,
   "metadata": {},
   "outputs": [],
   "source": [
    "df[\"grantBreakSize\"].count()"
   ]
  },
  {
   "cell_type": "code",
   "execution_count": null,
   "metadata": {},
   "outputs": [],
   "source": [
    "df[\"grantStartTime\"].count()"
   ]
  },
  {
   "cell_type": "code",
   "execution_count": null,
   "metadata": {},
   "outputs": [],
   "source": [
    "subframeIndex = int((grant_time - generated_time)* 1000)"
   ]
  },
  {
   "cell_type": "code",
   "execution_count": null,
   "metadata": {},
   "outputs": [],
   "source": [
    "df = df[(df[\"Time\"] >= history_time) & (df[\"Time\"] <= future_time)]"
   ]
  },
  {
   "cell_type": "code",
   "execution_count": null,
   "metadata": {},
   "outputs": [],
   "source": [
    "df_removed = df.drop([\"generatedGrants\", \"grantBreak\", \"tbSent\", \"tbFailedDueToProp\", \"tbFailedDueToInterference\", \"missedTransmission\", \"grantStartTime\", \"grantBreakSize\", \"grantBreakMissedTrans\", \"sciFailedDueToInterference\", \"sciFailedDueToProp\", \"subchannelSent\", \"subchannelsUsedToSend\", \"selectedSubchannelIndex\", \"selectedNumSubchannels\", \"subchannelsUsed\", \"sciSent\"], axis=1)"
   ]
  },
  {
   "cell_type": "code",
   "execution_count": null,
   "metadata": {},
   "outputs": [],
   "source": [
    "df_removed = df_removed[df_removed[\"sciDecoded\"].notnull()]"
   ]
  },
  {
   "cell_type": "code",
   "execution_count": null,
   "metadata": {},
   "outputs": [],
   "source": [
    "for column in [\"tbDecoded\", \"tbFailedButSCIReceived\", \"tbFailedDueToNoSCI\", \"tbFailedHalfDuplex\", \"tbReceived\", \"txRxDistanceTB\"]:\n",
    "    df_removed[column].fillna(-1, inplace=True)"
   ]
  },
  {
   "cell_type": "code",
   "execution_count": null,
   "metadata": {},
   "outputs": [],
   "source": [
    "tb_df = df_removed.drop([\"cbr\", \"interPacketDelay\", \"posX\", \"posY\", \"senderID\",\"sciDecoded\",\"sciFailedHalfDuplex\",\"sciNotDecoded\",\"sciReceived\",\"subchannelReceived\",\"txRxDistanceSCI\"], axis=1)\n",
    "sci_df = df_removed.drop([\"tbDecoded\",\"tbFailedButSCIReceived\",\"tbFailedDueToNoSCI\",\"tbFailedHalfDuplex\",\"tbReceived\",\"txRxDistanceTB\"], axis=1)\n",
    "\n",
    "scis_with_tb = sci_df[sci_df[\"txRxDistanceSCI\"].isin(tb_df[\"txRxDistanceTB\"].unique())]\n",
    "tbs_there = tb_df[tb_df[\"tbDecoded\"] != -1]\n",
    "\n",
    "scis_without_tb = sci_df[~sci_df[\"txRxDistanceSCI\"].isin(tb_df[\"txRxDistanceTB\"].unique())]\n",
    "tbs_missing = tb_df[tb_df[\"tbDecoded\"] == -1]\n",
    "\n",
    "scis_with_tb = scis_with_tb.merge(tbs_there, left_on=[\"NodeID\", \"Time\", \"txRxDistanceSCI\"], right_on=[\"NodeID\", \"Time\", \"txRxDistanceTB\"])\n",
    "\n",
    "scis_without_tb_merge = scis_without_tb.merge(tbs_missing, how=\"right\", left_on=[\"NodeID\", \"Time\"], right_on=[\"NodeID\", \"Time\"])\n",
    "scis_without_tb_merge = scis_without_tb_merge.drop_duplicates(subset=\"txRxDistanceSCI\")\n",
    "\n",
    "df_removed = scis_without_tb_merge.append(scis_with_tb, sort=False)"
   ]
  },
  {
   "cell_type": "code",
   "execution_count": null,
   "metadata": {},
   "outputs": [],
   "source": [
    "subchannels = 3\n",
    "before_grant = []\n",
    "after_grant = []\n",
    "for i in range(subchannels):\n",
    "    before_grant.append([])\n",
    "    after_grant.append([])\n",
    "    \n",
    "before_grant_df = df_removed[df_removed[\"Time\"] <= generated_time]\n",
    "after_grant_df = df_removed[df_removed[\"Time\"] >= generated_time]\n",
    "\n",
    "# 0 = F\n",
    "# 1 = T\n",
    "time = round(history_time, 3)\n",
    "index = 0\n",
    "while time < generated_time:\n",
    "    # Fill in this subframe\n",
    "    for channel in before_grant:\n",
    "        channel.append(0)\n",
    "    filtered_df = before_grant_df[(before_grant_df[\"Time\"] == time) & (before_grant_df[\"NodeID\"] == node) & (before_grant_df[\"sciDecoded\"] == 1)]\n",
    "    if not filtered_df.empty:\n",
    "        subchs = filtered_df[\"subchannelReceived\"].values\n",
    "        tbDecods = filtered_df[\"tbDecoded\"].values\n",
    "        for i in range(len(tbDecods)):\n",
    "            if tbDecods[i] == 1:\n",
    "                before_grant[int(subchs[i])][index] = 1\n",
    "            elif tbDecods[i] == -1:\n",
    "                before_grant[int(subchs[i][index])] = 2\n",
    "    time = round(time + 0.001, 3)\n",
    "    index += 1\n",
    "\n",
    "# 0 = F -> F\n",
    "# 1 = T -> F\n",
    "# 2 = F -> T\n",
    "# 3 = T -> T\n",
    "# 4 = F -> M\n",
    "# 5 = T -> M\n",
    "# 6 = Selected\n",
    "time = round(generated_time, 3)\n",
    "index = 0\n",
    "while time < future_time:\n",
    "    # Fill in this subframe\n",
    "    for i in range(len(after_grant)):\n",
    "        if before_grant[i][index] == 0:\n",
    "            after_grant[i].append(0)\n",
    "        else:\n",
    "            after_grant[i].append(1)\n",
    "    filtered_df = after_grant_df[(after_grant_df[\"Time\"] == time) & (after_grant_df[\"NodeID\"] == node)]\n",
    "    if not filtered_df.empty:\n",
    "        subchs = filtered_df[\"subchannelReceived\"].values\n",
    "        tbDecods = filtered_df[\"tbDecoded\"].values\n",
    "        for i in range(len(tbDecods)):\n",
    "            if tbDecods[i] == 1 and before_grant[int(subchs[i])][index] == 0:\n",
    "                after_grant[int(subchs[i])][index] = 2\n",
    "            elif tbDecods[i] == 1 and before_grant[int(subchs[i])][index] == 1:\n",
    "                after_grant[int(subchs[i])][index] = 3\n",
    "            elif tbDecods[i] == 1 and before_grant[int(subchs[i])][index] == 2:\n",
    "                after_grant[int(subchs[i])][index] = 4\n",
    "            elif tbDecods[i] == -1 and before_grant[int(subchs[i])][index] == 0:\n",
    "                after_grant[int(subchs[i])][index] = 5\n",
    "            elif tbDecods[i] == -1 and before_grant[int(subchs[i])][index] == 1:\n",
    "                after_grant[int(subchs[i])][index] = 6\n",
    "            elif tbDecods[i] == -1 and before_grant[int(subchs[i])][index] == 2:\n",
    "                after_grant[int(subchs[i])][index] = 7\n",
    "                \n",
    "    if index == subframeIndex:\n",
    "        after_grant[int(subchannel)][index] = 6\n",
    "    time = round(time + 0.001, 3)\n",
    "    index += 1"
   ]
  },
  {
   "cell_type": "code",
   "execution_count": null,
   "metadata": {},
   "outputs": [],
   "source": [
    "after_grant_df[after_grant_df[\"NodeID\"] == 220][\"tbDecoded\"].unique()"
   ]
  },
  {
   "cell_type": "code",
   "execution_count": null,
   "metadata": {},
   "outputs": [],
   "source": [
    "print(len(before_grant), len(before_grant[0]))\n",
    "print(len(after_grant), len(after_grant[0]))"
   ]
  },
  {
   "cell_type": "code",
   "execution_count": null,
   "metadata": {},
   "outputs": [],
   "source": [
    "fig, ax = plt.subplots(figsize=(30, 3))\n",
    "im = ax.imshow(before_grant, interpolation=\"nearest\", cmap=plt.cm.Paired_r)\n",
    "\n",
    "# We want to show all ticks...\n",
    "ax.set_xticks(np.arange(len(before_grant[0]), step=20))\n",
    "ax.set_yticks(np.arange(len(before_grant)))\n",
    "\n",
    "# ax.set_xticklabels(np_xticks)\n",
    "# ax.set_xticklabels(np.array(before_grant)[subframes])\n",
    "\n",
    "for i in range(len(before_grant)):\n",
    "    for j in range(len(before_grant[i])):\n",
    "        if before_grant[i][j] == 1:\n",
    "            text = ax.text(j, i, \"T\", ha=\"center\", va=\"center\", color=\"Black\")\n",
    "        elif before_grant[i][j] == -1:\n",
    "            text = ax.text(j, i, \"M\", ha=\"center\", va=\"center\", color=\"Black\")\n",
    "        else:\n",
    "            text = ax.text(j, i, \"F\", ha=\"center\", va=\"center\", color=\"Black\")\n",
    "\n",
    "plt.gcf().set_facecolor(\"black\")\n",
    "plt.savefig(\"{}/{}.png\".format(figure_folder, \"test_history\"), dpi=300)"
   ]
  },
  {
   "cell_type": "code",
   "execution_count": null,
   "metadata": {},
   "outputs": [],
   "source": [
    "# 0 =  F -> F  = F\n",
    "# 1 =  T -> F  = R\n",
    "# 2 =  M -> T  = MT\n",
    "# 3 =  F -> T  = N\n",
    "# 4 =  T -> T  = T\n",
    "# 5 =  F -> M  = NM\n",
    "# 6 =  T -> M  = M\n",
    "# 7 =  M -> M  = MM\n",
    "# 8 = Selected = S\n",
    "\n",
    "fig, ax = plt.subplots(figsize=(30, 3))\n",
    "im = ax.imshow(after_grant, interpolation=\"nearest\", cmap=plt.cm.Paired_r)\n",
    "\n",
    "# We want to show all ticks...\n",
    "ax.set_xticks(np.arange(len(after_grant[0]), step=20))\n",
    "ax.set_yticks(np.arange(len(after_grant)))\n",
    "\n",
    "for i in range(len(after_grant)):\n",
    "    for j in range(len(after_grant[i])):\n",
    "        if after_grant[i][j] == 0:\n",
    "            text = ax.text(j, i, \"F\", ha=\"center\", va=\"center\", color=\"Black\")\n",
    "        elif after_grant[i][j] == 1:\n",
    "            text= ax.text(j, i, \"R\", ha=\"center\", va=\"center\", color=\"Black\")\n",
    "        elif after_grant[i][j] == 2:\n",
    "            text= ax.text(j, i, \"MT\", ha=\"center\", va=\"center\", color=\"Black\")\n",
    "        elif after_grant[i][j] == 3:\n",
    "            text= ax.text(j, i, \"N\", ha=\"center\", va=\"center\", color=\"Black\")\n",
    "        elif after_grant[i][j] == 4:\n",
    "            text= ax.text(j, i, \"N\", ha=\"center\", va=\"center\", color=\"Black\")\n",
    "        elif after_grant[i][j] == 5:\n",
    "            text= ax.text(j, i, \"T\", ha=\"center\", va=\"center\", color=\"Black\")\n",
    "        elif after_grant[i][j] == 6:\n",
    "            text= ax.text(j, i, \"NM\", ha=\"center\", va=\"center\", color=\"Black\")\n",
    "        elif after_grant[i][j] == 7:\n",
    "            text= ax.text(j, i, \"M\", ha=\"center\", va=\"center\", color=\"Black\")\n",
    "        elif after_grant[i][j] == 8:\n",
    "            text= ax.text(j, i, \"MM\", ha=\"center\", va=\"center\", color=\"Black\")\n",
    "        else:\n",
    "            text = ax.text(j, i, \"F\", ha=\"center\", va=\"center\", color=\"Black\")\n",
    "\n",
    "plt.gcf().set_facecolor(\"black\")\n",
    "plt.savefig(\"{}/{}.png\".format(figure_folder, \"test_future\"), dpi=300)"
   ]
  },
  {
   "cell_type": "code",
   "execution_count": null,
   "metadata": {},
   "outputs": [],
   "source": []
  }
 ],
 "metadata": {
  "kernelspec": {
   "display_name": "Python 3",
   "language": "python",
   "name": "python3"
  },
  "language_info": {
   "codemirror_mode": {
    "name": "ipython",
    "version": 3
   },
   "file_extension": ".py",
   "mimetype": "text/x-python",
   "name": "python",
   "nbconvert_exporter": "python",
   "pygments_lexer": "ipython3",
   "version": "3.7.3"
  }
 },
 "nbformat": 4,
 "nbformat_minor": 2
}
