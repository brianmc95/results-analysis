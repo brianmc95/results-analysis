{
 "cells": [
  {
   "cell_type": "code",
   "execution_count": 1,
   "metadata": {},
   "outputs": [],
   "source": [
    "%matplotlib inline\n",
    "\n",
    "import pandas as pd\n",
    "import numpy as np\n",
    "import os\n",
    "import datetime\n",
    "import json\n",
    "\n",
    "import matplotlib.pyplot as plt"
   ]
  },
  {
   "cell_type": "code",
   "execution_count": 2,
   "metadata": {},
   "outputs": [],
   "source": [
    "def parse_if_number(s):\n",
    "    try:\n",
    "        return float(s)\n",
    "    except:\n",
    "        return True if s == \"true\" else False if s == \"false\" else s if s else None"
   ]
  },
  {
   "cell_type": "code",
   "execution_count": 3,
   "metadata": {},
   "outputs": [],
   "source": [
    "def parse_ndarray(s):\n",
    "    return np.fromstring(s, sep=' ') if s else None"
   ]
  },
  {
   "cell_type": "code",
   "execution_count": 4,
   "metadata": {},
   "outputs": [],
   "source": [
    "def parse_vectime_vecvalue(df):\n",
    "\n",
    "    new_df = pd.DataFrame(columns=[\"Node\", \"Name\", \"Time\", \"Value\"])\n",
    "\n",
    "    names = []\n",
    "    nodes = []\n",
    "\n",
    "    count = 1\n",
    "\n",
    "    print(\"Parsing vector file\")\n",
    "\n",
    "    vectimes = np.array([])\n",
    "    vecvalues = np.array([])\n",
    "\n",
    "    df_len = len(df.index)\n",
    "\n",
    "    for index, row in df.iterrows():\n",
    "        names.append([row[2] for _ in range(len(row.vectime))])\n",
    "        nodes.append([row.node for _ in range(len(row.vectime))])\n",
    "        vectimes = np.concatenate((vectimes, row.vectime))\n",
    "        vecvalues = np.concatenate((vecvalues, row.vecvalue))\n",
    "\n",
    "        print(\"Processed row: {} of {}\".format(count, df_len))\n",
    "        count += 1\n",
    "        break\n",
    "\n",
    "    new_df = new_df.append({\"Node\": nodes, \"Name\": names, \"Time\": vectimes, \"Value\": vecvalues}, ignore_index=True)\n",
    "\n",
    "    return new_df"
   ]
  },
  {
   "cell_type": "code",
   "execution_count": 5,
   "metadata": {},
   "outputs": [],
   "source": [
    "def create_bins(lower_bound, width, quantity):\n",
    "    \"\"\" create_bins returns an equal-width (distance) partitioning. \n",
    "        It returns an ascending list of tuples, representing the intervals.\n",
    "        A tuple bins[i], i.e. (bins[i][0], bins[i][1])  with i > 0 \n",
    "        and i < quantity, satisfies the following conditions:\n",
    "            (1) bins[i][0] + width == bins[i][1]\n",
    "            (2) bins[i-1][0] + width == bins[i][0] and\n",
    "                bins[i-1][1] + width == bins[i][1]\n",
    "    \"\"\"\n",
    "    \n",
    "    bins = []\n",
    "    for low in range(lower_bound, \n",
    "                     lower_bound + quantity*width + 1, width):\n",
    "        bins.append((low, low+width))\n",
    "    return bins"
   ]
  },
  {
   "cell_type": "code",
   "execution_count": 31,
   "metadata": {},
   "outputs": [],
   "source": [
    "raw_results = \"/home/brian/results-analysis/data/raw_data/jakes-fading2.csv\"\n",
    "stats = \"/home/brian/results-analysis/configs/mode4-stats.json\""
   ]
  },
  {
   "cell_type": "code",
   "execution_count": 32,
   "metadata": {},
   "outputs": [
    {
     "name": "stdout",
     "output_type": "stream",
     "text": [
      "Loaded csv into DataFrame\n"
     ]
    }
   ],
   "source": [
    "raw_df = pd.read_csv(raw_results, converters={\n",
    "        \"attrvalue\": parse_if_number,\n",
    "        \"binedges\" : parse_ndarray,\n",
    "        \"binvalues\": parse_ndarray,\n",
    "        \"vectime\"  : parse_ndarray,\n",
    "        \"vecvalue\" : parse_ndarray})\n",
    "\n",
    "print(\"Loaded csv into DataFrame\")"
   ]
  },
  {
   "cell_type": "code",
   "execution_count": 33,
   "metadata": {},
   "outputs": [],
   "source": [
    "# It's likely this will change depending on the run/system\n",
    "# Might be worth investigating some form of alternative\n",
    "broken_module = raw_df['module'].str.split('.', 3, expand=True)\n",
    "\n",
    "raw_df[\"network\"] = broken_module[0]\n",
    "raw_df[\"node\"] = broken_module[1]\n",
    "raw_df[\"interface\"] = broken_module[2]\n",
    "raw_df[\"layer\"] = broken_module[3]\n",
    "\n",
    "raw_df = raw_df.drop(\"module\", axis=1)"
   ]
  },
  {
   "cell_type": "code",
   "execution_count": 34,
   "metadata": {},
   "outputs": [],
   "source": [
    "# Remove junk from common node names\n",
    "raw_df.node = raw_df.node.str.replace(\"node\", \"\")\n",
    "raw_df.node = raw_df.node.str.replace(\"[\", \"\")\n",
    "raw_df.node = raw_df.node.str.replace(\"]\", \"\")\n",
    "raw_df.node = raw_df.node.str.replace(\"car\", \"\")"
   ]
  },
  {
   "cell_type": "code",
   "execution_count": 35,
   "metadata": {},
   "outputs": [],
   "source": [
    "if stats:\n",
    "    with open(stats) as json_file:\n",
    "        data = json.load(json_file)\n",
    "        raw_df = raw_df[raw_df.name.isin(data[\"filtered_vectors\"]) | raw_df.name.isin(data[\"filtered_scalars\"])]\n",
    "        raw_df = raw_df.reset_index(drop=True)        "
   ]
  },
  {
   "cell_type": "code",
   "execution_count": 36,
   "metadata": {},
   "outputs": [],
   "source": [
    "# This will always remain the same for all runs.\n",
    "broken_run = raw_df['run'].str.split('-', 4, expand=True)\n",
    "\n",
    "raw_df[\"scenario\"] = broken_run[0]\n",
    "raw_df[\"run\"] = broken_run[1]\n",
    "raw_df[\"date\"] = broken_run[2]\n",
    "raw_df[\"time\"] = broken_run[3]\n",
    "raw_df[\"processId\"] = broken_run[4]"
   ]
  },
  {
   "cell_type": "code",
   "execution_count": 37,
   "metadata": {},
   "outputs": [],
   "source": [
    "runattr_df = raw_df[raw_df[\"type\"] == \"runattr\"]\n",
    "runattr_df = runattr_df.dropna(axis=1, how=\"all\")\n",
    "runattr_df = runattr_df.reset_index(drop=True)"
   ]
  },
  {
   "cell_type": "code",
   "execution_count": 38,
   "metadata": {},
   "outputs": [],
   "source": [
    "itervar_df = raw_df[raw_df[\"type\"] == \"itervar\"]\n",
    "itervar_df = itervar_df.dropna(axis=1, how=\"all\")\n",
    "itervar_df = itervar_df.reset_index(drop=True)"
   ]
  },
  {
   "cell_type": "code",
   "execution_count": 39,
   "metadata": {},
   "outputs": [],
   "source": [
    "param_df = raw_df[raw_df[\"type\"] == \"param\"]\n",
    "param_df = param_df.dropna(axis=1, how=\"all\")\n",
    "param_df = param_df.reset_index(drop=True)"
   ]
  },
  {
   "cell_type": "code",
   "execution_count": 40,
   "metadata": {},
   "outputs": [],
   "source": [
    "attr_df = raw_df[raw_df[\"type\"] == \"attr\"]\n",
    "attr_df = attr_df.dropna(axis=1, how=\"all\")\n",
    "attr_df = attr_df.reset_index(drop=True)"
   ]
  },
  {
   "cell_type": "code",
   "execution_count": 41,
   "metadata": {},
   "outputs": [],
   "source": [
    "scalar_df = raw_df[raw_df[\"type\"] == \"scalar\"]\n",
    "scalar_df = scalar_df.dropna(axis=1, how=\"all\")\n",
    "scalar_df = scalar_df.reset_index(drop=True)"
   ]
  },
  {
   "cell_type": "code",
   "execution_count": 42,
   "metadata": {},
   "outputs": [],
   "source": [
    "vector_df = raw_df[raw_df[\"type\"] == \"vector\"]\n",
    "vector_df = vector_df.dropna(axis=1, how=\"all\")\n",
    "vector_df = vector_df.reset_index(drop=True)"
   ]
  },
  {
   "cell_type": "markdown",
   "metadata": {},
   "source": [
    "### Different approach"
   ]
  },
  {
   "cell_type": "code",
   "execution_count": 43,
   "metadata": {},
   "outputs": [],
   "source": [
    "rows_we_want = vector_df.drop([\"run\", \"type\", \"network\", \"interface\", \"layer\", \"scenario\", \"date\", \"time\", \"processId\"], axis=1)\n",
    "rows_we_want = rows_we_want.reset_index(drop=True)"
   ]
  },
  {
   "cell_type": "code",
   "execution_count": 44,
   "metadata": {},
   "outputs": [],
   "source": [
    "lst_col = \"vectime\"\n",
    "vectime_split = pd.DataFrame({\n",
    "    col:np.repeat(rows_we_want[col].values, rows_we_want[lst_col].str.len())\n",
    "    for col in rows_we_want.columns.difference([lst_col])}).assign(**{lst_col:np.concatenate(rows_we_want[lst_col].values)})[rows_we_want.columns.tolist()]"
   ]
  },
  {
   "cell_type": "code",
   "execution_count": 45,
   "metadata": {},
   "outputs": [],
   "source": [
    "lst_col = \"vecvalue\"\n",
    "vecvalue_split = pd.DataFrame({\n",
    "    col:np.repeat(rows_we_want[col].values, rows_we_want[lst_col].str.len())\n",
    "    for col in rows_we_want.columns.difference([lst_col])}).assign(**{lst_col:np.concatenate(rows_we_want[lst_col].values)})[rows_we_want.columns.tolist()]"
   ]
  },
  {
   "cell_type": "code",
   "execution_count": 46,
   "metadata": {},
   "outputs": [],
   "source": [
    "vecvalue_split[\"vectime\"] = vectime_split[\"vectime\"]"
   ]
  },
  {
   "cell_type": "code",
   "execution_count": 47,
   "metadata": {},
   "outputs": [],
   "source": [
    "node_include_df = vecvalue_split"
   ]
  },
  {
   "cell_type": "code",
   "execution_count": 48,
   "metadata": {},
   "outputs": [],
   "source": [
    "node_filtered_df = node_include_df[node_include_df[\"name\"] == \"txRxDistanceTB:vector\"]"
   ]
  },
  {
   "cell_type": "code",
   "execution_count": 49,
   "metadata": {},
   "outputs": [],
   "source": [
    "node_filtered_df = node_filtered_df.reset_index(drop=True)"
   ]
  },
  {
   "cell_type": "code",
   "execution_count": 50,
   "metadata": {},
   "outputs": [],
   "source": [
    "received   = node_include_df[node_include_df[\"name\"] == \"tbsReceived:vector\"]\n",
    "failed_tb  = node_include_df[node_include_df[\"name\"] == \"tbFailedButSCIReceived:vector\"]\n",
    "failed_sci = node_include_df[node_include_df[\"name\"] == \"tbsFailedDueToNoSCI:vector\"]\n",
    "\n",
    "received = received.reset_index(drop=True)\n",
    "failed_sci = failed_sci.reset_index(drop=True)\n",
    "failed_tb = failed_tb.reset_index(drop=True)"
   ]
  },
  {
   "cell_type": "code",
   "execution_count": 51,
   "metadata": {},
   "outputs": [],
   "source": [
    "merged_df = pd.DataFrame()\n",
    "merged_df[\"time\"] = received[\"vectime\"]\n",
    "merged_df[\"distance\"] = node_filtered_df[\"vecvalue\"]\n",
    "merged_df[\"received\"] = received[\"vecvalue\"]\n",
    "merged_df[\"failed_tb\"] = failed_tb[\"vecvalue\"]\n",
    "merged_df[\"failed_sci\"] = failed_sci[\"vecvalue\"]\n",
    "merged_df[\"node\"] = node_filtered_df[\"node\"]"
   ]
  },
  {
   "cell_type": "code",
   "execution_count": 52,
   "metadata": {},
   "outputs": [],
   "source": [
    "merged_df[\"pdr\"] = (merged_df[\"received\"] - merged_df[\"failed_tb\"] - merged_df[\"failed_sci\"]/(merged_df[\"received\"])) * 100"
   ]
  },
  {
   "cell_type": "code",
   "execution_count": 53,
   "metadata": {},
   "outputs": [],
   "source": [
    "bins = create_bins(lower_bound=0, width=10, quantity=49)"
   ]
  },
  {
   "cell_type": "code",
   "execution_count": 54,
   "metadata": {},
   "outputs": [],
   "source": [
    "distances = []\n",
    "pdrs_highway_fast = []\n",
    "for interval in bins:\n",
    "    lower_b = interval[0]\n",
    "    upper_b = interval[1]\n",
    "    pdr_temp_highway_fast = merged_df[(merged_df[\"distance\"] >= lower_b) & (merged_df[\"distance\"] < upper_b)]\n",
    "    pdrs_highway_fast.append(pdr_temp_highway_fast[\"pdr\"].mean())\n",
    "    distances.append(upper_b)"
   ]
  },
  {
   "cell_type": "code",
   "execution_count": 55,
   "metadata": {},
   "outputs": [
    {
     "data": {
      "image/png": "[encoded data removed]",
      "text/plain": [
       "<Figure size 432x288 with 1 Axes>"
      ]
     },
     "metadata": {
      "needs_background": "light"
     },
     "output_type": "display_data"
    }
   ],
   "source": [
    "fig, ax = plt.subplots()\n",
    "ax.plot(distances, pdrs_highway_fast)\n",
    "ax.set(xlabel='Distance (m)', ylabel='Packet Delivery Rate',\n",
    "       title='CV2X Highway Fast scenario')\n",
    "ax.grid()\n",
    "\n",
    "fig.savefig(\"figures/highway_fast-rand-interference.png\")\n",
    "plt.show()"
   ]
  },
  {
   "cell_type": "markdown",
   "metadata": {},
   "source": [
    "### Average PRR"
   ]
  },
  {
   "cell_type": "code",
   "execution_count": 132,
   "metadata": {},
   "outputs": [],
   "source": [
    "prr_df = merged_df"
   ]
  },
  {
   "cell_type": "code",
   "execution_count": 133,
   "metadata": {},
   "outputs": [],
   "source": [
    "prr_df[\"notDecoded\"] = prr_df[\"failed_tb\"] + prr_df[\"failed_sci\"]"
   ]
  },
  {
   "cell_type": "code",
   "execution_count": 134,
   "metadata": {},
   "outputs": [],
   "source": [
    "prr_df = prr_df.drop(axis=1, columns=[\"failed_tb\", \"failed_sci\"])"
   ]
  },
  {
   "cell_type": "code",
   "execution_count": 135,
   "metadata": {},
   "outputs": [],
   "source": [
    "prr_df[\"prr\"] = prr_df[\"received\"] - prr_df[\"notDecoded\"]"
   ]
  },
  {
   "cell_type": "code",
   "execution_count": 136,
   "metadata": {},
   "outputs": [],
   "source": [
    "prr_df[\"node\"] = pd.to_numeric(prr_df[\"node\"])"
   ]
  },
  {
   "cell_type": "code",
   "execution_count": 137,
   "metadata": {},
   "outputs": [],
   "source": [
    "bins = create_bins(lower_bound=0, width=20, quantity=25)"
   ]
  },
  {
   "cell_type": "code",
   "execution_count": 138,
   "metadata": {},
   "outputs": [],
   "source": [
    "distances = []\n",
    "prrs = []\n",
    "for interval in bins:\n",
    "    lower_b = interval[0]\n",
    "    upper_b = interval[1]\n",
    "    prr_temp = prr_df[(prr_df[\"distance\"] >= lower_b) & (prr_df[\"distance\"] < upper_b)]\n",
    "    prrs.append(prr_temp[\"prr\"].mean())\n",
    "    distances.append(upper_b)"
   ]
  },
  {
   "cell_type": "code",
   "execution_count": 139,
   "metadata": {},
   "outputs": [
    {
     "data": {
      "image/png": "[encoded data removed]",
      "text/plain": [
       "<Figure size 432x288 with 1 Axes>"
      ]
     },
     "metadata": {
      "needs_background": "light"
     },
     "output_type": "display_data"
    }
   ],
   "source": [
    "fig, ax = plt.subplots()\n",
    "ax.plot(range(len(distances)), prrs)\n",
    "ax.set(xlabel='n', ylabel='Average PRR',\n",
    "       title='CV2X Highway Fast scenario')\n",
    "ax.set_ylim([0,1])\n",
    "ax.set_xlim([0,25])\n",
    "plt.yticks(np.arange(0, 1.1, step=0.1))\n",
    "plt.xticks(np.arange(0,26, step=1))\n",
    "ax.grid()\n",
    "\n",
    "fig.savefig(\"figures/highway_fast_rand_interference2.svg\")\n",
    "plt.show()"
   ]
  },
  {
   "cell_type": "markdown",
   "metadata": {},
   "source": [
    "### Finished fixing vector DF"
   ]
  },
  {
   "cell_type": "code",
   "execution_count": null,
   "metadata": {},
   "outputs": [],
   "source": [
    "vector_df = parse_vectime_vecvalue(vector_df)"
   ]
  },
  {
   "cell_type": "code",
   "execution_count": null,
   "metadata": {},
   "outputs": [],
   "source": [
    "now = datetime.datetime.now()\n",
    "if args.name != now:\n",
    "    directory = \"{}/{}-{}\".format(args.tidied_results, now.strftime(\"%Y-%m-%d_%H:%M\"), args.name)\n",
    "else:\n",
    "    directory = \"{}/{}\".format(args.tidied_results, now.strftime(\"%Y-%m-%d_%H:%M\"))\n",
    "\n",
    "os.mkdir(directory)\n",
    "\n",
    "runattr_df.to_csv(\"{}/{}\".format(directory, \"runattr.csv\"), index=False)\n",
    "itervar_df.to_csv(\"{}/{}\".format(directory, \"itervar.csv\"), index=False)\n",
    "param_df.to_csv(\"{}/{}\".format(directory, \"params.csv\"), index=False)\n",
    "attr_df.to_csv(\"{}/{}\".format(directory, \"attr.csv\"), index=False)\n",
    "vector_df.to_csv(\"{}/{}\".format(directory, \"vector.csv\"), index=False)\n",
    "scalar_df.to_csv(\"{}/{}\".format(directory, \"scalar.csv\"), index=False)"
   ]
  }
 ],
 "metadata": {
  "kernelspec": {
   "display_name": "Python 3",
   "language": "python",
   "name": "python3"
  },
  "language_info": {
   "codemirror_mode": {
    "name": "ipython",
    "version": 3
   },
   "file_extension": ".py",
   "mimetype": "text/x-python",
   "name": "python",
   "nbconvert_exporter": "python",
   "pygments_lexer": "ipython3",
   "version": "3.7.0"
  }
 },
 "nbformat": 4,
 "nbformat_minor": 2
}
