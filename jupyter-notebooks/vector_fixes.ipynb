{
 "cells": [
  {
   "cell_type": "code",
   "execution_count": 267,
   "metadata": {},
   "outputs": [],
   "source": [
    "%matplotlib inline\n",
    "\n",
    "import pandas as pd\n",
    "import numpy as np\n",
    "import os\n",
    "import datetime\n",
    "import json\n",
    "\n",
    "import matplotlib.pyplot as plt"
   ]
  },
  {
   "cell_type": "code",
   "execution_count": 268,
   "metadata": {},
   "outputs": [],
   "source": [
    "def parse_if_number(s):\n",
    "    try:\n",
    "        return float(s)\n",
    "    except:\n",
    "        return True if s == \"true\" else False if s == \"false\" else s if s else None"
   ]
  },
  {
   "cell_type": "code",
   "execution_count": 269,
   "metadata": {},
   "outputs": [],
   "source": [
    "def parse_ndarray(s):\n",
    "    return np.fromstring(s, sep=' ') if s else None"
   ]
  },
  {
   "cell_type": "code",
   "execution_count": 270,
   "metadata": {},
   "outputs": [],
   "source": [
    "def parse_vectime_vecvalue(df):\n",
    "\n",
    "    new_df = pd.DataFrame(columns=[\"Node\", \"Name\", \"Time\", \"Value\"])\n",
    "\n",
    "    names = []\n",
    "    nodes = []\n",
    "\n",
    "    count = 1\n",
    "\n",
    "    print(\"Parsing vector file\")\n",
    "\n",
    "    vectimes = np.array([])\n",
    "    vecvalues = np.array([])\n",
    "\n",
    "    df_len = len(df.index)\n",
    "\n",
    "    for index, row in df.iterrows():\n",
    "        names.append([row[2] for _ in range(len(row.vectime))])\n",
    "        nodes.append([row.node for _ in range(len(row.vectime))])\n",
    "        vectimes = np.concatenate((vectimes, row.vectime))\n",
    "        vecvalues = np.concatenate((vecvalues, row.vecvalue))\n",
    "\n",
    "        print(\"Processed row: {} of {}\".format(count, df_len))\n",
    "        count += 1\n",
    "        break\n",
    "\n",
    "    new_df = new_df.append({\"Node\": nodes, \"Name\": names, \"Time\": vectimes, \"Value\": vecvalues}, ignore_index=True)\n",
    "\n",
    "    return new_df"
   ]
  },
  {
   "cell_type": "code",
   "execution_count": 271,
   "metadata": {},
   "outputs": [],
   "source": [
    "def create_bins(lower_bound, width, quantity):\n",
    "    \"\"\" create_bins returns an equal-width (distance) partitioning. \n",
    "        It returns an ascending list of tuples, representing the intervals.\n",
    "        A tuple bins[i], i.e. (bins[i][0], bins[i][1])  with i > 0 \n",
    "        and i < quantity, satisfies the following conditions:\n",
    "            (1) bins[i][0] + width == bins[i][1]\n",
    "            (2) bins[i-1][0] + width == bins[i][0] and\n",
    "                bins[i-1][1] + width == bins[i][1]\n",
    "    \"\"\"\n",
    "    \n",
    "    bins = []\n",
    "    for low in range(lower_bound, \n",
    "                     lower_bound + quantity*width + 1, width):\n",
    "        bins.append((low, low+width))\n",
    "    return bins"
   ]
  },
  {
   "cell_type": "code",
   "execution_count": 350,
   "metadata": {},
   "outputs": [],
   "source": [
    "raw_results = \"/home/brian/results-analysis/data/raw_data/winner-no-interference2.csv\"\n",
    "stats = \"/home/brian/results-analysis/configs/mode4-stats.json\""
   ]
  },
  {
   "cell_type": "code",
   "execution_count": 351,
   "metadata": {},
   "outputs": [
    {
     "name": "stdout",
     "output_type": "stream",
     "text": [
      "Loaded csv into DataFrame\n"
     ]
    }
   ],
   "source": [
    "raw_df = pd.read_csv(raw_results, converters={\n",
    "        \"attrvalue\": parse_if_number,\n",
    "        \"binedges\" : parse_ndarray,\n",
    "        \"binvalues\": parse_ndarray,\n",
    "        \"vectime\"  : parse_ndarray,\n",
    "        \"vecvalue\" : parse_ndarray})\n",
    "\n",
    "print(\"Loaded csv into DataFrame\")"
   ]
  },
  {
   "cell_type": "code",
   "execution_count": 352,
   "metadata": {},
   "outputs": [],
   "source": [
    "reset_df = raw_df"
   ]
  },
  {
   "cell_type": "code",
   "execution_count": 353,
   "metadata": {},
   "outputs": [],
   "source": [
    "# Run when we want to reset the DF As the current being loaded in is large\n",
    "raw_df = reset_df"
   ]
  },
  {
   "cell_type": "code",
   "execution_count": 354,
   "metadata": {},
   "outputs": [],
   "source": [
    "# It's likely this will change depending on the run/system\n",
    "# Might be worth investigating some form of alternative\n",
    "broken_module = raw_df['module'].str.split('.', 3, expand=True)\n",
    "\n",
    "raw_df[\"network\"] = broken_module[0]\n",
    "raw_df[\"node\"] = broken_module[1]\n",
    "raw_df[\"interface\"] = broken_module[2]\n",
    "raw_df[\"layer\"] = broken_module[3]\n",
    "\n",
    "raw_df = raw_df.drop(\"module\", axis=1)"
   ]
  },
  {
   "cell_type": "code",
   "execution_count": 355,
   "metadata": {},
   "outputs": [],
   "source": [
    "# Remove junk from common node names\n",
    "raw_df.node = raw_df.node.str.replace(\"node\", \"\")\n",
    "raw_df.node = raw_df.node.str.replace(\"[\", \"\")\n",
    "raw_df.node = raw_df.node.str.replace(\"]\", \"\")\n",
    "raw_df.node = raw_df.node.str.replace(\"car\", \"\")"
   ]
  },
  {
   "cell_type": "code",
   "execution_count": 356,
   "metadata": {},
   "outputs": [],
   "source": [
    "if stats:\n",
    "    with open(stats) as json_file:\n",
    "        data = json.load(json_file)\n",
    "        raw_df = raw_df[raw_df.name.isin(data[\"filtered_vectors\"]) | raw_df.name.isin(data[\"filtered_scalars\"])]\n",
    "        raw_df = raw_df.reset_index(drop=True)        "
   ]
  },
  {
   "cell_type": "code",
   "execution_count": 357,
   "metadata": {},
   "outputs": [
    {
     "data": {
      "text/plain": [
       "array(['txRxDistance:mean', 'tbAndSCINotReceived:sum',\n",
       "       'tbFailedButSCIReceived:sum', 'tbsFailedDueToNoSCI:sum',\n",
       "       'tbsDecoded:sum', 'tbsReceived:sum', 'tbsSent:sum', 'scisSent:sum',\n",
       "       'scisNotDecoded:sum', 'scisDecoded:sum', 'scisReceived:sum',\n",
       "       'cbr:mean', 'scisSent:vector', 'tbsSent:vector',\n",
       "       'txRxDistance:vector', 'scisReceived:vector', 'scisDecoded:vector',\n",
       "       'scisNotDecoded:vector', 'tbsReceived:vector', 'tbsDecoded:vector',\n",
       "       'tbsFailedDueToNoSCI:vector', 'tbFailedButSCIReceived:vector'],\n",
       "      dtype=object)"
      ]
     },
     "execution_count": 357,
     "metadata": {},
     "output_type": "execute_result"
    }
   ],
   "source": [
    "raw_df.name.unique()"
   ]
  },
  {
   "cell_type": "code",
   "execution_count": 358,
   "metadata": {},
   "outputs": [],
   "source": [
    "# This will always remain the same for all runs.\n",
    "broken_run = raw_df['run'].str.split('-', 4, expand=True)\n",
    "\n",
    "raw_df[\"scenario\"] = broken_run[0]\n",
    "raw_df[\"run\"] = broken_run[1]\n",
    "raw_df[\"date\"] = broken_run[2]\n",
    "raw_df[\"time\"] = broken_run[3]\n",
    "raw_df[\"processId\"] = broken_run[4]"
   ]
  },
  {
   "cell_type": "code",
   "execution_count": 359,
   "metadata": {},
   "outputs": [],
   "source": [
    "runattr_df = raw_df[raw_df[\"type\"] == \"runattr\"]\n",
    "runattr_df = runattr_df.dropna(axis=1, how=\"all\")\n",
    "runattr_df = runattr_df.reset_index(drop=True)"
   ]
  },
  {
   "cell_type": "code",
   "execution_count": 360,
   "metadata": {},
   "outputs": [],
   "source": [
    "itervar_df = raw_df[raw_df[\"type\"] == \"itervar\"]\n",
    "itervar_df = itervar_df.dropna(axis=1, how=\"all\")\n",
    "itervar_df = itervar_df.reset_index(drop=True)"
   ]
  },
  {
   "cell_type": "code",
   "execution_count": 361,
   "metadata": {},
   "outputs": [],
   "source": [
    "param_df = raw_df[raw_df[\"type\"] == \"param\"]\n",
    "param_df = param_df.dropna(axis=1, how=\"all\")\n",
    "param_df = param_df.reset_index(drop=True)"
   ]
  },
  {
   "cell_type": "code",
   "execution_count": 362,
   "metadata": {},
   "outputs": [],
   "source": [
    "attr_df = raw_df[raw_df[\"type\"] == \"attr\"]\n",
    "attr_df = attr_df.dropna(axis=1, how=\"all\")\n",
    "attr_df = attr_df.reset_index(drop=True)"
   ]
  },
  {
   "cell_type": "code",
   "execution_count": 363,
   "metadata": {},
   "outputs": [],
   "source": [
    "scalar_df = raw_df[raw_df[\"type\"] == \"scalar\"]\n",
    "scalar_df = scalar_df.dropna(axis=1, how=\"all\")\n",
    "scalar_df = scalar_df.reset_index(drop=True)"
   ]
  },
  {
   "cell_type": "code",
   "execution_count": 364,
   "metadata": {},
   "outputs": [],
   "source": [
    "vector_df = raw_df[raw_df[\"type\"] == \"vector\"]\n",
    "vector_df = vector_df.dropna(axis=1, how=\"all\")\n",
    "vector_df = vector_df.reset_index(drop=True)"
   ]
  },
  {
   "cell_type": "markdown",
   "metadata": {},
   "source": [
    "### Different approach"
   ]
  },
  {
   "cell_type": "code",
   "execution_count": 365,
   "metadata": {},
   "outputs": [],
   "source": [
    "rows_we_want = vector_df.drop([\"run\", \"type\", \"network\", \"interface\", \"layer\", \"scenario\", \"date\", \"time\", \"processId\"], axis=1)\n",
    "rows_we_want = rows_we_want.reset_index(drop=True)"
   ]
  },
  {
   "cell_type": "code",
   "execution_count": 366,
   "metadata": {},
   "outputs": [],
   "source": [
    "lst_col = \"vectime\"\n",
    "test = pd.DataFrame({\n",
    "    col:np.repeat(rows_we_want[col].values, rows_we_want[lst_col].str.len())\n",
    "    for col in rows_we_want.columns.difference([lst_col])}).assign(**{lst_col:np.concatenate(rows_we_want[lst_col].values)})[rows_we_want.columns.tolist()]"
   ]
  },
  {
   "cell_type": "code",
   "execution_count": 367,
   "metadata": {},
   "outputs": [],
   "source": [
    "vecvalue_split = test"
   ]
  },
  {
   "cell_type": "code",
   "execution_count": 368,
   "metadata": {},
   "outputs": [],
   "source": [
    "lst_col = \"vecvalue\"\n",
    "testB = pd.DataFrame({\n",
    "    col:np.repeat(rows_we_want[col].values, rows_we_want[lst_col].str.len())\n",
    "    for col in rows_we_want.columns.difference([lst_col])}).assign(**{lst_col:np.concatenate(rows_we_want[lst_col].values)})[rows_we_want.columns.tolist()]"
   ]
  },
  {
   "cell_type": "code",
   "execution_count": 369,
   "metadata": {},
   "outputs": [],
   "source": [
    "testB[\"vectime\"] = test[\"vectime\"]"
   ]
  },
  {
   "cell_type": "code",
   "execution_count": 370,
   "metadata": {},
   "outputs": [],
   "source": [
    "node_include_df = testB"
   ]
  },
  {
   "cell_type": "code",
   "execution_count": 371,
   "metadata": {},
   "outputs": [
    {
     "data": {
      "text/plain": [
       "(24342909, 4)"
      ]
     },
     "execution_count": 371,
     "metadata": {},
     "output_type": "execute_result"
    }
   ],
   "source": [
    "node_include_df.shape"
   ]
  },
  {
   "cell_type": "code",
   "execution_count": 372,
   "metadata": {},
   "outputs": [
    {
     "data": {
      "text/html": [
       "<div>\n",
       "<style scoped>\n",
       "    .dataframe tbody tr th:only-of-type {\n",
       "        vertical-align: middle;\n",
       "    }\n",
       "\n",
       "    .dataframe tbody tr th {\n",
       "        vertical-align: top;\n",
       "    }\n",
       "\n",
       "    .dataframe thead th {\n",
       "        text-align: right;\n",
       "    }\n",
       "</style>\n",
       "<table border=\"1\" class=\"dataframe\">\n",
       "  <thead>\n",
       "    <tr style=\"text-align: right;\">\n",
       "      <th></th>\n",
       "      <th>name</th>\n",
       "      <th>vectime</th>\n",
       "      <th>vecvalue</th>\n",
       "      <th>node</th>\n",
       "    </tr>\n",
       "  </thead>\n",
       "  <tbody>\n",
       "    <tr>\n",
       "      <th>0</th>\n",
       "      <td>scisSent:vector</td>\n",
       "      <td>201.102</td>\n",
       "      <td>1.0</td>\n",
       "      <td>34</td>\n",
       "    </tr>\n",
       "    <tr>\n",
       "      <th>1</th>\n",
       "      <td>scisSent:vector</td>\n",
       "      <td>201.202</td>\n",
       "      <td>1.0</td>\n",
       "      <td>34</td>\n",
       "    </tr>\n",
       "    <tr>\n",
       "      <th>2</th>\n",
       "      <td>scisSent:vector</td>\n",
       "      <td>201.302</td>\n",
       "      <td>1.0</td>\n",
       "      <td>34</td>\n",
       "    </tr>\n",
       "    <tr>\n",
       "      <th>3</th>\n",
       "      <td>scisSent:vector</td>\n",
       "      <td>201.402</td>\n",
       "      <td>1.0</td>\n",
       "      <td>34</td>\n",
       "    </tr>\n",
       "    <tr>\n",
       "      <th>4</th>\n",
       "      <td>scisSent:vector</td>\n",
       "      <td>201.502</td>\n",
       "      <td>1.0</td>\n",
       "      <td>34</td>\n",
       "    </tr>\n",
       "  </tbody>\n",
       "</table>\n",
       "</div>"
      ],
      "text/plain": [
       "              name  vectime  vecvalue node\n",
       "0  scisSent:vector  201.102       1.0   34\n",
       "1  scisSent:vector  201.202       1.0   34\n",
       "2  scisSent:vector  201.302       1.0   34\n",
       "3  scisSent:vector  201.402       1.0   34\n",
       "4  scisSent:vector  201.502       1.0   34"
      ]
     },
     "execution_count": 372,
     "metadata": {},
     "output_type": "execute_result"
    }
   ],
   "source": [
    "node_include_df.head()"
   ]
  },
  {
   "cell_type": "code",
   "execution_count": 373,
   "metadata": {},
   "outputs": [],
   "source": [
    "node_filtered_df = node_include_df[node_include_df[\"name\"] == \"txRxDistance:vector\"]"
   ]
  },
  {
   "cell_type": "code",
   "execution_count": 375,
   "metadata": {},
   "outputs": [
    {
     "data": {
      "text/plain": [
       "(2701641, 4)"
      ]
     },
     "execution_count": 375,
     "metadata": {},
     "output_type": "execute_result"
    }
   ],
   "source": [
    "node_filtered_df.head()\n",
    "node_filtered_df = node_filtered_df.iloc[::2, :]\n",
    "node_filtered_df.shape"
   ]
  },
  {
   "cell_type": "code",
   "execution_count": 374,
   "metadata": {},
   "outputs": [],
   "source": [
    "node_filtered_df.head()\n",
    "node_filtered_df = node_filtered_df.reset_index(drop=True)"
   ]
  },
  {
   "cell_type": "code",
   "execution_count": 376,
   "metadata": {},
   "outputs": [],
   "source": [
    "received   = node_include_df[node_include_df[\"name\"] == \"tbsReceived:vector\"]\n",
    "failed_tb  = node_include_df[node_include_df[\"name\"] == \"tbFailedButSCIReceived:vector\"]\n",
    "failed_sci = node_include_df[node_include_df[\"name\"] == \"tbsFailedDueToNoSCI:vector\"]\n",
    "\n",
    "received = received.reset_index(drop=True)\n",
    "failed_sci = failed_sci.reset_index(drop=True)\n",
    "failed_tb = failed_tb.reset_index(drop=True)"
   ]
  },
  {
   "cell_type": "code",
   "execution_count": 377,
   "metadata": {},
   "outputs": [],
   "source": [
    "merged_df = pd.DataFrame()\n",
    "merged_df[\"time\"] = received[\"vectime\"]\n",
    "merged_df[\"distance\"] = node_filtered_df[\"vecvalue\"]\n",
    "merged_df[\"received\"] = received[\"vecvalue\"]\n",
    "merged_df[\"failed_tb\"] = failed_tb[\"vecvalue\"]\n",
    "merged_df[\"failed_sci\"] = failed_sci[\"vecvalue\"]"
   ]
  },
  {
   "cell_type": "code",
   "execution_count": 378,
   "metadata": {},
   "outputs": [
    {
     "data": {
      "text/html": [
       "<div>\n",
       "<style scoped>\n",
       "    .dataframe tbody tr th:only-of-type {\n",
       "        vertical-align: middle;\n",
       "    }\n",
       "\n",
       "    .dataframe tbody tr th {\n",
       "        vertical-align: top;\n",
       "    }\n",
       "\n",
       "    .dataframe thead th {\n",
       "        text-align: right;\n",
       "    }\n",
       "</style>\n",
       "<table border=\"1\" class=\"dataframe\">\n",
       "  <thead>\n",
       "    <tr style=\"text-align: right;\">\n",
       "      <th></th>\n",
       "      <th>time</th>\n",
       "      <th>distance</th>\n",
       "      <th>received</th>\n",
       "      <th>failed_tb</th>\n",
       "      <th>failed_sci</th>\n",
       "    </tr>\n",
       "  </thead>\n",
       "  <tbody>\n",
       "    <tr>\n",
       "      <th>0</th>\n",
       "      <td>201.103</td>\n",
       "      <td>134.908073</td>\n",
       "      <td>1.0</td>\n",
       "      <td>0.0</td>\n",
       "      <td>0.0</td>\n",
       "    </tr>\n",
       "    <tr>\n",
       "      <th>1</th>\n",
       "      <td>201.106</td>\n",
       "      <td>NaN</td>\n",
       "      <td>1.0</td>\n",
       "      <td>0.0</td>\n",
       "      <td>0.0</td>\n",
       "    </tr>\n",
       "    <tr>\n",
       "      <th>2</th>\n",
       "      <td>201.107</td>\n",
       "      <td>90.627206</td>\n",
       "      <td>1.0</td>\n",
       "      <td>0.0</td>\n",
       "      <td>0.0</td>\n",
       "    </tr>\n",
       "    <tr>\n",
       "      <th>3</th>\n",
       "      <td>201.107</td>\n",
       "      <td>NaN</td>\n",
       "      <td>1.0</td>\n",
       "      <td>0.0</td>\n",
       "      <td>0.0</td>\n",
       "    </tr>\n",
       "    <tr>\n",
       "      <th>4</th>\n",
       "      <td>201.108</td>\n",
       "      <td>1911.592181</td>\n",
       "      <td>1.0</td>\n",
       "      <td>0.0</td>\n",
       "      <td>0.0</td>\n",
       "    </tr>\n",
       "  </tbody>\n",
       "</table>\n",
       "</div>"
      ],
      "text/plain": [
       "      time     distance  received  failed_tb  failed_sci\n",
       "0  201.103   134.908073       1.0        0.0         0.0\n",
       "1  201.106          NaN       1.0        0.0         0.0\n",
       "2  201.107    90.627206       1.0        0.0         0.0\n",
       "3  201.107          NaN       1.0        0.0         0.0\n",
       "4  201.108  1911.592181       1.0        0.0         0.0"
      ]
     },
     "execution_count": 378,
     "metadata": {},
     "output_type": "execute_result"
    }
   ],
   "source": [
    "merged_df.head()"
   ]
  },
  {
   "cell_type": "code",
   "execution_count": 379,
   "metadata": {},
   "outputs": [
    {
     "data": {
      "text/html": [
       "<div>\n",
       "<style scoped>\n",
       "    .dataframe tbody tr th:only-of-type {\n",
       "        vertical-align: middle;\n",
       "    }\n",
       "\n",
       "    .dataframe tbody tr th {\n",
       "        vertical-align: top;\n",
       "    }\n",
       "\n",
       "    .dataframe thead th {\n",
       "        text-align: right;\n",
       "    }\n",
       "</style>\n",
       "<table border=\"1\" class=\"dataframe\">\n",
       "  <thead>\n",
       "    <tr style=\"text-align: right;\">\n",
       "      <th></th>\n",
       "      <th>time</th>\n",
       "      <th>distance</th>\n",
       "      <th>received</th>\n",
       "      <th>failed_tb</th>\n",
       "      <th>failed_sci</th>\n",
       "    </tr>\n",
       "  </thead>\n",
       "  <tbody>\n",
       "    <tr>\n",
       "      <th>count</th>\n",
       "      <td>2.701641e+06</td>\n",
       "      <td>1.350821e+06</td>\n",
       "      <td>2701641.0</td>\n",
       "      <td>2.701641e+06</td>\n",
       "      <td>2.701641e+06</td>\n",
       "    </tr>\n",
       "    <tr>\n",
       "      <th>mean</th>\n",
       "      <td>2.056030e+02</td>\n",
       "      <td>9.275300e+02</td>\n",
       "      <td>1.0</td>\n",
       "      <td>5.182036e-06</td>\n",
       "      <td>2.348943e-03</td>\n",
       "    </tr>\n",
       "    <tr>\n",
       "      <th>std</th>\n",
       "      <td>2.588515e+00</td>\n",
       "      <td>6.520801e+02</td>\n",
       "      <td>0.0</td>\n",
       "      <td>2.276403e-03</td>\n",
       "      <td>4.840895e-02</td>\n",
       "    </tr>\n",
       "    <tr>\n",
       "      <th>min</th>\n",
       "      <td>2.011030e+02</td>\n",
       "      <td>4.000101e+00</td>\n",
       "      <td>1.0</td>\n",
       "      <td>0.000000e+00</td>\n",
       "      <td>0.000000e+00</td>\n",
       "    </tr>\n",
       "    <tr>\n",
       "      <th>25%</th>\n",
       "      <td>2.032940e+02</td>\n",
       "      <td>3.724385e+02</td>\n",
       "      <td>1.0</td>\n",
       "      <td>0.000000e+00</td>\n",
       "      <td>0.000000e+00</td>\n",
       "    </tr>\n",
       "    <tr>\n",
       "      <th>50%</th>\n",
       "      <td>2.056620e+02</td>\n",
       "      <td>8.221052e+02</td>\n",
       "      <td>1.0</td>\n",
       "      <td>0.000000e+00</td>\n",
       "      <td>0.000000e+00</td>\n",
       "    </tr>\n",
       "    <tr>\n",
       "      <th>75%</th>\n",
       "      <td>2.078840e+02</td>\n",
       "      <td>1.377197e+03</td>\n",
       "      <td>1.0</td>\n",
       "      <td>0.000000e+00</td>\n",
       "      <td>0.000000e+00</td>\n",
       "    </tr>\n",
       "    <tr>\n",
       "      <th>max</th>\n",
       "      <td>2.100000e+02</td>\n",
       "      <td>2.775061e+03</td>\n",
       "      <td>1.0</td>\n",
       "      <td>1.000000e+00</td>\n",
       "      <td>1.000000e+00</td>\n",
       "    </tr>\n",
       "  </tbody>\n",
       "</table>\n",
       "</div>"
      ],
      "text/plain": [
       "               time      distance   received     failed_tb    failed_sci\n",
       "count  2.701641e+06  1.350821e+06  2701641.0  2.701641e+06  2.701641e+06\n",
       "mean   2.056030e+02  9.275300e+02        1.0  5.182036e-06  2.348943e-03\n",
       "std    2.588515e+00  6.520801e+02        0.0  2.276403e-03  4.840895e-02\n",
       "min    2.011030e+02  4.000101e+00        1.0  0.000000e+00  0.000000e+00\n",
       "25%    2.032940e+02  3.724385e+02        1.0  0.000000e+00  0.000000e+00\n",
       "50%    2.056620e+02  8.221052e+02        1.0  0.000000e+00  0.000000e+00\n",
       "75%    2.078840e+02  1.377197e+03        1.0  0.000000e+00  0.000000e+00\n",
       "max    2.100000e+02  2.775061e+03        1.0  1.000000e+00  1.000000e+00"
      ]
     },
     "execution_count": 379,
     "metadata": {},
     "output_type": "execute_result"
    }
   ],
   "source": [
    "merged_df.describe()"
   ]
  },
  {
   "cell_type": "code",
   "execution_count": 380,
   "metadata": {},
   "outputs": [],
   "source": [
    "merged_df[\"pdr\"] = (merged_df[\"received\"] - merged_df[\"failed_tb\"] - merged_df[\"failed_sci\"]/(merged_df[\"received\"])) * 100"
   ]
  },
  {
   "cell_type": "code",
   "execution_count": 381,
   "metadata": {},
   "outputs": [
    {
     "data": {
      "text/html": [
       "<div>\n",
       "<style scoped>\n",
       "    .dataframe tbody tr th:only-of-type {\n",
       "        vertical-align: middle;\n",
       "    }\n",
       "\n",
       "    .dataframe tbody tr th {\n",
       "        vertical-align: top;\n",
       "    }\n",
       "\n",
       "    .dataframe thead th {\n",
       "        text-align: right;\n",
       "    }\n",
       "</style>\n",
       "<table border=\"1\" class=\"dataframe\">\n",
       "  <thead>\n",
       "    <tr style=\"text-align: right;\">\n",
       "      <th></th>\n",
       "      <th>time</th>\n",
       "      <th>distance</th>\n",
       "      <th>received</th>\n",
       "      <th>failed_tb</th>\n",
       "      <th>failed_sci</th>\n",
       "      <th>pdr</th>\n",
       "    </tr>\n",
       "  </thead>\n",
       "  <tbody>\n",
       "    <tr>\n",
       "      <th>0</th>\n",
       "      <td>201.103</td>\n",
       "      <td>134.908073</td>\n",
       "      <td>1.0</td>\n",
       "      <td>0.0</td>\n",
       "      <td>0.0</td>\n",
       "      <td>100.0</td>\n",
       "    </tr>\n",
       "    <tr>\n",
       "      <th>1</th>\n",
       "      <td>201.106</td>\n",
       "      <td>NaN</td>\n",
       "      <td>1.0</td>\n",
       "      <td>0.0</td>\n",
       "      <td>0.0</td>\n",
       "      <td>100.0</td>\n",
       "    </tr>\n",
       "    <tr>\n",
       "      <th>2</th>\n",
       "      <td>201.107</td>\n",
       "      <td>90.627206</td>\n",
       "      <td>1.0</td>\n",
       "      <td>0.0</td>\n",
       "      <td>0.0</td>\n",
       "      <td>100.0</td>\n",
       "    </tr>\n",
       "    <tr>\n",
       "      <th>3</th>\n",
       "      <td>201.107</td>\n",
       "      <td>NaN</td>\n",
       "      <td>1.0</td>\n",
       "      <td>0.0</td>\n",
       "      <td>0.0</td>\n",
       "      <td>100.0</td>\n",
       "    </tr>\n",
       "    <tr>\n",
       "      <th>4</th>\n",
       "      <td>201.108</td>\n",
       "      <td>1911.592181</td>\n",
       "      <td>1.0</td>\n",
       "      <td>0.0</td>\n",
       "      <td>0.0</td>\n",
       "      <td>100.0</td>\n",
       "    </tr>\n",
       "  </tbody>\n",
       "</table>\n",
       "</div>"
      ],
      "text/plain": [
       "      time     distance  received  failed_tb  failed_sci    pdr\n",
       "0  201.103   134.908073       1.0        0.0         0.0  100.0\n",
       "1  201.106          NaN       1.0        0.0         0.0  100.0\n",
       "2  201.107    90.627206       1.0        0.0         0.0  100.0\n",
       "3  201.107          NaN       1.0        0.0         0.0  100.0\n",
       "4  201.108  1911.592181       1.0        0.0         0.0  100.0"
      ]
     },
     "execution_count": 381,
     "metadata": {},
     "output_type": "execute_result"
    }
   ],
   "source": [
    "merged_df.head()"
   ]
  },
  {
   "cell_type": "code",
   "execution_count": 382,
   "metadata": {},
   "outputs": [
    {
     "data": {
      "text/html": [
       "<div>\n",
       "<style scoped>\n",
       "    .dataframe tbody tr th:only-of-type {\n",
       "        vertical-align: middle;\n",
       "    }\n",
       "\n",
       "    .dataframe tbody tr th {\n",
       "        vertical-align: top;\n",
       "    }\n",
       "\n",
       "    .dataframe thead th {\n",
       "        text-align: right;\n",
       "    }\n",
       "</style>\n",
       "<table border=\"1\" class=\"dataframe\">\n",
       "  <thead>\n",
       "    <tr style=\"text-align: right;\">\n",
       "      <th></th>\n",
       "      <th>time</th>\n",
       "      <th>distance</th>\n",
       "      <th>received</th>\n",
       "      <th>failed_tb</th>\n",
       "      <th>failed_sci</th>\n",
       "      <th>pdr</th>\n",
       "    </tr>\n",
       "  </thead>\n",
       "  <tbody>\n",
       "    <tr>\n",
       "      <th>count</th>\n",
       "      <td>2.701641e+06</td>\n",
       "      <td>1.350821e+06</td>\n",
       "      <td>2701641.0</td>\n",
       "      <td>2.701641e+06</td>\n",
       "      <td>2.701641e+06</td>\n",
       "      <td>2.701641e+06</td>\n",
       "    </tr>\n",
       "    <tr>\n",
       "      <th>mean</th>\n",
       "      <td>2.056030e+02</td>\n",
       "      <td>9.275300e+02</td>\n",
       "      <td>1.0</td>\n",
       "      <td>5.182036e-06</td>\n",
       "      <td>2.348943e-03</td>\n",
       "      <td>9.976459e+01</td>\n",
       "    </tr>\n",
       "    <tr>\n",
       "      <th>std</th>\n",
       "      <td>2.588515e+00</td>\n",
       "      <td>6.520801e+02</td>\n",
       "      <td>0.0</td>\n",
       "      <td>2.276403e-03</td>\n",
       "      <td>4.840895e-02</td>\n",
       "      <td>4.846219e+00</td>\n",
       "    </tr>\n",
       "    <tr>\n",
       "      <th>min</th>\n",
       "      <td>2.011030e+02</td>\n",
       "      <td>4.000101e+00</td>\n",
       "      <td>1.0</td>\n",
       "      <td>0.000000e+00</td>\n",
       "      <td>0.000000e+00</td>\n",
       "      <td>0.000000e+00</td>\n",
       "    </tr>\n",
       "    <tr>\n",
       "      <th>25%</th>\n",
       "      <td>2.032940e+02</td>\n",
       "      <td>3.724385e+02</td>\n",
       "      <td>1.0</td>\n",
       "      <td>0.000000e+00</td>\n",
       "      <td>0.000000e+00</td>\n",
       "      <td>1.000000e+02</td>\n",
       "    </tr>\n",
       "    <tr>\n",
       "      <th>50%</th>\n",
       "      <td>2.056620e+02</td>\n",
       "      <td>8.221052e+02</td>\n",
       "      <td>1.0</td>\n",
       "      <td>0.000000e+00</td>\n",
       "      <td>0.000000e+00</td>\n",
       "      <td>1.000000e+02</td>\n",
       "    </tr>\n",
       "    <tr>\n",
       "      <th>75%</th>\n",
       "      <td>2.078840e+02</td>\n",
       "      <td>1.377197e+03</td>\n",
       "      <td>1.0</td>\n",
       "      <td>0.000000e+00</td>\n",
       "      <td>0.000000e+00</td>\n",
       "      <td>1.000000e+02</td>\n",
       "    </tr>\n",
       "    <tr>\n",
       "      <th>max</th>\n",
       "      <td>2.100000e+02</td>\n",
       "      <td>2.775061e+03</td>\n",
       "      <td>1.0</td>\n",
       "      <td>1.000000e+00</td>\n",
       "      <td>1.000000e+00</td>\n",
       "      <td>1.000000e+02</td>\n",
       "    </tr>\n",
       "  </tbody>\n",
       "</table>\n",
       "</div>"
      ],
      "text/plain": [
       "               time      distance   received     failed_tb    failed_sci  \\\n",
       "count  2.701641e+06  1.350821e+06  2701641.0  2.701641e+06  2.701641e+06   \n",
       "mean   2.056030e+02  9.275300e+02        1.0  5.182036e-06  2.348943e-03   \n",
       "std    2.588515e+00  6.520801e+02        0.0  2.276403e-03  4.840895e-02   \n",
       "min    2.011030e+02  4.000101e+00        1.0  0.000000e+00  0.000000e+00   \n",
       "25%    2.032940e+02  3.724385e+02        1.0  0.000000e+00  0.000000e+00   \n",
       "50%    2.056620e+02  8.221052e+02        1.0  0.000000e+00  0.000000e+00   \n",
       "75%    2.078840e+02  1.377197e+03        1.0  0.000000e+00  0.000000e+00   \n",
       "max    2.100000e+02  2.775061e+03        1.0  1.000000e+00  1.000000e+00   \n",
       "\n",
       "                pdr  \n",
       "count  2.701641e+06  \n",
       "mean   9.976459e+01  \n",
       "std    4.846219e+00  \n",
       "min    0.000000e+00  \n",
       "25%    1.000000e+02  \n",
       "50%    1.000000e+02  \n",
       "75%    1.000000e+02  \n",
       "max    1.000000e+02  "
      ]
     },
     "execution_count": 382,
     "metadata": {},
     "output_type": "execute_result"
    }
   ],
   "source": [
    "merged_df.describe()"
   ]
  },
  {
   "cell_type": "code",
   "execution_count": 383,
   "metadata": {},
   "outputs": [],
   "source": [
    "bins = create_bins(lower_bound=0, width=10, quantity=49)"
   ]
  },
  {
   "cell_type": "code",
   "execution_count": 384,
   "metadata": {},
   "outputs": [],
   "source": [
    "distances = []\n",
    "pdrs_highway_fast = []\n",
    "for interval in bins:\n",
    "    lower_b = interval[0]\n",
    "    upper_b = interval[1]\n",
    "    pdr_temp_highway_fast = merged_df[(merged_df[\"distance\"] >= lower_b) & (merged_df[\"distance\"] < upper_b)]\n",
    "    pdrs_highway_fast.append(pdr_temp_highway_fast[\"pdr\"].mean())\n",
    "    distances.append(upper_b)"
   ]
  },
  {
   "cell_type": "code",
   "execution_count": 385,
   "metadata": {},
   "outputs": [
    {
     "data": {
      "image/png": "[encoded data removed]",
      "text/plain": [
       "<Figure size 432x288 with 1 Axes>"
      ]
     },
     "metadata": {
      "needs_background": "light"
     },
     "output_type": "display_data"
    }
   ],
   "source": [
    "fig, ax = plt.subplots()\n",
    "ax.plot(distances, pdrs_highway_fast)\n",
    "ax.set(xlabel='Distance (m)', ylabel='Packet Delivery Rate',\n",
    "       title='CV2X Basic Cross roads scenario')\n",
    "ax.grid()\n",
    "\n",
    "fig.savefig(\"figures/highway_fast.png\")\n",
    "plt.show()"
   ]
  },
  {
   "cell_type": "markdown",
   "metadata": {},
   "source": [
    "### Finished fixing vector DF"
   ]
  },
  {
   "cell_type": "code",
   "execution_count": null,
   "metadata": {},
   "outputs": [],
   "source": [
    "vector_df = parse_vectime_vecvalue(vector_df)"
   ]
  },
  {
   "cell_type": "code",
   "execution_count": null,
   "metadata": {},
   "outputs": [],
   "source": [
    "now = datetime.datetime.now()\n",
    "if args.name != now:\n",
    "    directory = \"{}/{}-{}\".format(args.tidied_results, now.strftime(\"%Y-%m-%d_%H:%M\"), args.name)\n",
    "else:\n",
    "    directory = \"{}/{}\".format(args.tidied_results, now.strftime(\"%Y-%m-%d_%H:%M\"))\n",
    "\n",
    "os.mkdir(directory)\n",
    "\n",
    "runattr_df.to_csv(\"{}/{}\".format(directory, \"runattr.csv\"), index=False)\n",
    "itervar_df.to_csv(\"{}/{}\".format(directory, \"itervar.csv\"), index=False)\n",
    "param_df.to_csv(\"{}/{}\".format(directory, \"params.csv\"), index=False)\n",
    "attr_df.to_csv(\"{}/{}\".format(directory, \"attr.csv\"), index=False)\n",
    "vector_df.to_csv(\"{}/{}\".format(directory, \"vector.csv\"), index=False)\n",
    "scalar_df.to_csv(\"{}/{}\".format(directory, \"scalar.csv\"), index=False)"
   ]
  }
 ],
 "metadata": {
  "kernelspec": {
   "display_name": "Python 3",
   "language": "python",
   "name": "python3"
  },
  "language_info": {
   "codemirror_mode": {
    "name": "ipython",
    "version": 3
   },
   "file_extension": ".py",
   "mimetype": "text/x-python",
   "name": "python",
   "nbconvert_exporter": "python",
   "pygments_lexer": "ipython3",
   "version": "3.7.0"
  }
 },
 "nbformat": 4,
 "nbformat_minor": 2
}
