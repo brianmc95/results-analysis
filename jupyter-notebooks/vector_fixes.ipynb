{
 "cells": [
  {
   "cell_type": "code",
   "execution_count": 3,
   "metadata": {},
   "outputs": [],
   "source": [
    "%matplotlib inline\n",
    "\n",
    "import pandas as pd\n",
    "import numpy as np\n",
    "import os\n",
    "import datetime\n",
    "import json\n",
    "\n",
    "import matplotlib.pyplot as plt"
   ]
  },
  {
   "cell_type": "code",
   "execution_count": 5,
   "metadata": {},
   "outputs": [],
   "source": [
    "def parse_if_number(s):\n",
    "    try:\n",
    "        return float(s)\n",
    "    except:\n",
    "        return True if s == \"true\" else False if s == \"false\" else s if s else None"
   ]
  },
  {
   "cell_type": "code",
   "execution_count": 6,
   "metadata": {},
   "outputs": [],
   "source": [
    "def parse_ndarray(s):\n",
    "    return np.fromstring(s, sep=' ') if s else None"
   ]
  },
  {
   "cell_type": "code",
   "execution_count": 7,
   "metadata": {},
   "outputs": [],
   "source": [
    "def parse_vectime_vecvalue(df):\n",
    "\n",
    "    new_df = pd.DataFrame(columns=[\"Node\", \"Name\", \"Time\", \"Value\"])\n",
    "\n",
    "    names = []\n",
    "    nodes = []\n",
    "\n",
    "    count = 1\n",
    "\n",
    "    print(\"Parsing vector file\")\n",
    "\n",
    "    vectimes = np.array([])\n",
    "    vecvalues = np.array([])\n",
    "\n",
    "    df_len = len(df.index)\n",
    "\n",
    "    for index, row in df.iterrows():\n",
    "        names.append([row[2] for _ in range(len(row.vectime))])\n",
    "        nodes.append([row.node for _ in range(len(row.vectime))])\n",
    "        vectimes = np.concatenate((vectimes, row.vectime))\n",
    "        vecvalues = np.concatenate((vecvalues, row.vecvalue))\n",
    "\n",
    "        print(\"Processed row: {} of {}\".format(count, df_len))\n",
    "        count += 1\n",
    "        break\n",
    "\n",
    "    new_df = new_df.append({\"Node\": nodes, \"Name\": names, \"Time\": vectimes, \"Value\": vecvalues}, ignore_index=True)\n",
    "\n",
    "    return new_df"
   ]
  },
  {
   "cell_type": "code",
   "execution_count": 8,
   "metadata": {},
   "outputs": [],
   "source": [
    "def create_bins(lower_bound, width, quantity):\n",
    "    \"\"\" create_bins returns an equal-width (distance) partitioning. \n",
    "        It returns an ascending list of tuples, representing the intervals.\n",
    "        A tuple bins[i], i.e. (bins[i][0], bins[i][1])  with i > 0 \n",
    "        and i < quantity, satisfies the following conditions:\n",
    "            (1) bins[i][0] + width == bins[i][1]\n",
    "            (2) bins[i-1][0] + width == bins[i][0] and\n",
    "                bins[i-1][1] + width == bins[i][1]\n",
    "    \"\"\"\n",
    "    \n",
    "    bins = []\n",
    "    for low in range(lower_bound, \n",
    "                     lower_bound + quantity*width + 1, width):\n",
    "        bins.append((low, low+width))\n",
    "    return bins"
   ]
  },
  {
   "cell_type": "code",
   "execution_count": 114,
   "metadata": {},
   "outputs": [],
   "source": [
    "raw_results = \"/home/brian/results-analysis/data/raw_data/winning-all-hz-no-interference-new-dist3.csv\"\n",
    "stats = \"/home/brian/results-analysis/configs/mode4-stats.json\""
   ]
  },
  {
   "cell_type": "code",
   "execution_count": 118,
   "metadata": {},
   "outputs": [
    {
     "name": "stdout",
     "output_type": "stream",
     "text": [
      "Loaded csv into DataFrame\n"
     ]
    }
   ],
   "source": [
    "raw_df = pd.read_csv(raw_results, converters={\n",
    "        \"attrvalue\": parse_if_number,\n",
    "        \"binedges\" : parse_ndarray,\n",
    "        \"binvalues\": parse_ndarray,\n",
    "        \"vectime\"  : parse_ndarray,\n",
    "        \"vecvalue\" : parse_ndarray})\n",
    "\n",
    "print(\"Loaded csv into DataFrame\")"
   ]
  },
  {
   "cell_type": "code",
   "execution_count": 119,
   "metadata": {},
   "outputs": [],
   "source": [
    "# It's likely this will change depending on the run/system\n",
    "# Might be worth investigating some form of alternative\n",
    "broken_module = raw_df['module'].str.split('.', 3, expand=True)\n",
    "\n",
    "raw_df[\"network\"] = broken_module[0]\n",
    "raw_df[\"node\"] = broken_module[1]\n",
    "raw_df[\"interface\"] = broken_module[2]\n",
    "raw_df[\"layer\"] = broken_module[3]\n",
    "\n",
    "raw_df = raw_df.drop(\"module\", axis=1)"
   ]
  },
  {
   "cell_type": "code",
   "execution_count": 120,
   "metadata": {},
   "outputs": [],
   "source": [
    "# Remove junk from common node names\n",
    "raw_df.node = raw_df.node.str.replace(\"node\", \"\")\n",
    "raw_df.node = raw_df.node.str.replace(\"[\", \"\")\n",
    "raw_df.node = raw_df.node.str.replace(\"]\", \"\")\n",
    "raw_df.node = raw_df.node.str.replace(\"car\", \"\")"
   ]
  },
  {
   "cell_type": "code",
   "execution_count": 121,
   "metadata": {},
   "outputs": [
    {
     "data": {
      "text/plain": [
       "array([nan, 'sentPacketToLowerLayer:count',\n",
       "       'sentPacketToLowerLayer:sum(packetBytes)',\n",
       "       'sentPacketToUpperLayer:count',\n",
       "       'sentPacketToUpperLayer:sum(packetBytes)',\n",
       "       'receivedPacketFromLowerLayer:count',\n",
       "       'receivedPacketFromLowerLayer:sum(packetBytes)',\n",
       "       'receivedPacketFromUpperLayer:count',\n",
       "       'receivedPacketFromUpperLayer:sum(packetBytes)', 'pdcpdrop3:mean',\n",
       "       'pdcpdrop2:mean', 'pdcpdrop1:mean', 'pdcpdrop0:mean',\n",
       "       'rlcPduPacketLossD2D:mean', 'rlcPduPacketLossDl:mean',\n",
       "       'rlcPduPacketLossUl:mean', 'rlcPacketLossTotal:mean',\n",
       "       'rlcPacketLossD2D:mean', 'rlcPacketLossDl:mean',\n",
       "       'rlcPacketLossUl:mean', 'rlcCellPacketLossD2D:mean',\n",
       "       'rlcCellPacketLossUl:mean', 'rlcCellPacketLossDl:mean',\n",
       "       'rlcCellThroughputD2D:mean', 'rlcCellThroughputDl:mean',\n",
       "       'rlcCellThroughputUl:mean', 'rlcPduThroughputD2D:mean',\n",
       "       'rlcPduDelayD2D:mean', 'rlcPduThroughputUl:mean',\n",
       "       'rlcPduDelayUl:mean', 'rlcPduThroughputDl:mean',\n",
       "       'rlcPduDelayDl:mean', 'rlcThroughputD2D:mean', 'rlcDelayD2D:mean',\n",
       "       'rlcThroughputUl:mean', 'rlcDelayUl:mean', 'rlcThroughputDl:mean',\n",
       "       'rlcDelayDl:mean', 'txRxDistanceTB:mean', 'txRxDistanceSCI:mean',\n",
       "       'threshold:mean', 'tbAndSCINotReceived:sum',\n",
       "       'tbFailedButSCIReceived:sum', 'tbsFailedDueToNoSCI:sum',\n",
       "       'tbsDecoded:sum', 'tbsReceived:sum', 'tbsSent:sum', 'scisSent:sum',\n",
       "       'scisNotDecoded:sum', 'scisDecoded:sum', 'scisReceived:sum',\n",
       "       'cbr:mean', 'averageCqiD2D:mean', 'averageCqiUl:mean',\n",
       "       'averageCqiDl:mean', 'grantRequests:sum', 'maximumCapacity:mean',\n",
       "       'selectedNumSubchannels:mean', 'selectedMCS:mean',\n",
       "       'missedTransmission:sum', 'grantBreakMissedTrans:sum',\n",
       "       'droppedTimeout:sum', 'grantBreakSize:count', 'grantBreakSize:sum',\n",
       "       'grantBreakTiming:sum', 'grantBreak:sum', 'generatedGrants:sum',\n",
       "       'measuredItbs:mean', 'harqErrorRate_4th_D2D:mean',\n",
       "       'harqErrorRate_4th_Dl:mean', 'harqErrorRate_4th_Ul:mean',\n",
       "       'harqErrorRate_3rd_D2D:mean', 'harqErrorRate_3rd_Dl:mean',\n",
       "       'harqErrorRate_3rd_Ul:mean', 'harqErrorRate_2nd_D2D:mean',\n",
       "       'harqErrorRate_2nd_Dl:mean', 'harqErrorRate_2nd_Ul:mean',\n",
       "       'harqErrorRate_1st_D2D:mean', 'harqErrorRate_1st_Dl:mean',\n",
       "       'harqErrorRate_1st_Ul:mean', 'harqErrorRateD2D:mean',\n",
       "       'harqErrorRateDl:mean', 'harqErrorRateUl:mean',\n",
       "       'macBufferOverFlowD2D:mean', 'macBufferOverFlowUl:mean',\n",
       "       'macBufferOverFlowDl:mean', 'macPacketLossD2D:mean',\n",
       "       'macPacketLossDl:mean', 'macPacketLossUl:mean',\n",
       "       'macCellPacketLossD2D:mean', 'macCellPacketLossUl:mean',\n",
       "       'macCellPacketLossDl:mean', 'macCellThroughputD2D:mean',\n",
       "       'macCellThroughputDl:mean', 'macCellThroughputUl:mean',\n",
       "       'macThroughputD2D:mean', 'macDelayD2D:mean',\n",
       "       'macThroughputUl:mean', 'macDelayUl:mean', 'macThroughputDl:mean',\n",
       "       'macDelayDl:mean', 'Arrival computation count',\n",
       "       'transmission count', 'radio frame send count',\n",
       "       'reception computation count', 'interference computation count',\n",
       "       'reception decision computation count',\n",
       "       'listening decision computation count', 'reception cache hit',\n",
       "       'interference cache hit', 'noise cache hit', 'snir cache hit',\n",
       "       'reception decision cache hit', 'reception result cache hit',\n",
       "       'posX:vector', 'posY:vector', 'servingCell:vector',\n",
       "       'transmission:vector(camStationId)',\n",
       "       'transmission:vector(camGenerationDeltaTime)',\n",
       "       'receivedPacketFromUpperLayer:vector(packetBytes)',\n",
       "       'sentPacketToLowerLayer:vector(packetBytes)',\n",
       "       'selectedNumSubchannels:vector', 'grantRequests:vector',\n",
       "       'receivedPacketFromLowerLayer:vector(packetBytes)',\n",
       "       'sentPacketToUpperLayer:vector(packetBytes)', 'selectedMCS:vector',\n",
       "       'scisSent:vector', 'tbsSent:vector', 'txRxDistanceSCI:vector',\n",
       "       'scisReceived:vector', 'scisDecoded:vector',\n",
       "       'scisNotDecoded:vector', 'txRxDistanceTB:vector',\n",
       "       'tbsReceived:vector', 'tbsDecoded:vector',\n",
       "       'tbsFailedDueToNoSCI:vector', 'tbFailedButSCIReceived:vector',\n",
       "       'macDelayD2D:vector', 'reception:vector(camStationId)',\n",
       "       'reception:vector(camGenerationDeltaTime)',\n",
       "       'grantBreakSize:vector', 'maximumCapacity:vector',\n",
       "       'grantBreak:vector'], dtype=object)"
      ]
     },
     "execution_count": 121,
     "metadata": {},
     "output_type": "execute_result"
    }
   ],
   "source": [
    "raw_df.name.unique()"
   ]
  },
  {
   "cell_type": "code",
   "execution_count": 122,
   "metadata": {},
   "outputs": [],
   "source": [
    "if stats:\n",
    "    with open(stats) as json_file:\n",
    "        data = json.load(json_file)\n",
    "        raw_df = raw_df[raw_df.name.isin(data[\"filtered_vectors\"]) | raw_df.name.isin(data[\"filtered_scalars\"])]\n",
    "        raw_df = raw_df.reset_index(drop=True)        "
   ]
  },
  {
   "cell_type": "code",
   "execution_count": 123,
   "metadata": {},
   "outputs": [],
   "source": [
    "# This will always remain the same for all runs.\n",
    "broken_run = raw_df['run'].str.split('-', 4, expand=True)\n",
    "\n",
    "raw_df[\"scenario\"] = broken_run[0]\n",
    "raw_df[\"run\"] = broken_run[1]\n",
    "raw_df[\"date\"] = broken_run[2]\n",
    "raw_df[\"time\"] = broken_run[3]\n",
    "raw_df[\"processId\"] = broken_run[4]"
   ]
  },
  {
   "cell_type": "code",
   "execution_count": 124,
   "metadata": {},
   "outputs": [],
   "source": [
    "runattr_df = raw_df[raw_df[\"type\"] == \"runattr\"]\n",
    "runattr_df = runattr_df.dropna(axis=1, how=\"all\")\n",
    "runattr_df = runattr_df.reset_index(drop=True)"
   ]
  },
  {
   "cell_type": "code",
   "execution_count": 125,
   "metadata": {},
   "outputs": [],
   "source": [
    "itervar_df = raw_df[raw_df[\"type\"] == \"itervar\"]\n",
    "itervar_df = itervar_df.dropna(axis=1, how=\"all\")\n",
    "itervar_df = itervar_df.reset_index(drop=True)"
   ]
  },
  {
   "cell_type": "code",
   "execution_count": 126,
   "metadata": {},
   "outputs": [],
   "source": [
    "param_df = raw_df[raw_df[\"type\"] == \"param\"]\n",
    "param_df = param_df.dropna(axis=1, how=\"all\")\n",
    "param_df = param_df.reset_index(drop=True)"
   ]
  },
  {
   "cell_type": "code",
   "execution_count": 127,
   "metadata": {},
   "outputs": [],
   "source": [
    "attr_df = raw_df[raw_df[\"type\"] == \"attr\"]\n",
    "attr_df = attr_df.dropna(axis=1, how=\"all\")\n",
    "attr_df = attr_df.reset_index(drop=True)"
   ]
  },
  {
   "cell_type": "code",
   "execution_count": 128,
   "metadata": {},
   "outputs": [],
   "source": [
    "scalar_df = raw_df[raw_df[\"type\"] == \"scalar\"]\n",
    "scalar_df = scalar_df.dropna(axis=1, how=\"all\")\n",
    "scalar_df = scalar_df.reset_index(drop=True)"
   ]
  },
  {
   "cell_type": "code",
   "execution_count": 129,
   "metadata": {},
   "outputs": [],
   "source": [
    "vector_df = raw_df[raw_df[\"type\"] == \"vector\"]\n",
    "vector_df = vector_df.dropna(axis=1, how=\"all\")\n",
    "vector_df = vector_df.reset_index(drop=True)"
   ]
  },
  {
   "cell_type": "markdown",
   "metadata": {},
   "source": [
    "### Different approach"
   ]
  },
  {
   "cell_type": "code",
   "execution_count": 130,
   "metadata": {},
   "outputs": [],
   "source": [
    "rows_we_want = vector_df.drop([\"run\", \"type\", \"network\", \"interface\", \"layer\", \"scenario\", \"date\", \"time\", \"processId\"], axis=1)\n",
    "rows_we_want = rows_we_want.reset_index(drop=True)"
   ]
  },
  {
   "cell_type": "code",
   "execution_count": 131,
   "metadata": {},
   "outputs": [
    {
     "data": {
      "text/plain": [
       "array(['scisSent:vector', 'tbsSent:vector', 'txRxDistanceSCI:vector',\n",
       "       'scisReceived:vector', 'scisDecoded:vector',\n",
       "       'scisNotDecoded:vector', 'txRxDistanceTB:vector',\n",
       "       'tbsReceived:vector', 'tbsDecoded:vector',\n",
       "       'tbsFailedDueToNoSCI:vector', 'tbFailedButSCIReceived:vector'],\n",
       "      dtype=object)"
      ]
     },
     "execution_count": 131,
     "metadata": {},
     "output_type": "execute_result"
    }
   ],
   "source": [
    "rows_we_want.name.unique()"
   ]
  },
  {
   "cell_type": "code",
   "execution_count": 132,
   "metadata": {},
   "outputs": [],
   "source": [
    "lst_col = \"vectime\"\n",
    "vectime_split = pd.DataFrame({\n",
    "    col:np.repeat(rows_we_want[col].values, rows_we_want[lst_col].str.len())\n",
    "    for col in rows_we_want.columns.difference([lst_col])}).assign(**{lst_col:np.concatenate(rows_we_want[lst_col].values)})[rows_we_want.columns.tolist()]"
   ]
  },
  {
   "cell_type": "code",
   "execution_count": 133,
   "metadata": {},
   "outputs": [],
   "source": [
    "lst_col = \"vecvalue\"\n",
    "vecvalue_split = pd.DataFrame({\n",
    "    col:np.repeat(rows_we_want[col].values, rows_we_want[lst_col].str.len())\n",
    "    for col in rows_we_want.columns.difference([lst_col])}).assign(**{lst_col:np.concatenate(rows_we_want[lst_col].values)})[rows_we_want.columns.tolist()]"
   ]
  },
  {
   "cell_type": "code",
   "execution_count": 134,
   "metadata": {},
   "outputs": [],
   "source": [
    "vecvalue_split[\"vectime\"] = vectime_split[\"vectime\"]"
   ]
  },
  {
   "cell_type": "code",
   "execution_count": 135,
   "metadata": {},
   "outputs": [],
   "source": [
    "node_include_df = vecvalue_split"
   ]
  },
  {
   "cell_type": "code",
   "execution_count": 136,
   "metadata": {},
   "outputs": [],
   "source": [
    "node_filtered_df = node_include_df[node_include_df[\"name\"] == \"txRxDistanceTB:vector\"]"
   ]
  },
  {
   "cell_type": "code",
   "execution_count": 137,
   "metadata": {},
   "outputs": [
    {
     "data": {
      "text/html": [
       "<div>\n",
       "<style scoped>\n",
       "    .dataframe tbody tr th:only-of-type {\n",
       "        vertical-align: middle;\n",
       "    }\n",
       "\n",
       "    .dataframe tbody tr th {\n",
       "        vertical-align: top;\n",
       "    }\n",
       "\n",
       "    .dataframe thead th {\n",
       "        text-align: right;\n",
       "    }\n",
       "</style>\n",
       "<table border=\"1\" class=\"dataframe\">\n",
       "  <thead>\n",
       "    <tr style=\"text-align: right;\">\n",
       "      <th></th>\n",
       "      <th>name</th>\n",
       "      <th>vectime</th>\n",
       "      <th>vecvalue</th>\n",
       "      <th>node</th>\n",
       "    </tr>\n",
       "  </thead>\n",
       "  <tbody>\n",
       "    <tr>\n",
       "      <th>12568</th>\n",
       "      <td>txRxDistanceTB:vector</td>\n",
       "      <td>201.104</td>\n",
       "      <td>134.908073</td>\n",
       "      <td>0</td>\n",
       "    </tr>\n",
       "    <tr>\n",
       "      <th>12569</th>\n",
       "      <td>txRxDistanceTB:vector</td>\n",
       "      <td>201.105</td>\n",
       "      <td>1911.592181</td>\n",
       "      <td>0</td>\n",
       "    </tr>\n",
       "    <tr>\n",
       "      <th>12570</th>\n",
       "      <td>txRxDistanceTB:vector</td>\n",
       "      <td>201.106</td>\n",
       "      <td>90.627206</td>\n",
       "      <td>0</td>\n",
       "    </tr>\n",
       "    <tr>\n",
       "      <th>12571</th>\n",
       "      <td>txRxDistanceTB:vector</td>\n",
       "      <td>201.110</td>\n",
       "      <td>2553.029427</td>\n",
       "      <td>0</td>\n",
       "    </tr>\n",
       "    <tr>\n",
       "      <th>12572</th>\n",
       "      <td>txRxDistanceTB:vector</td>\n",
       "      <td>201.110</td>\n",
       "      <td>52.165438</td>\n",
       "      <td>0</td>\n",
       "    </tr>\n",
       "  </tbody>\n",
       "</table>\n",
       "</div>"
      ],
      "text/plain": [
       "                        name  vectime     vecvalue node\n",
       "12568  txRxDistanceTB:vector  201.104   134.908073    0\n",
       "12569  txRxDistanceTB:vector  201.105  1911.592181    0\n",
       "12570  txRxDistanceTB:vector  201.106    90.627206    0\n",
       "12571  txRxDistanceTB:vector  201.110  2553.029427    0\n",
       "12572  txRxDistanceTB:vector  201.110    52.165438    0"
      ]
     },
     "execution_count": 137,
     "metadata": {},
     "output_type": "execute_result"
    }
   ],
   "source": [
    "node_filtered_df.head()"
   ]
  },
  {
   "cell_type": "code",
   "execution_count": 138,
   "metadata": {},
   "outputs": [],
   "source": [
    "# node_filtered_df = node_filtered_df.iloc[::2, :]"
   ]
  },
  {
   "cell_type": "code",
   "execution_count": 139,
   "metadata": {},
   "outputs": [],
   "source": [
    "node_filtered_df = node_filtered_df.reset_index(drop=True)"
   ]
  },
  {
   "cell_type": "code",
   "execution_count": 140,
   "metadata": {},
   "outputs": [],
   "source": [
    "received   = node_include_df[node_include_df[\"name\"] == \"tbsReceived:vector\"]\n",
    "failed_tb  = node_include_df[node_include_df[\"name\"] == \"tbFailedButSCIReceived:vector\"]\n",
    "failed_sci = node_include_df[node_include_df[\"name\"] == \"tbsFailedDueToNoSCI:vector\"]\n",
    "\n",
    "received = received.reset_index(drop=True)\n",
    "failed_sci = failed_sci.reset_index(drop=True)\n",
    "failed_tb = failed_tb.reset_index(drop=True)"
   ]
  },
  {
   "cell_type": "code",
   "execution_count": 141,
   "metadata": {},
   "outputs": [],
   "source": [
    "merged_df = pd.DataFrame()\n",
    "merged_df[\"time\"] = received[\"vectime\"]\n",
    "merged_df[\"distance\"] = node_filtered_df[\"vecvalue\"]\n",
    "merged_df[\"received\"] = received[\"vecvalue\"]\n",
    "merged_df[\"failed_tb\"] = failed_tb[\"vecvalue\"]\n",
    "merged_df[\"failed_sci\"] = failed_sci[\"vecvalue\"]"
   ]
  },
  {
   "cell_type": "code",
   "execution_count": 142,
   "metadata": {},
   "outputs": [],
   "source": [
    "merged_df[\"pdr\"] = (merged_df[\"received\"] - merged_df[\"failed_tb\"] - merged_df[\"failed_sci\"]/(merged_df[\"received\"])) * 100"
   ]
  },
  {
   "cell_type": "code",
   "execution_count": 143,
   "metadata": {},
   "outputs": [],
   "source": [
    "bins = create_bins(lower_bound=0, width=10, quantity=49)"
   ]
  },
  {
   "cell_type": "code",
   "execution_count": 144,
   "metadata": {},
   "outputs": [],
   "source": [
    "distances = []\n",
    "pdrs_highway_fast = []\n",
    "for interval in bins:\n",
    "    lower_b = interval[0]\n",
    "    upper_b = interval[1]\n",
    "    pdr_temp_highway_fast = merged_df[(merged_df[\"distance\"] >= lower_b) & (merged_df[\"distance\"] < upper_b)]\n",
    "    pdrs_highway_fast.append(pdr_temp_highway_fast[\"pdr\"].mean())\n",
    "    distances.append(upper_b)"
   ]
  },
  {
   "cell_type": "code",
   "execution_count": 145,
   "metadata": {},
   "outputs": [
    {
     "data": {
      "image/png": "[encoded data removed]",
      "text/plain": [
       "<Figure size 432x288 with 1 Axes>"
      ]
     },
     "metadata": {
      "needs_background": "light"
     },
     "output_type": "display_data"
    }
   ],
   "source": [
    "fig, ax = plt.subplots()\n",
    "ax.plot(distances, pdrs_highway_fast)\n",
    "ax.set(xlabel='Distance (m)', ylabel='Packet Delivery Rate',\n",
    "       title='CV2X Basic Cross roads scenario')\n",
    "ax.grid()\n",
    "\n",
    "fig.savefig(\"figures/highway_fast-interference.png\")\n",
    "plt.show()"
   ]
  },
  {
   "cell_type": "markdown",
   "metadata": {},
   "source": [
    "### Finished fixing vector DF"
   ]
  },
  {
   "cell_type": "code",
   "execution_count": null,
   "metadata": {},
   "outputs": [],
   "source": [
    "vector_df = parse_vectime_vecvalue(vector_df)"
   ]
  },
  {
   "cell_type": "code",
   "execution_count": null,
   "metadata": {},
   "outputs": [],
   "source": [
    "now = datetime.datetime.now()\n",
    "if args.name != now:\n",
    "    directory = \"{}/{}-{}\".format(args.tidied_results, now.strftime(\"%Y-%m-%d_%H:%M\"), args.name)\n",
    "else:\n",
    "    directory = \"{}/{}\".format(args.tidied_results, now.strftime(\"%Y-%m-%d_%H:%M\"))\n",
    "\n",
    "os.mkdir(directory)\n",
    "\n",
    "runattr_df.to_csv(\"{}/{}\".format(directory, \"runattr.csv\"), index=False)\n",
    "itervar_df.to_csv(\"{}/{}\".format(directory, \"itervar.csv\"), index=False)\n",
    "param_df.to_csv(\"{}/{}\".format(directory, \"params.csv\"), index=False)\n",
    "attr_df.to_csv(\"{}/{}\".format(directory, \"attr.csv\"), index=False)\n",
    "vector_df.to_csv(\"{}/{}\".format(directory, \"vector.csv\"), index=False)\n",
    "scalar_df.to_csv(\"{}/{}\".format(directory, \"scalar.csv\"), index=False)"
   ]
  }
 ],
 "metadata": {
  "kernelspec": {
   "display_name": "Python 3",
   "language": "python",
   "name": "python3"
  },
  "language_info": {
   "codemirror_mode": {
    "name": "ipython",
    "version": 3
   },
   "file_extension": ".py",
   "mimetype": "text/x-python",
   "name": "python",
   "nbconvert_exporter": "python",
   "pygments_lexer": "ipython3",
   "version": "3.7.0"
  }
 },
 "nbformat": 4,
 "nbformat_minor": 2
}
