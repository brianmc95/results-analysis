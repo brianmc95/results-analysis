{
 "cells": [
  {
   "cell_type": "code",
   "execution_count": 1,
   "metadata": {},
   "outputs": [],
   "source": [
    "%matplotlib notebook\n",
    "import logging\n",
    "import os\n",
    "import math\n",
    "import multiprocessing\n",
    "import json\n",
    "import re\n",
    "from itertools import combinations \n",
    "    \n",
    "from scipy.stats import t\n",
    "import numpy as np\n",
    "import pandas as pd\n",
    "import matplotlib.pyplot as plt\n",
    "import matplotlib as mpl"
   ]
  },
  {
   "cell_type": "code",
   "execution_count": 2,
   "metadata": {},
   "outputs": [],
   "source": [
    "df_1000ms = pd.read_csv(\"/hdd/results-analysis/data/parsed_data/non-periodic/nonPeriodic-ETSI-012vpm-2020-11-14-16_56_39/run-1.csv\")"
   ]
  },
  {
   "cell_type": "code",
   "execution_count": 3,
   "metadata": {},
   "outputs": [],
   "source": [
    "df_200ms = pd.read_csv(\"/hdd/results-analysis/data/parsed_data/non-periodic/nonPeriodic-ETSI-200-sw-012vpm-2020-12-02-19_05_52/run-1.csv\")"
   ]
  },
  {
   "cell_type": "code",
   "execution_count": 4,
   "metadata": {},
   "outputs": [],
   "source": [
    "df_500ms = pd.read_csv(\"/hdd/results-analysis/data/parsed_data/non-periodic/nonPeriodic-ETSI-500-sw-012vpm-2020-12-02-12_25_39/run-1.csv\")"
   ]
  },
  {
   "cell_type": "code",
   "execution_count": 5,
   "metadata": {},
   "outputs": [
    {
     "name": "stdout",
     "output_type": "stream",
     "text": [
      "246\n",
      "246\n",
      "246\n"
     ]
    }
   ],
   "source": [
    "print(len(df_200ms[\"NodeID\"].unique()))\n",
    "print(len(df_500ms[\"NodeID\"].unique()))\n",
    "print(len(df_1000ms[\"NodeID\"].unique()))"
   ]
  },
  {
   "cell_type": "code",
   "execution_count": 6,
   "metadata": {},
   "outputs": [
    {
     "name": "stdout",
     "output_type": "stream",
     "text": [
      "22745.0\n",
      "4868.0\n",
      "4.672350041084634\n",
      "0.0\n",
      "11330.0\n",
      "0.0\n",
      "0.0\n"
     ]
    }
   ],
   "source": [
    "print(df_200ms[\"sciSent\"].sum())\n",
    "df_not_missed_200 = df_200ms[df_200ms[\"tbDecoded\"] >= 0]\n",
    "print(df_not_missed_200[\"tbSent\"].sum())\n",
    "print(df_200ms[\"sciSent\"].sum()/df_not_missed_200[\"tbSent\"].sum())\n",
    "print(df_200ms[\"grantBreak\"].sum())\n",
    "print(df_200ms[\"grantBreakMissedTrans\"].sum())\n",
    "print(df_200ms[\"grantBreakTiming\"].sum())\n",
    "print(df_200ms[\"grantBreakSize\"].sum())"
   ]
  },
  {
   "cell_type": "code",
   "execution_count": 7,
   "metadata": {},
   "outputs": [
    {
     "name": "stdout",
     "output_type": "stream",
     "text": [
      "22773.0\n",
      "4285.0\n",
      "5.314585764294049\n",
      "1.0\n",
      "11342.0\n",
      "0.0\n",
      "0.0\n"
     ]
    }
   ],
   "source": [
    "print(df_500ms[\"sciSent\"].sum())\n",
    "df_not_missed_500 = df_500ms[df_500ms[\"tbDecoded\"] >= 0]\n",
    "print(df_not_missed_500[\"tbSent\"].sum())\n",
    "print(df_500ms[\"sciSent\"].sum()/df_not_missed_500[\"tbSent\"].sum())\n",
    "print(df_500ms[\"grantBreak\"].sum())\n",
    "print(df_500ms[\"grantBreakMissedTrans\"].sum())\n",
    "print(df_500ms[\"grantBreakTiming\"].sum())\n",
    "print(df_500ms[\"grantBreakSize\"].sum())"
   ]
  },
  {
   "cell_type": "code",
   "execution_count": 8,
   "metadata": {},
   "outputs": [
    {
     "name": "stdout",
     "output_type": "stream",
     "text": [
      "22763.0\n",
      "4708.0\n",
      "4.834961767204758\n",
      "5.0\n",
      "11336.0\n",
      "0.0\n",
      "0.0\n"
     ]
    }
   ],
   "source": [
    "print(df_1000ms[\"sciSent\"].sum())\n",
    "df_not_missed_1000 = df_1000ms[df_1000ms[\"tbDecoded\"] >= 0]\n",
    "print(df_not_missed_1000[\"tbSent\"].sum())\n",
    "print(df_1000ms[\"sciSent\"].sum()/df_not_missed_1000[\"tbSent\"].sum())\n",
    "print(df_1000ms[\"grantBreak\"].sum())\n",
    "print(df_1000ms[\"grantBreakMissedTrans\"].sum())\n",
    "print(df_1000ms[\"grantBreakTiming\"].sum())\n",
    "print(df_1000ms[\"grantBreakSize\"].sum())"
   ]
  },
  {
   "cell_type": "code",
   "execution_count": 9,
   "metadata": {},
   "outputs": [
    {
     "name": "stdout",
     "output_type": "stream",
     "text": [
      "Proportion SCI:      0.9997713891304016\n",
      "TBs:                 0.9989498556051457\n",
      "SCI Interference:    0.8455188244215359\n",
      "TB Fails due to SCI: 0.9739580165088164\n",
      "Regular grant break: 0.0\n",
      "Grant break missed trans: 0.9994707127734651\n",
      "Grant break timing: nan\n",
      "Grant break size: nan\n"
     ]
    },
    {
     "name": "stderr",
     "output_type": "stream",
     "text": [
      "<ipython-input-9-635b868cc4d5>:13: RuntimeWarning: invalid value encountered in double_scalars\n",
      "  print(\"Grant break timing: {}\".format(df_200ms[\"grantBreakTiming\"].sum()/df_1000ms[\"grantBreakTiming\"].sum()))\n",
      "<ipython-input-9-635b868cc4d5>:15: RuntimeWarning: invalid value encountered in double_scalars\n",
      "  print(\"Grant break size: {}\".format(df_200ms[\"grantBreakSize\"].sum()/df_1000ms[\"grantBreakSize\"].sum()))\n"
     ]
    }
   ],
   "source": [
    "print(\"Proportion SCI:      {}\".format(df_200ms[\"sciReceived\"].sum()/df_1000ms[\"sciReceived\"].sum()))\n",
    "\n",
    "print(\"TBs:                 {}\".format(df_200ms[\"tbSent\"].sum()/df_1000ms[\"tbSent\"].sum()))\n",
    "\n",
    "print(\"SCI Interference:    {}\".format(df_200ms[\"sciFailedDueToInterference\"].sum()/df_1000ms[\"sciFailedDueToInterference\"].sum()))\n",
    "\n",
    "print(\"TB Fails due to SCI: {}\".format(df_not_missed_200[\"tbFailedDueToNoSCI\"].sum()/df_not_missed_1000[\"tbFailedDueToNoSCI\"].sum()))\n",
    "\n",
    "print(\"Regular grant break: {}\".format(df_200ms[\"grantBreak\"].sum()/df_1000ms[\"grantBreak\"].sum()))\n",
    "\n",
    "print(\"Grant break missed trans: {}\".format(df_200ms[\"grantBreakMissedTrans\"].sum()/df_1000ms[\"grantBreakMissedTrans\"].sum()))\n",
    "\n",
    "print(\"Grant break timing: {}\".format(df_200ms[\"grantBreakTiming\"].sum()/df_1000ms[\"grantBreakTiming\"].sum()))\n",
    "\n",
    "print(\"Grant break size: {}\".format(df_200ms[\"grantBreakSize\"].sum()/df_1000ms[\"grantBreakSize\"].sum()))"
   ]
  },
  {
   "cell_type": "code",
   "execution_count": 10,
   "metadata": {},
   "outputs": [
    {
     "name": "stdout",
     "output_type": "stream",
     "text": [
      "Proportion SCI:      0.9990979859019807\n",
      "TBs:                 0.9986002974367947\n",
      "SCI Interference:    0.6269284073088005\n",
      "TB Fails due to SCI: 0.9211728331753246\n",
      "Regular grant break: 0.0\n",
      "Grant break missed trans: 0.9989419855404691\n",
      "Grant break timing: nan\n",
      "Grant break size: nan\n"
     ]
    },
    {
     "name": "stderr",
     "output_type": "stream",
     "text": [
      "<ipython-input-10-3f31d0113239>:13: RuntimeWarning: invalid value encountered in double_scalars\n",
      "  print(\"Grant break timing: {}\".format(df_200ms[\"grantBreakTiming\"].sum()/df_500ms[\"grantBreakTiming\"].sum()))\n",
      "<ipython-input-10-3f31d0113239>:15: RuntimeWarning: invalid value encountered in double_scalars\n",
      "  print(\"Grant break size: {}\".format(df_200ms[\"grantBreakSize\"].sum()/df_500ms[\"grantBreakSize\"].sum()))\n"
     ]
    }
   ],
   "source": [
    "\n",
    "print(\"Proportion SCI:      {}\".format(df_200ms[\"sciReceived\"].sum()/df_500ms[\"sciReceived\"].sum()))\n",
    "\n",
    "print(\"TBs:                 {}\".format(df_200ms[\"tbSent\"].sum()/df_500ms[\"tbSent\"].sum()))\n",
    "\n",
    "print(\"SCI Interference:    {}\".format(df_200ms[\"sciFailedDueToInterference\"].sum()/df_500ms[\"sciFailedDueToInterference\"].sum()))\n",
    "\n",
    "print(\"TB Fails due to SCI: {}\".format(df_not_missed_200[\"tbFailedDueToNoSCI\"].sum()/df_not_missed_500[\"tbFailedDueToNoSCI\"].sum()))\n",
    "\n",
    "print(\"Regular grant break: {}\".format(df_200ms[\"grantBreak\"].sum()/df_500ms[\"grantBreak\"].sum()))\n",
    "\n",
    "print(\"Grant break missed trans: {}\".format(df_200ms[\"grantBreakMissedTrans\"].sum()/df_500ms[\"grantBreakMissedTrans\"].sum()))\n",
    "\n",
    "print(\"Grant break timing: {}\".format(df_200ms[\"grantBreakTiming\"].sum()/df_500ms[\"grantBreakTiming\"].sum()))\n",
    "\n",
    "print(\"Grant break size: {}\".format(df_200ms[\"grantBreakSize\"].sum()/df_500ms[\"grantBreakSize\"].sum()))"
   ]
  },
  {
   "cell_type": "code",
   "execution_count": 12,
   "metadata": {},
   "outputs": [
    {
     "name": "stdout",
     "output_type": "stream",
     "text": [
      "Proportion SCI:      1.000674011196022\n",
      "TBs:                 1.000350048131618\n",
      "SCI Decoded:         0.9246349923368556\n",
      "SCI HD:              0.9696466913917626\n",
      "SCI Interference:    1.3486688664357591\n",
      "SCI Prop:            1.0\n",
      "TB Decoded:          0.9040041553014688\n",
      "TB HD:               0.9660015497869043\n",
      "TB Fails due to SCI: 1.0573021494256825\n",
      "TB Prop:             0.8122020972354623\n",
      "TB Interference:     1.1666927374301677\n",
      "Regular grant break: 0.2\n",
      "Grant break missed trans: 1.000529287226535\n",
      "Grant break timing:       nan\n",
      "Grant break size:         nan\n"
     ]
    },
    {
     "name": "stderr",
     "output_type": "stream",
     "text": [
      "<ipython-input-12-804fdbec7467>:27: RuntimeWarning: invalid value encountered in double_scalars\n",
      "  print(\"Grant break timing:       {}\".format(df_500ms[\"grantBreakTiming\"].sum()/df_1000ms[\"grantBreakTiming\"].sum()))\n",
      "<ipython-input-12-804fdbec7467>:29: RuntimeWarning: invalid value encountered in double_scalars\n",
      "  print(\"Grant break size:         {}\".format(df_500ms[\"grantBreakSize\"].sum()/df_1000ms[\"grantBreakSize\"].sum()))\n"
     ]
    }
   ],
   "source": [
    "print(\"Proportion SCI:      {}\".format(df_500ms[\"sciReceived\"].sum()/df_1000ms[\"sciReceived\"].sum()))\n",
    "\n",
    "print(\"TBs:                 {}\".format(df_500ms[\"tbSent\"].sum()/df_1000ms[\"tbSent\"].sum()))\n",
    "\n",
    "print(\"SCI Decoded:         {}\".format(df_500ms[\"sciDecoded\"].sum()/df_1000ms[\"sciDecoded\"].sum()))\n",
    "\n",
    "print(\"SCI HD:              {}\".format(df_500ms[\"sciFailedHalfDuplex\"].sum()/df_1000ms[\"sciFailedHalfDuplex\"].sum()))\n",
    "\n",
    "print(\"SCI Interference:    {}\".format(df_500ms[\"sciFailedDueToInterference\"].sum()/df_1000ms[\"sciFailedDueToInterference\"].sum()))\n",
    "\n",
    "print(\"SCI Prop:            {}\".format(df_500ms[\"sciFailedDueToProp\"].sum()/df_500ms[\"sciFailedDueToProp\"].sum()))\n",
    "\n",
    "print(\"TB Decoded:          {}\".format(df_not_missed_500[\"tbDecoded\"].sum()/df_not_missed_1000[\"tbDecoded\"].sum()))\n",
    "\n",
    "print(\"TB HD:               {}\".format(df_not_missed_500[\"tbFailedHalfDuplex\"].sum()/df_not_missed_1000[\"tbFailedHalfDuplex\"].sum()))\n",
    "\n",
    "print(\"TB Fails due to SCI: {}\".format(df_not_missed_500[\"tbFailedDueToNoSCI\"].sum()/df_not_missed_1000[\"tbFailedDueToNoSCI\"].sum()))\n",
    "\n",
    "print(\"TB Prop:             {}\".format(df_not_missed_500[\"tbFailedDueToProp\"].sum()/df_not_missed_1000[\"tbFailedDueToProp\"].sum()))\n",
    "\n",
    "print(\"TB Interference:     {}\".format(df_not_missed_500[\"tbFailedDueToInterference\"].sum()/df_not_missed_1000[\"tbFailedDueToInterference\"].sum()))\n",
    "\n",
    "print(\"Regular grant break: {}\".format(df_500ms[\"grantBreak\"].sum()/df_1000ms[\"grantBreak\"].sum()))\n",
    "\n",
    "print(\"Grant break missed trans: {}\".format(df_500ms[\"grantBreakMissedTrans\"].sum()/df_1000ms[\"grantBreakMissedTrans\"].sum()))\n",
    "\n",
    "print(\"Grant break timing:       {}\".format(df_500ms[\"grantBreakTiming\"].sum()/df_1000ms[\"grantBreakTiming\"].sum()))\n",
    "\n",
    "print(\"Grant break size:         {}\".format(df_500ms[\"grantBreakSize\"].sum()/df_1000ms[\"grantBreakSize\"].sum()))"
   ]
  },
  {
   "cell_type": "code",
   "execution_count": null,
   "metadata": {},
   "outputs": [],
   "source": []
  }
 ],
 "metadata": {
  "kernelspec": {
   "display_name": "Python 3",
   "language": "python",
   "name": "python3"
  },
  "language_info": {
   "codemirror_mode": {
    "name": "ipython",
    "version": 3
   },
   "file_extension": ".py",
   "mimetype": "text/x-python",
   "name": "python",
   "nbconvert_exporter": "python",
   "pygments_lexer": "ipython3",
   "version": "3.8.1"
  }
 },
 "nbformat": 4,
 "nbformat_minor": 4
}
