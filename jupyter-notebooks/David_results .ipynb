{
 "cells": [
  {
   "cell_type": "code",
   "execution_count": 1,
   "metadata": {},
   "outputs": [],
   "source": [
    "%matplotlib inline\n",
    "\n",
    "import re\n",
    "import os\n",
    "import pandas as pd\n",
    "from collections import defaultdict\n",
    "import numpy as np\n",
    "import matplotlib.pyplot as plt\n",
    "\n",
    "\n",
    "def create_bins(lower_bound, width, quantity):\n",
    "    \"\"\" create_bins returns an equal-width (distance) partitioning. \n",
    "        It returns an ascending list of tuples, representing the intervals.\n",
    "        A tuple bins[i], i.e. (bins[i][0], bins[i][1])  with i > 0 \n",
    "        and i < quantity, satisfies the following conditions:\n",
    "            (1) bins[i][0] + width == bins[i][1]\n",
    "            (2) bins[i-1][0] + width == bins[i][0] and\n",
    "                bins[i-1][1] + width == bins[i][1]\n",
    "    \"\"\"\n",
    "    \n",
    "    bins = []\n",
    "    for low in range(lower_bound, \n",
    "                     lower_bound + quantity*width + 1, width):\n",
    "        bins.append((low, low+width))\n",
    "    return bins"
   ]
  },
  {
   "cell_type": "code",
   "execution_count": 2,
   "metadata": {},
   "outputs": [],
   "source": [
    "cv2x_cross_roads_df = pd.read_csv(\"/home/brian/results-analysis/data/processed_data/2019-03-26_21:29-david-cross-roads-cv2x/vector.csv\", usecols=[\"Node\",\"Name\", \"Time\", \"Value\"], dtype={\"Node\": \"object\", \"Name\": \"object\", \"Time\": \"float\", \"Value\": \"float\"})\n",
    "cv2x_cross_roads_sca_df = pd.read_csv(\"/home/brian/results-analysis/data/processed_data/2019-03-26_21:29-david-cross-roads-cv2x/scalar.csv\")\n",
    "cv2x_highway_slow_df = pd.read_csv(\"/home/brian/results-analysis/data/processed_data/2019-03-26_22:48-david-highway-slow-cv2x/vector.csv\", usecols=[\"Node\",\"Name\", \"Time\", \"Value\"], dtype={\"Node\": \"object\", \"Name\": \"object\", \"Time\": \"float\", \"Value\": \"float\"})\n",
    "cv2x_highway_fast_df = pd.read_csv(\"/home/brian/results-analysis/data/processed_data/2019-03-26_23:23-david-highway-fast-cv2x/vector.csv\", usecols=[\"Node\",\"Name\", \"Time\", \"Value\"], dtype={\"Node\": \"object\", \"Name\": \"object\", \"Time\": \"float\", \"Value\": \"float\"})\n",
    "wifi_df = pd.read_csv(\"/home/brian/results-analysis/data/processed_data/2019-03-26_21:30-david-cross-roads-80211p/vector.csv\", usecols=[\"Node\",\"Name\", \"Time\", \"Value\"], dtype={\"Node\": \"object\", \"Name\": \"object\", \"Time\": \"float\", \"Value\": \"float\"})"
   ]
  },
  {
   "cell_type": "code",
   "execution_count": 3,
   "metadata": {},
   "outputs": [],
   "source": [
    "stats_we_want = [\"numAirFramesWithSCIsReceivedSignal:vector\", \n",
    "                 \"numAirFramesWithTBsReceivedSignal:vector\", \n",
    "                 \"numSCIAndTBPairsSignal:vector\",\n",
    "                 \"numAirFramesWithSCIsNotReceivedSignal:vector\",\n",
    "                 \"numAirFramesWithTBsNotReceivedSignal:vector\",\n",
    "                 \"distanceSignal:vector\"]\n",
    "pdr_cross_roads_df = cv2x_cross_roads_df[cv2x_cross_roads_df[\"Name\"].isin(stats_we_want)]\n",
    "pdr_highway_slow_df = cv2x_highway_slow_df[cv2x_highway_slow_df[\"Name\"].isin(stats_we_want)]\n",
    "pdr_highway_fast_df = cv2x_highway_fast_df[cv2x_highway_fast_df[\"Name\"].isin(stats_we_want)]"
   ]
  },
  {
   "cell_type": "code",
   "execution_count": 4,
   "metadata": {},
   "outputs": [
    {
     "data": {
      "text/html": [
       "<div>\n",
       "<style scoped>\n",
       "    .dataframe tbody tr th:only-of-type {\n",
       "        vertical-align: middle;\n",
       "    }\n",
       "\n",
       "    .dataframe tbody tr th {\n",
       "        vertical-align: top;\n",
       "    }\n",
       "\n",
       "    .dataframe thead th {\n",
       "        text-align: right;\n",
       "    }\n",
       "</style>\n",
       "<table border=\"1\" class=\"dataframe\">\n",
       "  <thead>\n",
       "    <tr style=\"text-align: right;\">\n",
       "      <th></th>\n",
       "      <th>Node</th>\n",
       "      <th>Time</th>\n",
       "      <th>Name</th>\n",
       "      <th>Value</th>\n",
       "    </tr>\n",
       "  </thead>\n",
       "  <tbody>\n",
       "    <tr>\n",
       "      <th>107345</th>\n",
       "      <td>0</td>\n",
       "      <td>0.143</td>\n",
       "      <td>numAirFramesWithSCIsNotReceivedSignal:vector</td>\n",
       "      <td>1.0</td>\n",
       "    </tr>\n",
       "    <tr>\n",
       "      <th>107346</th>\n",
       "      <td>0</td>\n",
       "      <td>0.345</td>\n",
       "      <td>numAirFramesWithSCIsNotReceivedSignal:vector</td>\n",
       "      <td>2.0</td>\n",
       "    </tr>\n",
       "    <tr>\n",
       "      <th>107347</th>\n",
       "      <td>0</td>\n",
       "      <td>0.446</td>\n",
       "      <td>numAirFramesWithSCIsNotReceivedSignal:vector</td>\n",
       "      <td>3.0</td>\n",
       "    </tr>\n",
       "    <tr>\n",
       "      <th>107348</th>\n",
       "      <td>0</td>\n",
       "      <td>0.648</td>\n",
       "      <td>numAirFramesWithSCIsNotReceivedSignal:vector</td>\n",
       "      <td>4.0</td>\n",
       "    </tr>\n",
       "    <tr>\n",
       "      <th>107349</th>\n",
       "      <td>0</td>\n",
       "      <td>0.850</td>\n",
       "      <td>numAirFramesWithSCIsNotReceivedSignal:vector</td>\n",
       "      <td>5.0</td>\n",
       "    </tr>\n",
       "  </tbody>\n",
       "</table>\n",
       "</div>"
      ],
      "text/plain": [
       "       Node   Time                                          Name  Value\n",
       "107345    0  0.143  numAirFramesWithSCIsNotReceivedSignal:vector    1.0\n",
       "107346    0  0.345  numAirFramesWithSCIsNotReceivedSignal:vector    2.0\n",
       "107347    0  0.446  numAirFramesWithSCIsNotReceivedSignal:vector    3.0\n",
       "107348    0  0.648  numAirFramesWithSCIsNotReceivedSignal:vector    4.0\n",
       "107349    0  0.850  numAirFramesWithSCIsNotReceivedSignal:vector    5.0"
      ]
     },
     "execution_count": 4,
     "metadata": {},
     "output_type": "execute_result"
    }
   ],
   "source": [
    "pdr_cross_roads_df.head()"
   ]
  },
  {
   "cell_type": "code",
   "execution_count": 5,
   "metadata": {},
   "outputs": [],
   "source": [
    "pdr_cross_roads_df = pdr_cross_roads_df.pivot_table(index=\"Time\",\n",
    "                                                    columns=\"Name\", \n",
    "                                                    values=\"Value\", \n",
    "                                                    fill_value=0, \n",
    "                                                    aggfunc=\"sum\")\n",
    "\n",
    "pdr_highway_slow_df = pdr_highway_slow_df.pivot_table(index=\"Time\",\n",
    "                                                      columns=\"Name\", \n",
    "                                                      values=\"Value\", \n",
    "                                                      fill_value=0, \n",
    "                                                      aggfunc=\"sum\")\n",
    "\n",
    "pdr_highway_fast_df = pdr_highway_fast_df.pivot_table(index=\"Time\",\n",
    "                                                      columns=\"Name\", \n",
    "                                                      values=\"Value\", \n",
    "                                                      fill_value=0, \n",
    "                                                      aggfunc=\"sum\")"
   ]
  },
  {
   "cell_type": "code",
   "execution_count": 6,
   "metadata": {},
   "outputs": [
    {
     "data": {
      "text/html": [
       "<div>\n",
       "<style scoped>\n",
       "    .dataframe tbody tr th:only-of-type {\n",
       "        vertical-align: middle;\n",
       "    }\n",
       "\n",
       "    .dataframe tbody tr th {\n",
       "        vertical-align: top;\n",
       "    }\n",
       "\n",
       "    .dataframe thead th {\n",
       "        text-align: right;\n",
       "    }\n",
       "</style>\n",
       "<table border=\"1\" class=\"dataframe\">\n",
       "  <thead>\n",
       "    <tr style=\"text-align: right;\">\n",
       "      <th>Name</th>\n",
       "      <th>distanceSignal:vector</th>\n",
       "      <th>numAirFramesWithSCIsNotReceivedSignal:vector</th>\n",
       "      <th>numAirFramesWithSCIsReceivedSignal:vector</th>\n",
       "      <th>numAirFramesWithTBsNotReceivedSignal:vector</th>\n",
       "      <th>numAirFramesWithTBsReceivedSignal:vector</th>\n",
       "      <th>numSCIAndTBPairsSignal:vector</th>\n",
       "    </tr>\n",
       "    <tr>\n",
       "      <th>Time</th>\n",
       "      <th></th>\n",
       "      <th></th>\n",
       "      <th></th>\n",
       "      <th></th>\n",
       "      <th></th>\n",
       "      <th></th>\n",
       "    </tr>\n",
       "  </thead>\n",
       "  <tbody>\n",
       "    <tr>\n",
       "      <th>0.127</th>\n",
       "      <td>270.336993</td>\n",
       "      <td>0</td>\n",
       "      <td>1</td>\n",
       "      <td>0</td>\n",
       "      <td>1</td>\n",
       "      <td>1</td>\n",
       "    </tr>\n",
       "    <tr>\n",
       "      <th>0.143</th>\n",
       "      <td>270.336993</td>\n",
       "      <td>1</td>\n",
       "      <td>0</td>\n",
       "      <td>1</td>\n",
       "      <td>0</td>\n",
       "      <td>0</td>\n",
       "    </tr>\n",
       "    <tr>\n",
       "      <th>0.228</th>\n",
       "      <td>270.331626</td>\n",
       "      <td>0</td>\n",
       "      <td>2</td>\n",
       "      <td>0</td>\n",
       "      <td>2</td>\n",
       "      <td>2</td>\n",
       "    </tr>\n",
       "    <tr>\n",
       "      <th>0.244</th>\n",
       "      <td>270.331693</td>\n",
       "      <td>0</td>\n",
       "      <td>1</td>\n",
       "      <td>2</td>\n",
       "      <td>0</td>\n",
       "      <td>0</td>\n",
       "    </tr>\n",
       "    <tr>\n",
       "      <th>0.329</th>\n",
       "      <td>270.316188</td>\n",
       "      <td>0</td>\n",
       "      <td>3</td>\n",
       "      <td>0</td>\n",
       "      <td>3</td>\n",
       "      <td>3</td>\n",
       "    </tr>\n",
       "  </tbody>\n",
       "</table>\n",
       "</div>"
      ],
      "text/plain": [
       "Name   distanceSignal:vector  numAirFramesWithSCIsNotReceivedSignal:vector  \\\n",
       "Time                                                                         \n",
       "0.127             270.336993                                             0   \n",
       "0.143             270.336993                                             1   \n",
       "0.228             270.331626                                             0   \n",
       "0.244             270.331693                                             0   \n",
       "0.329             270.316188                                             0   \n",
       "\n",
       "Name   numAirFramesWithSCIsReceivedSignal:vector  \\\n",
       "Time                                               \n",
       "0.127                                          1   \n",
       "0.143                                          0   \n",
       "0.228                                          2   \n",
       "0.244                                          1   \n",
       "0.329                                          3   \n",
       "\n",
       "Name   numAirFramesWithTBsNotReceivedSignal:vector  \\\n",
       "Time                                                 \n",
       "0.127                                            0   \n",
       "0.143                                            1   \n",
       "0.228                                            0   \n",
       "0.244                                            2   \n",
       "0.329                                            0   \n",
       "\n",
       "Name   numAirFramesWithTBsReceivedSignal:vector  numSCIAndTBPairsSignal:vector  \n",
       "Time                                                                            \n",
       "0.127                                         1                              1  \n",
       "0.143                                         0                              0  \n",
       "0.228                                         2                              2  \n",
       "0.244                                         0                              0  \n",
       "0.329                                         3                              3  "
      ]
     },
     "execution_count": 6,
     "metadata": {},
     "output_type": "execute_result"
    }
   ],
   "source": [
    "pdr_cross_roads_df.head()"
   ]
  },
  {
   "cell_type": "code",
   "execution_count": 171,
   "metadata": {},
   "outputs": [],
   "source": [
    "pdr_cross_roads_df[\"PDR\"] = (pdr_cross_roads_df[\"numAirFramesWithSCIsReceivedSignal:vector\"]/(pdr_cross_roads_df[\"numAirFramesWithSCIsReceivedSignal:vector\"] + pdr_cross_roads_df[\"numAirFramesWithSCIsNotReceivedSignal:vector\"])) * 100\n",
    "pdr_highway_slow_df[\"PDR\"] = (pdr_highway_slow_df[\"numAirFramesWithSCIsReceivedSignal:vector\"]/(pdr_highway_slow_df[\"numAirFramesWithSCIsReceivedSignal:vector\"] + pdr_highway_slow_df[\"numAirFramesWithSCIsNotReceivedSignal:vector\"])) * 100\n",
    "pdr_highway_fast_df[\"PDR\"] = (pdr_highway_fast_df[\"numAirFramesWithSCIsReceivedSignal:vector\"]/(pdr_highway_fast_df[\"numAirFramesWithSCIsReceivedSignal:vector\"] + pdr_highway_fast_df[\"numAirFramesWithSCIsNotReceivedSignal:vector\"])) * 100"
   ]
  },
  {
   "cell_type": "code",
   "execution_count": 172,
   "metadata": {},
   "outputs": [],
   "source": [
    "bins = create_bins(lower_bound=0, width=10, quantity=49)"
   ]
  },
  {
   "cell_type": "code",
   "execution_count": 173,
   "metadata": {},
   "outputs": [],
   "source": [
    "distances = []\n",
    "pdrs_highway_slow = []\n",
    "pdrs_highway_fast = []\n",
    "pdrs_cross_roads = []\n",
    "for interval in bins:\n",
    "    lower_b = interval[0]\n",
    "    upper_b = interval[1]\n",
    "    pdr_temp_cross   = pdr_cross_roads_df[(pdr_cross_roads_df[\"distanceSignal:vector\"] >= lower_b) & (pdr_cross_roads_df[\"distanceSignal:vector\"] < upper_b)]\n",
    "    pdr_temp_highway = pdr_highway_slow_df[(pdr_highway_slow_df[\"distanceSignal:vector\"] >= lower_b) & (pdr_highway_slow_df[\"distanceSignal:vector\"] < upper_b)]\n",
    "    pdr_temp_highway_fast = pdr_highway_fast_df[(pdr_highway_fast_df[\"distanceSignal:vector\"] >= lower_b) & (pdr_highway_fast_df[\"distanceSignal:vector\"] < upper_b)]\n",
    "    pdrs_cross_roads.append(pdr_temp_cross[\"PDR\"].mean())\n",
    "    pdrs_highway_fast.append(pdr_temp_highway_fast[\"PDR\"].mean())\n",
    "    distances.append(upper_b)"
   ]
  },
  {
   "cell_type": "code",
   "execution_count": 174,
   "metadata": {},
   "outputs": [
    {
     "data": {
      "image/png": "[encoded data removed]",
      "text/plain": [
       "<Figure size 432x288 with 1 Axes>"
      ]
     },
     "metadata": {
      "needs_background": "light"
     },
     "output_type": "display_data"
    }
   ],
   "source": [
    "fig, ax = plt.subplots()\n",
    "ax.plot(distances, pdrs_cross_roads)\n",
    "ax.set(xlabel='Distance (m)', ylabel='Packet Delivery Rate',\n",
    "       title='CV2X Basic Cross roads scenario')\n",
    "ax.grid()\n",
    "\n",
    "fig.savefig(\"cross-roads.png\")\n",
    "plt.show()"
   ]
  }
 ],
 "metadata": {
  "kernelspec": {
   "display_name": "Python 3",
   "language": "python",
   "name": "python3"
  },
  "language_info": {
   "codemirror_mode": {
    "name": "ipython",
    "version": 3
   },
   "file_extension": ".py",
   "mimetype": "text/x-python",
   "name": "python",
   "nbconvert_exporter": "python",
   "pygments_lexer": "ipython3",
   "version": "3.7.0"
  }
 },
 "nbformat": 4,
 "nbformat_minor": 2
}
