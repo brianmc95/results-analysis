{
 "cells": [
  {
   "cell_type": "markdown",
   "metadata": {},
   "source": [
    "## Analytical results analysis"
   ]
  },
  {
   "cell_type": "code",
   "execution_count": 1,
   "metadata": {},
   "outputs": [
    {
     "ename": "ModuleNotFoundError",
     "evalue": "No module named 'natsort'",
     "output_type": "error",
     "traceback": [
      "\u001b[0;31m---------------------------------------------------------------------------\u001b[0m",
      "\u001b[0;31mModuleNotFoundError\u001b[0m                       Traceback (most recent call last)",
      "\u001b[0;32m<ipython-input-1-8c0681916d5d>\u001b[0m in \u001b[0;36m<module>\u001b[0;34m\u001b[0m\n\u001b[1;32m     19\u001b[0m \u001b[0;32mimport\u001b[0m \u001b[0mpandas\u001b[0m \u001b[0;32mas\u001b[0m \u001b[0mpd\u001b[0m\u001b[0;34m\u001b[0m\u001b[0;34m\u001b[0m\u001b[0m\n\u001b[1;32m     20\u001b[0m \u001b[0;32mimport\u001b[0m \u001b[0mmatplotlib\u001b[0m\u001b[0;34m.\u001b[0m\u001b[0mpyplot\u001b[0m \u001b[0;32mas\u001b[0m \u001b[0mplt\u001b[0m\u001b[0;34m\u001b[0m\u001b[0;34m\u001b[0m\u001b[0m\n\u001b[0;32m---> 21\u001b[0;31m \u001b[0;32mimport\u001b[0m \u001b[0mnatsort\u001b[0m\u001b[0;34m\u001b[0m\u001b[0;34m\u001b[0m\u001b[0m\n\u001b[0m",
      "\u001b[0;31mModuleNotFoundError\u001b[0m: No module named 'natsort'"
     ]
    }
   ],
   "source": [
    "%matplotlib inline\n",
    "\n",
    "import matplotlib\n",
    "import numpy as np\n",
    "import matplotlib.pyplot as plt\n",
    "import pandas as pd\n",
    "\n",
    "from matplotlib.ticker import FormatStrFormatter\n",
    "\n",
    "import logging\n",
    "import os\n",
    "import math\n",
    "import multiprocessing\n",
    "import json\n",
    "import re\n",
    "\n",
    "from scipy.stats import t\n",
    "import numpy as np\n",
    "import pandas as pd\n",
    "import matplotlib.pyplot as plt\n",
    "import natsort"
   ]
  },
  {
   "cell_type": "code",
   "execution_count": null,
   "metadata": {},
   "outputs": [],
   "source": [
    "use_markers = False\n",
    "experiment_type = \"cv2x\"\n",
    "\n",
    "use_line_types = False\n",
    "image_format = \"png\"\n",
    "figure_store = \"../data/figures/\"\n",
    "\n",
    "markers = [\".\", \"o\", \"v\", \"^\", \"<\", \">\", \"1\", \"2\", \"3\", \"4\", \"8\", \"s\", \"p\", \"P\", \"*\", \"h\", \"H\", \"+\",\n",
    "           \"x\", \"X\", \"D\", \"d\", \"|\", \"_\", 0, 1, 2, 3, 4, 5, 6, 7, 8, 9, 10, 11]\n",
    "\n",
    "overall_now=\"12:00:00\"\n",
    "confidence_intervals = False"
   ]
  },
  {
   "cell_type": "markdown",
   "metadata": {},
   "source": [
    "### Graphing"
   ]
  },
  {
   "cell_type": "code",
   "execution_count": null,
   "metadata": {},
   "outputs": [],
   "source": [
    "def distance_graph(folders, graph, comparison, configurations, now):\n",
    "    means = []\n",
    "    cis = []\n",
    "    distances = []\n",
    "    for folder, config in zip(folders, configurations):\n",
    "        df = pd.read_csv(\"{}/{}.csv\".format(folder, graph))\n",
    "        means.append(list(df[\"Mean\"]))\n",
    "        if confidence_intervals:\n",
    "            cis.append(list(df[\"Confidence-Interval\"]))\n",
    "        distances = (list(range(0, df.shape[0] * 10, 10)))\n",
    "\n",
    "    if graph in [\"PDR-SCI\", \"PDR-TB\"]:\n",
    "        dist_graph(means, distances, configurations,\n",
    "                   \"{}-{}\".format(comparison, graph), ylabel=\"Packet Delivery Rate %\", now=now,\n",
    "                    confidence_intervals=cis, show=False, store=True, percentage=True)\n",
    "    elif graph == \"IPG\":\n",
    "        dist_graph(means, distances, configurations,\n",
    "                   \"{}-{}\".format(comparison, graph), ylabel=\"Inter-Packet Gap (ms)\", now=now,\n",
    "                   legend_pos=\"upper left\", confidence_intervals=cis, show=False, store=True)"
   ]
  },
  {
   "cell_type": "code",
   "execution_count": null,
   "metadata": {},
   "outputs": [],
   "source": [
    "def cbr_graph(folders, graph, comparison, configurations, now):\n",
    "    # Might change this to time based graph but CBR is fine for now\n",
    "    times = []\n",
    "    cbr = []\n",
    "    cis = []\n",
    "    for folder, config in zip(folders, configurations):\n",
    "        df = pd.read_csv(\"{}/CBR.csv\".format(folder))\n",
    "        times.append(list(df[\"Time\"]))\n",
    "        cbr.append(list(df[\"Mean\"]))\n",
    "        if confidence_intervals:\n",
    "            cis.append(list(df[\"Confidence-Interval\"]))\n",
    "\n",
    "    cbr_plot(cbr, times, \"{}-{}\".format(comparison, graph), configurations, now=now,\n",
    "             confidence_intervals=cis, show=False, store=True)"
   ]
  },
  {
   "cell_type": "code",
   "execution_count": null,
   "metadata": {},
   "outputs": [],
   "source": [
    "def dist_graph(means, distances, labels, plot_name, ylabel, now, legend_pos=\"lower left\",\n",
    "               confidence_intervals=None, show=True, store=False, percentage=False):\n",
    "    fig, ax = plt.subplots()\n",
    "\n",
    "    for i in range(len(means)):\n",
    "        if confidence_intervals:\n",
    "            ax.errorbar(distances, means[i], yerr=confidence_intervals[i], label=labels[i])\n",
    "        else:\n",
    "            ax.plot(distances, means[i], label=labels[i])\n",
    "\n",
    "    ax.set(xlabel='Distance (m)', ylabel=ylabel)\n",
    "    ax.legend(loc=legend_pos)\n",
    "    ax.tick_params(direction='in')\n",
    "\n",
    "    ax.set_xlim([0, (max(distances) + 1)])\n",
    "    plt.xticks(np.arange(0, (max(distances) + 1), step=50))\n",
    "\n",
    "    if percentage:\n",
    "        ax.set_ylim([0, 100])\n",
    "        plt.yticks(np.arange(0, 101, step=10))\n",
    "\n",
    "    if show:\n",
    "        fig.show()\n",
    "\n",
    "    if store:\n",
    "        fig.savefig(\"{}/{}-{}.png\".format(figure_store, plot_name, now), dpi=300)\n",
    "    plt.close(fig)"
   ]
  },
  {
   "cell_type": "code",
   "execution_count": null,
   "metadata": {},
   "outputs": [],
   "source": [
    "def cbr_plot(cbr, times, plot_name, labels, now, confidence_intervals=None, show=True, store=False):\n",
    "    fig, ax = plt.subplots()\n",
    "\n",
    "    for i in range(len(cbr)):\n",
    "        if confidence_intervals:\n",
    "            ax.errorbar(times[i], cbr[i], yerr=confidence_intervals[i], label=labels[i])\n",
    "        else:\n",
    "            ax.plot(times[i], cbr[i], label=labels[i])\n",
    "\n",
    "    ax.legend(loc='upper left')\n",
    "    ax.set(xlabel='Time (s)', ylabel='Channel Busy Ratio %')\n",
    "    ax.tick_params(direction='in')\n",
    "\n",
    "    ax.set_ylim([0, 100])\n",
    "    plt.yticks(np.arange(0, 101, step=10))\n",
    "\n",
    "    if show:\n",
    "        fig.show()\n",
    "\n",
    "    if store:\n",
    "        fig.savefig(\"{}/{}-{}.png\".format(figure_store, plot_name, now), dpi=300)\n",
    "    plt.close(fig)"
   ]
  },
  {
   "cell_type": "markdown",
   "metadata": {},
   "source": [
    "### Setup"
   ]
  },
  {
   "cell_type": "code",
   "execution_count": null,
   "metadata": {},
   "outputs": [],
   "source": [
    "confidence_intervals = None\n",
    "show = True\n",
    "store = False\n",
    "percentage = True"
   ]
  },
  {
   "cell_type": "code",
   "execution_count": null,
   "metadata": {},
   "outputs": [],
   "source": [
    "np.arange(0, 500 + 25, 25)"
   ]
  },
  {
   "cell_type": "code",
   "execution_count": null,
   "metadata": {},
   "outputs": [],
   "source": [
    "omnet_analytical = {\n",
    "    \"mcs7\" : {\n",
    "        \"01vpm\": {\n",
    "            \"20dbm\": \"/hdd/results-analysis/data/processed_data/mcs7/7MCS_20dBm_01vpm/PDR-TB.csv\",\n",
    "            \"23dbm\": \"/hdd/results-analysis/data/processed_data/mcs7/7MCS_23dBm_01vpm-2020-02-28-16_47_32/PDR-TB.csv\"\n",
    "        },\n",
    "        \"02vpm\": {\n",
    "            \"20dbm\": \"/hdd/results-analysis/data/processed_data/mcs7/7MCS_20dBm_02vpm/PDR-TB.csv\",\n",
    "            \"23dbm\": None\n",
    "        },\n",
    "        \"03vpm\": {\n",
    "            \"20dbm\": None,\n",
    "            \"23dbm\": None\n",
    "        }\n",
    "    },\n",
    "    \"mcs9\" : {\n",
    "        \"01vpm\": {\n",
    "            \"20dbm\": \"/hdd/results-analysis/data/processed_data/mcs9/9MCS_20dBm_01vpm/PDR-TB.csv\",\n",
    "            \"23dbm\": \"/hdd/results-analysis/data/processed_data/mcs9/9MCS_23dBm_01vpm-2020-02-28-16_48_32/PDR-TB.csv\"\n",
    "        },\n",
    "        \"02vpm\": {\n",
    "            \"20dbm\": \"/hdd/results-analysis/data/processed_data/mcs9/9MCS_20dBm_02vpm/PDR-TB.csv\",\n",
    "            \"23dbm\": None\n",
    "        },\n",
    "        \"03vpm\": {\n",
    "            \"20dbm\": None,\n",
    "            \"23dbm\": None\n",
    "        }\n",
    "    },\n",
    "}"
   ]
  },
  {
   "cell_type": "code",
   "execution_count": null,
   "metadata": {},
   "outputs": [],
   "source": [
    "matlab_analytical = {\n",
    "    \"mcs7\" : {\n",
    "        \"01vpm\": {\n",
    "            \"20dbm\": \"/hdd/results-analysis/data/processed_data/mcs7/01vpm-7mcs-20dbm.csv\",\n",
    "            \"23dbm\": \"/hdd/results-analysis/data/processed_data/mcs7/01vpm-7mcs-23dbm.csv\"\n",
    "        },\n",
    "        \"02vpm\": {\n",
    "            \"20dbm\": \"/hdd/results-analysis/data/processed_data/mcs7/02vpm-7mcs-20dbm.csv\",\n",
    "            \"23dbm\": \"/hdd/results-analysis/data/processed_data/mcs7/02vpm-7mcs-23dbm.csv\"\n",
    "        },\n",
    "        \"03vpm\": {\n",
    "            \"20dbm\": \"/hdd/results-analysis/data/processed_data/mcs7/03vpm-7mcs-20dbm.csv\",\n",
    "            \"23dbm\": \"/hdd/results-analysis/data/processed_data/mcs7/03vpm-7mcs-23dbm.csv\"\n",
    "        }\n",
    "    },\n",
    "    \"mcs9\" : {\n",
    "        \"01vpm\": {\n",
    "            \"20dbm\": \"/hdd/results-analysis/data/processed_data/mcs9/01vpm-9mcs-20dbm.csv\",\n",
    "            \"23dbm\": \"/hdd/results-analysis/data/processed_data/mcs9/02vpm-9mcs-23dbm.csv\"\n",
    "        },\n",
    "        \"02vpm\": {\n",
    "            \"20dbm\": \"/hdd/results-analysis/data/processed_data/mcs9/02vpm-9mcs-20dbm.csv\",\n",
    "            \"23dbm\": \"/hdd/results-analysis/data/processed_data/mcs9/02vpm-9mcs-23dbm.csv\"\n",
    "        },\n",
    "        \"03vpm\": {\n",
    "            \"20dbm\": \"/hdd/results-analysis/data/processed_data/mcs9/03vpm-9mcs-20dbm.csv\",\n",
    "            \"23dbm\": \"/hdd/results-analysis/data/processed_data/mcs9/03vpm-9mcs-23dbm.csv\"\n",
    "        }\n",
    "    },\n",
    "}"
   ]
  },
  {
   "cell_type": "code",
   "execution_count": null,
   "metadata": {},
   "outputs": [],
   "source": [
    "omnet_dfs = {}\n",
    "for modulation in omnet_analytical:\n",
    "    omnet_dfs[modulation] = {}\n",
    "    \n",
    "    for density in omnet_analytical[modulation]:\n",
    "        omnet_dfs[modulation][density] = {}\n",
    "        \n",
    "        for power in omnet_analytical[modulation][density]:\n",
    "            \n",
    "            if omnet_analytical[modulation][density][power]:\n",
    "                df = pd.read_csv(omnet_analytical[modulation][density][power])\n",
    "                df = df[0:21]\n",
    "                \n",
    "                omnet_dfs[modulation][density][power] = df\n",
    "            else:\n",
    "                omnet_dfs[modulation][density][power] = None"
   ]
  },
  {
   "cell_type": "code",
   "execution_count": null,
   "metadata": {},
   "outputs": [],
   "source": [
    "matlab_dfs = {}\n",
    "for modulation in matlab_analytical:\n",
    "    matlab_dfs[modulation] = {}\n",
    "    \n",
    "    for density in matlab_analytical[modulation]:\n",
    "        matlab_dfs[modulation][density] = {}\n",
    "        \n",
    "        for power in matlab_analytical[modulation][density]:\n",
    "            \n",
    "            if matlab_analytical[modulation][density][power]:\n",
    "                df = pd.read_csv(matlab_analytical[modulation][density][power])\n",
    "                df[\"pdr\"] = df[\"pdr\"].multiply(100)\n",
    "                \n",
    "                matlab_dfs[modulation][density][power] = df\n",
    "            else:\n",
    "                matlab_dfs[modulation][density][power] = None"
   ]
  },
  {
   "cell_type": "code",
   "execution_count": 2,
   "metadata": {},
   "outputs": [],
   "source": [
    "distances = [x for x in range(0, 525, 25)]"
   ]
  },
  {
   "cell_type": "code",
   "execution_count": 3,
   "metadata": {},
   "outputs": [],
   "source": [
    "show = True\n",
    "store = False"
   ]
  },
  {
   "cell_type": "code",
   "execution_count": 4,
   "metadata": {},
   "outputs": [
    {
     "ename": "NameError",
     "evalue": "name 'matlab_analytical' is not defined",
     "output_type": "error",
     "traceback": [
      "\u001b[0;31m---------------------------------------------------------------------------\u001b[0m",
      "\u001b[0;31mNameError\u001b[0m                                 Traceback (most recent call last)",
      "\u001b[0;32m<ipython-input-4-ade0f05eacce>\u001b[0m in \u001b[0;36m<module>\u001b[0;34m\u001b[0m\n\u001b[0;32m----> 1\u001b[0;31m \u001b[0;32mfor\u001b[0m \u001b[0mmodulation\u001b[0m \u001b[0;32min\u001b[0m \u001b[0mmatlab_analytical\u001b[0m\u001b[0;34m:\u001b[0m\u001b[0;34m\u001b[0m\u001b[0;34m\u001b[0m\u001b[0m\n\u001b[0m\u001b[1;32m      2\u001b[0m     \u001b[0;32mfor\u001b[0m \u001b[0mdensity\u001b[0m \u001b[0;32min\u001b[0m \u001b[0mmatlab_analytical\u001b[0m\u001b[0;34m[\u001b[0m\u001b[0mmodulation\u001b[0m\u001b[0;34m]\u001b[0m\u001b[0;34m:\u001b[0m\u001b[0;34m\u001b[0m\u001b[0;34m\u001b[0m\u001b[0m\n\u001b[1;32m      3\u001b[0m         \u001b[0;32mfor\u001b[0m \u001b[0mpower\u001b[0m \u001b[0;32min\u001b[0m \u001b[0mmatlab_analytical\u001b[0m\u001b[0;34m[\u001b[0m\u001b[0mmodulation\u001b[0m\u001b[0;34m]\u001b[0m\u001b[0;34m[\u001b[0m\u001b[0mdensity\u001b[0m\u001b[0;34m]\u001b[0m\u001b[0;34m:\u001b[0m\u001b[0;34m\u001b[0m\u001b[0;34m\u001b[0m\u001b[0m\n\u001b[1;32m      4\u001b[0m             \u001b[0;32mif\u001b[0m \u001b[0momnet_analytical\u001b[0m\u001b[0;34m[\u001b[0m\u001b[0mmodulation\u001b[0m\u001b[0;34m]\u001b[0m\u001b[0;34m[\u001b[0m\u001b[0mdensity\u001b[0m\u001b[0;34m]\u001b[0m\u001b[0;34m[\u001b[0m\u001b[0mpower\u001b[0m\u001b[0;34m]\u001b[0m \u001b[0;32mand\u001b[0m \u001b[0mmatlab_analytical\u001b[0m\u001b[0;34m[\u001b[0m\u001b[0mmodulation\u001b[0m\u001b[0;34m]\u001b[0m\u001b[0;34m[\u001b[0m\u001b[0mdensity\u001b[0m\u001b[0;34m]\u001b[0m\u001b[0;34m[\u001b[0m\u001b[0mpower\u001b[0m\u001b[0;34m]\u001b[0m\u001b[0;34m:\u001b[0m\u001b[0;34m\u001b[0m\u001b[0;34m\u001b[0m\u001b[0m\n\u001b[1;32m      5\u001b[0m \u001b[0;34m\u001b[0m\u001b[0m\n",
      "\u001b[0;31mNameError\u001b[0m: name 'matlab_analytical' is not defined"
     ]
    }
   ],
   "source": [
    "for modulation in matlab_analytical:\n",
    "    for density in matlab_analytical[modulation]:\n",
    "        for power in matlab_analytical[modulation][density]:\n",
    "            if omnet_analytical[modulation][density][power] and matlab_analytical[modulation][density][power]:\n",
    "            \n",
    "                fig, ax = plt.subplots()\n",
    "\n",
    "                ax.plot(distances, omnet_dfs[modulation][density][power][\"Mean\"], label=\"Simulation\")\n",
    "                ax.plot(distances, matlab_dfs[modulation][density][power][\"pdr\"], label=\"Analytical\")\n",
    "\n",
    "                ax.set(xlabel='Distance (m)', ylabel='Packet Delivery Rate %')\n",
    "                ax.legend(loc='lower left')\n",
    "                ax.tick_params(direction='in')\n",
    "\n",
    "                ax.set_xlim([0, 501])\n",
    "                plt.xticks(np.arange(0, 501, step=50))\n",
    "\n",
    "                ax.set_ylim([0, 100])\n",
    "                plt.yticks(np.arange(0, 101, step=10))\n",
    "\n",
    "                fig.savefig(\"../data/figures/Validation-{}-{}-{}.png\".format(modulation,density,power), dpi=300)\n",
    "\n",
    "                plt.close(fig)"
   ]
  },
  {
   "cell_type": "code",
   "execution_count": 5,
   "metadata": {},
   "outputs": [
    {
     "ename": "NameError",
     "evalue": "name 'omnet_dfs' is not defined",
     "output_type": "error",
     "traceback": [
      "\u001b[0;31m---------------------------------------------------------------------------\u001b[0m",
      "\u001b[0;31mNameError\u001b[0m                                 Traceback (most recent call last)",
      "\u001b[0;32m<ipython-input-5-93cb00a8c7b7>\u001b[0m in \u001b[0;36m<module>\u001b[0;34m\u001b[0m\n\u001b[1;32m      1\u001b[0m \u001b[0mfig\u001b[0m\u001b[0;34m,\u001b[0m \u001b[0max\u001b[0m \u001b[0;34m=\u001b[0m \u001b[0mplt\u001b[0m\u001b[0;34m.\u001b[0m\u001b[0msubplots\u001b[0m\u001b[0;34m(\u001b[0m\u001b[0;34m)\u001b[0m\u001b[0;34m\u001b[0m\u001b[0;34m\u001b[0m\u001b[0m\n\u001b[1;32m      2\u001b[0m \u001b[0;34m\u001b[0m\u001b[0m\n\u001b[0;32m----> 3\u001b[0;31m \u001b[0max\u001b[0m\u001b[0;34m.\u001b[0m\u001b[0mplot\u001b[0m\u001b[0;34m(\u001b[0m\u001b[0mdistances\u001b[0m\u001b[0;34m,\u001b[0m \u001b[0momnet_dfs\u001b[0m\u001b[0;34m[\u001b[0m\u001b[0;34m\"mcs7\"\u001b[0m\u001b[0;34m]\u001b[0m\u001b[0;34m[\u001b[0m\u001b[0;34m\"01vpm\"\u001b[0m\u001b[0;34m]\u001b[0m\u001b[0;34m[\u001b[0m\u001b[0;34m\"23dbm\"\u001b[0m\u001b[0;34m]\u001b[0m\u001b[0;34m[\u001b[0m\u001b[0;34m\"Mean\"\u001b[0m\u001b[0;34m]\u001b[0m\u001b[0;34m,\u001b[0m \u001b[0mlabel\u001b[0m\u001b[0;34m=\u001b[0m\u001b[0;34m\"Simulation\"\u001b[0m\u001b[0;34m)\u001b[0m\u001b[0;34m\u001b[0m\u001b[0;34m\u001b[0m\u001b[0m\n\u001b[0m\u001b[1;32m      4\u001b[0m \u001b[0max\u001b[0m\u001b[0;34m.\u001b[0m\u001b[0mplot\u001b[0m\u001b[0;34m(\u001b[0m\u001b[0mdistances\u001b[0m\u001b[0;34m,\u001b[0m \u001b[0momnet_dfs\u001b[0m\u001b[0;34m[\u001b[0m\u001b[0;34m\"mcs7\"\u001b[0m\u001b[0;34m]\u001b[0m\u001b[0;34m[\u001b[0m\u001b[0;34m\"01vpm\"\u001b[0m\u001b[0;34m]\u001b[0m\u001b[0;34m[\u001b[0m\u001b[0;34m\"20dbm\"\u001b[0m\u001b[0;34m]\u001b[0m\u001b[0;34m[\u001b[0m\u001b[0;34m\"Mean\"\u001b[0m\u001b[0;34m]\u001b[0m\u001b[0;34m,\u001b[0m \u001b[0mlabel\u001b[0m\u001b[0;34m=\u001b[0m\u001b[0;34m\"Sim2\"\u001b[0m\u001b[0;34m)\u001b[0m\u001b[0;34m\u001b[0m\u001b[0;34m\u001b[0m\u001b[0m\n\u001b[1;32m      5\u001b[0m \u001b[0;34m\u001b[0m\u001b[0m\n",
      "\u001b[0;31mNameError\u001b[0m: name 'omnet_dfs' is not defined"
     ]
    },
    {
     "data": {
      "image/png": "[encoded data removed]",
      "text/plain": [
       "<Figure size 432x288 with 1 Axes>"
      ]
     },
     "metadata": {
      "needs_background": "light"
     },
     "output_type": "display_data"
    }
   ],
   "source": [
    "fig, ax = plt.subplots()\n",
    "\n",
    "ax.plot(distances, omnet_dfs[\"mcs7\"][\"01vpm\"][\"23dbm\"][\"Mean\"], label=\"Simulation\")\n",
    "ax.plot(distances, omnet_dfs[\"mcs7\"][\"01vpm\"][\"20dbm\"][\"Mean\"], label=\"Sim2\")\n",
    "\n",
    "ax.set(xlabel='Distance (m)', ylabel='Packet Delivery Rate %')\n",
    "ax.legend(loc='lower left')\n",
    "ax.tick_params(direction='in')\n",
    "\n",
    "ax.set_xlim([0, 501])\n",
    "plt.xticks(np.arange(0, 501, step=50))\n",
    "\n",
    "ax.set_ylim([0, 100])\n",
    "plt.yticks(np.arange(0, 101, step=10))\n",
    "\n",
    "plt.show()\n",
    "\n",
    "plt.close(fig)"
   ]
  },
  {
   "cell_type": "code",
   "execution_count": 6,
   "metadata": {},
   "outputs": [],
   "source": [
    "df = pd.read_csv(\"/Users/brianmccarthy/git_repos/results-analysis/data/processed_data/cv2x/9MCS_23dBm_01vpm-2020-03-02-12_09_52/PDR-TB.csv\")"
   ]
  },
  {
   "cell_type": "code",
   "execution_count": 11,
   "metadata": {},
   "outputs": [],
   "source": [
    "mcs7 = pd.read_csv(\"/Users/brianmccarthy/git_repos/results-analysis/data/processed_data/mcs7/MCS7-20dBm-01vpm/PDR-TB.csv\")"
   ]
  },
  {
   "cell_type": "code",
   "execution_count": 9,
   "metadata": {},
   "outputs": [],
   "source": [
    "distances = [x for x in range(0, 500, 10)]"
   ]
  },
  {
   "cell_type": "code",
   "execution_count": 14,
   "metadata": {},
   "outputs": [
    {
     "data": {
      "image/png": "[encoded data removed]",
      "text/plain": [
       "<Figure size 432x288 with 1 Axes>"
      ]
     },
     "metadata": {
      "needs_background": "light"
     },
     "output_type": "display_data"
    }
   ],
   "source": [
    "fig, ax = plt.subplots()\n",
    "\n",
    "ax.plot(distances, df[\"Mean\"], label=\"Simulation\")\n",
    "\n",
    "ax.set(xlabel='Distance (m)', ylabel='Packet Delivery Rate %')\n",
    "ax.legend(loc='lower left')\n",
    "ax.tick_params(direction='in')\n",
    "\n",
    "ax.set_xlim([0, 501])\n",
    "plt.xticks(np.arange(0, 501, step=50))\n",
    "\n",
    "ax.set_ylim([0, 100])\n",
    "plt.yticks(np.arange(0, 101, step=10))\n",
    "\n",
    "plt.show()\n",
    "\n",
    "fig.savefig(\"../data/figures/Validation-{}-{}-{}.png\".format(\"MCS9\",\"01vpm\",\"23dBm\"), dpi=300)\n",
    "\n",
    "plt.close(fig)"
   ]
  },
  {
   "cell_type": "code",
   "execution_count": 13,
   "metadata": {},
   "outputs": [
    {
     "data": {
      "image/png": "[encoded data removed]",
      "text/plain": [
       "<Figure size 432x288 with 1 Axes>"
      ]
     },
     "metadata": {
      "needs_background": "light"
     },
     "output_type": "display_data"
    }
   ],
   "source": [
    "fig, ax = plt.subplots()\n",
    "\n",
    "ax.plot(distances, mcs7[\"Mean\"], label=\"Simulation\")\n",
    "\n",
    "ax.set(xlabel='Distance (m)', ylabel='Packet Delivery Rate %')\n",
    "ax.legend(loc='lower left')\n",
    "ax.tick_params(direction='in')\n",
    "\n",
    "ax.set_xlim([0, 501])\n",
    "plt.xticks(np.arange(0, 501, step=50))\n",
    "\n",
    "ax.set_ylim([0, 100])\n",
    "plt.yticks(np.arange(0, 101, step=10))\n",
    "\n",
    "plt.show()\n",
    "\n",
    "fig.savefig(\"../data/figures/Validation-{}-{}-{}.png\".format(\"MCS7\",\"01vpm\",\"20dBm\"), dpi=300)\n",
    "\n",
    "plt.close(fig)"
   ]
  },
  {
   "cell_type": "code",
   "execution_count": null,
   "metadata": {},
   "outputs": [],
   "source": []
  }
 ],
 "metadata": {
  "kernelspec": {
   "display_name": "Python 3",
   "language": "python",
   "name": "python3"
  },
  "language_info": {
   "codemirror_mode": {
    "name": "ipython",
    "version": 3
   },
   "file_extension": ".py",
   "mimetype": "text/x-python",
   "name": "python",
   "nbconvert_exporter": "python",
   "pygments_lexer": "ipython3",
   "version": "3.7.3"
  }
 },
 "nbformat": 4,
 "nbformat_minor": 4
}
