{
 "cells": [
  {
   "cell_type": "code",
   "execution_count": 1,
   "metadata": {},
   "outputs": [],
   "source": [
    "%matplotlib inline\n",
    "\n",
    "import matplotlib\n",
    "import numpy as np\n",
    "import matplotlib.pyplot as plt\n",
    "import pandas as pd\n",
    "\n",
    "from matplotlib.ticker import FormatStrFormatter"
   ]
  },
  {
   "cell_type": "code",
   "execution_count": 2,
   "metadata": {},
   "outputs": [],
   "source": [
    "import json\n",
    "import os"
   ]
  },
  {
   "cell_type": "code",
   "execution_count": 3,
   "metadata": {},
   "outputs": [],
   "source": [
    "# JSON file containing the results for this simulation run\n",
    "results_file = \"/Users/brianmccarthy/git_repos/results-analysis/configs/cv2x.json\""
   ]
  },
  {
   "cell_type": "code",
   "execution_count": 4,
   "metadata": {},
   "outputs": [],
   "source": [
    "with open(results_file) as results_json:\n",
    "    config = json.load(results_json)[\"cv2x\"]"
   ]
  },
  {
   "cell_type": "code",
   "execution_count": 5,
   "metadata": {},
   "outputs": [],
   "source": [
    "# Markers to use for this run\n",
    "markers = [\".\", \"o\", \"v\", \"^\", \"<\", \">\", \"1\", \"2\", \"3\", \"4\", \"8\", \"s\", \"p\", \"P\", \"*\", \"h\",\n",
    "           \"H\", \"+\", \"x\", \"X\", \"D\", \"d\", \"|\", \"_\", 0, 1, 2, 3, 4, 5, 6, 7, 8, 9, 10, 11]"
   ]
  },
  {
   "cell_type": "code",
   "execution_count": 6,
   "metadata": {},
   "outputs": [],
   "source": [
    "def create_bins(lower_bound, width, quantity):\n",
    "    \"\"\" create_bins returns an equal-width (distance) partitioning.\n",
    "        It returns an ascending list of tuples, representing the intervals.\n",
    "        A tuple bins[i], i.e. (bins[i][0], bins[i][1])  with i > 0\n",
    "        and i < quantity, satisfies the following conditions:\n",
    "            (1) bins[i][0] + width == bins[i][1]\n",
    "            (2) bins[i-1][0] + width == bins[i][0] and\n",
    "                bins[i-1][1] + width == bins[i][1]\n",
    "    \"\"\"\n",
    "    bins = []\n",
    "    for low in range(lower_bound, lower_bound + quantity * width + 1, width):\n",
    "        bins.append((low, low + width))\n",
    "    return bins"
   ]
  },
  {
   "cell_type": "code",
   "execution_count": 7,
   "metadata": {},
   "outputs": [],
   "source": [
    "def bin_fields(df, fields, bin_width=10, bin_quantity=49):\n",
    "    \"\"\"\n",
    "    Bins multiple dfs into a single dictionary that can be used as an average for multiple fields across multiple\n",
    "    runs\n",
    "    :param df: dataframe to bin\n",
    "    :param fields: fields to be binned.\n",
    "    :param bin_width: width of each bin\n",
    "    :param bin_quantity: total number of bins\n",
    "    :return:\n",
    "    \"\"\"\n",
    "    bins = create_bins(lower_bound=0, width=bin_width, quantity=bin_quantity)\n",
    "    distances = []\n",
    "    overall_fields = {}\n",
    "    for interval in bins:\n",
    "        upper_b = interval[1]\n",
    "        distances.append(upper_b)\n",
    "\n",
    "    for field in fields:\n",
    "        overall_fields[field] = []\n",
    "\n",
    "    overall_fields[\"distance\"] = distances\n",
    "\n",
    "    distance_col = config[\"results\"][\"distance\"]\n",
    "\n",
    "    for i in range(len(bins)):\n",
    "        lower_b = bins[i][0]\n",
    "        upper_b = bins[i][1]\n",
    "        fields_temp = df[(df[distance_col] >= lower_b) & (df[distance_col] < upper_b)]\n",
    "        for field in fields:\n",
    "            if i < len(overall_fields[field]):\n",
    "                overall_fields[field][i] = (fields_temp[field].mean() + overall_fields[field][i]) / 2\n",
    "            else:\n",
    "                overall_fields[field].append(fields_temp[field].mean())\n",
    "\n",
    "    return overall_fields"
   ]
  },
  {
   "cell_type": "code",
   "execution_count": 8,
   "metadata": {},
   "outputs": [],
   "source": [
    "def pdr_dist_individual(pdr, distances, label, plot_name, show=True, store=False):\n",
    "    fig, ax = plt.subplots()\n",
    "\n",
    "    ax.plot(distances, pdr, label=label, marker=markers[0], markevery=3)\n",
    "\n",
    "    ax.set(xlabel='Distance (m)', ylabel='Packet Delivery Rate (PDR) %')\n",
    "    ax.legend(loc='lower right')\n",
    "    ax.tick_params(direction='in')\n",
    "\n",
    "    ax.set_ylim([0, 100])\n",
    "    plt.yticks(np.arange(0, 101, step=10))\n",
    "\n",
    "    ax.set_xlim([0, (max(distances) + 1)])\n",
    "    plt.xticks(np.arange(0, (max(distances) + 1), step=50))\n",
    "\n",
    "    fig.suptitle(plot_name, fontsize=12)\n",
    "    \n",
    "    if show:\n",
    "        fig.show()\n",
    "        \n",
    "    if store:\n",
    "        fig.savefig(\"{}.png\".format(plot_name))"
   ]
  },
  {
   "cell_type": "code",
   "execution_count": 9,
   "metadata": {},
   "outputs": [],
   "source": [
    "def pdr_dist(pdrs, distances, labels, plot_name, show=True, store=False):\n",
    "    fig, ax = plt.subplots()\n",
    "\n",
    "    for i in range(len(pdrs)):\n",
    "        ax.plot(distances, pdrs[i], label=labels[i])\n",
    "\n",
    "    ax.set(xlabel='Distance (m)', ylabel='Packet Delivery Rate (PDR) %')\n",
    "    ax.legend(loc='lower left')\n",
    "    ax.tick_params(direction='in')\n",
    "    \n",
    "    ax.set_ylim([0, 100])\n",
    "    plt.yticks(np.arange(0, 101, step=10))\n",
    "\n",
    "    ax.set_xlim([0, (max(distances) + 1)])\n",
    "    plt.xticks(np.arange(0, (max(distances) + 1), step=50))\n",
    "\n",
    "    fig.suptitle(plot_name, fontsize=12)\n",
    "    \n",
    "    if show:\n",
    "        fig.show()\n",
    "        \n",
    "    if store:\n",
    "        fig.savefig(\"{}.png\".format(plot_name), dpi=300)"
   ]
  },
  {
   "cell_type": "code",
   "execution_count": 10,
   "metadata": {},
   "outputs": [],
   "source": [
    "def errors_dist_individual(distances, decoded, errors, error_labels, plot_name, show=True, store=False):\n",
    "    fig, ax = plt.subplots()\n",
    "\n",
    "    ax.plot(distances, decoded, label=\"Decoded\", marker=self.markers[0], markevery=3)\n",
    "\n",
    "    for i in range(len(errors)):\n",
    "        ax.plot(distances, errors[i], label=error_labels[i], marker=self.markers[i+1], markevery=3)\n",
    "\n",
    "    ax.legend(loc='center left')\n",
    "    ax.set(xlabel='Distance (m)', ylabel='Messages Decoded')\n",
    "    ax.tick_params(direction='in')\n",
    "\n",
    "    ax.set_ylim([0, 1])\n",
    "    plt.yticks(np.arange(0, 1.1, step=.1))\n",
    "\n",
    "    ax.set_xlim([0, (max(distances) + 1)])\n",
    "    plt.xticks(np.arange(0, (max(distances) + 1), step=50))\n",
    "\n",
    "    fig.suptitle(plot_name, fontsize=12)\n",
    "    \n",
    "    if show:\n",
    "        fig.show()\n",
    "\n",
    "    if store:\n",
    "        fig.savefig(\"{}.png\".format(plot_name))\n",
    "    "
   ]
  },
  {
   "cell_type": "code",
   "execution_count": 11,
   "metadata": {},
   "outputs": [],
   "source": [
    "def errors_dist(distances, decoded, decoded_labels, errors, error_labels, plot_name, show=True, store=False):\n",
    "    fig, ax = plt.subplots()\n",
    "\n",
    "    for i in range(len(decoded)):\n",
    "        ax.plot(distances, decoded[i], label=decoded_labels[i], marker=self.markers[i], markevery=3)\n",
    "\n",
    "        for j in range(len(errors[i])):\n",
    "            ax.plot(distances, errors[i][j], label=error_labels[i][j], marker=self.markers[i + j])\n",
    "\n",
    "    ax.legend(loc='center left')\n",
    "    ax.set(xlabel='Distance (m)', ylabel='Messages Decoded')\n",
    "    ax.tick_params(direction='in')\n",
    "\n",
    "    ax.set_ylim([0, 1])\n",
    "    plt.yticks(np.arange(0, 1.1, step=.1))\n",
    "\n",
    "    ax.set_xlim([0, (max(distances) + 1)])\n",
    "    plt.xticks(np.arange(0, (max(distances) + 1), step=50))\n",
    "    \n",
    "    fig.suptitle(plot_name, fontsize=12)\n",
    "    \n",
    "    if show:\n",
    "        fig.show()\n",
    "        \n",
    "    if store:\n",
    "        fig.savefig(\"{}.png\".format(plot_name))"
   ]
  },
  {
   "cell_type": "markdown",
   "metadata": {},
   "source": [
    "## Import data and begin comparsion"
   ]
  },
  {
   "cell_type": "code",
   "execution_count": 14,
   "metadata": {},
   "outputs": [],
   "source": [
    "artery_csv = \"/Users/brianmccarthy/git_repos/results-analysis/data/raw_data/cv2x/base/artery.csv\"\n",
    "omnetpp_csv = \"/Users/brianmccarthy/git_repos/results-analysis/data/raw_data/cv2x/base/omnetpp.csv\""
   ]
  },
  {
   "cell_type": "code",
   "execution_count": 15,
   "metadata": {},
   "outputs": [],
   "source": [
    "a_df = pd.read_csv(artery_csv)\n",
    "o_df = pd.read_csv(omnetpp_csv)"
   ]
  },
  {
   "cell_type": "code",
   "execution_count": 16,
   "metadata": {},
   "outputs": [
    {
     "data": {
      "text/plain": [
       "Index(['EventNumber', 'Time', 'NodeID', 'cbr', 'grantStartTime', 'sciDecoded',\n",
       "       'sciFailedHalfDuplex', 'sciNotDecoded', 'sciReceived', 'sciSent',\n",
       "       'selectedNumSubchannels', 'selectedSubchannelIndex', 'senderID',\n",
       "       'subchannelReceived', 'subchannelSent', 'subchannelsUsed',\n",
       "       'subchannelsUsedToSend', 'tbDecoded', 'tbFailedButSCIReceived',\n",
       "       'tbFailedDueToNoSCI', 'tbFailedHalfDuplex', 'tbReceived', 'tbSent',\n",
       "       'txRxDistanceSCI', 'txRxDistanceTB', 'grantBreak'],\n",
       "      dtype='object')"
      ]
     },
     "execution_count": 16,
     "metadata": {},
     "output_type": "execute_result"
    }
   ],
   "source": [
    "o_df.columns"
   ]
  },
  {
   "cell_type": "code",
   "execution_count": 17,
   "metadata": {},
   "outputs": [
    {
     "data": {
      "text/plain": [
       "Index(['EventNumber', 'Time', 'NodeID', 'cbr', 'grantRequests',\n",
       "       'grantStartTime', 'sciDecoded', 'sciFailedHalfDuplex', 'sciNotDecoded',\n",
       "       'sciReceived', 'sciSent', 'selectedNumSubchannels',\n",
       "       'selectedSubchannelIndex', 'senderID', 'subchannelReceived',\n",
       "       'subchannelSent', 'subchannelsUsed', 'subchannelsUsedToSend',\n",
       "       'tbDecoded', 'tbFailedButSCIReceived', 'tbFailedDueToNoSCI',\n",
       "       'tbFailedHalfDuplex', 'tbReceived', 'tbSent', 'txRxDistanceSCI',\n",
       "       'txRxDistanceTB', 'grantBreak'],\n",
       "      dtype='object')"
      ]
     },
     "execution_count": 17,
     "metadata": {},
     "output_type": "execute_result"
    }
   ],
   "source": [
    "a_df.columns"
   ]
  },
  {
   "cell_type": "code",
   "execution_count": 18,
   "metadata": {},
   "outputs": [
    {
     "name": "stdout",
     "output_type": "stream",
     "text": [
      "Num vehicles in omnet++: 252\n",
      "Difference in num vehicles: 0\n"
     ]
    }
   ],
   "source": [
    "# Number of vehicles comparison\n",
    "print(\"Num vehicles in omnet++: {}\".format(len(o_df.NodeID.unique())))\n",
    "print(\"Difference in num vehicles: {}\".format(len(o_df.NodeID.unique()) - len(a_df.NodeID.unique())))"
   ]
  },
  {
   "cell_type": "code",
   "execution_count": 19,
   "metadata": {},
   "outputs": [
    {
     "data": {
      "text/plain": [
       "127.0"
      ]
     },
     "execution_count": 19,
     "metadata": {},
     "output_type": "execute_result"
    }
   ],
   "source": [
    "# TB sent difference\n",
    "o_df.tbSent.sum() - a_df.tbSent.sum()"
   ]
  },
  {
   "cell_type": "code",
   "execution_count": 20,
   "metadata": {},
   "outputs": [
    {
     "data": {
      "text/plain": [
       "127.0"
      ]
     },
     "execution_count": 20,
     "metadata": {},
     "output_type": "execute_result"
    }
   ],
   "source": [
    "# SCI sent difference\n",
    "o_df.sciSent.sum() - a_df.sciSent.sum()"
   ]
  },
  {
   "cell_type": "code",
   "execution_count": 21,
   "metadata": {},
   "outputs": [
    {
     "data": {
      "text/plain": [
       "31133.0"
      ]
     },
     "execution_count": 21,
     "metadata": {},
     "output_type": "execute_result"
    }
   ],
   "source": [
    "# Received vs non-received.\n",
    "o_df.tbReceived.sum() - a_df.tbReceived.sum()"
   ]
  },
  {
   "cell_type": "code",
   "execution_count": 22,
   "metadata": {},
   "outputs": [
    {
     "data": {
      "text/plain": [
       "31133.0"
      ]
     },
     "execution_count": 22,
     "metadata": {},
     "output_type": "execute_result"
    }
   ],
   "source": [
    "# Scis received\n",
    "o_df.sciReceived.sum() - a_df.sciReceived.sum()"
   ]
  },
  {
   "cell_type": "code",
   "execution_count": 23,
   "metadata": {},
   "outputs": [
    {
     "data": {
      "text/plain": [
       "861.0"
      ]
     },
     "execution_count": 23,
     "metadata": {},
     "output_type": "execute_result"
    }
   ],
   "source": [
    "# More HD errors in OMNeT++ but realistically not significantly more.\n",
    "o_df.sciFailedHalfDuplex.sum() - a_df.sciFailedHalfDuplex.sum()"
   ]
  },
  {
   "cell_type": "code",
   "execution_count": 24,
   "metadata": {},
   "outputs": [
    {
     "data": {
      "text/plain": [
       "-379408.0"
      ]
     },
     "execution_count": 24,
     "metadata": {},
     "output_type": "execute_result"
    }
   ],
   "source": [
    "# Scis not received\n",
    "o_df.sciNotDecoded.sum() - a_df.sciNotDecoded.sum()"
   ]
  },
  {
   "cell_type": "code",
   "execution_count": 25,
   "metadata": {},
   "outputs": [
    {
     "data": {
      "text/plain": [
       "107604.0"
      ]
     },
     "execution_count": 25,
     "metadata": {},
     "output_type": "execute_result"
    }
   ],
   "source": [
    "# TBs not received but SCI was\n",
    "o_df.tbFailedButSCIReceived.sum() - a_df.tbFailedButSCIReceived.sum()"
   ]
  },
  {
   "cell_type": "code",
   "execution_count": 26,
   "metadata": {},
   "outputs": [
    {
     "data": {
      "text/plain": [
       "302937.0"
      ]
     },
     "execution_count": 26,
     "metadata": {},
     "output_type": "execute_result"
    }
   ],
   "source": [
    "# TBs received\n",
    "o_df.tbDecoded.sum() - a_df.tbDecoded.sum()"
   ]
  }
 ],
 "metadata": {
  "kernelspec": {
   "display_name": "Python 3",
   "language": "python",
   "name": "python3"
  },
  "language_info": {
   "codemirror_mode": {
    "name": "ipython",
    "version": 3
   },
   "file_extension": ".py",
   "mimetype": "text/x-python",
   "name": "python",
   "nbconvert_exporter": "python",
   "pygments_lexer": "ipython3",
   "version": "3.7.3"
  }
 },
 "nbformat": 4,
 "nbformat_minor": 2
}
