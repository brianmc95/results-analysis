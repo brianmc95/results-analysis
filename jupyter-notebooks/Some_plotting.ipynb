{
 "cells": [
  {
   "cell_type": "markdown",
   "metadata": {},
   "source": [
    "# Basic graphing\n",
    "\n",
    "## Goal\n",
    "\n",
    "- PDR vs TxRx-Distance\n",
    "- Grant breaks of different categories over time\n",
    "\n",
    "Need a bit more than this but it's a start at least"
   ]
  },
  {
   "cell_type": "code",
   "execution_count": 33,
   "metadata": {},
   "outputs": [],
   "source": [
    "import re\n",
    "import os\n",
    "import pandas as pd\n",
    "from collections import defaultdict\n",
    "import numpy as np\n",
    "import matplotlib.pyplot as plt\n",
    "\n",
    "def create_bins(lower_bound, width, quantity):\n",
    "    \"\"\" create_bins returns an equal-width (distance) partitioning. \n",
    "        It returns an ascending list of tuples, representing the intervals.\n",
    "        A tuple bins[i], i.e. (bins[i][0], bins[i][1])  with i > 0 \n",
    "        and i < quantity, satisfies the following conditions:\n",
    "            (1) bins[i][0] + width == bins[i][1]\n",
    "            (2) bins[i-1][0] + width == bins[i][0] and\n",
    "                bins[i-1][1] + width == bins[i][1]\n",
    "    \"\"\"\n",
    "    \n",
    "    bins = []\n",
    "    for low in range(lower_bound, \n",
    "                     lower_bound + quantity*width + 1, width):\n",
    "        bins.append((low, low+width))\n",
    "    return bins"
   ]
  },
  {
   "cell_type": "code",
   "execution_count": 51,
   "metadata": {},
   "outputs": [],
   "source": [
    "pdf = pd.read_csv(\"/home/brian/results-analysis/data/processed_data/2019-03-23_12:47-mode4/vector.csv\",usecols=[\"node\",\"name\", \"vectime\", \"vecvalue\"])\n",
    "pdf2 = pdf[pdf[\"node\"] == 0]\n",
    "\n",
    "tbs_recived = pdf2[pdf2[\"name\"] == \"tbsReceived:vector\"][\"vecvalue\"].values\n",
    "tbs_received_time = pdf2[pdf2[\"name\"] == \"tbsReceived:vector\"][\"vectime\"].values\n",
    "\n",
    "txrxdistance = pdf2[pdf2[\"name\"] == \"txRxDistance:vector\"][\"vecvalue\"].values\n",
    "txrxdistance_time = pdf2[pdf2[\"name\"] == \"txRxDistance:vector\"][\"vectime\"].values\n",
    "\n",
    "tbs_failbutrec = pdf2[pdf2[\"name\"] == \"tbFailedButSCIReceived:vector\"][\"vecvalue\"].values\n",
    "tbs_failbutrec_time = pdf2[pdf2[\"name\"] == \"tbFailedButSCIReceived:vector\"][\"vectime\"].values\n",
    "\n",
    "tbs_failduesci = pdf2[pdf2[\"name\"] == \"tbsFailedDueToNoSCI:vector\"][\"vecvalue\"].values\n",
    "tbs_failduesci_time = pdf2[pdf2[\"name\"] == \"tbsFailedDueToNoSCI:vector\"][\"vectime\"].values\n",
    "\n",
    "#final_res = (tbs_recived - tbs_failbutrec - tbs_failduesci)/ tbs_recived *100"
   ]
  },
  {
   "cell_type": "code",
   "execution_count": 52,
   "metadata": {},
   "outputs": [],
   "source": [
    "tbs_recived = np.array(tbs_recived[0].split(\" \")).astype(\"float\")\n",
    "tbs_received_time = np.array(tbs_received_time[0].split(\" \")).astype(\"float\")\n",
    "\n",
    "txrxdistance = np.array(txrxdistance[0].split(\" \")).astype(\"float\")\n",
    "txrxdistance_time = np.array(txrxdistance_time[0].split(\" \")).astype(\"float\")\n",
    "\n",
    "tbs_failbutrec = np.array(tbs_failbutrec[0].split(\" \")).astype(\"float\")\n",
    "tbs_failbutrec_time = np.array(tbs_failbutrec_time[0].split(\" \")).astype(\"float\")\n",
    "\n",
    "tbs_failduesci = np.array(tbs_failduesci[0].split(\" \")).astype(\"float\")\n",
    "tbs_failduesci_time = np.array(tbs_failduesci_time[0].split(\" \")).astype(\"float\")"
   ]
  },
  {
   "cell_type": "code",
   "execution_count": 56,
   "metadata": {},
   "outputs": [
    {
     "name": "stdout",
     "output_type": "stream",
     "text": [
      "[(0, 10), (10, 20), (20, 30), (30, 40), (40, 50), (50, 60), (60, 70), (70, 80), (80, 90), (90, 100), (100, 110), (110, 120), (120, 130), (130, 140), (140, 150), (150, 160), (160, 170), (170, 180), (180, 190), (190, 200), (200, 210), (210, 220), (220, 230), (230, 240), (240, 250), (250, 260), (260, 270), (270, 280), (280, 290), (290, 300), (300, 310), (310, 320), (320, 330), (330, 340), (340, 350), (350, 360), (360, 370), (370, 380), (380, 390), (390, 400), (400, 410), (410, 420), (420, 430), (430, 440), (440, 450), (450, 460), (460, 470), (470, 480), (480, 490), (490, 500)]\n",
      "100.0\n",
      "17.681159420289855\n",
      "13.910761154855644\n",
      "54.958677685950406\n",
      "100.0\n",
      "100.0\n",
      "61.6504854368932\n",
      "54.46927374301676\n",
      "47.276688453159046\n",
      "44.55696202531645\n",
      "30.528375733855185\n",
      "28.273809523809522\n",
      "85.18518518518519\n",
      "18.14946619217082\n",
      "-69.47674418604652\n",
      "-41.23711340206185\n",
      "-13.26530612244898\n",
      "-26.96078431372549\n",
      "35.18518518518518\n",
      "11.904761904761903\n",
      "8.778625954198473\n",
      "17.559523809523807\n",
      "-98.74213836477988\n",
      "-89.10891089108911\n",
      "-9.011627906976743\n",
      "-29.916897506925206\n",
      "-86.85121107266436\n",
      "-153.63636363636363\n",
      "-162.61682242990653\n",
      "2.898550724637681\n",
      "-7.07070707070707\n",
      "-10.56338028169014\n",
      "-0.7633587786259541\n",
      "18.91891891891892\n",
      "20.714285714285715\n",
      "-5.597014925373134\n",
      "-23.655913978494624\n",
      "-16.901408450704224\n",
      "0.0\n",
      "-21.568627450980394\n",
      "-25.0\n",
      "-98.87005649717514\n",
      "-135.13513513513513\n",
      "0.0\n",
      "-29.268292682926827\n",
      "-38.46153846153847\n",
      "-66.66666666666666\n",
      "0.0\n",
      "0.0\n",
      "0.0\n",
      "(140, 150)\n",
      "344.0\n",
      "95\n",
      "488\n",
      "-69.47674418604652\n",
      "    tbs_recived  txrxdistance  tbs_failbutrec  tbs_failduesci\n",
      "2           1.0      8.100322               0               0\n",
      "5           1.0      8.100322               0               0\n",
      "8           1.0      8.100322               0               0\n",
      "11          1.0      8.100322               0               0\n",
      "14          1.0      8.100322               0               0\n"
     ]
    }
   ],
   "source": [
    "tbs_failbutrec = []\n",
    "tbs_failduesci = []\n",
    "dist = []\n",
    "for inst in tbs_received_time:\n",
    "   itemindex_failbutrec = np.where(tbs_failbutrec_time==inst)\n",
    "   tbs_failbutrec.append(len(itemindex_failbutrec[0]))\n",
    "   itemindex_tbs_failduesci = np.where(tbs_failduesci_time==inst)\n",
    "   tbs_failduesci.append(len(itemindex_tbs_failduesci[0]))\n",
    "\n",
    "   itemindex_disttime = np.where(txrxdistance_time==inst)\n",
    "   dist.append(tbs_txrxdistance[itemindex_disttime[0][0]])\n",
    "   \n",
    "    \n",
    "   \n",
    "pdf_dict = {}\n",
    "pdf_dict[\"tbs_recived\"] = tbs_recived\n",
    "pdf_dict[\"txrxdistance\"] = dist\n",
    "pdf_dict[\"tbs_failbutrec\"] = np.array(tbs_failbutrec)\n",
    "pdf_dict[\"tbs_failduesci\"] = np.array(tbs_failduesci)\n",
    "pdf3 = pd.DataFrame(pdf_dict)\n",
    "pdf_500m = pdf3[pdf3[\"txrxdistance\"] <= 500]\n",
    "\n",
    "bins = create_bins(lower_bound=0, width=10, quantity=49)\n",
    "print (bins)\n",
    "\n",
    "for interval in bins:\n",
    "    lower_b = interval[0]\n",
    "    upper_b = interval[1]\n",
    "    pdf_temp = pdf_500m[(pdf_500m[\"txrxdistance\"] >= lower_b) & (pdf_500m[\"txrxdistance\"] < upper_b)]\n",
    "    sum_rec = float(len(pdf_temp[\"tbs_recived\"]))\n",
    "    pdr = ((sum_rec - pdf_temp[\"tbs_failbutrec\"].sum() - pdf_temp[\"tbs_failduesci\"].sum() ) / sum_rec ) *100\n",
    "    print (pdr)\n",
    "\n",
    "print (bins[14])\n",
    "lower_b = bins[14][0]\n",
    "upper_b = bins[14][1]\n",
    "pdf_temp = pdf_500m[(pdf_500m[\"txrxdistance\"] >= lower_b) & (pdf_500m[\"txrxdistance\"] < upper_b)]\n",
    "sum_rec = float(len(pdf_temp[\"tbs_recived\"]))\n",
    "print (sum_rec)\n",
    "print (pdf_temp[\"tbs_failbutrec\"].sum())\n",
    "print (pdf_temp[\"tbs_failduesci\"].sum() )\n",
    "pdr = ((sum_rec - pdf_temp[\"tbs_failbutrec\"].sum() - pdf_temp[\"tbs_failduesci\"].sum() ) / sum_rec ) *100\n",
    "print (pdr)\n",
    "    \n",
    "print (pdf_500m.head())"
   ]
  },
  {
   "cell_type": "code",
   "execution_count": null,
   "metadata": {},
   "outputs": [],
   "source": []
  },
  {
   "cell_type": "markdown",
   "metadata": {},
   "source": [
    "### My own messing "
   ]
  },
  {
   "cell_type": "code",
   "execution_count": null,
   "metadata": {},
   "outputs": [],
   "source": [
    "vector_df = pd.read_csv(\"/home/brian/results-analysis/data/processed_data/2019-03-23_12:47-mode4/vector.csv\",usecols=[\"node\",\"name\", \"vectime\", \"vecvalue\"])"
   ]
  },
  {
   "cell_type": "code",
   "execution_count": 5,
   "metadata": {},
   "outputs": [
    {
     "data": {
      "text/html": [
       "<div>\n",
       "<style scoped>\n",
       "    .dataframe tbody tr th:only-of-type {\n",
       "        vertical-align: middle;\n",
       "    }\n",
       "\n",
       "    .dataframe tbody tr th {\n",
       "        vertical-align: top;\n",
       "    }\n",
       "\n",
       "    .dataframe thead th {\n",
       "        text-align: right;\n",
       "    }\n",
       "</style>\n",
       "<table border=\"1\" class=\"dataframe\">\n",
       "  <thead>\n",
       "    <tr style=\"text-align: right;\">\n",
       "      <th></th>\n",
       "      <th>name</th>\n",
       "      <th>vectime</th>\n",
       "      <th>vecvalue</th>\n",
       "      <th>node</th>\n",
       "    </tr>\n",
       "  </thead>\n",
       "  <tbody>\n",
       "    <tr>\n",
       "      <th>0</th>\n",
       "      <td>posX:vector</td>\n",
       "      <td>1 1 2 3 4 5 6 7 8 9 10 11 12 13 14 15 16 17 18...</td>\n",
       "      <td>2.6 2.6 17.266391688581 31.114573689193 45.438...</td>\n",
       "      <td>0</td>\n",
       "    </tr>\n",
       "    <tr>\n",
       "      <th>1</th>\n",
       "      <td>posY:vector</td>\n",
       "      <td>1 1 2 3 4 5 6 7 8 9 10 11 12 13 14 15 16 17 18...</td>\n",
       "      <td>10 10 10 10 10 10 10 10 10 10 10 10 10 10 10 1...</td>\n",
       "      <td>0</td>\n",
       "    </tr>\n",
       "    <tr>\n",
       "      <th>2</th>\n",
       "      <td>servingCell:vector</td>\n",
       "      <td>1</td>\n",
       "      <td>0</td>\n",
       "      <td>0</td>\n",
       "    </tr>\n",
       "    <tr>\n",
       "      <th>3</th>\n",
       "      <td>posX:vector</td>\n",
       "      <td>1 1 2 3 4 5 6 7 8 9 10 11 12 13 14 15 16 17 18...</td>\n",
       "      <td>2.6 2.6 14.866127466398 27.891350551576 40.864...</td>\n",
       "      <td>1</td>\n",
       "    </tr>\n",
       "    <tr>\n",
       "      <th>4</th>\n",
       "      <td>posY:vector</td>\n",
       "      <td>1 1 2 3 4 5 6 7 8 9 10 11 12 13 14 15 16 17 18...</td>\n",
       "      <td>6 6 6 6 6 6 6 6 6 6 6 6 6 6 6 6 6 6 6 6 6 6 6 ...</td>\n",
       "      <td>1</td>\n",
       "    </tr>\n",
       "  </tbody>\n",
       "</table>\n",
       "</div>"
      ],
      "text/plain": [
       "                 name                                            vectime  \\\n",
       "0         posX:vector  1 1 2 3 4 5 6 7 8 9 10 11 12 13 14 15 16 17 18...   \n",
       "1         posY:vector  1 1 2 3 4 5 6 7 8 9 10 11 12 13 14 15 16 17 18...   \n",
       "2  servingCell:vector                                                  1   \n",
       "3         posX:vector  1 1 2 3 4 5 6 7 8 9 10 11 12 13 14 15 16 17 18...   \n",
       "4         posY:vector  1 1 2 3 4 5 6 7 8 9 10 11 12 13 14 15 16 17 18...   \n",
       "\n",
       "                                            vecvalue  node  \n",
       "0  2.6 2.6 17.266391688581 31.114573689193 45.438...     0  \n",
       "1  10 10 10 10 10 10 10 10 10 10 10 10 10 10 10 1...     0  \n",
       "2                                                  0     0  \n",
       "3  2.6 2.6 14.866127466398 27.891350551576 40.864...     1  \n",
       "4  6 6 6 6 6 6 6 6 6 6 6 6 6 6 6 6 6 6 6 6 6 6 6 ...     1  "
      ]
     },
     "execution_count": 5,
     "metadata": {},
     "output_type": "execute_result"
    }
   ],
   "source": [
    "vector_df.head()"
   ]
  },
  {
   "cell_type": "code",
   "execution_count": 18,
   "metadata": {},
   "outputs": [
    {
     "data": {
      "text/plain": [
       "array([list(['1', '1', '2', '3', '4', '5', '6', '7', '8', '9', '10', '11', '12', '13', '14', '15', '16', '17', '18', '19', '20', '21', '22', '23', '24', '25', '26', '27', '28', '29', '30', '31', '32', '33', '34', '35', '36', '37', '38', '39', '40', '41', '42', '43', '44', '45', '46', '47', '48', '49', '50']),\n",
       "       list(['1', '1', '2', '3', '4', '5', '6', '7', '8', '9', '10', '11', '12', '13', '14', '15', '16', '17', '18', '19', '20', '21', '22', '23', '24', '25', '26', '27', '28', '29', '30', '31', '32', '33', '34', '35', '36', '37', '38', '39', '40', '41', '42', '43', '44', '45', '46', '47', '48', '49', '50']),\n",
       "       list(['1']), ..., list(['49.927']), list(['49.971']),\n",
       "       list(['49.971'])], dtype=object)"
      ]
     },
     "execution_count": 18,
     "metadata": {},
     "output_type": "execute_result"
    }
   ],
   "source": [
    "vector_df.vectime.values"
   ]
  },
  {
   "cell_type": "code",
   "execution_count": 17,
   "metadata": {},
   "outputs": [],
   "source": [
    "vector_df.vectime = vector_df.vectime.str.split(\" \")\n",
    "vector_df.vecvalue = vector_df.vecvalue.str.split(\" \")\n",
    "#np.array(tbs_txrxdistance_time[0].split(\" \")).astype(\"float\")\n"
   ]
  },
  {
   "cell_type": "code",
   "execution_count": null,
   "metadata": {},
   "outputs": [],
   "source": [
    "vector_df.vectime = vector_df.vectime.apply(lambda x: np.array(x.astype(\"float\")))\n",
    "#vector_df.vecvalue = vector_df.vecvalue.apply(lambda x: np.array(x.astype(\"float\")))"
   ]
  },
  {
   "cell_type": "code",
   "execution_count": 24,
   "metadata": {},
   "outputs": [
    {
     "data": {
      "text/plain": [
       "array([list(['1', '1', '2', '3', '4', '5', '6', '7', '8', '9', '10', '11', '12', '13', '14', '15', '16', '17', '18', '19', '20', '21', '22', '23', '24', '25', '26', '27', '28', '29', '30', '31', '32', '33', '34', '35', '36', '37', '38', '39', '40', '41', '42', '43', '44', '45', '46', '47', '48', '49', '50']),\n",
       "       list(['1', '1', '2', '3', '4', '5', '6', '7', '8', '9', '10', '11', '12', '13', '14', '15', '16', '17', '18', '19', '20', '21', '22', '23', '24', '25', '26', '27', '28', '29', '30', '31', '32', '33', '34', '35', '36', '37', '38', '39', '40', '41', '42', '43', '44', '45', '46', '47', '48', '49', '50']),\n",
       "       list(['1']), ..., list(['49.927']), list(['49.971']),\n",
       "       list(['49.971'])], dtype=object)"
      ]
     },
     "execution_count": 24,
     "metadata": {},
     "output_type": "execute_result"
    }
   ],
   "source": [
    "vector_df.vectime.values"
   ]
  },
  {
   "cell_type": "code",
   "execution_count": null,
   "metadata": {},
   "outputs": [],
   "source": [
    "vector_df = vector_df.pivot_table(index='vectime',columns='name',values='vecvalue', aggfunc='sum')\n"
   ]
  },
  {
   "cell_type": "code",
   "execution_count": null,
   "metadata": {},
   "outputs": [],
   "source": [
    "vector_df.head()"
   ]
  },
  {
   "cell_type": "code",
   "execution_count": 22,
   "metadata": {},
   "outputs": [],
   "source": [
    "times = vector_df.vectime.values"
   ]
  },
  {
   "cell_type": "code",
   "execution_count": 23,
   "metadata": {},
   "outputs": [
    {
     "data": {
      "text/plain": [
       "array(['1 1 2 3 4 5 6 7 8 9 10 11 12 13 14 15 16 17 18 19 20 21 22 23 24 25 26 27 28 29 30 31 32 33 34 35 36 37 38 39 40 41 42 43 44 45 46 47 48 49 50',\n",
       "       '1 1 2 3 4 5 6 7 8 9 10 11 12 13 14 15 16 17 18 19 20 21 22 23 24 25 26 27 28 29 30 31 32 33 34 35 36 37 38 39 40 41 42 43 44 45 46 47 48 49 50',\n",
       "       '1', ..., '49.927', '49.971', '49.971'], dtype=object)"
      ]
     },
     "execution_count": 23,
     "metadata": {},
     "output_type": "execute_result"
    }
   ],
   "source": [
    "times "
   ]
  },
  {
   "cell_type": "code",
   "execution_count": 26,
   "metadata": {},
   "outputs": [
    {
     "ename": "AttributeError",
     "evalue": "'numpy.ndarray' object has no attribute 'split'",
     "output_type": "error",
     "traceback": [
      "\u001b[0;31m---------------------------------------------------------------------------\u001b[0m",
      "\u001b[0;31mAttributeError\u001b[0m                            Traceback (most recent call last)",
      "\u001b[0;32m<ipython-input-26-2913cc6ad315>\u001b[0m in \u001b[0;36m<module>\u001b[0;34m()\u001b[0m\n\u001b[0;32m----> 1\u001b[0;31m \u001b[0mtimes\u001b[0m\u001b[0;34m.\u001b[0m\u001b[0msplit\u001b[0m\u001b[0;34m(\u001b[0m\u001b[0;34m\" \"\u001b[0m\u001b[0;34m)\u001b[0m\u001b[0;34m.\u001b[0m\u001b[0mastype\u001b[0m\u001b[0;34m(\u001b[0m\u001b[0;34m\"float\"\u001b[0m\u001b[0;34m)\u001b[0m\u001b[0;34m\u001b[0m\u001b[0m\n\u001b[0m",
      "\u001b[0;31mAttributeError\u001b[0m: 'numpy.ndarray' object has no attribute 'split'"
     ]
    }
   ],
   "source": [
    "times.split(\" \").astype(\"float\")"
   ]
  },
  {
   "cell_type": "code",
   "execution_count": 19,
   "metadata": {},
   "outputs": [],
   "source": [
    "times = vector_df[\"vectime\"].values\n",
    "times = np.hstack(times)\n",
    "times = times_other.astype(np.float)"
   ]
  },
  {
   "cell_type": "code",
   "execution_count": 34,
   "metadata": {},
   "outputs": [
    {
     "ename": "AttributeError",
     "evalue": "'numpy.ndarray' object has no attribute 'split'",
     "output_type": "error",
     "traceback": [
      "\u001b[0;31m---------------------------------------------------------------------------\u001b[0m",
      "\u001b[0;31mAttributeError\u001b[0m                            Traceback (most recent call last)",
      "\u001b[0;32m<ipython-input-34-f9d83c073022>\u001b[0m in \u001b[0;36m<module>\u001b[0;34m()\u001b[0m\n\u001b[0;32m----> 1\u001b[0;31m \u001b[0mtimes\u001b[0m \u001b[0;34m=\u001b[0m \u001b[0mnp\u001b[0m\u001b[0;34m.\u001b[0m\u001b[0marray\u001b[0m\u001b[0;34m(\u001b[0m\u001b[0mtimes\u001b[0m\u001b[0;34m.\u001b[0m\u001b[0msplit\u001b[0m\u001b[0;34m(\u001b[0m\u001b[0;34m\" \"\u001b[0m\u001b[0;34m)\u001b[0m\u001b[0;34m)\u001b[0m\u001b[0;34m.\u001b[0m\u001b[0mastype\u001b[0m\u001b[0;34m(\u001b[0m\u001b[0;34m\"float\"\u001b[0m\u001b[0;34m)\u001b[0m\u001b[0;34m\u001b[0m\u001b[0m\n\u001b[0m",
      "\u001b[0;31mAttributeError\u001b[0m: 'numpy.ndarray' object has no attribute 'split'"
     ]
    }
   ],
   "source": [
    "new_times = np.arry\n",
    "for array in times:\n",
    "    np.array(times.split(\" \")).astype(\"float\"):"
   ]
  },
  {
   "cell_type": "code",
   "execution_count": 20,
   "metadata": {},
   "outputs": [
    {
     "ename": "ValueError",
     "evalue": "all input arrays must have the same shape",
     "output_type": "error",
     "traceback": [
      "\u001b[0;31m---------------------------------------------------------------------------\u001b[0m",
      "\u001b[0;31mValueError\u001b[0m                                Traceback (most recent call last)",
      "\u001b[0;32m<ipython-input-20-4edd539f5437>\u001b[0m in \u001b[0;36m<module>\u001b[0;34m()\u001b[0m\n\u001b[0;32m----> 1\u001b[0;31m \u001b[0mtimes\u001b[0m \u001b[0;34m=\u001b[0m \u001b[0mnp\u001b[0m\u001b[0;34m.\u001b[0m\u001b[0mstack\u001b[0m\u001b[0;34m(\u001b[0m\u001b[0mtimes\u001b[0m\u001b[0;34m)\u001b[0m\u001b[0;34m\u001b[0m\u001b[0m\n\u001b[0m",
      "\u001b[0;32m~/anaconda3/lib/python3.7/site-packages/numpy/core/shape_base.py\u001b[0m in \u001b[0;36mstack\u001b[0;34m(arrays, axis, out)\u001b[0m\n\u001b[1;32m    351\u001b[0m     \u001b[0mshapes\u001b[0m \u001b[0;34m=\u001b[0m \u001b[0mset\u001b[0m\u001b[0;34m(\u001b[0m\u001b[0marr\u001b[0m\u001b[0;34m.\u001b[0m\u001b[0mshape\u001b[0m \u001b[0;32mfor\u001b[0m \u001b[0marr\u001b[0m \u001b[0;32min\u001b[0m \u001b[0marrays\u001b[0m\u001b[0;34m)\u001b[0m\u001b[0;34m\u001b[0m\u001b[0m\n\u001b[1;32m    352\u001b[0m     \u001b[0;32mif\u001b[0m \u001b[0mlen\u001b[0m\u001b[0;34m(\u001b[0m\u001b[0mshapes\u001b[0m\u001b[0;34m)\u001b[0m \u001b[0;34m!=\u001b[0m \u001b[0;36m1\u001b[0m\u001b[0;34m:\u001b[0m\u001b[0;34m\u001b[0m\u001b[0m\n\u001b[0;32m--> 353\u001b[0;31m         \u001b[0;32mraise\u001b[0m \u001b[0mValueError\u001b[0m\u001b[0;34m(\u001b[0m\u001b[0;34m'all input arrays must have the same shape'\u001b[0m\u001b[0;34m)\u001b[0m\u001b[0;34m\u001b[0m\u001b[0m\n\u001b[0m\u001b[1;32m    354\u001b[0m \u001b[0;34m\u001b[0m\u001b[0m\n\u001b[1;32m    355\u001b[0m     \u001b[0mresult_ndim\u001b[0m \u001b[0;34m=\u001b[0m \u001b[0marrays\u001b[0m\u001b[0;34m[\u001b[0m\u001b[0;36m0\u001b[0m\u001b[0;34m]\u001b[0m\u001b[0;34m.\u001b[0m\u001b[0mndim\u001b[0m \u001b[0;34m+\u001b[0m \u001b[0;36m1\u001b[0m\u001b[0;34m\u001b[0m\u001b[0m\n",
      "\u001b[0;31mValueError\u001b[0m: all input arrays must have the same shape"
     ]
    }
   ],
   "source": [
    "times = np.stack(times)"
   ]
  },
  {
   "cell_type": "code",
   "execution_count": 22,
   "metadata": {},
   "outputs": [],
   "source": [
    "times_other = np.hstack(times)"
   ]
  },
  {
   "cell_type": "code",
   "execution_count": 26,
   "metadata": {},
   "outputs": [],
   "source": [
    "times_fixed = times_other.astype(np.float)"
   ]
  },
  {
   "cell_type": "code",
   "execution_count": 28,
   "metadata": {},
   "outputs": [
    {
     "data": {
      "text/plain": [
       "array([ 1.   ,  1.   ,  2.   , ..., 49.927, 49.971, 49.971])"
      ]
     },
     "execution_count": 28,
     "metadata": {},
     "output_type": "execute_result"
    }
   ],
   "source": []
  }
 ],
 "metadata": {
  "kernelspec": {
   "display_name": "Python 3",
   "language": "python",
   "name": "python3"
  },
  "language_info": {
   "codemirror_mode": {
    "name": "ipython",
    "version": 3
   },
   "file_extension": ".py",
   "mimetype": "text/x-python",
   "name": "python",
   "nbconvert_exporter": "python",
   "pygments_lexer": "ipython3",
   "version": "3.7.0"
  }
 },
 "nbformat": 4,
 "nbformat_minor": 2
}
