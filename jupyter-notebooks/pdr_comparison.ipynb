{
 "cells": [
  {
   "cell_type": "markdown",
   "metadata": {},
   "source": [
    "### Graphing post CBR fixes"
   ]
  },
  {
   "cell_type": "code",
   "execution_count": 5,
   "metadata": {},
   "outputs": [],
   "source": [
    "%matplotlib inline\n",
    "\n",
    "import matplotlib\n",
    "import numpy as np\n",
    "import matplotlib.pyplot as plt\n",
    "import pandas as pd\n",
    "\n",
    "from matplotlib.ticker import FormatStrFormatter"
   ]
  },
  {
   "cell_type": "code",
   "execution_count": 6,
   "metadata": {},
   "outputs": [],
   "source": [
    "import json\n",
    "import os"
   ]
  },
  {
   "cell_type": "code",
   "execution_count": 7,
   "metadata": {},
   "outputs": [],
   "source": [
    "# JSON file containing the results for this simulation run\n",
    "json_file = \"/Users/brianmccarthy/git_repos/results-analysis/configs/cv2x.json\""
   ]
  },
  {
   "cell_type": "code",
   "execution_count": 8,
   "metadata": {},
   "outputs": [],
   "source": [
    "with open(json_file) as results_json:\n",
    "    config = json.load(results_json)\n",
    "    config = config[\"cv2x\"]"
   ]
  },
  {
   "cell_type": "code",
   "execution_count": 9,
   "metadata": {},
   "outputs": [],
   "source": [
    "# Markers to use for this run\n",
    "markers = [\".\", \"o\", \"v\", \"^\", \"<\", \">\", \"1\", \"2\", \"3\", \"4\", \"8\", \"s\", \"p\", \"P\", \"*\", \"h\",\n",
    "           \"H\", \"+\", \"x\", \"X\", \"D\", \"d\", \"|\", \"_\", 0, 1, 2, 3, 4, 5, 6, 7, 8, 9, 10, 11]"
   ]
  },
  {
   "cell_type": "code",
   "execution_count": 10,
   "metadata": {},
   "outputs": [],
   "source": [
    "def create_bins(lower_bound, width, quantity):\n",
    "    \"\"\" create_bins returns an equal-width (distance) partitioning.\n",
    "        It returns an ascending list of tuples, representing the intervals.\n",
    "        A tuple bins[i], i.e. (bins[i][0], bins[i][1])  with i > 0\n",
    "        and i < quantity, satisfies the following conditions:\n",
    "            (1) bins[i][0] + width == bins[i][1]\n",
    "            (2) bins[i-1][0] + width == bins[i][0] and\n",
    "                bins[i-1][1] + width == bins[i][1]\n",
    "    \"\"\"\n",
    "    bins = []\n",
    "    for low in range(lower_bound, lower_bound + quantity * width + 1, width):\n",
    "        bins.append((low, low + width))\n",
    "    return bins"
   ]
  },
  {
   "cell_type": "code",
   "execution_count": 11,
   "metadata": {},
   "outputs": [],
   "source": [
    "def bin_fields(df, fields, bin_width=10, bin_quantity=49):\n",
    "    \"\"\"\n",
    "    Bins multiple dfs into a single dictionary that can be used as an average for multiple fields across multiple\n",
    "    runs\n",
    "    :param df: dataframe to bin\n",
    "    :param fields: fields to be binned.\n",
    "    :param bin_width: width of each bin\n",
    "    :param bin_quantity: total number of bins\n",
    "    :return:\n",
    "    \"\"\"\n",
    "    bins = create_bins(lower_bound=0, width=bin_width, quantity=bin_quantity)\n",
    "    distances = []\n",
    "    overall_fields = {}\n",
    "    for interval in bins:\n",
    "        upper_b = interval[1]\n",
    "        distances.append(upper_b)\n",
    "\n",
    "    for field in fields:\n",
    "        overall_fields[field] = []\n",
    "\n",
    "    overall_fields[\"distance\"] = distances\n",
    "\n",
    "    distance_col = config[\"results\"][\"distance\"]\n",
    "\n",
    "    for i in range(len(bins)):\n",
    "        lower_b = bins[i][0]\n",
    "        upper_b = bins[i][1]\n",
    "        fields_temp = df[(df[distance_col] >= lower_b) & (df[distance_col] < upper_b)]\n",
    "        for field in fields:\n",
    "            if i < len(overall_fields[field]):\n",
    "                overall_fields[field][i] = (fields_temp[field].mean() + overall_fields[field][i]) / 2\n",
    "            else:\n",
    "                overall_fields[field].append(fields_temp[field].mean())\n",
    "\n",
    "    return overall_fields"
   ]
  },
  {
   "cell_type": "code",
   "execution_count": 12,
   "metadata": {},
   "outputs": [],
   "source": [
    "def pdr_dist(pdrs, distances, labels, plot_name, show=True, store=True):\n",
    "    fig, ax = plt.subplots()\n",
    "\n",
    "    for i in range(len(pdrs)):\n",
    "        ax.plot(distances, pdrs[i], label=labels[i])\n",
    "\n",
    "    ax.set(xlabel='Distance (m)', ylabel='Packet Delivery Rate (PDR) %')\n",
    "    ax.legend(loc='lower left')\n",
    "    ax.tick_params(direction='in')\n",
    "    \n",
    "    ax.set_ylim([0, 1])\n",
    "    plt.yticks(np.arange(0, 1.1, step=.1))\n",
    "\n",
    "    ax.set_xlim([0, (max(distances) + 1)])\n",
    "    plt.xticks(np.arange(0, (max(distances) + 1), step=50))\n",
    "\n",
    "    fig.suptitle(plot_name, fontsize=12)\n",
    "    \n",
    "    if show:\n",
    "        fig.show()\n",
    "        \n",
    "    if store:\n",
    "        fig.savefig(\"{}.png\".format(plot_name), dpi=300)"
   ]
  },
  {
   "cell_type": "markdown",
   "metadata": {},
   "source": [
    "### Setup for graphing\n",
    "\n",
    "1. First open all the folders\n",
    "2. Read all the results in DF\n",
    "3. Bin all the fields we are interested in.\n",
    "4. Make a dictionary of each config bins together."
   ]
  },
  {
   "cell_type": "code",
   "execution_count": 13,
   "metadata": {},
   "outputs": [],
   "source": [
    "distances = create_bins(0, 10, 49)"
   ]
  },
  {
   "cell_type": "code",
   "execution_count": 14,
   "metadata": {},
   "outputs": [],
   "source": [
    "for i in range(len(distances)):\n",
    "    distances[i] = distances[i][1]"
   ]
  },
  {
   "cell_type": "code",
   "execution_count": 46,
   "metadata": {},
   "outputs": [],
   "source": [
    "def read_folder_content(folder_path):\n",
    "    pdr = []\n",
    "    tbSent = 0\n",
    "    sciSent = 0\n",
    "    \n",
    "    fileCount = 0\n",
    "    for file in os.listdir(folder_path):\n",
    "        if \"csv\" in file:\n",
    "            fileCount += 1\n",
    "            print(\"File: {} being parsed\".format(file))\n",
    "            df = pd.read_csv(os.path.join(folder_path, file))\n",
    "            df = df[df[\"Time\"] > 502]\n",
    "            binned_fields = bin_fields(df, [\"tbDecoded\"])\n",
    "            for i in range(len(binned_fields[\"tbDecoded\"])):\n",
    "                if i < len(pdr):\n",
    "                    pdr[i] = (binned_fields[\"tbDecoded\"][i] + pdr[i]) / 2\n",
    "                else:\n",
    "                    pdr.append(binned_fields[\"tbDecoded\"][i])\n",
    "                    \n",
    "            tbSent += df[\"tbSent\"].count()\n",
    "            sciSent += df[\"sciSent\"].count()\n",
    "            \n",
    "            print(\"Total TBs Sent: {}, Total this file: {}\".format(tbSent, df[\"tbSent\"].count()))\n",
    "            print(\"Total SCIs Sent: {}, Total this file: {}\".format(sciSent, df[\"sciSent\"].count()))\n",
    "            \n",
    "    tbSent = tbSent/fileCount\n",
    "    sciSent = sciSent/fileCount\n",
    "    return pdr, tbSent, sciSent"
   ]
  },
  {
   "cell_type": "code",
   "execution_count": 42,
   "metadata": {},
   "outputs": [],
   "source": [
    "results_folder = \"/Users/brianmccarthy/git_repos/results-analysis/data/raw_data/cv2x\""
   ]
  },
  {
   "cell_type": "code",
   "execution_count": 31,
   "metadata": {},
   "outputs": [
    {
     "name": "stdout",
     "output_type": "stream",
     "text": [
      "==================================================\n",
      "Folder: Prob-0.2 being parsed\n",
      "==================================================\n",
      "File: run-6-2019-10-21-10:55:37.csv being parsed\n",
      "File: run-14-2019-10-21-10:55:37.csv being parsed\n",
      "File: run-9-2019-10-21-10:55:37.csv being parsed\n",
      "File: run-25-2019-10-21-10:55:37.csv being parsed\n",
      "File: run-21-2019-10-21-10:55:37.csv being parsed\n",
      "File: run-10-2019-10-21-10:55:37.csv being parsed\n",
      "File: run-2-2019-10-21-10:55:37.csv being parsed\n",
      "File: run-22-2019-10-21-10:55:37.csv being parsed\n",
      "File: run-1-2019-10-21-10:55:37.csv being parsed\n",
      "File: run-13-2019-10-21-10:55:37.csv being parsed\n",
      "File: run-17-2019-10-21-10:55:37.csv being parsed\n",
      "File: run-5-2019-10-21-10:55:37.csv being parsed\n",
      "File: run-29-2019-10-21-10:55:37.csv being parsed\n",
      "File: run-26-2019-10-21-10:55:37.csv being parsed\n",
      "File: run-18-2019-10-21-10:55:37.csv being parsed\n",
      "File: run-3-2019-10-21-10:55:37.csv being parsed\n",
      "File: run-11-2019-10-21-10:55:37.csv being parsed\n",
      "File: run-20-2019-10-21-10:55:37.csv being parsed\n",
      "File: run-24-2019-10-21-10:55:37.csv being parsed\n",
      "File: run-8-2019-10-21-10:55:37.csv being parsed\n",
      "File: run-15-2019-10-21-10:55:37.csv being parsed\n",
      "File: run-7-2019-10-21-10:55:37.csv being parsed\n",
      "File: run-19-2019-10-21-10:55:37.csv being parsed\n",
      "File: run-27-2019-10-21-10:55:37.csv being parsed\n",
      "File: run-28-2019-10-21-10:55:37.csv being parsed\n",
      "File: run-4-2019-10-21-10:55:37.csv being parsed\n",
      "File: run-16-2019-10-21-10:55:37.csv being parsed\n",
      "File: run-12-2019-10-21-10:55:37.csv being parsed\n",
      "File: run-23-2019-10-21-10:55:37.csv being parsed\n",
      "File: run-30-2019-10-21-10:55:37.csv being parsed\n",
      "==================================================\n",
      "Folder: Prob-0.5 being parsed\n",
      "==================================================\n",
      "File: run-16-2019-10-21-15:43:40.csv being parsed\n",
      "File: run-4-2019-10-21-15:43:40.csv being parsed\n",
      "File: run-28-2019-10-21-15:43:40.csv being parsed\n",
      "File: run-27-2019-10-21-15:43:40.csv being parsed\n",
      "File: run-19-2019-10-21-15:43:40.csv being parsed\n",
      "File: run-23-2019-10-21-15:43:40.csv being parsed\n",
      "File: run-12-2019-10-21-15:43:40.csv being parsed\n",
      "File: run-30-2019-10-21-15:43:40.csv being parsed\n",
      "File: run-20-2019-10-21-15:43:40.csv being parsed\n",
      "File: run-11-2019-10-21-15:43:40.csv being parsed\n",
      "File: run-3-2019-10-21-15:43:40.csv being parsed\n",
      "File: run-7-2019-10-21-15:43:40.csv being parsed\n",
      "File: run-15-2019-10-21-15:43:40.csv being parsed\n",
      "File: run-8-2019-10-21-15:43:40.csv being parsed\n",
      "File: run-24-2019-10-21-15:43:40.csv being parsed\n",
      "File: run-13-2019-10-21-15:43:40.csv being parsed\n",
      "File: run-1-2019-10-21-15:43:40.csv being parsed\n",
      "File: run-22-2019-10-21-15:43:40.csv being parsed\n",
      "File: run-18-2019-10-21-15:43:40.csv being parsed\n",
      "File: run-26-2019-10-21-15:43:40.csv being parsed\n",
      "File: run-29-2019-10-21-15:43:40.csv being parsed\n",
      "File: run-5-2019-10-21-15:43:40.csv being parsed\n",
      "File: run-17-2019-10-21-15:43:40.csv being parsed\n",
      "File: run-25-2019-10-21-15:43:40.csv being parsed\n",
      "File: run-9-2019-10-21-15:43:40.csv being parsed\n",
      "File: run-14-2019-10-21-15:43:40.csv being parsed\n",
      "File: run-6-2019-10-21-15:43:40.csv being parsed\n",
      "File: run-2-2019-10-21-15:43:40.csv being parsed\n",
      "File: run-10-2019-10-21-15:43:40.csv being parsed\n",
      "File: run-21-2019-10-21-15:43:40.csv being parsed\n",
      "==================================================\n",
      "Folder: Prob-0.4 being parsed\n",
      "==================================================\n",
      "File: run-16-2019-10-21-15:43:40.csv being parsed\n",
      "File: run-4-2019-10-21-15:43:40.csv being parsed\n",
      "File: run-28-2019-10-21-15:43:40.csv being parsed\n",
      "File: run-27-2019-10-21-15:43:40.csv being parsed\n",
      "File: run-19-2019-10-21-15:43:40.csv being parsed\n",
      "File: run-23-2019-10-21-15:43:40.csv being parsed\n",
      "File: run-12-2019-10-21-15:43:40.csv being parsed\n",
      "File: run-30-2019-10-21-15:43:40.csv being parsed\n",
      "File: run-20-2019-10-21-15:43:40.csv being parsed\n",
      "File: run-11-2019-10-21-15:43:40.csv being parsed\n",
      "File: run-3-2019-10-21-15:43:40.csv being parsed\n",
      "File: run-7-2019-10-21-15:43:40.csv being parsed\n",
      "File: run-15-2019-10-21-15:43:40.csv being parsed\n",
      "File: run-8-2019-10-21-15:43:40.csv being parsed\n",
      "File: run-24-2019-10-21-15:43:40.csv being parsed\n",
      "File: run-13-2019-10-21-15:43:40.csv being parsed\n",
      "File: run-1-2019-10-21-15:43:40.csv being parsed\n",
      "File: run-22-2019-10-21-15:43:40.csv being parsed\n",
      "File: run-18-2019-10-21-15:43:40.csv being parsed\n",
      "File: run-26-2019-10-21-15:43:40.csv being parsed\n",
      "File: run-29-2019-10-21-15:43:40.csv being parsed\n",
      "File: run-5-2019-10-21-15:43:40.csv being parsed\n",
      "File: run-17-2019-10-21-15:43:40.csv being parsed\n",
      "File: run-25-2019-10-21-15:43:40.csv being parsed\n",
      "File: run-9-2019-10-21-15:43:40.csv being parsed\n",
      "File: run-14-2019-10-21-15:43:40.csv being parsed\n",
      "File: run-6-2019-10-21-15:43:40.csv being parsed\n",
      "File: run-2-2019-10-21-15:43:40.csv being parsed\n",
      "File: run-10-2019-10-21-15:43:40.csv being parsed\n",
      "File: run-21-2019-10-21-15:43:40.csv being parsed\n",
      "==================================================\n",
      "Folder: Prob-0.3 being parsed\n",
      "==================================================\n",
      "File: run-16-2019-10-21-15:43:40.csv being parsed\n",
      "File: run-6-2019-10-21-10:55:37.csv being parsed\n",
      "File: run-28-2019-10-21-15:43:40.csv being parsed\n",
      "File: run-14-2019-10-21-10:55:37.csv being parsed\n",
      "File: run-9-2019-10-21-10:55:37.csv being parsed\n",
      "File: run-27-2019-10-21-15:43:40.csv being parsed\n",
      "File: run-19-2019-10-21-15:43:40.csv being parsed\n",
      "File: run-23-2019-10-21-15:43:40.csv being parsed\n",
      "File: run-10-2019-10-21-10:55:37.csv being parsed\n",
      "File: run-2-2019-10-21-10:55:37.csv being parsed\n",
      "File: run-30-2019-10-21-15:43:40.csv being parsed\n",
      "File: run-20-2019-10-21-15:43:40.csv being parsed\n",
      "File: run-1-2019-10-21-10:55:37.csv being parsed\n",
      "File: run-13-2019-10-21-10:55:37.csv being parsed\n",
      "File: run-5-2019-10-21-10:55:37.csv being parsed\n",
      "File: run-24-2019-10-21-15:43:40.csv being parsed\n",
      "File: run-3-2019-10-21-10:55:37.csv being parsed\n",
      "File: run-11-2019-10-21-10:55:37.csv being parsed\n",
      "File: run-22-2019-10-21-15:43:40.csv being parsed\n",
      "File: run-18-2019-10-21-15:43:40.csv being parsed\n",
      "File: run-8-2019-10-21-10:55:37.csv being parsed\n",
      "File: run-26-2019-10-21-15:43:40.csv being parsed\n",
      "File: run-15-2019-10-21-10:55:37.csv being parsed\n",
      "File: run-7-2019-10-21-10:55:37.csv being parsed\n",
      "File: run-29-2019-10-21-15:43:40.csv being parsed\n",
      "File: run-17-2019-10-21-15:43:40.csv being parsed\n",
      "File: run-25-2019-10-21-15:43:40.csv being parsed\n",
      "File: run-4-2019-10-21-10:55:37.csv being parsed\n",
      "File: run-12-2019-10-21-10:55:37.csv being parsed\n",
      "File: run-21-2019-10-21-15:43:40.csv being parsed\n",
      "==================================================\n",
      "Folder: highway-slow being parsed\n",
      "==================================================\n",
      "File: run-1-2019-10-21-10_31_53.csv being parsed\n",
      "File: run-5-2019-10-21-10_31_53.csv being parsed\n",
      "File: run-9-2019-10-21-10_31_53.csv being parsed\n",
      "File: run-6-2019-10-21-10_31_53.csv being parsed\n",
      "File: run-2-2019-10-21-10_31_53.csv being parsed\n",
      "File: run-10-2019-10-21-10_31_53.csv being parsed\n",
      "File: run-4-2019-10-21-10_31_53.csv being parsed\n",
      "File: run-12-2019-10-21-10_31_53.csv being parsed\n",
      "File: run-11-2019-10-21-10_31_53.csv being parsed\n",
      "File: run-3-2019-10-21-10_31_53.csv being parsed\n",
      "File: run-7-2019-10-21-10_31_53.csv being parsed\n",
      "File: run-8-2019-10-21-10_31_53.csv being parsed\n",
      "==================================================\n",
      "Folder: non-periodic being parsed\n",
      "==================================================\n",
      "File: run-8-2019-10-20-10:58:34.csv being parsed\n",
      "File: run-15-2019-10-20-10:58:34.csv being parsed\n",
      "File: run-7-2019-10-20-10:58:34.csv being parsed\n",
      "File: run-3-2019-10-20-10:58:34.csv being parsed\n",
      "File: run-11-2019-10-20-10:58:34.csv being parsed\n",
      "File: run-20-2019-10-20-10:58:34.csv being parsed\n",
      "File: run-12-2019-10-20-10:58:34.csv being parsed\n",
      "File: run-23-2019-10-20-10:58:34.csv being parsed\n",
      "File: run-30-2019-10-20-10:58:34.csv being parsed\n",
      "File: run-27-2019-10-20-10:58:34.csv being parsed\n",
      "File: run-19-2019-10-20-10:58:34.csv being parsed\n",
      "File: run-4-2019-10-20-10:58:34.csv being parsed\n",
      "File: run-16-2019-10-20-10:58:34.csv being parsed\n",
      "File: run-28-2019-10-20-10:58:34.csv being parsed\n",
      "File: run-21-2019-10-20-10:58:34.csv being parsed\n",
      "File: run-10-2019-10-20-10:58:34.csv being parsed\n",
      "File: run-2-2019-10-20-10:58:34.csv being parsed\n"
     ]
    },
    {
     "name": "stdout",
     "output_type": "stream",
     "text": [
      "File: run-6-2019-10-20-10:58:34.csv being parsed\n",
      "File: run-14-2019-10-20-10:58:34.csv being parsed\n",
      "File: run-25-2019-10-20-10:58:34.csv being parsed\n",
      "File: run-9-2019-10-20-10:58:34.csv being parsed\n",
      "File: run-29-2019-10-20-10:58:34.csv being parsed\n",
      "File: run-17-2019-10-20-10:58:34.csv being parsed\n",
      "File: run-5-2019-10-20-10:58:34.csv being parsed\n",
      "File: run-18-2019-10-20-10:58:34.csv being parsed\n",
      "File: run-26-2019-10-20-10:58:34.csv being parsed\n",
      "File: run-22-2019-10-20-10:58:34.csv being parsed\n",
      "File: run-1-2019-10-20-10:58:34.csv being parsed\n",
      "File: run-13-2019-10-20-10:58:34.csv being parsed\n",
      "==================================================\n",
      "Folder: Prob-0.6 being parsed\n",
      "==================================================\n",
      "File: run-11-2019-10-21-16_08_24.csv being parsed\n",
      "File: run-3-2019-10-21-16_08_24.csv being parsed\n",
      "File: run-20-2019-10-21-16_08_24.csv being parsed\n",
      "File: run-8-2019-10-21-16_08_24.csv being parsed\n",
      "File: run-24-2019-10-21-16_08_24.csv being parsed\n",
      "File: run-7-2019-10-21-16_08_24.csv being parsed\n",
      "File: run-15-2019-10-21-16_08_24.csv being parsed\n",
      "File: run-27-2019-10-21-16_08_24.csv being parsed\n",
      "File: run-19-2019-10-21-16_08_24.csv being parsed\n",
      "File: run-16-2019-10-21-16_08_24.csv being parsed\n",
      "File: run-4-2019-10-21-16_08_24.csv being parsed\n",
      "File: run-28-2019-10-21-16_08_24.csv being parsed\n",
      "File: run-30-2019-10-21-16_08_24.csv being parsed\n",
      "File: run-12-2019-10-21-16_08_24.csv being parsed\n",
      "File: run-23-2019-10-21-16_08_24.csv being parsed\n",
      "File: run-14-2019-10-21-16_08_24.csv being parsed\n",
      "File: run-6-2019-10-21-16_08_24.csv being parsed\n",
      "File: run-25-2019-10-21-16_08_24.csv being parsed\n",
      "File: run-9-2019-10-21-16_08_24.csv being parsed\n",
      "File: run-21-2019-10-21-16_08_24.csv being parsed\n",
      "File: run-2-2019-10-21-16_08_24.csv being parsed\n",
      "File: run-10-2019-10-21-16_08_24.csv being parsed\n",
      "File: run-22-2019-10-21-16_08_24.csv being parsed\n",
      "File: run-13-2019-10-21-16_08_24.csv being parsed\n",
      "File: run-1-2019-10-21-16_08_24.csv being parsed\n",
      "File: run-29-2019-10-21-16_08_24.csv being parsed\n",
      "File: run-5-2019-10-21-16_08_24.csv being parsed\n",
      "File: run-17-2019-10-21-16_08_24.csv being parsed\n",
      "File: run-18-2019-10-21-16_08_24.csv being parsed\n",
      "File: run-26-2019-10-21-16_08_24.csv being parsed\n",
      "==================================================\n",
      "Folder: Prob-0.1 being parsed\n",
      "==================================================\n",
      "File: run-8-2019-10-20-10:58:34.csv being parsed\n",
      "File: run-15-2019-10-20-10:58:34.csv being parsed\n",
      "File: run-7-2019-10-20-10:58:34.csv being parsed\n",
      "File: run-3-2019-10-20-10:58:34.csv being parsed\n",
      "File: run-11-2019-10-20-10:58:34.csv being parsed\n",
      "File: run-20-2019-10-20-10:58:34.csv being parsed\n",
      "File: run-12-2019-10-20-10:58:34.csv being parsed\n",
      "File: run-27-2019-10-20-10:58:34.csv being parsed\n",
      "File: run-19-2019-10-20-10:58:34.csv being parsed\n",
      "File: run-4-2019-10-20-10:58:34.csv being parsed\n",
      "File: run-16-2019-10-20-10:58:34.csv being parsed\n",
      "File: run-28-2019-10-20-10:58:34.csv being parsed\n",
      "File: run-29-2019-10-21-10:55:37.csv being parsed\n",
      "File: run-21-2019-10-20-10:58:34.csv being parsed\n",
      "File: run-10-2019-10-20-10:58:34.csv being parsed\n",
      "File: run-2-2019-10-20-10:58:34.csv being parsed\n",
      "File: run-14-2019-10-20-10:58:34.csv being parsed\n",
      "File: run-25-2019-10-20-10:58:34.csv being parsed\n",
      "File: run-9-2019-10-20-10:58:34.csv being parsed\n",
      "File: run-24-2019-10-21-10:55:37.csv being parsed\n",
      "File: run-17-2019-10-20-10:58:34.csv being parsed\n",
      "File: run-5-2019-10-20-10:58:34.csv being parsed\n",
      "File: run-18-2019-10-20-10:58:34.csv being parsed\n",
      "File: run-26-2019-10-20-10:58:34.csv being parsed\n",
      "File: run-23-2019-10-21-10:55:37.csv being parsed\n",
      "File: run-22-2019-10-20-10:58:34.csv being parsed\n",
      "File: run-30-2019-10-21-10:55:37.csv being parsed\n",
      "File: run-1-2019-10-20-10:58:34.csv being parsed\n",
      "File: run-13-2019-10-20-10:58:34.csv being parsed\n",
      "==================================================\n",
      "Folder: Prob-0.8 being parsed\n",
      "==================================================\n",
      "File: run-2-2019-10-21-14_47_47.csv being parsed\n",
      "File: run-21-2019-10-21-14_47_47.csv being parsed\n",
      "File: run-25-2019-10-21-13_30_56.csv being parsed\n",
      "File: run-6-2019-10-21-14_47_47.csv being parsed\n",
      "File: run-14-2019-10-21-14_47_47.csv being parsed\n",
      "File: run-18-2019-10-21-14_47_47.csv being parsed\n",
      "File: run-26-2019-10-21-14_47_47.csv being parsed\n",
      "File: run-29-2019-10-21-14_47_47.csv being parsed\n",
      "File: run-17-2019-10-21-14_47_47.csv being parsed\n",
      "File: run-5-2019-10-21-14_47_47.csv being parsed\n",
      "File: run-13-2019-10-21-14_47_47.csv being parsed\n",
      "File: run-1-2019-10-21-13_30_56.csv being parsed\n",
      "File: run-22-2019-10-21-14_47_47.csv being parsed\n",
      "File: run-15-2019-10-21-14_47_47.csv being parsed\n",
      "File: run-7-2019-10-21-14_47_47.csv being parsed\n",
      "File: run-8-2019-10-21-14_47_47.csv being parsed\n",
      "File: run-20-2019-10-21-14_47_47.csv being parsed\n",
      "File: run-3-2019-10-21-14_47_47.csv being parsed\n",
      "File: run-11-2019-10-21-14_47_47.csv being parsed\n",
      "File: run-30-2019-10-21-14_47_47.csv being parsed\n",
      "File: run-23-2019-10-21-14_47_47.csv being parsed\n",
      "File: run-12-2019-10-21-14_47_47.csv being parsed\n",
      "File: run-4-2019-10-21-14_47_47.csv being parsed\n",
      "File: run-16-2019-10-21-14_47_47.csv being parsed\n",
      "File: run-28-2019-10-21-14_47_47.csv being parsed\n",
      "File: run-27-2019-10-21-14_47_47.csv being parsed\n",
      "File: run-19-2019-10-21-14_47_47.csv being parsed\n",
      "==================================================\n",
      "Folder: Prob-0.0 being parsed\n",
      "==================================================\n",
      "File: run-8-2019-10-20-10:58:34.csv being parsed\n",
      "File: run-24-2019-10-20-10:58:34.csv being parsed\n",
      "File: run-15-2019-10-20-10:58:34.csv being parsed\n",
      "File: run-7-2019-10-20-10:58:34.csv being parsed\n",
      "File: run-3-2019-10-20-10:58:34.csv being parsed\n",
      "File: run-20-2019-10-20-10:58:34.csv being parsed\n",
      "File: run-23-2019-10-20-10:58:34.csv being parsed\n",
      "File: run-30-2019-10-20-10:58:34.csv being parsed\n",
      "File: run-27-2019-10-20-10:58:34.csv being parsed\n",
      "File: run-19-2019-10-20-10:58:34.csv being parsed\n",
      "File: run-4-2019-10-20-10:58:34.csv being parsed\n",
      "File: run-16-2019-10-20-10:58:34.csv being parsed\n",
      "File: run-28-2019-10-20-10:58:34.csv being parsed\n",
      "File: run-21-2019-10-20-10:58:34.csv being parsed\n",
      "File: run-2-2019-10-20-10:58:34.csv being parsed\n",
      "File: run-6-2019-10-20-10:58:34.csv being parsed\n",
      "File: run-14-2019-10-20-10:58:34.csv being parsed\n",
      "File: run-25-2019-10-20-10:58:34.csv being parsed\n",
      "File: run-9-2019-10-20-10:58:34.csv being parsed\n",
      "File: run-29-2019-10-20-10:58:34.csv being parsed\n",
      "File: run-17-2019-10-20-10:58:34.csv being parsed\n",
      "File: run-5-2019-10-20-10:58:34.csv being parsed\n",
      "File: run-18-2019-10-20-10:58:34.csv being parsed\n",
      "File: run-26-2019-10-20-10:58:34.csv being parsed\n",
      "File: run-22-2019-10-20-10:58:34.csv being parsed\n",
      "File: run-1-2019-10-20-10:58:34.csv being parsed\n",
      "File: run-13-2019-10-20-10:58:34.csv being parsed\n",
      "==================================================\n",
      "Folder: Prob-0.7 being parsed\n",
      "==================================================\n",
      "File: run-26-2019-10-21-18_05_49.csv being parsed\n",
      "File: run-23-2019-10-21-16_32_41.csv being parsed\n",
      "File: run-12-2019-10-21-16_32_41.csv being parsed\n",
      "File: run-13-2019-10-21-18_05_49.csv being parsed\n",
      "File: run-22-2019-10-21-18_05_49.csv being parsed\n",
      "File: run-21-2019-10-21-20:27:57.csv being parsed\n",
      "File: run-16-2019-10-21-16_32_41.csv being parsed\n",
      "File: run-4-2019-10-21-16_32_41.csv being parsed\n",
      "File: run-27-2019-10-21-16_32_41.csv being parsed\n",
      "File: run-15-2019-10-21-16_32_41.csv being parsed\n",
      "File: run-24-2019-10-21-16_32_41.csv being parsed\n",
      "File: run-8-2019-10-21-16_32_41.csv being parsed\n",
      "File: run-10-2019-10-21-18_05_49.csv being parsed\n",
      "File: run-20-2019-10-21-16_32_41.csv being parsed\n",
      "File: run-11-2019-10-21-16_32_41.csv being parsed\n",
      "File: run-6-2019-10-21-18_05_49.csv being parsed\n",
      "File: run-18-2019-10-21-16_32_41.csv being parsed\n",
      "File: run-5-2019-10-21-16_32_41.csv being parsed\n",
      "File: run-17-2019-10-21-16_32_41.csv being parsed\n",
      "File: run-30-2019-10-21-18_05_49.csv being parsed\n",
      "File: run-29-2019-10-21-16_32_41.csv being parsed\n",
      "File: run-1-2019-10-21-16_32_41.csv being parsed\n",
      "File: run-7-2019-10-21-18_05_49.csv being parsed\n",
      "File: run-2-2019-10-21-16_32_41.csv being parsed\n",
      "File: run-19-2019-10-21-20:27:57.csv being parsed\n",
      "File: run-3-2019-10-21-18_05_49.csv being parsed\n",
      "File: run-9-2019-10-21-16_32_41.csv being parsed\n"
     ]
    },
    {
     "name": "stdout",
     "output_type": "stream",
     "text": [
      "File: run-25-2019-10-21-16_32_41.csv being parsed\n",
      "File: run-14-2019-10-21-16_32_41.csv being parsed\n"
     ]
    }
   ],
   "source": [
    "results_dict = {}\n",
    "\n",
    "for folder in os.listdir(results_folder):\n",
    "    if \".DS\" not in folder:\n",
    "        print(\"=\"*50)\n",
    "        print(\"Folder: {} being parsed\".format(folder))\n",
    "        print(\"=\"*50)\n",
    "        results_dict[folder] = {\"pdr\": []}\n",
    "        pdr, tbSent, sciSent = read_folder_content(os.path.join(results_folder, folder))\n",
    "        results_dict[folder][\"pdr\"] = pdr\n",
    "        results_dict[folder][\"tbSent\"] = tbSent\n",
    "        results_dict[folder][\"sciSent\"] = sciSent"
   ]
  },
  {
   "cell_type": "code",
   "execution_count": 32,
   "metadata": {},
   "outputs": [],
   "source": [
    "prob_pdrs = []\n",
    "prob_pdrs.append(results_dict[\"Prob-0.0\"][\"pdr\"])\n",
    "prob_pdrs.append(results_dict[\"Prob-0.2\"][\"pdr\"])\n",
    "prob_pdrs.append(results_dict[\"Prob-0.4\"][\"pdr\"])\n",
    "prob_pdrs.append(results_dict[\"Prob-0.6\"][\"pdr\"])\n",
    "prob_pdrs.append(results_dict[\"Prob-0.8\"][\"pdr\"])\n",
    "prob_labels = [\"Prob-0.0\", \"Prob-0.2\", \"Prob-0.4\", \"Prob-0.6\", \"Prob-0.8\"]\n",
    "\n",
    "slow_fast_pdrs = []\n",
    "slow_fast_pdrs.append(results_dict[\"highway-slow\"][\"pdr\"])\n",
    "slow_fast_pdrs.append(results_dict[\"Prob-0.4\"][\"pdr\"])\n",
    "slow_fast_labels = [\"Highway Slow\", \"Highway Fast\"]"
   ]
  },
  {
   "cell_type": "code",
   "execution_count": 34,
   "metadata": {},
   "outputs": [
    {
     "name": "stderr",
     "output_type": "stream",
     "text": [
      "/Users/brianmccarthy/anaconda3/lib/python3.7/site-packages/matplotlib/figure.py:445: UserWarning: Matplotlib is currently using module://ipykernel.pylab.backend_inline, which is a non-GUI backend, so cannot show the figure.\n",
      "  % get_backend())\n"
     ]
    },
    {
     "data": {
      "image/png": "[encoded data removed]",
      "text/plain": [
       "<Figure size 432x288 with 1 Axes>"
      ]
     },
     "metadata": {
      "needs_background": "light"
     },
     "output_type": "display_data"
    }
   ],
   "source": [
    "pdr_dist(prob_pdrs, distances, prob_labels, \"ProbResourceKeep\")"
   ]
  },
  {
   "cell_type": "code",
   "execution_count": 35,
   "metadata": {},
   "outputs": [
    {
     "data": {
      "image/png": "[encoded data removed]",
      "text/plain": [
       "<Figure size 432x288 with 1 Axes>"
      ]
     },
     "metadata": {
      "needs_background": "light"
     },
     "output_type": "display_data"
    }
   ],
   "source": [
    "pdr_dist(slow_fast_pdrs, distances, slow_fast_labels, \"slow-fast\")"
   ]
  },
  {
   "cell_type": "markdown",
   "metadata": {},
   "source": [
    "### Non-periodic Setup"
   ]
  },
  {
   "cell_type": "code",
   "execution_count": 36,
   "metadata": {},
   "outputs": [],
   "source": [
    "non_periodic_dir = \"/Users/brianmccarthy/git_repos/results-analysis/data/raw_data/cv2x/non-periodic\""
   ]
  },
  {
   "cell_type": "code",
   "execution_count": 50,
   "metadata": {},
   "outputs": [],
   "source": [
    "df = pd.read_csv(non_periodic_dir + \"/run-1-2019-10-20-10:58:34.csv\")"
   ]
  },
  {
   "cell_type": "code",
   "execution_count": 56,
   "metadata": {},
   "outputs": [
    {
     "data": {
      "text/plain": [
       "174"
      ]
     },
     "execution_count": 56,
     "metadata": {},
     "output_type": "execute_result"
    }
   ],
   "source": [
    "len(df[\"NodeID\"].unique())"
   ]
  },
  {
   "cell_type": "code",
   "execution_count": 47,
   "metadata": {},
   "outputs": [
    {
     "name": "stdout",
     "output_type": "stream",
     "text": [
      "==================================================\n",
      "Folder: non-periodic being parsed\n",
      "==================================================\n",
      "File: run-8-2019-10-20-10:58:34.csv being parsed\n",
      "Total TBs Sent: 5984, Total this file: 5984\n",
      "Total SCIs Sent: 9289, Total this file: 9289\n",
      "File: run-15-2019-10-20-10:58:34.csv being parsed\n",
      "Total TBs Sent: 11968, Total this file: 5984\n",
      "Total SCIs Sent: 18578, Total this file: 9289\n",
      "File: run-7-2019-10-20-10:58:34.csv being parsed\n",
      "Total TBs Sent: 17952, Total this file: 5984\n",
      "Total SCIs Sent: 27867, Total this file: 9289\n",
      "File: run-3-2019-10-20-10:58:34.csv being parsed\n",
      "Total TBs Sent: 23936, Total this file: 5984\n",
      "Total SCIs Sent: 37156, Total this file: 9289\n",
      "File: run-11-2019-10-20-10:58:34.csv being parsed\n",
      "Total TBs Sent: 29920, Total this file: 5984\n",
      "Total SCIs Sent: 46445, Total this file: 9289\n",
      "File: run-20-2019-10-20-10:58:34.csv being parsed\n",
      "Total TBs Sent: 35904, Total this file: 5984\n",
      "Total SCIs Sent: 55734, Total this file: 9289\n",
      "File: run-12-2019-10-20-10:58:34.csv being parsed\n",
      "Total TBs Sent: 41888, Total this file: 5984\n",
      "Total SCIs Sent: 65023, Total this file: 9289\n",
      "File: run-23-2019-10-20-10:58:34.csv being parsed\n",
      "Total TBs Sent: 47872, Total this file: 5984\n",
      "Total SCIs Sent: 74312, Total this file: 9289\n",
      "File: run-30-2019-10-20-10:58:34.csv being parsed\n",
      "Total TBs Sent: 53856, Total this file: 5984\n",
      "Total SCIs Sent: 83601, Total this file: 9289\n",
      "File: run-27-2019-10-20-10:58:34.csv being parsed\n",
      "Total TBs Sent: 59840, Total this file: 5984\n",
      "Total SCIs Sent: 92890, Total this file: 9289\n",
      "File: run-19-2019-10-20-10:58:34.csv being parsed\n",
      "Total TBs Sent: 65824, Total this file: 5984\n",
      "Total SCIs Sent: 102179, Total this file: 9289\n",
      "File: run-4-2019-10-20-10:58:34.csv being parsed\n",
      "Total TBs Sent: 71808, Total this file: 5984\n",
      "Total SCIs Sent: 111468, Total this file: 9289\n",
      "File: run-16-2019-10-20-10:58:34.csv being parsed\n",
      "Total TBs Sent: 77792, Total this file: 5984\n",
      "Total SCIs Sent: 120757, Total this file: 9289\n",
      "File: run-28-2019-10-20-10:58:34.csv being parsed\n",
      "Total TBs Sent: 83776, Total this file: 5984\n",
      "Total SCIs Sent: 130046, Total this file: 9289\n",
      "File: run-21-2019-10-20-10:58:34.csv being parsed\n",
      "Total TBs Sent: 89760, Total this file: 5984\n",
      "Total SCIs Sent: 139335, Total this file: 9289\n",
      "File: run-10-2019-10-20-10:58:34.csv being parsed\n",
      "Total TBs Sent: 95744, Total this file: 5984\n",
      "Total SCIs Sent: 148624, Total this file: 9289\n",
      "File: run-2-2019-10-20-10:58:34.csv being parsed\n",
      "Total TBs Sent: 101728, Total this file: 5984\n",
      "Total SCIs Sent: 157913, Total this file: 9289\n",
      "File: run-6-2019-10-20-10:58:34.csv being parsed\n",
      "Total TBs Sent: 107712, Total this file: 5984\n",
      "Total SCIs Sent: 167202, Total this file: 9289\n",
      "File: run-14-2019-10-20-10:58:34.csv being parsed\n",
      "Total TBs Sent: 113696, Total this file: 5984\n",
      "Total SCIs Sent: 176491, Total this file: 9289\n",
      "File: run-25-2019-10-20-10:58:34.csv being parsed\n",
      "Total TBs Sent: 119680, Total this file: 5984\n",
      "Total SCIs Sent: 185780, Total this file: 9289\n",
      "File: run-9-2019-10-20-10:58:34.csv being parsed\n",
      "Total TBs Sent: 125664, Total this file: 5984\n",
      "Total SCIs Sent: 195069, Total this file: 9289\n",
      "File: run-29-2019-10-20-10:58:34.csv being parsed\n",
      "Total TBs Sent: 131648, Total this file: 5984\n",
      "Total SCIs Sent: 204358, Total this file: 9289\n",
      "File: run-17-2019-10-20-10:58:34.csv being parsed\n",
      "Total TBs Sent: 137632, Total this file: 5984\n",
      "Total SCIs Sent: 213647, Total this file: 9289\n",
      "File: run-5-2019-10-20-10:58:34.csv being parsed\n",
      "Total TBs Sent: 143616, Total this file: 5984\n",
      "Total SCIs Sent: 222936, Total this file: 9289\n",
      "File: run-18-2019-10-20-10:58:34.csv being parsed\n",
      "Total TBs Sent: 149600, Total this file: 5984\n",
      "Total SCIs Sent: 232225, Total this file: 9289\n",
      "File: run-26-2019-10-20-10:58:34.csv being parsed\n",
      "Total TBs Sent: 155584, Total this file: 5984\n",
      "Total SCIs Sent: 241514, Total this file: 9289\n",
      "File: run-22-2019-10-20-10:58:34.csv being parsed\n",
      "Total TBs Sent: 161568, Total this file: 5984\n",
      "Total SCIs Sent: 250803, Total this file: 9289\n",
      "File: run-1-2019-10-20-10:58:34.csv being parsed\n",
      "Total TBs Sent: 167552, Total this file: 5984\n",
      "Total SCIs Sent: 260092, Total this file: 9289\n",
      "File: run-13-2019-10-20-10:58:34.csv being parsed\n",
      "Total TBs Sent: 173536, Total this file: 5984\n",
      "Total SCIs Sent: 269381, Total this file: 9289\n"
     ]
    }
   ],
   "source": [
    "results_dict = {}\n",
    "\n",
    "for folder in os.listdir(results_folder):\n",
    "    if \"non-periodic\" in folder:\n",
    "        print(\"=\"*50)\n",
    "        print(\"Folder: {} being parsed\".format(folder))\n",
    "        print(\"=\"*50)\n",
    "        results_dict[folder] = {\"pdr\": []}\n",
    "        pdr, tbSent, sciSent = read_folder_content(os.path.join(results_folder, folder))\n",
    "        results_dict[folder][\"pdr\"] = pdr\n",
    "        results_dict[folder][\"tbSent\"] = tbSent\n",
    "        results_dict[folder][\"sciSent\"] = sciSent"
   ]
  },
  {
   "cell_type": "code",
   "execution_count": 37,
   "metadata": {},
   "outputs": [],
   "source": [
    "non_periodic_results = results_dict[\"non-periodic\"]"
   ]
  },
  {
   "cell_type": "code",
   "execution_count": 48,
   "metadata": {},
   "outputs": [
    {
     "data": {
      "text/plain": [
       "5984"
      ]
     },
     "execution_count": 48,
     "metadata": {},
     "output_type": "execute_result"
    }
   ],
   "source": [
    "non_periodic_results[\"tbSent\"]"
   ]
  },
  {
   "cell_type": "code",
   "execution_count": 49,
   "metadata": {},
   "outputs": [
    {
     "data": {
      "text/plain": [
       "9289"
      ]
     },
     "execution_count": 49,
     "metadata": {},
     "output_type": "execute_result"
    }
   ],
   "source": [
    "non_periodic_results[\"sciSent\"]"
   ]
  }
 ],
 "metadata": {
  "kernelspec": {
   "display_name": "Python 3",
   "language": "python",
   "name": "python3"
  },
  "language_info": {
   "codemirror_mode": {
    "name": "ipython",
    "version": 3
   },
   "file_extension": ".py",
   "mimetype": "text/x-python",
   "name": "python",
   "nbconvert_exporter": "python",
   "pygments_lexer": "ipython3",
   "version": "3.7.3"
  }
 },
 "nbformat": 4,
 "nbformat_minor": 2
}
