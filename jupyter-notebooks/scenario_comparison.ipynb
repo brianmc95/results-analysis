{
 "cells": [
  {
   "cell_type": "code",
   "execution_count": 62,
   "metadata": {},
   "outputs": [],
   "source": [
    "%matplotlib inline\n",
    "\n",
    "import matplotlib\n",
    "import numpy as np\n",
    "import matplotlib.pyplot as plt\n",
    "import pandas as pd\n",
    "\n",
    "from matplotlib.ticker import FormatStrFormatter"
   ]
  },
  {
   "cell_type": "code",
   "execution_count": 2,
   "metadata": {},
   "outputs": [],
   "source": [
    "import json\n",
    "import os"
   ]
  },
  {
   "cell_type": "code",
   "execution_count": 3,
   "metadata": {},
   "outputs": [],
   "source": [
    "# JSON file containing the results for this simulation run\n",
    "results_file = \"/Users/brianmccarthy/git_repos/results-analysis/configs/cv2x.json\""
   ]
  },
  {
   "cell_type": "code",
   "execution_count": 4,
   "metadata": {},
   "outputs": [],
   "source": [
    "with open(results_file) as results_json:\n",
    "    config = json.load(results_json)[\"cv2x\"]"
   ]
  },
  {
   "cell_type": "code",
   "execution_count": 5,
   "metadata": {},
   "outputs": [],
   "source": [
    "# Markers to use for this run\n",
    "markers = [\".\", \"o\", \"v\", \"^\", \"<\", \">\", \"1\", \"2\", \"3\", \"4\", \"8\", \"s\", \"p\", \"P\", \"*\", \"h\",\n",
    "           \"H\", \"+\", \"x\", \"X\", \"D\", \"d\", \"|\", \"_\", 0, 1, 2, 3, 4, 5, 6, 7, 8, 9, 10, 11]"
   ]
  },
  {
   "cell_type": "code",
   "execution_count": 6,
   "metadata": {},
   "outputs": [],
   "source": [
    "def create_bins(lower_bound, width, quantity):\n",
    "    \"\"\" create_bins returns an equal-width (distance) partitioning.\n",
    "        It returns an ascending list of tuples, representing the intervals.\n",
    "        A tuple bins[i], i.e. (bins[i][0], bins[i][1])  with i > 0\n",
    "        and i < quantity, satisfies the following conditions:\n",
    "            (1) bins[i][0] + width == bins[i][1]\n",
    "            (2) bins[i-1][0] + width == bins[i][0] and\n",
    "                bins[i-1][1] + width == bins[i][1]\n",
    "    \"\"\"\n",
    "    bins = []\n",
    "    for low in range(lower_bound, lower_bound + quantity * width + 1, width):\n",
    "        bins.append((low, low + width))\n",
    "    return bins"
   ]
  },
  {
   "cell_type": "code",
   "execution_count": 24,
   "metadata": {},
   "outputs": [],
   "source": [
    "def bin_fields(df, fields, bin_width=10, bin_quantity=49):\n",
    "    \"\"\"\n",
    "    Bins multiple dfs into a single dictionary that can be used as an average for multiple fields across multiple\n",
    "    runs\n",
    "    :param df: dataframe to bin\n",
    "    :param fields: fields to be binned.\n",
    "    :param bin_width: width of each bin\n",
    "    :param bin_quantity: total number of bins\n",
    "    :return:\n",
    "    \"\"\"\n",
    "    bins = create_bins(lower_bound=0, width=bin_width, quantity=bin_quantity)\n",
    "    distances = []\n",
    "    overall_fields = {}\n",
    "    for interval in bins:\n",
    "        upper_b = interval[1]\n",
    "        distances.append(upper_b)\n",
    "\n",
    "    for field in fields:\n",
    "        overall_fields[field] = []\n",
    "\n",
    "    overall_fields[\"distance\"] = distances\n",
    "\n",
    "    distance_col = \"txRxDistanceTB\"\n",
    "\n",
    "    for i in range(len(bins)):\n",
    "        lower_b = bins[i][0]\n",
    "        upper_b = bins[i][1]\n",
    "        fields_temp = df[(df[distance_col] >= lower_b) & (df[distance_col] < upper_b)]\n",
    "        for field in fields:\n",
    "            if i < len(overall_fields[field]):\n",
    "                overall_fields[field][i] = (fields_temp[field].mean() + overall_fields[field][i]) / 2\n",
    "            else:\n",
    "                overall_fields[field].append(fields_temp[field].mean())\n",
    "\n",
    "    return overall_fields"
   ]
  },
  {
   "cell_type": "code",
   "execution_count": 8,
   "metadata": {},
   "outputs": [],
   "source": [
    "def pdr_dist_individual(pdr, distances, label, plot_name, show=True, store=False):\n",
    "    fig, ax = plt.subplots()\n",
    "\n",
    "    ax.plot(distances, pdr, label=label, marker=markers[0], markevery=3)\n",
    "\n",
    "    ax.set(xlabel='Distance (m)', ylabel='Packet Delivery Rate (PDR) %')\n",
    "    ax.legend(loc='lower right')\n",
    "    ax.tick_params(direction='in')\n",
    "\n",
    "    ax.set_ylim([0, 100])\n",
    "    plt.yticks(np.arange(0, 101, step=10))\n",
    "\n",
    "    ax.set_xlim([0, (max(distances) + 1)])\n",
    "    plt.xticks(np.arange(0, (max(distances) + 1), step=50))\n",
    "\n",
    "    fig.suptitle(plot_name, fontsize=12)\n",
    "    \n",
    "    if show:\n",
    "        fig.show()\n",
    "        \n",
    "    if store:\n",
    "        fig.savefig(\"{}.png\".format(plot_name), dpi=300)"
   ]
  },
  {
   "cell_type": "code",
   "execution_count": 9,
   "metadata": {},
   "outputs": [],
   "source": [
    "def pdr_dist(pdrs, distances, labels, plot_name, show=True, store=False):\n",
    "    fig, ax = plt.subplots()\n",
    "\n",
    "    for i in range(len(pdrs)):\n",
    "        ax.plot(distances, pdrs[i], label=labels[i])\n",
    "\n",
    "    ax.set(xlabel='Distance (m)', ylabel='Packet Delivery Rate (PDR) %')\n",
    "    ax.legend(loc='lower left')\n",
    "    ax.tick_params(direction='in')\n",
    "    \n",
    "    ax.set_ylim([0, 100])\n",
    "    plt.yticks(np.arange(0, 101, step=10))\n",
    "\n",
    "    ax.set_xlim([0, (max(distances) + 1)])\n",
    "    plt.xticks(np.arange(0, (max(distances) + 1), step=50))\n",
    "\n",
    "#     fig.suptitle(plot_name, fontsize=12)\n",
    "    \n",
    "    if show:\n",
    "        fig.show()\n",
    "        \n",
    "    if store:\n",
    "        fig.savefig(\"{}.png\".format(plot_name), dpi=300)"
   ]
  },
  {
   "cell_type": "code",
   "execution_count": 10,
   "metadata": {},
   "outputs": [],
   "source": [
    "def errors_dist_individual(distances, decoded, errors, error_labels, plot_name, show=True, store=False):\n",
    "    fig, ax = plt.subplots()\n",
    "\n",
    "    ax.plot(distances, decoded, label=\"Decoded\", marker=self.markers[0], markevery=3)\n",
    "\n",
    "    for i in range(len(errors)):\n",
    "        ax.plot(distances, errors[i], label=error_labels[i], marker=self.markers[i+1], markevery=3)\n",
    "\n",
    "    ax.legend(loc='center left')\n",
    "    ax.set(xlabel='Distance (m)', ylabel='Messages Decoded')\n",
    "    ax.tick_params(direction='in')\n",
    "\n",
    "    ax.set_ylim([0, 1])\n",
    "    plt.yticks(np.arange(0, 1.1, step=.1))\n",
    "\n",
    "    ax.set_xlim([0, (max(distances) + 1)])\n",
    "    plt.xticks(np.arange(0, (max(distances) + 1), step=50))\n",
    "\n",
    "    fig.suptitle(plot_name, fontsize=12)\n",
    "    \n",
    "    if show:\n",
    "        fig.show()\n",
    "\n",
    "    if store:\n",
    "        fig.savefig(\"{}.png\".format(plot_name), dpi=300)"
   ]
  },
  {
   "cell_type": "code",
   "execution_count": 11,
   "metadata": {},
   "outputs": [],
   "source": [
    "def errors_dist(distances, decoded, decoded_labels, errors, error_labels, plot_name, show=True, store=False):\n",
    "    fig, ax = plt.subplots()\n",
    "\n",
    "    for i in range(len(decoded)):\n",
    "        ax.plot(distances, decoded[i], label=decoded_labels[i], marker=self.markers[i], markevery=3)\n",
    "\n",
    "        for j in range(len(errors[i])):\n",
    "            ax.plot(distances, errors[i][j], label=error_labels[i][j], marker=self.markers[i + j])\n",
    "\n",
    "    ax.legend(loc='center left')\n",
    "    ax.set(xlabel='Distance (m)', ylabel='Messages Decoded')\n",
    "    ax.tick_params(direction='in')\n",
    "\n",
    "    ax.set_ylim([0, 1])\n",
    "    plt.yticks(np.arange(0, 1.1, step=.1))\n",
    "\n",
    "    ax.set_xlim([0, (max(distances) + 1)])\n",
    "    plt.xticks(np.arange(0, (max(distances) + 1), step=50))\n",
    "    \n",
    "    fig.suptitle(plot_name, fontsize=12)\n",
    "    \n",
    "    if show:\n",
    "        fig.show()\n",
    "        \n",
    "    if store:\n",
    "        fig.savefig(\"{}.png\".format(plot_name), dpi=300)"
   ]
  },
  {
   "cell_type": "code",
   "execution_count": 12,
   "metadata": {},
   "outputs": [],
   "source": [
    "def box_plot_colour(data, labels, title, plot_name, colors = ['pink', 'lightblue', 'lightgreen'], show=True, store=False):\n",
    "    fig, ax = plt.subplots()\n",
    "    ax.set_title(title)\n",
    "    bplot = ax.boxplot(data, labels=labels, patch_artist=True)\n",
    "\n",
    "    for patch, color in zip(bplot['boxes'], colors):\n",
    "        patch.set_facecolor(color)\n",
    "    \n",
    "    if show:\n",
    "        fig.show()\n",
    "        \n",
    "    if store:\n",
    "        fig.savefig(\"{}.png\".format(plot_name), dpi=300)"
   ]
  },
  {
   "cell_type": "code",
   "execution_count": 13,
   "metadata": {},
   "outputs": [],
   "source": [
    "def box_plot(data, labels, title, plot_name, show=True, store=False):\n",
    "    fig, ax = plt.subplots()\n",
    "    ax.set_title(title)\n",
    "    bplot = ax.boxplot(data, labels=labels)\n",
    "    \n",
    "    if show:\n",
    "        fig.show()\n",
    "        \n",
    "    if store:\n",
    "        fig.savefig(\"{}.png\".format(plot_name), dpi=300)"
   ]
  },
  {
   "cell_type": "code",
   "execution_count": 14,
   "metadata": {},
   "outputs": [],
   "source": [
    "def ipg_dist(ipgs, distances, labels, plot_name, show=True, store=False):\n",
    "    fig, ax = plt.subplots()\n",
    "\n",
    "    for i in range(len(ipgs)):\n",
    "        plt.scatter(distances, ipgs[i], marker=markers[i], label=labels[i])\n",
    "\n",
    "    ax.set(xlabel='Distance (m)', ylabel='Inter Packet Gap (IPG) ms')\n",
    "    ax.legend(loc='upper left')\n",
    "    ax.tick_params(direction='in')\n",
    "    \n",
    "    ax.set_ylim([0, 1])\n",
    "    plt.yticks(np.arange(0, 1.1, step=.1))\n",
    "\n",
    "    ax.set_xlim([0, (max(distances) + 1)])\n",
    "    plt.xticks(np.arange(0, (max(distances) + 1), step=50))\n",
    "\n",
    "#     fig.suptitle(plot_name, fontsize=12)\n",
    "    \n",
    "    if show:\n",
    "        fig.show()\n",
    "        \n",
    "    if store:\n",
    "        fig.savefig(\"{}.png\".format(plot_name), dpi=300)"
   ]
  },
  {
   "cell_type": "markdown",
   "metadata": {},
   "source": [
    "### Parse the results into DF\n",
    "\n",
    "- Periodic results\n",
    "- Non-periodic results\n",
    "- DCC results\n",
    "- Non-DCC results"
   ]
  },
  {
   "cell_type": "code",
   "execution_count": 15,
   "metadata": {},
   "outputs": [],
   "source": [
    "def read_data_in(folder):\n",
    "    first_file = True\n",
    "    merged_df = pd.DataFrame()\n",
    "    files = os.listdir(folder)\n",
    "    files.sort()\n",
    "    num_files = (len(files))\n",
    "    count = 0\n",
    "    for file in files:\n",
    "        if count % 5 == 0:\n",
    "            print(\"File {}/{}\".format(count, num_files))\n",
    "        if \".csv\" in file:\n",
    "            result_file = os.path.join(folder, file)\n",
    "            if first_file:\n",
    "                merged_df = pd.read_csv(result_file)\n",
    "                first_file = False\n",
    "            else:\n",
    "                try:\n",
    "                    merged_df.append(pd.read_csv(result_file))\n",
    "                except pd.errors.ParserError as e:\n",
    "                    print(\"Failed to parse file: {}\".format(file))\n",
    "        count+=1\n",
    "    return merged_df"
   ]
  },
  {
   "cell_type": "code",
   "execution_count": 16,
   "metadata": {},
   "outputs": [],
   "source": [
    "interested_folder = [\n",
    "    \"After-5-high-density\",\n",
    "    \"DCC-Enabled\",\n",
    "    \"NO-CC\",\n",
    "    \"After-1\",\n",
    "    \"After-1-high-density\",\n",
    "    \"NO-CC-high-density\",\n",
    "    \"Highway-fast\",\n",
    "    \"After-5\",\n",
    "    \"Random-Access-Medium-Density\",\n",
    "    \"Random-Access-Packet-Dropping-Medium-Density\",\n",
    "    \"RRI-Adaptation-CR-limit-MD\",\n",
    "    \"RRI-Adaptation-DCC-MD\"\n",
    "]"
   ]
  },
  {
   "cell_type": "code",
   "execution_count": 19,
   "metadata": {},
   "outputs": [],
   "source": [
    "raw_data_folder = \"/Users/brianmccarthy/git_repos/results-analysis/data/parsed_data/cv2x\"\n",
    "loaded_dfs = {}"
   ]
  },
  {
   "cell_type": "code",
   "execution_count": 20,
   "metadata": {},
   "outputs": [
    {
     "name": "stdout",
     "output_type": "stream",
     "text": [
      "==================================================\n",
      "Parsing configuration: Random-Access-Medium-Density\n",
      "==================================================\n",
      "File 0/16\n",
      "File 5/16\n",
      "File 10/16\n",
      "File 15/16\n",
      "==================================================\n",
      "Parsing configuration: Random-Access-Packet-Dropping-Medium-Density\n",
      "==================================================\n",
      "File 0/15\n",
      "File 5/15\n",
      "File 10/15\n",
      "==================================================\n",
      "Parsing configuration: After-5-high-density\n",
      "==================================================\n",
      "File 0/2\n",
      "==================================================\n",
      "Parsing configuration: After-1\n",
      "==================================================\n",
      "File 0/28\n",
      "File 5/28\n",
      "File 10/28\n",
      "File 15/28\n",
      "File 20/28\n",
      "File 25/28\n",
      "==================================================\n",
      "Parsing configuration: Highway-fast\n",
      "==================================================\n",
      "File 0/8\n",
      "File 5/8\n",
      "==================================================\n",
      "Parsing configuration: After-1-high-density\n",
      "==================================================\n",
      "File 0/2\n",
      "==================================================\n",
      "Parsing configuration: RRI-Adaptation-DCC-MD\n",
      "==================================================\n",
      "File 0/10\n",
      "File 5/10\n",
      "==================================================\n",
      "Parsing configuration: DCC-Enabled\n",
      "==================================================\n",
      "File 0/28\n",
      "File 5/28\n",
      "File 10/28\n",
      "File 15/28\n",
      "File 20/28\n",
      "File 25/28\n",
      "==================================================\n",
      "Parsing configuration: RRI-Adaptation-CR-limit-MD\n",
      "==================================================\n",
      "File 0/10\n",
      "File 5/10\n",
      "==================================================\n",
      "Parsing configuration: NO-CC-high-density\n",
      "==================================================\n",
      "File 0/3\n",
      "==================================================\n",
      "Parsing configuration: NO-CC\n",
      "==================================================\n",
      "File 0/26\n",
      "File 5/26\n",
      "File 10/26\n",
      "File 15/26\n",
      "File 20/26\n",
      "File 25/26\n",
      "==================================================\n",
      "Parsing configuration: After-5\n",
      "==================================================\n",
      "File 0/26\n",
      "File 5/26\n",
      "File 10/26\n",
      "File 15/26\n",
      "File 20/26\n",
      "File 25/26\n"
     ]
    }
   ],
   "source": [
    "for folder in os.listdir(raw_data_folder):\n",
    "    if folder in interested_folder:\n",
    "        print(\"=\"*50)\n",
    "        print(\"Parsing configuration: {}\".format(folder))\n",
    "        print(\"=\"*50)\n",
    "        loaded_dfs[folder] = read_data_in(os.path.join(raw_data_folder, folder))"
   ]
  },
  {
   "cell_type": "code",
   "execution_count": null,
   "metadata": {},
   "outputs": [],
   "source": [
    "extra_folders = [\"RRI-Adaptation-DCC-MD\"]\n",
    "for folder in os.listdir(raw_data_folder):\n",
    "    if folder in extra_folders:\n",
    "        print(\"=\"*50)\n",
    "        print(\"Parsing configuration: {}\".format(folder))\n",
    "        print(\"=\"*50)\n",
    "        loaded_dfs[folder] = read_data_in(os.path.join(raw_data_folder, folder))"
   ]
  },
  {
   "cell_type": "code",
   "execution_count": 28,
   "metadata": {},
   "outputs": [],
   "source": [
    "distances = create_bins(0, 10, 49)"
   ]
  },
  {
   "cell_type": "code",
   "execution_count": 29,
   "metadata": {},
   "outputs": [],
   "source": [
    "for i in range(len(distances)):\n",
    "    distances[i] = distances[i][1]"
   ]
  },
  {
   "cell_type": "code",
   "execution_count": 30,
   "metadata": {},
   "outputs": [],
   "source": [
    "pdrs = {}\n",
    "ipgs = {}\n",
    "for configuration in interested_folder:\n",
    "    df = loaded_dfs[configuration]\n",
    "    \n",
    "    # Filter the times down\n",
    "#     df = df[df[\"Time\"] > 502]\n",
    "    \n",
    "    # Put config back into our dictionary\n",
    "#     loaded_dfs[configuration] = df\n",
    "    \n",
    "    # Calculate pdr\n",
    "    pdr = []\n",
    "    ipg = []\n",
    "    pdr_binned = bin_fields(df, [\"tbDecoded\"])\n",
    "    ipg_binned = bin_fields(df, [\"interPacketDelay\"])\n",
    "    \n",
    "    for i in range(len(pdr_binned[\"tbDecoded\"])):\n",
    "        if i < len(pdr):\n",
    "            pdr[i] = (pdr_binned[\"tbDecoded\"][i] + pdr[i]) / 2\n",
    "        else:\n",
    "            pdr.append(pdr_binned[\"tbDecoded\"][i])\n",
    "            \n",
    "    for i in range(len(ipg_binned[\"interPacketDelay\"])):\n",
    "        if i < len(ipg):\n",
    "            ipg[i] = (ipg_binned[\"interPacketDelay\"][i] + ipg[i]) / 2\n",
    "        else:\n",
    "            ipg.append(ipg_binned[\"interPacketDelay\"][i])\n",
    "            \n",
    "    for i in range(len(pdr)):\n",
    "        pdr[i] = pdr[i] * 100\n",
    "    pdrs[configuration] = pdr\n",
    "    \n",
    "    ipgs[configuration] = ipg"
   ]
  },
  {
   "cell_type": "code",
   "execution_count": 31,
   "metadata": {},
   "outputs": [],
   "source": []
  },
  {
   "cell_type": "code",
   "execution_count": 34,
   "metadata": {},
   "outputs": [],
   "source": []
  },
  {
   "cell_type": "code",
   "execution_count": 78,
   "metadata": {},
   "outputs": [],
   "source": [
    "motivational_pdr_graph = []\n",
    "motivational_pdr_graph.append(pdrs[\"Highway-fast\"])\n",
    "motivational_pdr_graph.append(pdrs[\"NO-CC\"])\n",
    "motivational_pdr_graph.append(pdrs[\"NO-CC-high-density\"])\n",
    "\n",
    "rri = []\n",
    "rri.append(pdrs[\"NO-CC\"])\n",
    "rri.append(pdrs[\"RRI-Adaptation-CR-limit-MD\"])\n",
    "rri.append(pdrs[\"RRI-Adaptation-DCC-MD\"])\n",
    "\n",
    "random = []\n",
    "random.append(pdrs[\"After-1\"])\n",
    "random.append(pdrs[\"Random-Access-Medium-Density\"])\n",
    "\n",
    "dcc_pdr_medium = []\n",
    "dcc_pdr_medium.append(pdrs[\"DCC-Enabled\"])\n",
    "dcc_pdr_medium.append(pdrs[\"NO-CC\"])\n",
    "\n",
    "packet_drop_medium = []\n",
    "packet_drop_medium.append(pdrs[\"NO-CC\"])\n",
    "packet_drop_medium.append(pdrs[\"After-1\"])\n",
    "packet_drop_medium.append(pdrs[\"After-5\"])\n",
    "\n",
    "packet_drop_high = []\n",
    "packet_drop_high.append(pdrs[\"NO-CC-high-density\"])\n",
    "packet_drop_high.append(pdrs[\"After-1-high-density\"])\n",
    "packet_drop_high.append(pdrs[\"After-5-high-density\"])"
   ]
  },
  {
   "cell_type": "code",
   "execution_count": 79,
   "metadata": {},
   "outputs": [
    {
     "name": "stderr",
     "output_type": "stream",
     "text": [
      "/Users/brianmccarthy/anaconda3/envs/results-analysis/lib/python3.7/site-packages/ipykernel_launcher.py:20: UserWarning: Matplotlib is currently using module://ipykernel.pylab.backend_inline, which is a non-GUI backend, so cannot show the figure.\n"
     ]
    },
    {
     "data": {
      "image/png": "[encoded data removed]",
      "text/plain": [
       "<Figure size 432x288 with 1 Axes>"
      ]
     },
     "metadata": {
      "needs_background": "light"
     },
     "output_type": "display_data"
    }
   ],
   "source": [
    "pdr_dist(motivational_pdr_graph, distances, [\"Low Density\", \"Medium Density\", \"High Density\"], \"Motivation_pdr\", show=True, store=True)\n"
   ]
  },
  {
   "cell_type": "code",
   "execution_count": 80,
   "metadata": {},
   "outputs": [
    {
     "name": "stderr",
     "output_type": "stream",
     "text": [
      "/Users/brianmccarthy/anaconda3/envs/results-analysis/lib/python3.7/site-packages/ipykernel_launcher.py:20: UserWarning: Matplotlib is currently using module://ipykernel.pylab.backend_inline, which is a non-GUI backend, so cannot show the figure.\n"
     ]
    },
    {
     "data": {
      "image/png": "[encoded data removed]",
      "text/plain": [
       "<Figure size 432x288 with 1 Axes>"
      ]
     },
     "metadata": {
      "needs_background": "light"
     },
     "output_type": "display_data"
    }
   ],
   "source": [
    "pdr_dist(rri, distances, [\"No Congestion Control\", \"RRI Adaptation CR-Limit\", \"RRI Adaptation DCC\"], \"rri_pdr\", show=True, store=True)\n"
   ]
  },
  {
   "cell_type": "code",
   "execution_count": 81,
   "metadata": {},
   "outputs": [
    {
     "name": "stderr",
     "output_type": "stream",
     "text": [
      "/Users/brianmccarthy/anaconda3/envs/results-analysis/lib/python3.7/site-packages/ipykernel_launcher.py:20: UserWarning: Matplotlib is currently using module://ipykernel.pylab.backend_inline, which is a non-GUI backend, so cannot show the figure.\n"
     ]
    },
    {
     "data": {
      "image/png": "[encoded data removed]",
      "text/plain": [
       "<Figure size 432x288 with 1 Axes>"
      ]
     },
     "metadata": {
      "needs_background": "light"
     },
     "output_type": "display_data"
    }
   ],
   "source": [
    "pdr_dist(random, distances, [\"3GPP DCC Mechanism (CBR) - Immediate new grant\", \"Random Access\"], \"random_pdr\", show=True, store=True)\n"
   ]
  },
  {
   "cell_type": "code",
   "execution_count": 82,
   "metadata": {},
   "outputs": [
    {
     "name": "stderr",
     "output_type": "stream",
     "text": [
      "/Users/brianmccarthy/anaconda3/envs/results-analysis/lib/python3.7/site-packages/ipykernel_launcher.py:20: UserWarning: Matplotlib is currently using module://ipykernel.pylab.backend_inline, which is a non-GUI backend, so cannot show the figure.\n"
     ]
    },
    {
     "data": {
      "image/png": "[encoded data removed]",
      "text/plain": [
       "<Figure size 432x288 with 1 Axes>"
      ]
     },
     "metadata": {
      "needs_background": "light"
     },
     "output_type": "display_data"
    }
   ],
   "source": [
    "pdr_dist(dcc_pdr_medium, distances, [\"DCC Access\", \"No Congestion Control\"], \"dcc_pdr\", show=True, store=True)\n"
   ]
  },
  {
   "cell_type": "code",
   "execution_count": 83,
   "metadata": {},
   "outputs": [
    {
     "name": "stderr",
     "output_type": "stream",
     "text": [
      "/Users/brianmccarthy/anaconda3/envs/results-analysis/lib/python3.7/site-packages/ipykernel_launcher.py:20: UserWarning: Matplotlib is currently using module://ipykernel.pylab.backend_inline, which is a non-GUI backend, so cannot show the figure.\n"
     ]
    },
    {
     "data": {
      "image/png": "[encoded data removed]",
      "text/plain": [
       "<Figure size 432x288 with 1 Axes>"
      ]
     },
     "metadata": {
      "needs_background": "light"
     },
     "output_type": "display_data"
    }
   ],
   "source": [
    "pdr_dist(packet_drop_medium, distances, [\"No Congestion Control\", \"3GPP DCC Mechanism (CBR) - Immediate new grant\", \"3GPP DCC Mechanism (CBR) - 5 missed trans b4 new grant\"], \"Medium_pdr\", show=True, store=True)"
   ]
  },
  {
   "cell_type": "code",
   "execution_count": 84,
   "metadata": {},
   "outputs": [
    {
     "name": "stderr",
     "output_type": "stream",
     "text": [
      "/Users/brianmccarthy/anaconda3/envs/results-analysis/lib/python3.7/site-packages/ipykernel_launcher.py:20: UserWarning: Matplotlib is currently using module://ipykernel.pylab.backend_inline, which is a non-GUI backend, so cannot show the figure.\n"
     ]
    },
    {
     "data": {
      "image/png": "[encoded data removed]",
      "text/plain": [
       "<Figure size 432x288 with 1 Axes>"
      ]
     },
     "metadata": {
      "needs_background": "light"
     },
     "output_type": "display_data"
    }
   ],
   "source": [
    "pdr_dist(packet_drop_high, distances, [\"No Congestion Control\", \"3GPP DCC Mechanism (CBR) - Immediate new grant\", \"3GPP DCC Mechanism (CBR) - 5 missed trans b4 new grant\"], \"High_pdr\", show=True, store=True)\n"
   ]
  },
  {
   "cell_type": "markdown",
   "metadata": {},
   "source": [
    "### CBR \n",
    "\n",
    "Comparing CBR levels in DCC vs Non-DCC scenarios"
   ]
  },
  {
   "cell_type": "code",
   "execution_count": 73,
   "metadata": {},
   "outputs": [],
   "source": [
    "def cbr_plot(cbrs, times, plot_name, labels, confidence_intervals=None, show=True, store=False):\n",
    "    fig, ax = plt.subplots()\n",
    "\n",
    "    for i in range(len(cbrs)):\n",
    "        if confidence_intervals:\n",
    "            ax.errorbar(times[i], cbrs[i], yerr=confidence_intervals[i], label=labels[i])\n",
    "        else:\n",
    "            ax.plot(times[i], cbrs[i], label=labels[i])\n",
    "\n",
    "    ax.legend(loc='lower right')\n",
    "    ax.set(xlabel='Time (s)', ylabel='Channel Busy Ratio %')\n",
    "    ax.tick_params(direction='in')\n",
    "\n",
    "    ax.set_ylim([0, 1])\n",
    "    plt.yticks(np.arange(0, 1.1, step=.1))\n",
    "\n",
    "#     fig.suptitle(plot_name, fontsize=12)\n",
    "\n",
    "    if show:\n",
    "        fig.show()\n",
    "\n",
    "    if store:\n",
    "        fig.savefig(\"{}.png\".format(plot_name), dpi=300)\n",
    "    plt.close(fig)"
   ]
  },
  {
   "cell_type": "code",
   "execution_count": 42,
   "metadata": {},
   "outputs": [],
   "source": [
    "cbrs = {}\n",
    "for configuration in interested_folder:\n",
    "    df = loaded_dfs[configuration]\n",
    "    \n",
    "    df = df[df[\"cbr\"] != np.nan]\n",
    "    \n",
    "    cbrs[configuration] = {\"Time\": df[\"Time\"], \"cbr\": df[\"cbr\"]}"
   ]
  },
  {
   "cell_type": "code",
   "execution_count": 85,
   "metadata": {},
   "outputs": [],
   "source": [
    "random_cbr = []\n",
    "random_times = []\n",
    "random_labels = []\n",
    "random_cbr.append(cbrs[\"After-1\"][\"cbr\"])\n",
    "random_times.append(cbrs[\"After-1\"][\"Time\"])\n",
    "random_labels.append(\"After-1\")\n",
    "\n",
    "random_cbr.append(cbrs[\"Random-Access-Medium-Density\"][\"cbr\"])\n",
    "random_times.append(cbrs[\"Random-Access-Medium-Density\"][\"Time\"])\n",
    "random_labels.append(\"Random Access\")\n",
    "\n",
    "\n",
    "motivational_cbr_graph = []\n",
    "motivational_times = []\n",
    "motivational_labels = []\n",
    "motivational_cbr_graph.append(cbrs[\"Highway-fast\"][\"cbr\"])\n",
    "motivational_times.append(cbrs[\"Highway-fast\"][\"Time\"])\n",
    "motivational_labels.append(\"Low Density\")\n",
    "\n",
    "motivational_cbr_graph.append(cbrs[\"NO-CC\"][\"cbr\"])\n",
    "motivational_times.append(cbrs[\"NO-CC\"][\"Time\"])\n",
    "motivational_labels.append(\"Medium Density\")\n",
    "\n",
    "motivational_cbr_graph.append(cbrs[\"NO-CC-high-density\"][\"cbr\"])\n",
    "motivational_times.append(cbrs[\"NO-CC-high-density\"][\"Time\"])\n",
    "motivational_labels.append(\"High Density\")\n",
    "\n",
    "\n",
    "dcc_cbr_medium = []\n",
    "dcc_times_medium = []\n",
    "dcc_labels = []\n",
    "dcc_cbr_medium.append(cbrs[\"DCC-Enabled\"][\"cbr\"])\n",
    "dcc_times_medium.append(cbrs[\"DCC-Enabled\"][\"Time\"])\n",
    "dcc_labels.append(\"DCC\")\n",
    "\n",
    "dcc_cbr_medium.append(cbrs[\"NO-CC\"][\"cbr\"])\n",
    "dcc_times_medium.append(cbrs[\"NO-CC\"][\"Time\"])\n",
    "dcc_labels.append(\"No Congestion Control\")\n",
    "\n",
    "\n",
    "packet_drop_medium_cbr = []\n",
    "packet_drop_medium_time = []\n",
    "packet_drop_labels = []\n",
    "packet_drop_medium_cbr.append(cbrs[\"NO-CC\"][\"cbr\"])\n",
    "packet_drop_medium_time.append(cbrs[\"NO-CC\"][\"Time\"])\n",
    "packet_drop_labels.append(\"No Congestion Control\")\n",
    "\n",
    "packet_drop_medium_cbr.append(cbrs[\"After-1\"][\"cbr\"])\n",
    "packet_drop_medium_time.append(cbrs[\"After-1\"][\"Time\"])\n",
    "packet_drop_labels.append(\"3GPP DCC Mechanism (CBR) - Immediate new grant\")\n",
    "\n",
    "packet_drop_medium_cbr.append(cbrs[\"After-5\"][\"cbr\"])\n",
    "packet_drop_medium_time.append(cbrs[\"After-5\"][\"Time\"])\n",
    "packet_drop_labels.append(\"3GPP DCC Mechanism (CBR) - 5 missed trans b4 new grant\")\n",
    "\n",
    "\n",
    "packet_drop_high_cbr = []\n",
    "packet_drop_high_time = []\n",
    "packet_drop_high_labels = []\n",
    "packet_drop_high_cbr.append(cbrs[\"NO-CC-high-density\"][\"cbr\"])\n",
    "packet_drop_high_time.append(cbrs[\"NO-CC-high-density\"][\"Time\"])\n",
    "packet_drop_high_labels.append(\"No Congestion Control\")\n",
    "\n",
    "packet_drop_high_cbr.append(cbrs[\"After-1-high-density\"][\"cbr\"])\n",
    "packet_drop_high_time.append(cbrs[\"After-1-high-density\"][\"Time\"])\n",
    "packet_drop_high_labels.append(\"3GPP DCC Mechanism (CBR) - Immediate new grant\")\n",
    "\n",
    "packet_drop_high_cbr.append(cbrs[\"After-5-high-density\"][\"cbr\"])\n",
    "packet_drop_high_time.append(cbrs[\"After-5-high-density\"][\"Time\"])\n",
    "packet_drop_high_labels.append(\"3GPP DCC Mechanism (CBR) - 5 missed trans b4 new grant\")\n",
    "\n",
    "rri_cbr = []\n",
    "rri_times = []\n",
    "rri_labels = []\n",
    "\n",
    "rri_cbr.append(cbrs[\"NO-CC\"][\"cbr\"])\n",
    "rri_times.append(cbrs[\"NO-CC\"][\"Time\"])\n",
    "rri_labels.append(\"NO Congestion Control\")\n",
    "\n",
    "rri_cbr.append(cbrs[\"RRI-Adaptation-CR-limit-MD\"][\"cbr\"])\n",
    "rri_times.append(cbrs[\"RRI-Adaptation-CR-limit-MD\"][\"Time\"])\n",
    "rri_labels.append(\"RRI Adaptation CR-limit\")\n",
    "\n",
    "rri_cbr.append(cbrs[\"RRI-Adaptation-DCC-MD\"][\"cbr\"])\n",
    "rri_times.append(cbrs[\"RRI-Adaptation-DCC-MD\"][\"Time\"])\n",
    "rri_labels.append(\"RRI Adaptation DCC\")"
   ]
  },
  {
   "cell_type": "code",
   "execution_count": 86,
   "metadata": {},
   "outputs": [
    {
     "name": "stderr",
     "output_type": "stream",
     "text": [
      "/Users/brianmccarthy/anaconda3/envs/results-analysis/lib/python3.7/site-packages/ipykernel_launcher.py:20: UserWarning: Matplotlib is currently using module://ipykernel.pylab.backend_inline, which is a non-GUI backend, so cannot show the figure.\n"
     ]
    }
   ],
   "source": [
    "cbr_plot(random_cbr, random_times, \"Random\", random_labels, show=True, store=True)"
   ]
  },
  {
   "cell_type": "code",
   "execution_count": 87,
   "metadata": {},
   "outputs": [
    {
     "name": "stderr",
     "output_type": "stream",
     "text": [
      "/Users/brianmccarthy/anaconda3/envs/results-analysis/lib/python3.7/site-packages/ipykernel_launcher.py:20: UserWarning: Matplotlib is currently using module://ipykernel.pylab.backend_inline, which is a non-GUI backend, so cannot show the figure.\n"
     ]
    }
   ],
   "source": [
    "cbr_plot(motivational_cbr_graph, motivational_times, \"Motivation\", motivational_labels, show=True, store=True)"
   ]
  },
  {
   "cell_type": "code",
   "execution_count": 88,
   "metadata": {},
   "outputs": [
    {
     "name": "stderr",
     "output_type": "stream",
     "text": [
      "/Users/brianmccarthy/anaconda3/envs/results-analysis/lib/python3.7/site-packages/ipykernel_launcher.py:20: UserWarning: Matplotlib is currently using module://ipykernel.pylab.backend_inline, which is a non-GUI backend, so cannot show the figure.\n"
     ]
    }
   ],
   "source": [
    "cbr_plot(dcc_cbr_medium, dcc_times_medium, \"DCC\", dcc_labels, show=True, store=True)"
   ]
  },
  {
   "cell_type": "code",
   "execution_count": 89,
   "metadata": {},
   "outputs": [
    {
     "name": "stderr",
     "output_type": "stream",
     "text": [
      "/Users/brianmccarthy/anaconda3/envs/results-analysis/lib/python3.7/site-packages/ipykernel_launcher.py:20: UserWarning: Matplotlib is currently using module://ipykernel.pylab.backend_inline, which is a non-GUI backend, so cannot show the figure.\n"
     ]
    }
   ],
   "source": [
    "cbr_plot(packet_drop_medium_cbr, packet_drop_medium_time, \"Packet Drop Medium\", packet_drop_labels, show=True, store=True)"
   ]
  },
  {
   "cell_type": "code",
   "execution_count": 90,
   "metadata": {},
   "outputs": [
    {
     "name": "stderr",
     "output_type": "stream",
     "text": [
      "/Users/brianmccarthy/anaconda3/envs/results-analysis/lib/python3.7/site-packages/ipykernel_launcher.py:20: UserWarning: Matplotlib is currently using module://ipykernel.pylab.backend_inline, which is a non-GUI backend, so cannot show the figure.\n"
     ]
    }
   ],
   "source": [
    "cbr_plot(packet_drop_high_cbr, packet_drop_high_time, \"Packet Drop High\", packet_drop_high_labels, show=True, store=True)"
   ]
  },
  {
   "cell_type": "code",
   "execution_count": 91,
   "metadata": {},
   "outputs": [
    {
     "name": "stderr",
     "output_type": "stream",
     "text": [
      "/Users/brianmccarthy/anaconda3/envs/results-analysis/lib/python3.7/site-packages/ipykernel_launcher.py:20: UserWarning: Matplotlib is currently using module://ipykernel.pylab.backend_inline, which is a non-GUI backend, so cannot show the figure.\n"
     ]
    }
   ],
   "source": [
    "cbr_plot(rri_cbr, rri_times, \"RRI Adaptation\", rri_labels, show=True, store=True)"
   ]
  },
  {
   "cell_type": "markdown",
   "metadata": {},
   "source": [
    "### Grant breaking"
   ]
  },
  {
   "cell_type": "code",
   "execution_count": null,
   "metadata": {},
   "outputs": [],
   "source": [
    "print(\"Generated grants: {}\".format(dcc_disabled_df[\"grantStartTime\"].count()))\n",
    "print(\"Broken grants: {}\".format(dcc_disabled_df[\"grantBreak\"].count()))"
   ]
  },
  {
   "cell_type": "code",
   "execution_count": null,
   "metadata": {},
   "outputs": [],
   "source": [
    "# Higher due to the issue of starting at 502\n",
    "print(\"Generated Grants: {}\".format(dcc_enabled_df[\"grantStartTime\"].count()))\n",
    "print(\"Broken Grants: {}\".format(dcc_enabled_df[\"grantBreakMissedTrans\"].count()))"
   ]
  },
  {
   "cell_type": "code",
   "execution_count": null,
   "metadata": {},
   "outputs": [],
   "source": [
    "print(\"Generated grants: {}\".format(periodic_df[\"grantStartTime\"].count()))\n",
    "print(\"Broken grants: {}\".format(periodic_df[\"grantBreak\"].count()))"
   ]
  },
  {
   "cell_type": "code",
   "execution_count": null,
   "metadata": {},
   "outputs": [],
   "source": [
    "# Higher due to the issue of starting at 502\n",
    "print(\"Generated Grants: {}\".format(non_periodic_df[\"grantStartTime\"].count()))\n",
    "print(\"Broken Grants: {}\".format(non_periodic_df[\"grantBreakMissedTrans\"].count()))"
   ]
  },
  {
   "cell_type": "markdown",
   "metadata": {},
   "source": [
    "## Inter Packet Gap"
   ]
  },
  {
   "cell_type": "code",
   "execution_count": null,
   "metadata": {},
   "outputs": [],
   "source": [
    "file_path_after_1 = \"/Users/brianmccarthy/git_repos/results-analysis/data/raw_data/cv2x/After-1/run-1-2019-12-28-08_32_56.csv\"\n",
    "file_path_after_5 = \"/Users/brianmccarthy/git_repos/results-analysis/data/raw_data/cv2x/After-5/run-1-2019-12-29-10_26_28.csv\"\n",
    "file_path_dcc_enabled = \"/Users/brianmccarthy/git_repos/results-analysis/data/raw_data/cv2x/DCC-Enabled/run-1-2020-01-02-11_24_37.csv\"\n",
    "\n",
    "df_after_1 = pd.read_csv(file_path_after_1)\n",
    "df_after_5 = pd.read_csv(file_path_after_5)\n",
    "df_dcc_enabled = pd.read_csv(file_path_dcc_enabled)\n",
    "\n",
    "df_after_1 = df_after_1[(df_after_1[\"Time\"] >= 502.000) & (df_after_1[\"interPacketDelay\"].notnull()) & (df_after_1[\"txRxDistanceTB\"] <= 500)]\n",
    "df_after_5 = df_after_5[(df_after_5[\"Time\"] >= 502.000) & (df_after_5[\"interPacketDelay\"].notnull()) & (df_after_5[\"txRxDistanceTB\"] <= 500)]\n",
    "df_dcc_enabled = df_dcc_enabled[(df_dcc_enabled[\"Time\"] >= 502.000) & (df_dcc_enabled[\"interPacketDelay\"].notnull()) & (df_dcc_enabled[\"txRxDistanceTB\"] <= 500)]"
   ]
  },
  {
   "cell_type": "code",
   "execution_count": null,
   "metadata": {},
   "outputs": [],
   "source": [
    "print(\"==============================\")\n",
    "print(\"========= After-1 ===========\")\n",
    "print(\"Mean: {}\".format(df_after_1[\"interPacketDelay\"].mean()))\n",
    "print(\"Median: {}\".format(df_after_1[\"interPacketDelay\"].median()))\n",
    "print(\"Lower Quartile: {}\".format(df_after_1[\"interPacketDelay\"].quantile(.25)))\n",
    "print(\"Upper Quartile: {}\".format(df_after_1[\"interPacketDelay\"].quantile(.75)))\n",
    "print(\"==============================\")\n",
    "\n",
    "print(\"==============================\")\n",
    "print(\"========= After-5 ===========\")\n",
    "print(\"Mean: {}\".format(df_after_5[\"interPacketDelay\"].mean()))\n",
    "print(\"Median: {}\".format(df_after_5[\"interPacketDelay\"].median()))\n",
    "print(\"Lower Quartile: {}\".format(df_after_5[\"interPacketDelay\"].quantile(.25)))\n",
    "print(\"Upper Quartile: {}\".format(df_after_5[\"interPacketDelay\"].quantile(.75)))\n",
    "print(\"==============================\")\n",
    "\n",
    "print(\"==============================\")\n",
    "print(\"======= DCC Enabled ==========\")\n",
    "print(\"Mean: {}\".format(df_dcc_enabled[\"interPacketDelay\"].mean()))\n",
    "print(\"Median: {}\".format(df_dcc_enabled[\"interPacketDelay\"].median()))\n",
    "print(\"Lower Quartile: {}\".format(df_dcc_enabled[\"interPacketDelay\"].quantile(.25)))\n",
    "print(\"Upper Quartile: {}\".format(df_dcc_enabled[\"interPacketDelay\"].quantile(.75)))\n",
    "print(\"==============================\")"
   ]
  },
  {
   "cell_type": "code",
   "execution_count": null,
   "metadata": {},
   "outputs": [],
   "source": [
    "delays = []\n",
    "delays.append(df_after_1[\"interPacketDelay\"].values)\n",
    "delays.append(df_after_5[\"interPacketDelay\"].values)\n",
    "delays.append(df_dcc_enabled[\"interPacketDelay\"].values)\n",
    "\n",
    "labels = [\"After-1\", \"After-5\", \"DCC-Enabled\"]"
   ]
  },
  {
   "cell_type": "code",
   "execution_count": null,
   "metadata": {},
   "outputs": [],
   "source": [
    "box_plot(delays, labels , \"latency Box plot\", \"latency Box plot\")"
   ]
  },
  {
   "cell_type": "code",
   "execution_count": null,
   "metadata": {},
   "outputs": [],
   "source": []
  }
 ],
 "metadata": {
  "kernelspec": {
   "display_name": "Python 3",
   "language": "python",
   "name": "python3"
  },
  "language_info": {
   "codemirror_mode": {
    "name": "ipython",
    "version": 3
   },
   "file_extension": ".py",
   "mimetype": "text/x-python",
   "name": "python",
   "nbconvert_exporter": "python",
   "pygments_lexer": "ipython3",
   "version": "3.7.3"
  }
 },
 "nbformat": 4,
 "nbformat_minor": 2
}
