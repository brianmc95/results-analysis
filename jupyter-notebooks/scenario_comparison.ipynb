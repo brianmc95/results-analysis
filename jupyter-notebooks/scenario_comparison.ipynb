{
 "cells": [
  {
   "cell_type": "code",
   "execution_count": null,
   "metadata": {},
   "outputs": [],
   "source": [
    "%matplotlib inline\n",
    "\n",
    "import matplotlib\n",
    "import numpy as np\n",
    "import matplotlib.pyplot as plt\n",
    "import pandas as pd\n",
    "\n",
    "from matplotlib.ticker import FormatStrFormatter"
   ]
  },
  {
   "cell_type": "code",
   "execution_count": null,
   "metadata": {},
   "outputs": [],
   "source": [
    "import json\n",
    "import os"
   ]
  },
  {
   "cell_type": "code",
   "execution_count": null,
   "metadata": {},
   "outputs": [],
   "source": [
    "# JSON file containing the results for this simulation run\n",
    "results_file = \"/Users/brianmccarthy/git_repos/results-analysis/configs/cv2x.json\""
   ]
  },
  {
   "cell_type": "code",
   "execution_count": null,
   "metadata": {},
   "outputs": [],
   "source": [
    "with open(results_file) as results_json:\n",
    "    config = json.load(results_json)[\"cv2x\"]"
   ]
  },
  {
   "cell_type": "code",
   "execution_count": null,
   "metadata": {},
   "outputs": [],
   "source": [
    "# Markers to use for this run\n",
    "markers = [\".\", \"o\", \"v\", \"^\", \"<\", \">\", \"1\", \"2\", \"3\", \"4\", \"8\", \"s\", \"p\", \"P\", \"*\", \"h\",\n",
    "           \"H\", \"+\", \"x\", \"X\", \"D\", \"d\", \"|\", \"_\", 0, 1, 2, 3, 4, 5, 6, 7, 8, 9, 10, 11]"
   ]
  },
  {
   "cell_type": "code",
   "execution_count": null,
   "metadata": {},
   "outputs": [],
   "source": [
    "def create_bins(lower_bound, width, quantity):\n",
    "    \"\"\" create_bins returns an equal-width (distance) partitioning.\n",
    "        It returns an ascending list of tuples, representing the intervals.\n",
    "        A tuple bins[i], i.e. (bins[i][0], bins[i][1])  with i > 0\n",
    "        and i < quantity, satisfies the following conditions:\n",
    "            (1) bins[i][0] + width == bins[i][1]\n",
    "            (2) bins[i-1][0] + width == bins[i][0] and\n",
    "                bins[i-1][1] + width == bins[i][1]\n",
    "    \"\"\"\n",
    "    bins = []\n",
    "    for low in range(lower_bound, lower_bound + quantity * width + 1, width):\n",
    "        bins.append((low, low + width))\n",
    "    return bins"
   ]
  },
  {
   "cell_type": "code",
   "execution_count": null,
   "metadata": {},
   "outputs": [],
   "source": [
    "def bin_fields(df, fields, bin_width=10, bin_quantity=49):\n",
    "    \"\"\"\n",
    "    Bins multiple dfs into a single dictionary that can be used as an average for multiple fields across multiple\n",
    "    runs\n",
    "    :param df: dataframe to bin\n",
    "    :param fields: fields to be binned.\n",
    "    :param bin_width: width of each bin\n",
    "    :param bin_quantity: total number of bins\n",
    "    :return:\n",
    "    \"\"\"\n",
    "    bins = create_bins(lower_bound=0, width=bin_width, quantity=bin_quantity)\n",
    "    distances = []\n",
    "    overall_fields = {}\n",
    "    for interval in bins:\n",
    "        upper_b = interval[1]\n",
    "        distances.append(upper_b)\n",
    "\n",
    "    for field in fields:\n",
    "        overall_fields[field] = []\n",
    "\n",
    "    overall_fields[\"distance\"] = distances\n",
    "\n",
    "    distance_col = config[\"results\"][\"distance\"]\n",
    "\n",
    "    for i in range(len(bins)):\n",
    "        lower_b = bins[i][0]\n",
    "        upper_b = bins[i][1]\n",
    "        fields_temp = df[(df[distance_col] >= lower_b) & (df[distance_col] < upper_b)]\n",
    "        for field in fields:\n",
    "            if i < len(overall_fields[field]):\n",
    "                overall_fields[field][i] = (fields_temp[field].mean() + overall_fields[field][i]) / 2\n",
    "            else:\n",
    "                overall_fields[field].append(fields_temp[field].mean())\n",
    "\n",
    "    return overall_fields"
   ]
  },
  {
   "cell_type": "code",
   "execution_count": null,
   "metadata": {},
   "outputs": [],
   "source": [
    "def pdr_dist_individual(pdr, distances, label, plot_name, show=True, store=False):\n",
    "    fig, ax = plt.subplots()\n",
    "\n",
    "    ax.plot(distances, pdr, label=label, marker=markers[0], markevery=3)\n",
    "\n",
    "    ax.set(xlabel='Distance (m)', ylabel='Packet Delivery Rate (PDR) %')\n",
    "    ax.legend(loc='lower right')\n",
    "    ax.tick_params(direction='in')\n",
    "\n",
    "    ax.set_ylim([0, 100])\n",
    "    plt.yticks(np.arange(0, 101, step=10))\n",
    "\n",
    "    ax.set_xlim([0, (max(distances) + 1)])\n",
    "    plt.xticks(np.arange(0, (max(distances) + 1), step=50))\n",
    "\n",
    "    fig.suptitle(plot_name, fontsize=12)\n",
    "    \n",
    "    if show:\n",
    "        fig.show()\n",
    "        \n",
    "    if store:\n",
    "        fig.savefig(\"{}.png\".format(plot_name), dpi=300)"
   ]
  },
  {
   "cell_type": "code",
   "execution_count": null,
   "metadata": {},
   "outputs": [],
   "source": [
    "def pdr_dist(pdrs, distances, labels, plot_name, show=True, store=False):\n",
    "    fig, ax = plt.subplots()\n",
    "\n",
    "    for i in range(len(pdrs)):\n",
    "        ax.plot(distances, pdrs[i], label=labels[i])\n",
    "\n",
    "    ax.set(xlabel='Distance (m)', ylabel='Packet Delivery Rate (PDR) %')\n",
    "    ax.legend(loc='lower left')\n",
    "    ax.tick_params(direction='in')\n",
    "    \n",
    "    ax.set_ylim([0, 100])\n",
    "    plt.yticks(np.arange(0, 101, step=10))\n",
    "\n",
    "    ax.set_xlim([0, (max(distances) + 1)])\n",
    "    plt.xticks(np.arange(0, (max(distances) + 1), step=50))\n",
    "\n",
    "#     fig.suptitle(plot_name, fontsize=12)\n",
    "    \n",
    "    if show:\n",
    "        fig.show()\n",
    "        \n",
    "    if store:\n",
    "        fig.savefig(\"{}.png\".format(plot_name), dpi=300)"
   ]
  },
  {
   "cell_type": "code",
   "execution_count": null,
   "metadata": {},
   "outputs": [],
   "source": [
    "def errors_dist_individual(distances, decoded, errors, error_labels, plot_name, show=True, store=False):\n",
    "    fig, ax = plt.subplots()\n",
    "\n",
    "    ax.plot(distances, decoded, label=\"Decoded\", marker=self.markers[0], markevery=3)\n",
    "\n",
    "    for i in range(len(errors)):\n",
    "        ax.plot(distances, errors[i], label=error_labels[i], marker=self.markers[i+1], markevery=3)\n",
    "\n",
    "    ax.legend(loc='center left')\n",
    "    ax.set(xlabel='Distance (m)', ylabel='Messages Decoded')\n",
    "    ax.tick_params(direction='in')\n",
    "\n",
    "    ax.set_ylim([0, 1])\n",
    "    plt.yticks(np.arange(0, 1.1, step=.1))\n",
    "\n",
    "    ax.set_xlim([0, (max(distances) + 1)])\n",
    "    plt.xticks(np.arange(0, (max(distances) + 1), step=50))\n",
    "\n",
    "    fig.suptitle(plot_name, fontsize=12)\n",
    "    \n",
    "    if show:\n",
    "        fig.show()\n",
    "\n",
    "    if store:\n",
    "        fig.savefig(\"{}.png\".format(plot_name), dpi=300)"
   ]
  },
  {
   "cell_type": "code",
   "execution_count": null,
   "metadata": {},
   "outputs": [],
   "source": [
    "def errors_dist(distances, decoded, decoded_labels, errors, error_labels, plot_name, show=True, store=False):\n",
    "    fig, ax = plt.subplots()\n",
    "\n",
    "    for i in range(len(decoded)):\n",
    "        ax.plot(distances, decoded[i], label=decoded_labels[i], marker=self.markers[i], markevery=3)\n",
    "\n",
    "        for j in range(len(errors[i])):\n",
    "            ax.plot(distances, errors[i][j], label=error_labels[i][j], marker=self.markers[i + j])\n",
    "\n",
    "    ax.legend(loc='center left')\n",
    "    ax.set(xlabel='Distance (m)', ylabel='Messages Decoded')\n",
    "    ax.tick_params(direction='in')\n",
    "\n",
    "    ax.set_ylim([0, 1])\n",
    "    plt.yticks(np.arange(0, 1.1, step=.1))\n",
    "\n",
    "    ax.set_xlim([0, (max(distances) + 1)])\n",
    "    plt.xticks(np.arange(0, (max(distances) + 1), step=50))\n",
    "    \n",
    "    fig.suptitle(plot_name, fontsize=12)\n",
    "    \n",
    "    if show:\n",
    "        fig.show()\n",
    "        \n",
    "    if store:\n",
    "        fig.savefig(\"{}.png\".format(plot_name), dpi=300)"
   ]
  },
  {
   "cell_type": "code",
   "execution_count": null,
   "metadata": {},
   "outputs": [],
   "source": [
    "def box_plot_colour(data, labels, title, plot_name, colors = ['pink', 'lightblue', 'lightgreen'], show=True, store=False):\n",
    "    fig, ax = plt.subplots()\n",
    "    ax.set_title(title)\n",
    "    bplot = ax.boxplot(data, labels=labels, patch_artist=True)\n",
    "\n",
    "    for patch, color in zip(bplot['boxes'], colors):\n",
    "        patch.set_facecolor(color)\n",
    "    \n",
    "    if show:\n",
    "        fig.show()\n",
    "        \n",
    "    if store:\n",
    "        fig.savefig(\"{}.png\".format(plot_name), dpi=300)"
   ]
  },
  {
   "cell_type": "code",
   "execution_count": null,
   "metadata": {},
   "outputs": [],
   "source": [
    "def box_plot(data, labels, title, plot_name, show=True, store=False):\n",
    "    fig, ax = plt.subplots()\n",
    "    ax.set_title(title)\n",
    "    bplot = ax.boxplot(data, labels=labels)\n",
    "    \n",
    "    if show:\n",
    "        fig.show()\n",
    "        \n",
    "    if store:\n",
    "        fig.savefig(\"{}.png\".format(plot_name), dpi=300)"
   ]
  },
  {
   "cell_type": "code",
   "execution_count": null,
   "metadata": {},
   "outputs": [],
   "source": [
    "def ipg_dist(ipgs, distances, labels, plot_name, show=True, store=False):\n",
    "    fig, ax = plt.subplots()\n",
    "\n",
    "    for i in range(len(ipgs)):\n",
    "        plt.scatter(distances, ipgs[i], marker=markers[i], label=labels[i])\n",
    "\n",
    "    ax.set(xlabel='Distance (m)', ylabel='Inter Packet Gap (IPG) ms')\n",
    "    ax.legend(loc='upper left')\n",
    "    ax.tick_params(direction='in')\n",
    "    \n",
    "    ax.set_ylim([0, 1])\n",
    "    plt.yticks(np.arange(0, 1.1, step=.1))\n",
    "\n",
    "    ax.set_xlim([0, (max(distances) + 1)])\n",
    "    plt.xticks(np.arange(0, (max(distances) + 1), step=50))\n",
    "\n",
    "#     fig.suptitle(plot_name, fontsize=12)\n",
    "    \n",
    "    if show:\n",
    "        fig.show()\n",
    "        \n",
    "    if store:\n",
    "        fig.savefig(\"{}.png\".format(plot_name), dpi=300)"
   ]
  },
  {
   "cell_type": "markdown",
   "metadata": {},
   "source": [
    "### Parse the results into DF\n",
    "\n",
    "- Periodic results\n",
    "- Non-periodic results\n",
    "- DCC results\n",
    "- Non-DCC results"
   ]
  },
  {
   "cell_type": "code",
   "execution_count": null,
   "metadata": {},
   "outputs": [],
   "source": [
    "def read_data_in(folder):\n",
    "    first_file = True\n",
    "    merged_df = pd.DataFrame()\n",
    "    files = os.listdir(folder)\n",
    "    files.sort()\n",
    "    num_files = (len(files))\n",
    "    count = 0\n",
    "    for file in files:\n",
    "        if count % 5 == 0:\n",
    "            print(\"File {}/{}\".format(count, num_files))\n",
    "        if \".csv\" in file:\n",
    "            result_file = os.path.join(folder, file)\n",
    "            if first_file:\n",
    "                merged_df = pd.read_csv(result_file)\n",
    "                first_file = False\n",
    "            else:\n",
    "                try:\n",
    "                    merged_df.append(pd.read_csv(result_file))\n",
    "                except pd.errors.ParserError as e:\n",
    "                    print(\"Failed to parse file: {}\".format(file))\n",
    "        count+=1\n",
    "    return merged_df"
   ]
  },
  {
   "cell_type": "code",
   "execution_count": null,
   "metadata": {},
   "outputs": [],
   "source": [
    "interested_folder = [\"After-1\", \"Random_Access_Low_Density\", \"Random_Access_Medium_Density\", \"Random_Access_Packet_Dropping_Low_Density\", \"Random_Access_Packet_Dropping_Medium_Density\"]"
   ]
  },
  {
   "cell_type": "code",
   "execution_count": null,
   "metadata": {},
   "outputs": [],
   "source": [
    "raw_data_folder = \"/Users/brianmccarthy/git_repos/results-analysis/data/raw_data/cv2x\"\n",
    "loaded_dfs = {}"
   ]
  },
  {
   "cell_type": "code",
   "execution_count": null,
   "metadata": {},
   "outputs": [],
   "source": [
    "for folder in os.listdir(raw_data_folder):\n",
    "    if folder in interested_folder:\n",
    "        print(\"=\"*50)\n",
    "        print(\"Parsing configuration: {}\".format(folder))\n",
    "        print(\"=\"*50)\n",
    "        loaded_dfs[folder] = read_data_in(os.path.join(raw_data_folder, folder))"
   ]
  },
  {
   "cell_type": "code",
   "execution_count": null,
   "metadata": {},
   "outputs": [],
   "source": [
    "extra_folders = [\"Random_Access_Packet_Dropping_Medium_Density\"]\n",
    "for folder in os.listdir(raw_data_folder):\n",
    "    if folder in extra_folders:\n",
    "        print(\"=\"*50)\n",
    "        print(\"Parsing configuration: {}\".format(folder))\n",
    "        print(\"=\"*50)\n",
    "        loaded_dfs[folder] = read_data_in(os.path.join(raw_data_folder, folder))"
   ]
  },
  {
   "cell_type": "code",
   "execution_count": null,
   "metadata": {},
   "outputs": [],
   "source": [
    "distances = create_bins(0, 10, 49)"
   ]
  },
  {
   "cell_type": "code",
   "execution_count": null,
   "metadata": {},
   "outputs": [],
   "source": [
    "for i in range(len(distances)):\n",
    "    distances[i] = distances[i][1]"
   ]
  },
  {
   "cell_type": "code",
   "execution_count": null,
   "metadata": {},
   "outputs": [],
   "source": [
    "pdrs = {}\n",
    "ipgs = {}\n",
    "for configuration in interested_folder:\n",
    "    df = loaded_dfs[configuration]\n",
    "    \n",
    "    # Filter the times down\n",
    "    df = df[df[\"Time\"] > 502]\n",
    "    \n",
    "    # Put config back into our dictionary\n",
    "    loaded_dfs[configuration] = df\n",
    "    \n",
    "    # Calculate pdr\n",
    "    pdr = []\n",
    "    ipg = []\n",
    "    pdr_binned = bin_fields(df, [\"tbDecoded\"])\n",
    "    ipg_binned = bin_fields(df, [\"interPacketDelay\"])\n",
    "    \n",
    "    for i in range(len(pdr_binned[\"tbDecoded\"])):\n",
    "        if i < len(pdr):\n",
    "            pdr[i] = (pdr_binned[\"tbDecoded\"][i] + pdr[i]) / 2\n",
    "        else:\n",
    "            pdr.append(pdr_binned[\"tbDecoded\"][i])\n",
    "            \n",
    "    for i in range(len(ipg_binned[\"interPacketDelay\"])):\n",
    "        if i < len(ipg):\n",
    "            ipg[i] = (ipg_binned[\"interPacketDelay\"][i] + ipg[i]) / 2\n",
    "        else:\n",
    "            ipg.append(ipg_binned[\"interPacketDelay\"][i])\n",
    "            \n",
    "    for i in range(len(pdr)):\n",
    "        pdr[i] = pdr[i] * 100\n",
    "    pdrs[configuration] = pdr\n",
    "    \n",
    "    ipgs[configuration] = ipg"
   ]
  },
  {
   "cell_type": "code",
   "execution_count": null,
   "metadata": {},
   "outputs": [],
   "source": [
    "random = []\n",
    "random.append(pdrs[\"After-1\"])\n",
    "random.append(pdrs[\"Random_Access_Low_Density\"])\n",
    "random.append(pdrs[\"Random_Access_Packet_Dropping_Low_Density\"])\n",
    "random.append(pdrs[\"Random_Access_Medium_Density\"])\n",
    "random.append(pdrs[\"Random_Access_Packet_Dropping_Medium_Density\"])"
   ]
  },
  {
   "cell_type": "code",
   "execution_count": null,
   "metadata": {},
   "outputs": [],
   "source": [
    "pdr_dist(random, distances, [\"After-1\", \"Random_Access_Low_Density\", \"Random_Access_Packet_Dropping_Low_Density\", \"Random_Access_Medium_Density\", \"Random_Access_Packet_Dropping_Medium_Density\"], \"random_pdr\", show=True, store=True)\n"
   ]
  },
  {
   "cell_type": "code",
   "execution_count": null,
   "metadata": {},
   "outputs": [],
   "source": [
    "motivational_pdr_graph = []\n",
    "motivational_pdr_graph.append(pdrs[\"Highway-fast\"])\n",
    "motivational_pdr_graph.append(pdrs[\"NO-CC\"])\n",
    "motivational_pdr_graph.append(pdrs[\"NO-CC-high-density\"])\n",
    "\n",
    "dcc_pdr_medium = []\n",
    "dcc_pdr_medium.append(pdrs[\"DCC-Enabled\"])\n",
    "dcc_pdr_medium.append(pdrs[\"NO-CC\"])\n",
    "dcc_pdr_medium.append(pdrs[\"After-1\"])\n",
    "dcc_pdr_medium.append(pdrs[\"After-5\"])\n",
    "\n",
    "dcc_pdr_high = []\n",
    "dcc_pdr_high.append(pdrs[\"DCC-Enabled\"])\n",
    "dcc_pdr_high.append(pdrs[\"NO-CC-high-density\"])\n",
    "dcc_pdr_high.append(pdrs[\"After-1-high-density\"])\n",
    "dcc_pdr_high.append(pdrs[\"After-5-high-density\"])"
   ]
  },
  {
   "cell_type": "code",
   "execution_count": null,
   "metadata": {},
   "outputs": [],
   "source": [
    "pdr_dist(motivational_pdr_graph, distances, [\"Highway Fast\", \"Medium Density\", \"High Density\"], \"Motivation_pdr\", show=True, store=True)\n"
   ]
  },
  {
   "cell_type": "code",
   "execution_count": null,
   "metadata": {},
   "outputs": [],
   "source": [
    "pdr_dist(dcc_pdr_medium, distances, [\"DCC Access\", \"No Congestion Control\", \"3GPP DCC Mechanism (CBR) - Immediate new grant\", \"3GPP DCC Mechanism (CBR) - 5 missed trans b4 new grant\"], \"Medium_pdr\", show=True, store=True)\n"
   ]
  },
  {
   "cell_type": "code",
   "execution_count": null,
   "metadata": {},
   "outputs": [],
   "source": [
    "pdr_dist(dcc_pdr_high, distances, [\"DCC Access\", \"No Congestion Control\", \"3GPP DCC Mechanism (CBR) - Immediate new grant\", \"3GPP DCC Mechanism (CBR) - 5 missed trans b4 new grant\"], \"High_pdr\", show=True, store=True)\n"
   ]
  },
  {
   "cell_type": "code",
   "execution_count": null,
   "metadata": {},
   "outputs": [],
   "source": [
    "motivational_ipg_graph = []\n",
    "motivational_ipg_graph.append(ipgs[\"Highway-fast\"])\n",
    "motivational_ipg_graph.append(ipgs[\"NO-CC\"])\n",
    "motivational_ipg_graph.append(ipgs[\"NO-CC-high-density\"])\n",
    "\n",
    "dcc_ipg_medium = []\n",
    "dcc_ipg_medium.append(ipgs[\"DCC-Enabled\"])\n",
    "dcc_ipg_medium.append(ipgs[\"NO-CC\"])\n",
    "dcc_ipg_medium.append(ipgs[\"After-1\"])\n",
    "dcc_ipg_medium.append(ipgs[\"After-5\"])\n",
    "\n",
    "dcc_ipg_high = []\n",
    "dcc_ipg_high.append(ipgs[\"DCC-Enabled\"])\n",
    "dcc_ipg_high.append(ipgs[\"NO-CC-high-density\"])\n",
    "dcc_ipg_high.append(ipgs[\"After-1-high-density\"])\n",
    "dcc_ipg_high.append(ipgs[\"After-5-high-density\"])"
   ]
  },
  {
   "cell_type": "code",
   "execution_count": null,
   "metadata": {},
   "outputs": [],
   "source": [
    "ipg_dist(motivational_ipg_graph, distances, [\"Highway Fast\", \"Medium Density\", \"High Density\"], \"Motivation_ipg\", show=True)\n"
   ]
  },
  {
   "cell_type": "code",
   "execution_count": null,
   "metadata": {},
   "outputs": [],
   "source": [
    "ipg_dist(dcc_ipg_medium, distances, [\"DCC Access\", \"No Congestion Control\", \"3GPP DCC Mechanism (CBR) - Immediate new grant\", \"3GPP DCC Mechanism (CBR) - 5 missed trans b4 new grant\"], \"Medium_ipg\", show=True, store=False)\n"
   ]
  },
  {
   "cell_type": "code",
   "execution_count": null,
   "metadata": {},
   "outputs": [],
   "source": [
    "ipg_dist(dcc_ipg_high, distances, [\"DCC Access\", \"No Congestion Control\", \"3GPP DCC Mechanism (CBR) - Immediate new grant\", \"3GPP DCC Mechanism (CBR) - 5 missed trans b4 new grant\"], \"High_ipg\", show=True, store=False)\n"
   ]
  },
  {
   "cell_type": "markdown",
   "metadata": {},
   "source": [
    "### CBR \n",
    "\n",
    "Comparing CBR levels in DCC vs Non-DCC scenarios"
   ]
  },
  {
   "cell_type": "code",
   "execution_count": null,
   "metadata": {},
   "outputs": [],
   "source": [
    "loaded_dfs[\"DCC-Enabled\"].plot(x=\"Time\", y=\"cbr\", kind=\"line\")"
   ]
  },
  {
   "cell_type": "code",
   "execution_count": null,
   "metadata": {},
   "outputs": [],
   "source": [
    "loaded_dfs[\"NO-CC\"].plot(x=\"Time\", y=\"cbr\", kind=\"line\")"
   ]
  },
  {
   "cell_type": "code",
   "execution_count": null,
   "metadata": {},
   "outputs": [],
   "source": [
    "loaded_dfs[\"After-2\"].plot(x=\"Time\", y=\"cbr\", kind=\"line\")"
   ]
  },
  {
   "cell_type": "code",
   "execution_count": null,
   "metadata": {},
   "outputs": [],
   "source": [
    "dcc_enabled_df  = loaded_dfs[\"dcc-enabled\"]\n",
    "dcc_disabled_df = loaded_dfs[\"dcc-disabled\"]\n",
    "periodic_df  = loaded_dfs[\"periodic-300ms\"]\n",
    "non_periodic_df = loaded_dfs[\"non-periodic\"]"
   ]
  },
  {
   "cell_type": "code",
   "execution_count": null,
   "metadata": {},
   "outputs": [],
   "source": [
    "node_50_dcc_enabled_df = dcc_enabled_df[(dcc_enabled_df[\"NodeID\"] == 50) & (dcc_enabled_df[\"cbr\"] >= 0.0)]\n",
    "node_50_dcc_disabled_df = dcc_disabled_df[(dcc_disabled_df[\"NodeID\"] == 50) & (dcc_disabled_df[\"cbr\"] >= 0.0)]"
   ]
  },
  {
   "cell_type": "code",
   "execution_count": null,
   "metadata": {},
   "outputs": [],
   "source": [
    "node_50_dcc_enabled_df.plot(x=\"Time\", y=\"cbr\", kind=\"line\")"
   ]
  },
  {
   "cell_type": "code",
   "execution_count": null,
   "metadata": {},
   "outputs": [],
   "source": [
    "node_50_dcc_disabled_df.plot(x=\"Time\", y=\"cbr\", kind=\"line\")"
   ]
  },
  {
   "cell_type": "code",
   "execution_count": null,
   "metadata": {},
   "outputs": [],
   "source": [
    "print(\"=\"* 27)\n",
    "print(\"DCC Disabled Statistics\")\n",
    "print(\"mean  : {}\".format(node_50_dcc_disabled_df[\"cbr\"].mean()))\n",
    "print(\"std   : {}\".format(node_50_dcc_disabled_df[\"cbr\"].std()))\n",
    "print(\"median: {}\".format(node_50_dcc_disabled_df[\"cbr\"].median()))\n",
    "\n",
    "print(\"=\"* 27)\n",
    "\n",
    "print(\"DCC Enabled Statistics\")\n",
    "print(\"mean  : {}\".format(node_50_dcc_enabled_df[\"cbr\"].mean()))\n",
    "print(\"std   : {}\".format(node_50_dcc_enabled_df[\"cbr\"].std()))\n",
    "print(\"median: {}\".format(node_50_dcc_enabled_df[\"cbr\"].median()))\n",
    "print(\"=\"* 27)"
   ]
  },
  {
   "cell_type": "markdown",
   "metadata": {},
   "source": [
    "### Grant breaking"
   ]
  },
  {
   "cell_type": "code",
   "execution_count": null,
   "metadata": {},
   "outputs": [],
   "source": [
    "print(\"Generated grants: {}\".format(dcc_disabled_df[\"grantStartTime\"].count()))\n",
    "print(\"Broken grants: {}\".format(dcc_disabled_df[\"grantBreak\"].count()))"
   ]
  },
  {
   "cell_type": "code",
   "execution_count": null,
   "metadata": {},
   "outputs": [],
   "source": [
    "# Higher due to the issue of starting at 502\n",
    "print(\"Generated Grants: {}\".format(dcc_enabled_df[\"grantStartTime\"].count()))\n",
    "print(\"Broken Grants: {}\".format(dcc_enabled_df[\"grantBreakMissedTrans\"].count()))"
   ]
  },
  {
   "cell_type": "code",
   "execution_count": null,
   "metadata": {},
   "outputs": [],
   "source": [
    "print(\"Generated grants: {}\".format(periodic_df[\"grantStartTime\"].count()))\n",
    "print(\"Broken grants: {}\".format(periodic_df[\"grantBreak\"].count()))"
   ]
  },
  {
   "cell_type": "code",
   "execution_count": null,
   "metadata": {},
   "outputs": [],
   "source": [
    "# Higher due to the issue of starting at 502\n",
    "print(\"Generated Grants: {}\".format(non_periodic_df[\"grantStartTime\"].count()))\n",
    "print(\"Broken Grants: {}\".format(non_periodic_df[\"grantBreakMissedTrans\"].count()))"
   ]
  },
  {
   "cell_type": "markdown",
   "metadata": {},
   "source": [
    "## Inter Packet Gap"
   ]
  },
  {
   "cell_type": "code",
   "execution_count": null,
   "metadata": {},
   "outputs": [],
   "source": [
    "file_path_after_1 = \"/Users/brianmccarthy/git_repos/results-analysis/data/raw_data/cv2x/After-1/run-1-2019-12-28-08_32_56.csv\"\n",
    "file_path_after_5 = \"/Users/brianmccarthy/git_repos/results-analysis/data/raw_data/cv2x/After-5/run-1-2019-12-29-10_26_28.csv\"\n",
    "file_path_dcc_enabled = \"/Users/brianmccarthy/git_repos/results-analysis/data/raw_data/cv2x/DCC-Enabled/run-1-2020-01-02-11_24_37.csv\"\n",
    "\n",
    "df_after_1 = pd.read_csv(file_path_after_1)\n",
    "df_after_5 = pd.read_csv(file_path_after_5)\n",
    "df_dcc_enabled = pd.read_csv(file_path_dcc_enabled)\n",
    "\n",
    "df_after_1 = df_after_1[(df_after_1[\"Time\"] >= 502.000) & (df_after_1[\"interPacketDelay\"].notnull()) & (df_after_1[\"txRxDistanceTB\"] <= 500)]\n",
    "df_after_5 = df_after_5[(df_after_5[\"Time\"] >= 502.000) & (df_after_5[\"interPacketDelay\"].notnull()) & (df_after_5[\"txRxDistanceTB\"] <= 500)]\n",
    "df_dcc_enabled = df_dcc_enabled[(df_dcc_enabled[\"Time\"] >= 502.000) & (df_dcc_enabled[\"interPacketDelay\"].notnull()) & (df_dcc_enabled[\"txRxDistanceTB\"] <= 500)]"
   ]
  },
  {
   "cell_type": "code",
   "execution_count": null,
   "metadata": {},
   "outputs": [],
   "source": [
    "print(\"==============================\")\n",
    "print(\"========= After-1 ===========\")\n",
    "print(\"Mean: {}\".format(df_after_1[\"interPacketDelay\"].mean()))\n",
    "print(\"Median: {}\".format(df_after_1[\"interPacketDelay\"].median()))\n",
    "print(\"Lower Quartile: {}\".format(df_after_1[\"interPacketDelay\"].quantile(.25)))\n",
    "print(\"Upper Quartile: {}\".format(df_after_1[\"interPacketDelay\"].quantile(.75)))\n",
    "print(\"==============================\")\n",
    "\n",
    "print(\"==============================\")\n",
    "print(\"========= After-5 ===========\")\n",
    "print(\"Mean: {}\".format(df_after_5[\"interPacketDelay\"].mean()))\n",
    "print(\"Median: {}\".format(df_after_5[\"interPacketDelay\"].median()))\n",
    "print(\"Lower Quartile: {}\".format(df_after_5[\"interPacketDelay\"].quantile(.25)))\n",
    "print(\"Upper Quartile: {}\".format(df_after_5[\"interPacketDelay\"].quantile(.75)))\n",
    "print(\"==============================\")\n",
    "\n",
    "print(\"==============================\")\n",
    "print(\"======= DCC Enabled ==========\")\n",
    "print(\"Mean: {}\".format(df_dcc_enabled[\"interPacketDelay\"].mean()))\n",
    "print(\"Median: {}\".format(df_dcc_enabled[\"interPacketDelay\"].median()))\n",
    "print(\"Lower Quartile: {}\".format(df_dcc_enabled[\"interPacketDelay\"].quantile(.25)))\n",
    "print(\"Upper Quartile: {}\".format(df_dcc_enabled[\"interPacketDelay\"].quantile(.75)))\n",
    "print(\"==============================\")"
   ]
  },
  {
   "cell_type": "code",
   "execution_count": null,
   "metadata": {},
   "outputs": [],
   "source": [
    "delays = []\n",
    "delays.append(df_after_1[\"interPacketDelay\"].values)\n",
    "delays.append(df_after_5[\"interPacketDelay\"].values)\n",
    "delays.append(df_dcc_enabled[\"interPacketDelay\"].values)\n",
    "\n",
    "labels = [\"After-1\", \"After-5\", \"DCC-Enabled\"]"
   ]
  },
  {
   "cell_type": "code",
   "execution_count": null,
   "metadata": {},
   "outputs": [],
   "source": [
    "box_plot(delays, labels , \"latency Box plot\", \"latency Box plot\")"
   ]
  },
  {
   "cell_type": "code",
   "execution_count": null,
   "metadata": {},
   "outputs": [],
   "source": []
  }
 ],
 "metadata": {
  "kernelspec": {
   "display_name": "Python 3",
   "language": "python",
   "name": "python3"
  },
  "language_info": {
   "codemirror_mode": {
    "name": "ipython",
    "version": 3
   },
   "file_extension": ".py",
   "mimetype": "text/x-python",
   "name": "python",
   "nbconvert_exporter": "python",
   "pygments_lexer": "ipython3",
   "version": "3.7.3"
  }
 },
 "nbformat": 4,
 "nbformat_minor": 2
}
